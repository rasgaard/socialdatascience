{
 "cells": [
  {
   "cell_type": "markdown",
   "id": "marine-prize",
   "metadata": {},
   "source": [
    "# Explainer Notebook"
   ]
  },
  {
   "cell_type": "markdown",
   "id": "listed-reason",
   "metadata": {},
   "source": [
    "## Dependencies\n",
    "\n",
    "Here, we load all of the dependencies."
   ]
  },
  {
   "cell_type": "code",
   "execution_count": null,
   "id": "manufactured-sterling",
   "metadata": {},
   "outputs": [],
   "source": []
  }
 ],
 "metadata": {
  "kernelspec": {
   "display_name": "Python 3",
   "language": "python",
   "name": "python3"
  },
  "language_info": {
   "codemirror_mode": {
    "name": "ipython",
    "version": 3
   },
   "file_extension": ".py",
   "mimetype": "text/x-python",
   "name": "python",
   "nbconvert_exporter": "python",
   "pygments_lexer": "ipython3",
   "version": "3.7.6"
  }
 },
 "nbformat": 4,
 "nbformat_minor": 5
}
