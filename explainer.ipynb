{
 "cells": [
  {
   "cell_type": "markdown",
   "metadata": {},
   "source": [
    "# Explainer Notebook\n",
    "Description of the explainer notebook."
   ]
  },
  {
   "cell_type": "markdown",
   "metadata": {},
   "source": [
    "# Motivation"
   ]
  },
  {
   "cell_type": "markdown",
   "metadata": {},
   "source": [
    "In the section below, we will give a short introduction to our datasat along with a brief motivation of the topic.\n",
    "\n",
    "Our dataset is the 'The Motor Vehicle Collisions' crash table which contains information from all police reported motor vehicle collisions in New York City (NYC), where each row represents a crash event. \n",
    "The data is collected from the following website: https://data.cityofnewyork.us/Public-Safety/Motor-Vehicle-Collisions-Crashes/h9gi-nx95, where one can also read more about the history of data collection in New York Police Department (NYPD).\n",
    "\n",
    "New York City is a vibrating and fast-moving city with over 8 mio. citizen, and we want to take a closer look into these collisions happening every day. More specificly to narrow the projects down a bit, we want to look into those collisions that result in injuries or deaths. \n",
    "\n",
    "In 2014 the Citywide traffic safety initiative, Vision Zero (https://www1.nyc.gov/content/visionzero/pages/), started, and their goal is to eliminate traffic fatalities. By using data analysis and vizualizations, our goal is to estimate when and where the probability of being injured or killed is highest, in order to work towards improving city traffic safety, and hopefull help reach Vision Zero's goal. We will in section *Genre* go more into details of our goals for the end user's experience. Our dataset contains necessary informations to reach our goal, with attributes such like time, location, the number of persons injured/killed and contributing factors of the collisions. "
   ]
  },
  {
   "cell_type": "markdown",
   "metadata": {},
   "source": [
    "# Basic Stats"
   ]
  },
  {
   "cell_type": "markdown",
   "metadata": {},
   "source": [
    "In the following section we will take a closer look at the data and do a preliminary analysis to gain some insight into these collisions. "
   ]
  },
  {
   "cell_type": "markdown",
   "metadata": {},
   "source": [
    "### Dependencies\n",
    "\n",
    "Here, we load all of the dependencies."
   ]
  },
  {
   "cell_type": "code",
   "execution_count": null,
   "metadata": {},
   "outputs": [],
   "source": []
  },
  {
   "cell_type": "markdown",
   "metadata": {},
   "source": [
    "# Data Analysis"
   ]
  },
  {
   "cell_type": "markdown",
   "metadata": {},
   "source": [
    "We need to normalize the data "
   ]
  },
  {
   "cell_type": "markdown",
   "metadata": {},
   "source": [
    "# Genre"
   ]
  },
  {
   "cell_type": "markdown",
   "metadata": {},
   "source": [
    "This section will look into the specific genre and tools used to create a narrative data story (cf. Narrative Visualization: Telling Stories with Data, by Edward Segel and Jeffrey Heer figure 7), but also our goals for the end user's experience. \n",
    "\n",
    "The first item from Segal and Heer, that we will analyze is the of *genre* in our story telling. We set the scene for the website as a *pasistioned poster* to easily guide the reader trough the main story, but without having a strict linear progression. Our intened audience for the website are data-interested, who too are curious about data from NYC motor vehicle collisions, but without any speficific data analytic background. The goal for the end user's experience should be that, they feel that they have learned something new, but importantly is that they have had the opperitunity of exploring on their own as well. We have given the users the ability to explore on it's own by also including a *slide show* with three different sub-topics, where the reader can get additional information on topics of interest. The slide show is chosen to maintain a certain professionalism. Below we will give an (elaborated) argumentation of the chosen sub-topic:\n",
    "\n",
    "1. How alcohol involvement are a contributing factor of motor vehicle collions. \n",
    "2. How texting or calling from the phone while driving are  a contributing factor of motor vehicle collions. \n",
    "3. How Covid-19 has had an affect the motor vehicle collions in NYC.\n",
    "\n",
    "As we a trying to achieve the goal from Vison Zero, it made sence to look into the awareness campaignes made the last seven years. We found many interesting campaigns targeted directly at awareness of driving while influenced by alcohol and driving while texting or calling from the phone was found.  The campagin \"Choices\" from March 2016 (http://www.nyc.gov/html/visionzero/pages/initiatives/choices.shtml), had a clear message: Choose not to drink and drive. Other campaigns like \"Your Choice Matter\" from October 2014 (http://www.nyc.gov/opt/iplanet/servers/cgi-bin/exit.pl?url=http://yourchoicesmatter.nyc) and a radio add \"Was it worth it\" from December 2019 (https://www1.nyc.gov/html/dot/html/about/campaigns.shtml) went for the awareness about distraction and hereby texting or calling while driving. Naturally we want to investigate these two contribuating factors, with the focus on collisions that ended in either injuries or death. <br>\n",
    "The last of the three sub-topics is the influence of the world pandamic Covid-19, and esspecially how it has affected the motor vehicle collions in NYC, when most citizen have been in lockdown or worked from home.  \n",
    "\n",
    "The second point from Segal and Heer is the use of *visual narrative* tools. Looking at the *visual structering* first, we have mostly used the *consistent visual platform*, where plots are more or less displayed in the same size. One of our goals with our visualization was that it could stand alone and be self-explanatory, and one could therefor say that the visual structure resemble the *Splash Screen*.  <br>\n",
    "With each visualization we want to build on our narrative data story, and some the ways we have *highlighted* important finding are with *zooming* and *motion*, for instance in the geo-plot, where the reader can move map and zoom in and out to it's liking. This emphasises our goal, that the reader can explore additional findings beyond our primary scope. <br>\n",
    "We have \n",
    "\n",
    "The last element from Segal and Heer that we will discuss is the element of *narrative structure*. As we mentioned before, we want to easily guide the reader without a strict linear progression. What we mean by that is, the overall structure follows a *linear* progression with the introduction, sub-topics and final i summary, however in the three sub-topics we want to give the user a *user directed path* to explore on their own. <br>\n",
    "*Interactivity* is a very important element to reach our goal for the end user's experience of self-exploration. We have therefor included multiple items such as details on demand with a *hover highlighting, filter* and *navigation bottons*. WRITE ABOUT EXPLICIT OR TACIT INSTRUCTION!! <br>\n",
    "The final part for this section deal with *messaging*. Just like we talked about in visual narrative, we want the visualizations to be self-explanatory. We done that be including *captions* and *annotations* in every visualization included. Naturally, we written a introduction in the beginning of each section, and likewise a summary in the end. "
   ]
  },
  {
   "cell_type": "markdown",
   "metadata": {},
   "source": [
    "# Visualizations \n",
    "In the section below we will explain the visualizations, we have chosen to display on the website. "
   ]
  },
  {
   "cell_type": "markdown",
   "metadata": {},
   "source": [
    "# Discussion"
   ]
  },
  {
   "cell_type": "markdown",
   "metadata": {},
   "source": [
    "What went well?\n",
    "\n",
    "What is still missing? What could be improved? Why?\n",
    "We could have looked more into these contributing factor or vehical type "
   ]
  },
  {
   "cell_type": "markdown",
   "metadata": {},
   "source": [
    "# Contributions"
   ]
  }
 ],
 "metadata": {
  "kernelspec": {
   "display_name": "Python 3",
   "language": "python",
   "name": "python3"
  },
  "language_info": {
   "codemirror_mode": {
    "name": "ipython",
    "version": 3
   },
   "file_extension": ".py",
   "mimetype": "text/x-python",
   "name": "python",
   "nbconvert_exporter": "python",
   "pygments_lexer": "ipython3",
   "version": "3.7.4"
  }
 },
 "nbformat": 4,
 "nbformat_minor": 5
}
