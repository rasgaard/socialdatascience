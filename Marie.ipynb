{
 "cells": [
  {
   "cell_type": "markdown",
   "metadata": {},
   "source": [
    "# Notebook about Motor Vehicle Collisions in New York City"
   ]
  },
  {
   "cell_type": "code",
   "execution_count": 1,
   "metadata": {},
   "outputs": [
    {
     "name": "stdout",
     "output_type": "stream",
     "text": [
      "Time elapsed: 23.577653646469116 seconds.\n"
     ]
    }
   ],
   "source": [
    "import pandas as pd\n",
    "import time\n",
    "import numpy as np\n",
    "import calendar\n",
    "import plotly.express as px\n",
    "\n",
    "t1 = time.time()\n",
    "df = pd.read_csv('preprocessed_collisions.csv')\n",
    "df['TIME'] = df['CRASH DATE'] + ' ' + df['CRASH TIME']\n",
    "df['TIME'] = pd.to_datetime(df['TIME'], format=\"%m/%d/%Y %H:%M\")\n",
    "t2 = time.time()\n",
    "\n",
    "#Discard 2012 and 2021. \n",
    "df = df.loc[(df['TIME'].dt.year > 2012) & (df['TIME'].dt.year < 2021)]\n",
    "\n",
    "print(f'Time elapsed: {t2-t1} seconds.')"
   ]
  },
  {
   "cell_type": "markdown",
   "metadata": {},
   "source": [
    "# Probability of being injured or killed"
   ]
  },
  {
   "cell_type": "code",
   "execution_count": 3,
   "metadata": {},
   "outputs": [
    {
     "data": {
      "application/vnd.plotly.v1+json": {
       "config": {
        "plotlyServerURL": "https://plot.ly"
       },
       "data": [
        {
         "alignmentgroup": "True",
         "customdata": [
          [
           1278,
           10,
           3,
           5633,
           "Monday 00:00"
          ],
          [
           617,
           1,
           3,
           2593,
           "Monday 01:00"
          ],
          [
           410,
           6,
           2,
           1839,
           "Monday 02:00"
          ],
          [
           366,
           4,
           1,
           1463,
           "Monday 03:00"
          ],
          [
           460,
           9,
           3,
           1789,
           "Monday 04:00"
          ],
          [
           630,
           8,
           2,
           2534,
           "Monday 05:00"
          ],
          [
           1117,
           7,
           3,
           5027,
           "Monday 06:00"
          ],
          [
           1548,
           6,
           3,
           7341,
           "Monday 07:00"
          ],
          [
           2504,
           10,
           0,
           14031,
           "Monday 08:00"
          ],
          [
           2105,
           6,
           3,
           13136,
           "Monday 09:00"
          ],
          [
           1776,
           8,
           1,
           11634,
           "Monday 10:00"
          ],
          [
           1802,
           8,
           1,
           11685,
           "Monday 11:00"
          ],
          [
           1989,
           9,
           3,
           11913,
           "Monday 12:00"
          ],
          [
           2131,
           9,
           2,
           12361,
           "Monday 13:00"
          ],
          [
           2483,
           4,
           1,
           14076,
           "Monday 14:00"
          ],
          [
           2689,
           4,
           0,
           13346,
           "Monday 15:00"
          ],
          [
           3075,
           11,
           6,
           15892,
           "Monday 16:00"
          ],
          [
           3203,
           13,
           4,
           15300,
           "Monday 17:00"
          ],
          [
           2850,
           7,
           2,
           12906,
           "Monday 18:00"
          ],
          [
           2324,
           15,
           1,
           10027,
           "Monday 19:00"
          ],
          [
           1976,
           9,
           1,
           7840,
           "Monday 20:00"
          ],
          [
           1629,
           6,
           2,
           6279,
           "Monday 21:00"
          ],
          [
           1329,
           10,
           4,
           5347,
           "Monday 22:00"
          ],
          [
           1100,
           9,
           5,
           4174,
           "Monday 23:00"
          ]
         ],
         "hovertemplate": "<b>%{customdata[4]}</b><br><br>Number of collisions with only injured: %{customdata[0]}<br>Number of collisions with only killed: %{customdata[1]}<br>Number of collisions with both killed and injured: %{customdata[2]}<br>Total number of collisions: %{customdata[3]}<br><br>Probability of a collision being serious: %{y}%",
         "legendgroup": "Monday",
         "marker": {
          "color": "#636efa"
         },
         "name": "Monday",
         "offsetgroup": "Monday",
         "orientation": "v",
         "showlegend": true,
         "textposition": "auto",
         "type": "bar",
         "x": [
          0,
          1,
          2,
          3,
          4,
          5,
          6,
          7,
          8,
          9,
          10,
          11,
          12,
          13,
          14,
          15,
          16,
          17,
          18,
          19,
          20,
          21,
          22,
          23
         ],
         "xaxis": "x",
         "y": [
          22.91851588851411,
          23.949093713844967,
          22.72974442631865,
          25.358851674641148,
          26.383454443823368,
          25.25651144435675,
          22.41893773622439,
          21.209644462607276,
          17.917468462689758,
          16.0931790499391,
          15.342960288808664,
          15.498502353444588,
          16.796776630571646,
          17.32869508939406,
          17.675475987496448,
          20.178330585943353,
          19.456330229046063,
          21.045751633986928,
          22.152487215248723,
          23.336990126658023,
          25.331632653061227,
          26.071030418856505,
          25.116887974565177,
          26.689027311931003
         ],
         "yaxis": "y"
        },
        {
         "alignmentgroup": "True",
         "customdata": [
          [
           1067,
           5,
           1,
           5025,
           "Tuesday 00:00"
          ],
          [
           462,
           9,
           7,
           2044,
           "Tuesday 01:00"
          ],
          [
           348,
           0,
           0,
           1430,
           "Tuesday 02:00"
          ],
          [
           263,
           1,
           3,
           1131,
           "Tuesday 03:00"
          ],
          [
           313,
           7,
           5,
           1284,
           "Tuesday 04:00"
          ],
          [
           545,
           7,
           1,
           2251,
           "Tuesday 05:00"
          ],
          [
           1093,
           14,
           4,
           4976,
           "Tuesday 06:00"
          ],
          [
           1534,
           4,
           4,
           7563,
           "Tuesday 07:00"
          ],
          [
           2700,
           6,
           1,
           14612,
           "Tuesday 08:00"
          ],
          [
           2294,
           12,
           0,
           13988,
           "Tuesday 09:00"
          ],
          [
           1952,
           8,
           0,
           12176,
           "Tuesday 10:00"
          ],
          [
           1943,
           7,
           3,
           12170,
           "Tuesday 11:00"
          ],
          [
           2059,
           8,
           2,
           12372,
           "Tuesday 12:00"
          ],
          [
           2165,
           5,
           1,
           12778,
           "Tuesday 13:00"
          ],
          [
           2676,
           11,
           5,
           14700,
           "Tuesday 14:00"
          ],
          [
           2709,
           7,
           2,
           13581,
           "Tuesday 15:00"
          ],
          [
           3095,
           7,
           2,
           16326,
           "Tuesday 16:00"
          ],
          [
           3345,
           11,
           3,
           16176,
           "Tuesday 17:00"
          ],
          [
           3055,
           8,
           3,
           13837,
           "Tuesday 18:00"
          ],
          [
           2614,
           7,
           1,
           10921,
           "Tuesday 19:00"
          ],
          [
           2239,
           7,
           2,
           8621,
           "Tuesday 20:00"
          ],
          [
           1739,
           12,
           2,
           6844,
           "Tuesday 21:00"
          ],
          [
           1476,
           4,
           1,
           5827,
           "Tuesday 22:00"
          ],
          [
           1196,
           11,
           5,
           4706,
           "Tuesday 23:00"
          ]
         ],
         "hovertemplate": "<b>%{customdata[4]}</b><br><br>Number of collisions with only injured: %{customdata[0]}<br>Number of collisions with only killed: %{customdata[1]}<br>Number of collisions with both killed and injured: %{customdata[2]}<br>Total number of collisions: %{customdata[3]}<br><br>Probability of a collision being serious: %{y}%",
         "legendgroup": "Tuesday",
         "marker": {
          "color": "#EF553B"
         },
         "name": "Tuesday",
         "offsetgroup": "Tuesday",
         "orientation": "v",
         "showlegend": true,
         "textposition": "auto",
         "type": "bar",
         "x": [
          24,
          25,
          26,
          27,
          28,
          29,
          30,
          31,
          32,
          33,
          34,
          35,
          36,
          37,
          38,
          39,
          40,
          41,
          42,
          43,
          44,
          45,
          46,
          47
         ],
         "xaxis": "x",
         "y": [
          21.35323383084577,
          23.385518590998043,
          24.335664335664337,
          23.607427055702917,
          25.31152647975078,
          24.56685917370058,
          22.327170418006432,
          20.38873462911543,
          18.52586914864495,
          16.48555905061481,
          16.09724047306176,
          16.047658175842237,
          16.723246039443907,
          16.990139301925183,
          18.312925170068027,
          20.01325381047051,
          19.012617910082078,
          20.765331355093966,
          22.15798222157982,
          24.008790403809176,
          26.075861268994316,
          25.613676212741087,
          25.416166123219497,
          25.754356141096473
         ],
         "yaxis": "y"
        },
        {
         "alignmentgroup": "True",
         "customdata": [
          [
           1179,
           9,
           3,
           5220,
           "Wednesday 00:00"
          ],
          [
           519,
           2,
           2,
           2287,
           "Wednesday 01:00"
          ],
          [
           327,
           1,
           4,
           1478,
           "Wednesday 02:00"
          ],
          [
           290,
           3,
           1,
           1271,
           "Wednesday 03:00"
          ],
          [
           351,
           6,
           3,
           1432,
           "Wednesday 04:00"
          ],
          [
           502,
           5,
           2,
           2159,
           "Wednesday 05:00"
          ],
          [
           1076,
           7,
           1,
           4672,
           "Wednesday 06:00"
          ],
          [
           1600,
           6,
           0,
           7491,
           "Wednesday 07:00"
          ],
          [
           2643,
           4,
           1,
           14144,
           "Wednesday 08:00"
          ],
          [
           2146,
           6,
           3,
           12822,
           "Wednesday 09:00"
          ],
          [
           1715,
           7,
           3,
           11362,
           "Wednesday 10:00"
          ],
          [
           1866,
           6,
           0,
           11195,
           "Wednesday 11:00"
          ],
          [
           2064,
           5,
           1,
           12024,
           "Wednesday 12:00"
          ],
          [
           2165,
           6,
           1,
           12214,
           "Wednesday 13:00"
          ],
          [
           2619,
           6,
           4,
           14856,
           "Wednesday 14:00"
          ],
          [
           2758,
           11,
           3,
           13757,
           "Wednesday 15:00"
          ],
          [
           3022,
           8,
           3,
           15978,
           "Wednesday 16:00"
          ],
          [
           3222,
           9,
           3,
           16088,
           "Wednesday 17:00"
          ],
          [
           3056,
           14,
           3,
           14193,
           "Wednesday 18:00"
          ],
          [
           2491,
           13,
           1,
           10989,
           "Wednesday 19:00"
          ],
          [
           2095,
           7,
           4,
           8614,
           "Wednesday 20:00"
          ],
          [
           1819,
           11,
           1,
           7216,
           "Wednesday 21:00"
          ],
          [
           1533,
           7,
           0,
           6266,
           "Wednesday 22:00"
          ],
          [
           1202,
           5,
           1,
           4796,
           "Wednesday 23:00"
          ]
         ],
         "hovertemplate": "<b>%{customdata[4]}</b><br><br>Number of collisions with only injured: %{customdata[0]}<br>Number of collisions with only killed: %{customdata[1]}<br>Number of collisions with both killed and injured: %{customdata[2]}<br>Total number of collisions: %{customdata[3]}<br><br>Probability of a collision being serious: %{y}%",
         "legendgroup": "Wednesday",
         "marker": {
          "color": "#00cc96"
         },
         "name": "Wednesday",
         "offsetgroup": "Wednesday",
         "orientation": "v",
         "showlegend": true,
         "textposition": "auto",
         "type": "bar",
         "x": [
          48,
          49,
          50,
          51,
          52,
          53,
          54,
          55,
          56,
          57,
          58,
          59,
          60,
          61,
          62,
          63,
          64,
          65,
          66,
          67,
          68,
          69,
          70,
          71
         ],
         "xaxis": "x",
         "y": [
          22.816091954022987,
          22.86838653257543,
          22.46278755074425,
          23.131392604248624,
          25.139664804469277,
          23.575729504400186,
          23.20205479452055,
          21.43906020558003,
          18.721719457013574,
          16.80705038215567,
          15.182186234817813,
          16.721750781598928,
          17.21556886227545,
          17.782872113967578,
          17.696553581044697,
          20.149741949552954,
          18.982350732256855,
          20.10193933366484,
          21.651518354118227,
          22.795522795522796,
          24.448572091943348,
          25.374168514412414,
          24.577082668368973,
          25.18765638031693
         ],
         "yaxis": "y"
        },
        {
         "alignmentgroup": "True",
         "customdata": [
          [
           1243,
           9,
           4,
           5660,
           "Thursday 00:00"
          ],
          [
           518,
           7,
           2,
           2378,
           "Thursday 01:00"
          ],
          [
           397,
           7,
           1,
           1750,
           "Thursday 02:00"
          ],
          [
           297,
           4,
           3,
           1348,
           "Thursday 03:00"
          ],
          [
           399,
           7,
           1,
           1591,
           "Thursday 04:00"
          ],
          [
           495,
           11,
           0,
           2267,
           "Thursday 05:00"
          ],
          [
           1077,
           8,
           1,
           4799,
           "Thursday 06:00"
          ],
          [
           1546,
           6,
           2,
           7264,
           "Thursday 07:00"
          ],
          [
           2601,
           3,
           4,
           14239,
           "Thursday 08:00"
          ],
          [
           2107,
           8,
           1,
           13408,
           "Thursday 09:00"
          ],
          [
           1851,
           6,
           0,
           11705,
           "Thursday 10:00"
          ],
          [
           1871,
           11,
           1,
           11826,
           "Thursday 11:00"
          ],
          [
           2128,
           4,
           1,
           12259,
           "Thursday 12:00"
          ],
          [
           2317,
           6,
           2,
           12757,
           "Thursday 13:00"
          ],
          [
           2678,
           2,
           0,
           14636,
           "Thursday 14:00"
          ],
          [
           2790,
           6,
           3,
           13717,
           "Thursday 15:00"
          ],
          [
           2981,
           11,
           0,
           16222,
           "Thursday 16:00"
          ],
          [
           3274,
           7,
           4,
           16307,
           "Thursday 17:00"
          ],
          [
           2965,
           10,
           1,
           13908,
           "Thursday 18:00"
          ],
          [
           2536,
           11,
           4,
           11212,
           "Thursday 19:00"
          ],
          [
           2173,
           11,
           2,
           9192,
           "Thursday 20:00"
          ],
          [
           1873,
           10,
           2,
           7685,
           "Thursday 21:00"
          ],
          [
           1570,
           6,
           2,
           6793,
           "Thursday 22:00"
          ],
          [
           1334,
           13,
           3,
           5307,
           "Thursday 23:00"
          ]
         ],
         "hovertemplate": "<b>%{customdata[4]}</b><br><br>Number of collisions with only injured: %{customdata[0]}<br>Number of collisions with only killed: %{customdata[1]}<br>Number of collisions with both killed and injured: %{customdata[2]}<br>Total number of collisions: %{customdata[3]}<br><br>Probability of a collision being serious: %{y}%",
         "legendgroup": "Thursday",
         "marker": {
          "color": "#ab63fa"
         },
         "name": "Thursday",
         "offsetgroup": "Thursday",
         "orientation": "v",
         "showlegend": true,
         "textposition": "auto",
         "type": "bar",
         "x": [
          72,
          73,
          74,
          75,
          76,
          77,
          78,
          79,
          80,
          81,
          82,
          83,
          84,
          85,
          86,
          87,
          88,
          89,
          90,
          91,
          92,
          93,
          94,
          95
         ],
         "xaxis": "x",
         "y": [
          22.190812720848058,
          22.16148023549201,
          23.142857142857142,
          22.551928783382788,
          25.581395348837212,
          22.32024702249669,
          22.62971452385914,
          21.393171806167402,
          18.315892970011937,
          15.781622911694509,
          15.865014950875695,
          15.922543548114323,
          17.39946162003426,
          18.22528807713412,
          18.311013938234492,
          20.405336443828826,
          18.44408827518185,
          20.14472312503833,
          21.397756686798964,
          22.75240813414199,
          23.781549173194083,
          24.528301886792452,
          23.229795377594584,
          25.438100621820237
         ],
         "yaxis": "y"
        },
        {
         "alignmentgroup": "True",
         "customdata": [
          [
           1393,
           8,
           0,
           6507,
           "Friday 00:00"
          ],
          [
           680,
           5,
           0,
           3052,
           "Friday 01:00"
          ],
          [
           456,
           2,
           1,
           2211,
           "Friday 02:00"
          ],
          [
           406,
           8,
           0,
           1747,
           "Friday 03:00"
          ],
          [
           480,
           8,
           4,
           1983,
           "Friday 04:00"
          ],
          [
           604,
           5,
           0,
           2508,
           "Friday 05:00"
          ],
          [
           1069,
           4,
           1,
           4986,
           "Friday 06:00"
          ],
          [
           1519,
           7,
           2,
           7209,
           "Friday 07:00"
          ],
          [
           2510,
           7,
           0,
           13753,
           "Friday 08:00"
          ],
          [
           2153,
           5,
           2,
           13126,
           "Friday 09:00"
          ],
          [
           1759,
           11,
           2,
           11546,
           "Friday 10:00"
          ],
          [
           2034,
           8,
           4,
           11997,
           "Friday 11:00"
          ],
          [
           2130,
           11,
           1,
           12753,
           "Friday 12:00"
          ],
          [
           2353,
           5,
           1,
           13338,
           "Friday 13:00"
          ],
          [
           2973,
           10,
           3,
           15938,
           "Friday 14:00"
          ],
          [
           2939,
           8,
           5,
           15030,
           "Friday 15:00"
          ],
          [
           3203,
           5,
           2,
           17240,
           "Friday 16:00"
          ],
          [
           3402,
           10,
           4,
           17130,
           "Friday 17:00"
          ],
          [
           3244,
           12,
           3,
           14818,
           "Friday 18:00"
          ],
          [
           2711,
           12,
           2,
           12122,
           "Friday 19:00"
          ],
          [
           2291,
           9,
           3,
           10102,
           "Friday 20:00"
          ],
          [
           1871,
           15,
           2,
           8314,
           "Friday 21:00"
          ],
          [
           1856,
           9,
           1,
           7842,
           "Friday 22:00"
          ],
          [
           1688,
           8,
           3,
           6853,
           "Friday 23:00"
          ]
         ],
         "hovertemplate": "<b>%{customdata[4]}</b><br><br>Number of collisions with only injured: %{customdata[0]}<br>Number of collisions with only killed: %{customdata[1]}<br>Number of collisions with both killed and injured: %{customdata[2]}<br>Total number of collisions: %{customdata[3]}<br><br>Probability of a collision being serious: %{y}%",
         "legendgroup": "Friday",
         "marker": {
          "color": "#FFA15A"
         },
         "name": "Friday",
         "offsetgroup": "Friday",
         "orientation": "v",
         "showlegend": true,
         "textposition": "auto",
         "type": "bar",
         "x": [
          96,
          97,
          98,
          99,
          100,
          101,
          102,
          103,
          104,
          105,
          106,
          107,
          108,
          109,
          110,
          111,
          112,
          113,
          114,
          115,
          116,
          117,
          118,
          119
         ],
         "xaxis": "x",
         "y": [
          21.53065928999539,
          22.44429882044561,
          20.759837177747624,
          23.69776760160275,
          24.81089258698941,
          24.2822966507177,
          21.540312876052948,
          21.195727562768763,
          18.30146149930924,
          16.455889075118087,
          15.347306426468041,
          17.05426356589147,
          16.79604798870854,
          17.68630979157295,
          18.735098506713516,
          19.64071856287425,
          18.619489559164734,
          19.941622883829538,
          21.993521392900526,
          22.479788813727108,
          22.797465848346864,
          22.708684147221554,
          23.794950267788828,
          24.792061870713557
         ],
         "yaxis": "y"
        },
        {
         "alignmentgroup": "True",
         "customdata": [
          [
           1766,
           14,
           2,
           8117,
           "Saturday 00:00"
          ],
          [
           1135,
           1,
           4,
           5143,
           "Saturday 01:00"
          ],
          [
           1031,
           10,
           6,
           4267,
           "Saturday 02:00"
          ],
          [
           952,
           7,
           5,
           3846,
           "Saturday 03:00"
          ],
          [
           1056,
           12,
           9,
           4309,
           "Saturday 04:00"
          ],
          [
           833,
           6,
           4,
           3548,
           "Saturday 05:00"
          ],
          [
           757,
           3,
           1,
           3330,
           "Saturday 06:00"
          ],
          [
           698,
           1,
           3,
           3366,
           "Saturday 07:00"
          ],
          [
           1053,
           2,
           2,
           5972,
           "Saturday 08:00"
          ],
          [
           1272,
           7,
           0,
           7197,
           "Saturday 09:00"
          ],
          [
           1363,
           7,
           2,
           8352,
           "Saturday 10:00"
          ],
          [
           1703,
           5,
           2,
           9766,
           "Saturday 11:00"
          ],
          [
           1948,
           3,
           2,
           10825,
           "Saturday 12:00"
          ],
          [
           2138,
           7,
           2,
           11831,
           "Saturday 13:00"
          ],
          [
           2334,
           8,
           1,
           13038,
           "Saturday 14:00"
          ],
          [
           2316,
           5,
           4,
           11296,
           "Saturday 15:00"
          ],
          [
           2517,
           9,
           6,
           13286,
           "Saturday 16:00"
          ],
          [
           2462,
           16,
           7,
           12167,
           "Saturday 17:00"
          ],
          [
           2425,
           11,
           4,
           11283,
           "Saturday 18:00"
          ],
          [
           2286,
           7,
           4,
           9988,
           "Saturday 19:00"
          ],
          [
           2146,
           7,
           4,
           9119,
           "Saturday 20:00"
          ],
          [
           1982,
           15,
           2,
           8260,
           "Saturday 21:00"
          ],
          [
           1887,
           12,
           4,
           8041,
           "Saturday 22:00"
          ],
          [
           1782,
           10,
           6,
           7257,
           "Saturday 23:00"
          ]
         ],
         "hovertemplate": "<b>%{customdata[4]}</b><br><br>Number of collisions with only injured: %{customdata[0]}<br>Number of collisions with only killed: %{customdata[1]}<br>Number of collisions with both killed and injured: %{customdata[2]}<br>Total number of collisions: %{customdata[3]}<br><br>Probability of a collision being serious: %{y}%",
         "legendgroup": "Saturday",
         "marker": {
          "color": "#19d3f3"
         },
         "name": "Saturday",
         "offsetgroup": "Saturday",
         "orientation": "v",
         "showlegend": true,
         "textposition": "auto",
         "type": "bar",
         "x": [
          120,
          121,
          122,
          123,
          124,
          125,
          126,
          127,
          128,
          129,
          130,
          131,
          132,
          133,
          134,
          135,
          136,
          137,
          138,
          139,
          140,
          141,
          142,
          143
         ],
         "xaxis": "x",
         "y": [
          21.953923863496367,
          22.16605094302936,
          24.53714553550504,
          25.065002600104002,
          24.994198189835227,
          23.75986471251409,
          22.852852852852852,
          20.855614973262032,
          17.699263228399197,
          17.771293594553285,
          16.4272030651341,
          17.509727626459142,
          18.041570438799077,
          18.147240300904404,
          17.970547630004603,
          20.582507082152972,
          19.05765467409303,
          20.424097969918634,
          21.625454223167598,
          22.997597116539847,
          23.653909419892532,
          24.200968523002423,
          23.666210670314637,
          24.77607826925727
         ],
         "yaxis": "y"
        },
        {
         "alignmentgroup": "True",
         "customdata": [
          [
           1826,
           11,
           4,
           8118,
           "Sunday 00:00"
          ],
          [
           1247,
           10,
           4,
           5650,
           "Sunday 01:00"
          ],
          [
           1121,
           10,
           6,
           4594,
           "Sunday 02:00"
          ],
          [
           1105,
           11,
           4,
           4373,
           "Sunday 03:00"
          ],
          [
           1264,
           15,
           10,
           4920,
           "Sunday 04:00"
          ],
          [
           971,
           12,
           7,
           3951,
           "Sunday 05:00"
          ],
          [
           682,
           4,
           4,
           3000,
           "Sunday 06:00"
          ],
          [
           612,
           6,
           1,
           2659,
           "Sunday 07:00"
          ],
          [
           794,
           5,
           1,
           4374,
           "Sunday 08:00"
          ],
          [
           899,
           2,
           2,
           5157,
           "Sunday 09:00"
          ],
          [
           1126,
           5,
           0,
           6623,
           "Sunday 10:00"
          ],
          [
           1422,
           3,
           0,
           8044,
           "Sunday 11:00"
          ],
          [
           1595,
           3,
           6,
           9098,
           "Sunday 12:00"
          ],
          [
           1857,
           11,
           2,
           10310,
           "Sunday 13:00"
          ],
          [
           2129,
           2,
           4,
           11904,
           "Sunday 14:00"
          ],
          [
           2153,
           8,
           1,
           10487,
           "Sunday 15:00"
          ],
          [
           2284,
           8,
           4,
           11851,
           "Sunday 16:00"
          ],
          [
           2236,
           8,
           3,
           10753,
           "Sunday 17:00"
          ],
          [
           2276,
           7,
           2,
           9992,
           "Sunday 18:00"
          ],
          [
           2080,
           8,
           2,
           8783,
           "Sunday 19:00"
          ],
          [
           1941,
           11,
           5,
           7808,
           "Sunday 20:00"
          ],
          [
           1723,
           10,
           1,
           6818,
           "Sunday 21:00"
          ],
          [
           1584,
           13,
           6,
           6357,
           "Sunday 22:00"
          ],
          [
           1217,
           5,
           3,
           4962,
           "Sunday 23:00"
          ]
         ],
         "hovertemplate": "<b>%{customdata[4]}</b><br><br>Number of collisions with only injured: %{customdata[0]}<br>Number of collisions with only killed: %{customdata[1]}<br>Number of collisions with both killed and injured: %{customdata[2]}<br>Total number of collisions: %{customdata[3]}<br><br>Probability of a collision being serious: %{y}%",
         "legendgroup": "Sunday",
         "marker": {
          "color": "#FF6692"
         },
         "name": "Sunday",
         "offsetgroup": "Sunday",
         "orientation": "v",
         "showlegend": true,
         "textposition": "auto",
         "type": "bar",
         "x": [
          144,
          145,
          146,
          147,
          148,
          149,
          150,
          151,
          152,
          153,
          154,
          155,
          156,
          157,
          158,
          159,
          160,
          161,
          162,
          163,
          164,
          165,
          166,
          167
         ],
         "xaxis": "x",
         "y": [
          22.6779995072678,
          22.31858407079646,
          24.74967348715716,
          25.61170820946719,
          26.199186991869915,
          25.05694760820046,
          23,
          23.27942835652501,
          18.289894833104707,
          17.51018033740547,
          17.07685338970255,
          17.715067130780707,
          17.63024840624313,
          18.13773035887488,
          17.935147849462364,
          20.616000762849243,
          19.373892498523333,
          20.89649400167395,
          22.868294635708565,
          23.795969486508024,
          25.064036885245898,
          25.43267820475213,
          25.216296995438096,
          24.68762595727529
         ],
         "yaxis": "y"
        }
       ],
       "layout": {
        "barmode": "relative",
        "height": 500,
        "legend": {
         "title": {
          "text": "weekday"
         },
         "tracegroupgap": 0
        },
        "template": {
         "data": {
          "bar": [
           {
            "error_x": {
             "color": "#2a3f5f"
            },
            "error_y": {
             "color": "#2a3f5f"
            },
            "marker": {
             "line": {
              "color": "#E5ECF6",
              "width": 0.5
             }
            },
            "type": "bar"
           }
          ],
          "barpolar": [
           {
            "marker": {
             "line": {
              "color": "#E5ECF6",
              "width": 0.5
             }
            },
            "type": "barpolar"
           }
          ],
          "carpet": [
           {
            "aaxis": {
             "endlinecolor": "#2a3f5f",
             "gridcolor": "white",
             "linecolor": "white",
             "minorgridcolor": "white",
             "startlinecolor": "#2a3f5f"
            },
            "baxis": {
             "endlinecolor": "#2a3f5f",
             "gridcolor": "white",
             "linecolor": "white",
             "minorgridcolor": "white",
             "startlinecolor": "#2a3f5f"
            },
            "type": "carpet"
           }
          ],
          "choropleth": [
           {
            "colorbar": {
             "outlinewidth": 0,
             "ticks": ""
            },
            "type": "choropleth"
           }
          ],
          "contour": [
           {
            "colorbar": {
             "outlinewidth": 0,
             "ticks": ""
            },
            "colorscale": [
             [
              0,
              "#0d0887"
             ],
             [
              0.1111111111111111,
              "#46039f"
             ],
             [
              0.2222222222222222,
              "#7201a8"
             ],
             [
              0.3333333333333333,
              "#9c179e"
             ],
             [
              0.4444444444444444,
              "#bd3786"
             ],
             [
              0.5555555555555556,
              "#d8576b"
             ],
             [
              0.6666666666666666,
              "#ed7953"
             ],
             [
              0.7777777777777778,
              "#fb9f3a"
             ],
             [
              0.8888888888888888,
              "#fdca26"
             ],
             [
              1,
              "#f0f921"
             ]
            ],
            "type": "contour"
           }
          ],
          "contourcarpet": [
           {
            "colorbar": {
             "outlinewidth": 0,
             "ticks": ""
            },
            "type": "contourcarpet"
           }
          ],
          "heatmap": [
           {
            "colorbar": {
             "outlinewidth": 0,
             "ticks": ""
            },
            "colorscale": [
             [
              0,
              "#0d0887"
             ],
             [
              0.1111111111111111,
              "#46039f"
             ],
             [
              0.2222222222222222,
              "#7201a8"
             ],
             [
              0.3333333333333333,
              "#9c179e"
             ],
             [
              0.4444444444444444,
              "#bd3786"
             ],
             [
              0.5555555555555556,
              "#d8576b"
             ],
             [
              0.6666666666666666,
              "#ed7953"
             ],
             [
              0.7777777777777778,
              "#fb9f3a"
             ],
             [
              0.8888888888888888,
              "#fdca26"
             ],
             [
              1,
              "#f0f921"
             ]
            ],
            "type": "heatmap"
           }
          ],
          "heatmapgl": [
           {
            "colorbar": {
             "outlinewidth": 0,
             "ticks": ""
            },
            "colorscale": [
             [
              0,
              "#0d0887"
             ],
             [
              0.1111111111111111,
              "#46039f"
             ],
             [
              0.2222222222222222,
              "#7201a8"
             ],
             [
              0.3333333333333333,
              "#9c179e"
             ],
             [
              0.4444444444444444,
              "#bd3786"
             ],
             [
              0.5555555555555556,
              "#d8576b"
             ],
             [
              0.6666666666666666,
              "#ed7953"
             ],
             [
              0.7777777777777778,
              "#fb9f3a"
             ],
             [
              0.8888888888888888,
              "#fdca26"
             ],
             [
              1,
              "#f0f921"
             ]
            ],
            "type": "heatmapgl"
           }
          ],
          "histogram": [
           {
            "marker": {
             "colorbar": {
              "outlinewidth": 0,
              "ticks": ""
             }
            },
            "type": "histogram"
           }
          ],
          "histogram2d": [
           {
            "colorbar": {
             "outlinewidth": 0,
             "ticks": ""
            },
            "colorscale": [
             [
              0,
              "#0d0887"
             ],
             [
              0.1111111111111111,
              "#46039f"
             ],
             [
              0.2222222222222222,
              "#7201a8"
             ],
             [
              0.3333333333333333,
              "#9c179e"
             ],
             [
              0.4444444444444444,
              "#bd3786"
             ],
             [
              0.5555555555555556,
              "#d8576b"
             ],
             [
              0.6666666666666666,
              "#ed7953"
             ],
             [
              0.7777777777777778,
              "#fb9f3a"
             ],
             [
              0.8888888888888888,
              "#fdca26"
             ],
             [
              1,
              "#f0f921"
             ]
            ],
            "type": "histogram2d"
           }
          ],
          "histogram2dcontour": [
           {
            "colorbar": {
             "outlinewidth": 0,
             "ticks": ""
            },
            "colorscale": [
             [
              0,
              "#0d0887"
             ],
             [
              0.1111111111111111,
              "#46039f"
             ],
             [
              0.2222222222222222,
              "#7201a8"
             ],
             [
              0.3333333333333333,
              "#9c179e"
             ],
             [
              0.4444444444444444,
              "#bd3786"
             ],
             [
              0.5555555555555556,
              "#d8576b"
             ],
             [
              0.6666666666666666,
              "#ed7953"
             ],
             [
              0.7777777777777778,
              "#fb9f3a"
             ],
             [
              0.8888888888888888,
              "#fdca26"
             ],
             [
              1,
              "#f0f921"
             ]
            ],
            "type": "histogram2dcontour"
           }
          ],
          "mesh3d": [
           {
            "colorbar": {
             "outlinewidth": 0,
             "ticks": ""
            },
            "type": "mesh3d"
           }
          ],
          "parcoords": [
           {
            "line": {
             "colorbar": {
              "outlinewidth": 0,
              "ticks": ""
             }
            },
            "type": "parcoords"
           }
          ],
          "pie": [
           {
            "automargin": true,
            "type": "pie"
           }
          ],
          "scatter": [
           {
            "marker": {
             "colorbar": {
              "outlinewidth": 0,
              "ticks": ""
             }
            },
            "type": "scatter"
           }
          ],
          "scatter3d": [
           {
            "line": {
             "colorbar": {
              "outlinewidth": 0,
              "ticks": ""
             }
            },
            "marker": {
             "colorbar": {
              "outlinewidth": 0,
              "ticks": ""
             }
            },
            "type": "scatter3d"
           }
          ],
          "scattercarpet": [
           {
            "marker": {
             "colorbar": {
              "outlinewidth": 0,
              "ticks": ""
             }
            },
            "type": "scattercarpet"
           }
          ],
          "scattergeo": [
           {
            "marker": {
             "colorbar": {
              "outlinewidth": 0,
              "ticks": ""
             }
            },
            "type": "scattergeo"
           }
          ],
          "scattergl": [
           {
            "marker": {
             "colorbar": {
              "outlinewidth": 0,
              "ticks": ""
             }
            },
            "type": "scattergl"
           }
          ],
          "scattermapbox": [
           {
            "marker": {
             "colorbar": {
              "outlinewidth": 0,
              "ticks": ""
             }
            },
            "type": "scattermapbox"
           }
          ],
          "scatterpolar": [
           {
            "marker": {
             "colorbar": {
              "outlinewidth": 0,
              "ticks": ""
             }
            },
            "type": "scatterpolar"
           }
          ],
          "scatterpolargl": [
           {
            "marker": {
             "colorbar": {
              "outlinewidth": 0,
              "ticks": ""
             }
            },
            "type": "scatterpolargl"
           }
          ],
          "scatterternary": [
           {
            "marker": {
             "colorbar": {
              "outlinewidth": 0,
              "ticks": ""
             }
            },
            "type": "scatterternary"
           }
          ],
          "surface": [
           {
            "colorbar": {
             "outlinewidth": 0,
             "ticks": ""
            },
            "colorscale": [
             [
              0,
              "#0d0887"
             ],
             [
              0.1111111111111111,
              "#46039f"
             ],
             [
              0.2222222222222222,
              "#7201a8"
             ],
             [
              0.3333333333333333,
              "#9c179e"
             ],
             [
              0.4444444444444444,
              "#bd3786"
             ],
             [
              0.5555555555555556,
              "#d8576b"
             ],
             [
              0.6666666666666666,
              "#ed7953"
             ],
             [
              0.7777777777777778,
              "#fb9f3a"
             ],
             [
              0.8888888888888888,
              "#fdca26"
             ],
             [
              1,
              "#f0f921"
             ]
            ],
            "type": "surface"
           }
          ],
          "table": [
           {
            "cells": {
             "fill": {
              "color": "#EBF0F8"
             },
             "line": {
              "color": "white"
             }
            },
            "header": {
             "fill": {
              "color": "#C8D4E3"
             },
             "line": {
              "color": "white"
             }
            },
            "type": "table"
           }
          ]
         },
         "layout": {
          "annotationdefaults": {
           "arrowcolor": "#2a3f5f",
           "arrowhead": 0,
           "arrowwidth": 1
          },
          "autotypenumbers": "strict",
          "coloraxis": {
           "colorbar": {
            "outlinewidth": 0,
            "ticks": ""
           }
          },
          "colorscale": {
           "diverging": [
            [
             0,
             "#8e0152"
            ],
            [
             0.1,
             "#c51b7d"
            ],
            [
             0.2,
             "#de77ae"
            ],
            [
             0.3,
             "#f1b6da"
            ],
            [
             0.4,
             "#fde0ef"
            ],
            [
             0.5,
             "#f7f7f7"
            ],
            [
             0.6,
             "#e6f5d0"
            ],
            [
             0.7,
             "#b8e186"
            ],
            [
             0.8,
             "#7fbc41"
            ],
            [
             0.9,
             "#4d9221"
            ],
            [
             1,
             "#276419"
            ]
           ],
           "sequential": [
            [
             0,
             "#0d0887"
            ],
            [
             0.1111111111111111,
             "#46039f"
            ],
            [
             0.2222222222222222,
             "#7201a8"
            ],
            [
             0.3333333333333333,
             "#9c179e"
            ],
            [
             0.4444444444444444,
             "#bd3786"
            ],
            [
             0.5555555555555556,
             "#d8576b"
            ],
            [
             0.6666666666666666,
             "#ed7953"
            ],
            [
             0.7777777777777778,
             "#fb9f3a"
            ],
            [
             0.8888888888888888,
             "#fdca26"
            ],
            [
             1,
             "#f0f921"
            ]
           ],
           "sequentialminus": [
            [
             0,
             "#0d0887"
            ],
            [
             0.1111111111111111,
             "#46039f"
            ],
            [
             0.2222222222222222,
             "#7201a8"
            ],
            [
             0.3333333333333333,
             "#9c179e"
            ],
            [
             0.4444444444444444,
             "#bd3786"
            ],
            [
             0.5555555555555556,
             "#d8576b"
            ],
            [
             0.6666666666666666,
             "#ed7953"
            ],
            [
             0.7777777777777778,
             "#fb9f3a"
            ],
            [
             0.8888888888888888,
             "#fdca26"
            ],
            [
             1,
             "#f0f921"
            ]
           ]
          },
          "colorway": [
           "#636efa",
           "#EF553B",
           "#00cc96",
           "#ab63fa",
           "#FFA15A",
           "#19d3f3",
           "#FF6692",
           "#B6E880",
           "#FF97FF",
           "#FECB52"
          ],
          "font": {
           "color": "#2a3f5f"
          },
          "geo": {
           "bgcolor": "white",
           "lakecolor": "white",
           "landcolor": "#E5ECF6",
           "showlakes": true,
           "showland": true,
           "subunitcolor": "white"
          },
          "hoverlabel": {
           "align": "left"
          },
          "hovermode": "closest",
          "mapbox": {
           "style": "light"
          },
          "paper_bgcolor": "white",
          "plot_bgcolor": "#E5ECF6",
          "polar": {
           "angularaxis": {
            "gridcolor": "white",
            "linecolor": "white",
            "ticks": ""
           },
           "bgcolor": "#E5ECF6",
           "radialaxis": {
            "gridcolor": "white",
            "linecolor": "white",
            "ticks": ""
           }
          },
          "scene": {
           "xaxis": {
            "backgroundcolor": "#E5ECF6",
            "gridcolor": "white",
            "gridwidth": 2,
            "linecolor": "white",
            "showbackground": true,
            "ticks": "",
            "zerolinecolor": "white"
           },
           "yaxis": {
            "backgroundcolor": "#E5ECF6",
            "gridcolor": "white",
            "gridwidth": 2,
            "linecolor": "white",
            "showbackground": true,
            "ticks": "",
            "zerolinecolor": "white"
           },
           "zaxis": {
            "backgroundcolor": "#E5ECF6",
            "gridcolor": "white",
            "gridwidth": 2,
            "linecolor": "white",
            "showbackground": true,
            "ticks": "",
            "zerolinecolor": "white"
           }
          },
          "shapedefaults": {
           "line": {
            "color": "#2a3f5f"
           }
          },
          "ternary": {
           "aaxis": {
            "gridcolor": "white",
            "linecolor": "white",
            "ticks": ""
           },
           "baxis": {
            "gridcolor": "white",
            "linecolor": "white",
            "ticks": ""
           },
           "bgcolor": "#E5ECF6",
           "caxis": {
            "gridcolor": "white",
            "linecolor": "white",
            "ticks": ""
           }
          },
          "title": {
           "x": 0.05
          },
          "xaxis": {
           "automargin": true,
           "gridcolor": "white",
           "linecolor": "white",
           "ticks": "",
           "title": {
            "standoff": 15
           },
           "zerolinecolor": "white",
           "zerolinewidth": 2
          },
          "yaxis": {
           "automargin": true,
           "gridcolor": "white",
           "linecolor": "white",
           "ticks": "",
           "title": {
            "standoff": 15
           },
           "zerolinecolor": "white",
           "zerolinewidth": 2
          }
         }
        },
        "title": {
         "text": "Probability of a collision being either deadly or serious across the week."
        },
        "width": 1500,
        "xaxis": {
         "anchor": "y",
         "domain": [
          0,
          1
         ],
         "title": {
          "text": "Hour of week"
         }
        },
        "yaxis": {
         "anchor": "x",
         "domain": [
          0,
          1
         ],
         "range": [
          0,
          29
         ],
         "title": {
          "text": "Probability of being injured or killed in a collision"
         }
        }
       }
      },
      "text/html": [
       "<div>                            <div id=\"4b364789-107a-48b7-b10b-9835450f2f52\" class=\"plotly-graph-div\" style=\"height:500px; width:1500px;\"></div>            <script type=\"text/javascript\">                require([\"plotly\"], function(Plotly) {                    window.PLOTLYENV=window.PLOTLYENV || {};                                    if (document.getElementById(\"4b364789-107a-48b7-b10b-9835450f2f52\")) {                    Plotly.newPlot(                        \"4b364789-107a-48b7-b10b-9835450f2f52\",                        [{\"alignmentgroup\": \"True\", \"customdata\": [[1278, 10, 3, 5633, \"Monday 00:00\"], [617, 1, 3, 2593, \"Monday 01:00\"], [410, 6, 2, 1839, \"Monday 02:00\"], [366, 4, 1, 1463, \"Monday 03:00\"], [460, 9, 3, 1789, \"Monday 04:00\"], [630, 8, 2, 2534, \"Monday 05:00\"], [1117, 7, 3, 5027, \"Monday 06:00\"], [1548, 6, 3, 7341, \"Monday 07:00\"], [2504, 10, 0, 14031, \"Monday 08:00\"], [2105, 6, 3, 13136, \"Monday 09:00\"], [1776, 8, 1, 11634, \"Monday 10:00\"], [1802, 8, 1, 11685, \"Monday 11:00\"], [1989, 9, 3, 11913, \"Monday 12:00\"], [2131, 9, 2, 12361, \"Monday 13:00\"], [2483, 4, 1, 14076, \"Monday 14:00\"], [2689, 4, 0, 13346, \"Monday 15:00\"], [3075, 11, 6, 15892, \"Monday 16:00\"], [3203, 13, 4, 15300, \"Monday 17:00\"], [2850, 7, 2, 12906, \"Monday 18:00\"], [2324, 15, 1, 10027, \"Monday 19:00\"], [1976, 9, 1, 7840, \"Monday 20:00\"], [1629, 6, 2, 6279, \"Monday 21:00\"], [1329, 10, 4, 5347, \"Monday 22:00\"], [1100, 9, 5, 4174, \"Monday 23:00\"]], \"hovertemplate\": \"<b>%{customdata[4]}</b><br><br>Number of collisions with only injured: %{customdata[0]}<br>Number of collisions with only killed: %{customdata[1]}<br>Number of collisions with both killed and injured: %{customdata[2]}<br>Total number of collisions: %{customdata[3]}<br><br>Probability of a collision being serious: %{y}%\", \"legendgroup\": \"Monday\", \"marker\": {\"color\": \"#636efa\"}, \"name\": \"Monday\", \"offsetgroup\": \"Monday\", \"orientation\": \"v\", \"showlegend\": true, \"textposition\": \"auto\", \"type\": \"bar\", \"x\": [0, 1, 2, 3, 4, 5, 6, 7, 8, 9, 10, 11, 12, 13, 14, 15, 16, 17, 18, 19, 20, 21, 22, 23], \"xaxis\": \"x\", \"y\": [22.91851588851411, 23.949093713844967, 22.72974442631865, 25.358851674641148, 26.383454443823368, 25.25651144435675, 22.41893773622439, 21.209644462607276, 17.917468462689758, 16.0931790499391, 15.342960288808664, 15.498502353444588, 16.796776630571646, 17.32869508939406, 17.675475987496448, 20.178330585943353, 19.456330229046063, 21.045751633986928, 22.152487215248723, 23.336990126658023, 25.331632653061227, 26.071030418856505, 25.116887974565177, 26.689027311931003], \"yaxis\": \"y\"}, {\"alignmentgroup\": \"True\", \"customdata\": [[1067, 5, 1, 5025, \"Tuesday 00:00\"], [462, 9, 7, 2044, \"Tuesday 01:00\"], [348, 0, 0, 1430, \"Tuesday 02:00\"], [263, 1, 3, 1131, \"Tuesday 03:00\"], [313, 7, 5, 1284, \"Tuesday 04:00\"], [545, 7, 1, 2251, \"Tuesday 05:00\"], [1093, 14, 4, 4976, \"Tuesday 06:00\"], [1534, 4, 4, 7563, \"Tuesday 07:00\"], [2700, 6, 1, 14612, \"Tuesday 08:00\"], [2294, 12, 0, 13988, \"Tuesday 09:00\"], [1952, 8, 0, 12176, \"Tuesday 10:00\"], [1943, 7, 3, 12170, \"Tuesday 11:00\"], [2059, 8, 2, 12372, \"Tuesday 12:00\"], [2165, 5, 1, 12778, \"Tuesday 13:00\"], [2676, 11, 5, 14700, \"Tuesday 14:00\"], [2709, 7, 2, 13581, \"Tuesday 15:00\"], [3095, 7, 2, 16326, \"Tuesday 16:00\"], [3345, 11, 3, 16176, \"Tuesday 17:00\"], [3055, 8, 3, 13837, \"Tuesday 18:00\"], [2614, 7, 1, 10921, \"Tuesday 19:00\"], [2239, 7, 2, 8621, \"Tuesday 20:00\"], [1739, 12, 2, 6844, \"Tuesday 21:00\"], [1476, 4, 1, 5827, \"Tuesday 22:00\"], [1196, 11, 5, 4706, \"Tuesday 23:00\"]], \"hovertemplate\": \"<b>%{customdata[4]}</b><br><br>Number of collisions with only injured: %{customdata[0]}<br>Number of collisions with only killed: %{customdata[1]}<br>Number of collisions with both killed and injured: %{customdata[2]}<br>Total number of collisions: %{customdata[3]}<br><br>Probability of a collision being serious: %{y}%\", \"legendgroup\": \"Tuesday\", \"marker\": {\"color\": \"#EF553B\"}, \"name\": \"Tuesday\", \"offsetgroup\": \"Tuesday\", \"orientation\": \"v\", \"showlegend\": true, \"textposition\": \"auto\", \"type\": \"bar\", \"x\": [24, 25, 26, 27, 28, 29, 30, 31, 32, 33, 34, 35, 36, 37, 38, 39, 40, 41, 42, 43, 44, 45, 46, 47], \"xaxis\": \"x\", \"y\": [21.35323383084577, 23.385518590998043, 24.335664335664337, 23.607427055702917, 25.31152647975078, 24.56685917370058, 22.327170418006432, 20.38873462911543, 18.52586914864495, 16.48555905061481, 16.09724047306176, 16.047658175842237, 16.723246039443907, 16.990139301925183, 18.312925170068027, 20.01325381047051, 19.012617910082078, 20.765331355093966, 22.15798222157982, 24.008790403809176, 26.075861268994316, 25.613676212741087, 25.416166123219497, 25.754356141096473], \"yaxis\": \"y\"}, {\"alignmentgroup\": \"True\", \"customdata\": [[1179, 9, 3, 5220, \"Wednesday 00:00\"], [519, 2, 2, 2287, \"Wednesday 01:00\"], [327, 1, 4, 1478, \"Wednesday 02:00\"], [290, 3, 1, 1271, \"Wednesday 03:00\"], [351, 6, 3, 1432, \"Wednesday 04:00\"], [502, 5, 2, 2159, \"Wednesday 05:00\"], [1076, 7, 1, 4672, \"Wednesday 06:00\"], [1600, 6, 0, 7491, \"Wednesday 07:00\"], [2643, 4, 1, 14144, \"Wednesday 08:00\"], [2146, 6, 3, 12822, \"Wednesday 09:00\"], [1715, 7, 3, 11362, \"Wednesday 10:00\"], [1866, 6, 0, 11195, \"Wednesday 11:00\"], [2064, 5, 1, 12024, \"Wednesday 12:00\"], [2165, 6, 1, 12214, \"Wednesday 13:00\"], [2619, 6, 4, 14856, \"Wednesday 14:00\"], [2758, 11, 3, 13757, \"Wednesday 15:00\"], [3022, 8, 3, 15978, \"Wednesday 16:00\"], [3222, 9, 3, 16088, \"Wednesday 17:00\"], [3056, 14, 3, 14193, \"Wednesday 18:00\"], [2491, 13, 1, 10989, \"Wednesday 19:00\"], [2095, 7, 4, 8614, \"Wednesday 20:00\"], [1819, 11, 1, 7216, \"Wednesday 21:00\"], [1533, 7, 0, 6266, \"Wednesday 22:00\"], [1202, 5, 1, 4796, \"Wednesday 23:00\"]], \"hovertemplate\": \"<b>%{customdata[4]}</b><br><br>Number of collisions with only injured: %{customdata[0]}<br>Number of collisions with only killed: %{customdata[1]}<br>Number of collisions with both killed and injured: %{customdata[2]}<br>Total number of collisions: %{customdata[3]}<br><br>Probability of a collision being serious: %{y}%\", \"legendgroup\": \"Wednesday\", \"marker\": {\"color\": \"#00cc96\"}, \"name\": \"Wednesday\", \"offsetgroup\": \"Wednesday\", \"orientation\": \"v\", \"showlegend\": true, \"textposition\": \"auto\", \"type\": \"bar\", \"x\": [48, 49, 50, 51, 52, 53, 54, 55, 56, 57, 58, 59, 60, 61, 62, 63, 64, 65, 66, 67, 68, 69, 70, 71], \"xaxis\": \"x\", \"y\": [22.816091954022987, 22.86838653257543, 22.46278755074425, 23.131392604248624, 25.139664804469277, 23.575729504400186, 23.20205479452055, 21.43906020558003, 18.721719457013574, 16.80705038215567, 15.182186234817813, 16.721750781598928, 17.21556886227545, 17.782872113967578, 17.696553581044697, 20.149741949552954, 18.982350732256855, 20.10193933366484, 21.651518354118227, 22.795522795522796, 24.448572091943348, 25.374168514412414, 24.577082668368973, 25.18765638031693], \"yaxis\": \"y\"}, {\"alignmentgroup\": \"True\", \"customdata\": [[1243, 9, 4, 5660, \"Thursday 00:00\"], [518, 7, 2, 2378, \"Thursday 01:00\"], [397, 7, 1, 1750, \"Thursday 02:00\"], [297, 4, 3, 1348, \"Thursday 03:00\"], [399, 7, 1, 1591, \"Thursday 04:00\"], [495, 11, 0, 2267, \"Thursday 05:00\"], [1077, 8, 1, 4799, \"Thursday 06:00\"], [1546, 6, 2, 7264, \"Thursday 07:00\"], [2601, 3, 4, 14239, \"Thursday 08:00\"], [2107, 8, 1, 13408, \"Thursday 09:00\"], [1851, 6, 0, 11705, \"Thursday 10:00\"], [1871, 11, 1, 11826, \"Thursday 11:00\"], [2128, 4, 1, 12259, \"Thursday 12:00\"], [2317, 6, 2, 12757, \"Thursday 13:00\"], [2678, 2, 0, 14636, \"Thursday 14:00\"], [2790, 6, 3, 13717, \"Thursday 15:00\"], [2981, 11, 0, 16222, \"Thursday 16:00\"], [3274, 7, 4, 16307, \"Thursday 17:00\"], [2965, 10, 1, 13908, \"Thursday 18:00\"], [2536, 11, 4, 11212, \"Thursday 19:00\"], [2173, 11, 2, 9192, \"Thursday 20:00\"], [1873, 10, 2, 7685, \"Thursday 21:00\"], [1570, 6, 2, 6793, \"Thursday 22:00\"], [1334, 13, 3, 5307, \"Thursday 23:00\"]], \"hovertemplate\": \"<b>%{customdata[4]}</b><br><br>Number of collisions with only injured: %{customdata[0]}<br>Number of collisions with only killed: %{customdata[1]}<br>Number of collisions with both killed and injured: %{customdata[2]}<br>Total number of collisions: %{customdata[3]}<br><br>Probability of a collision being serious: %{y}%\", \"legendgroup\": \"Thursday\", \"marker\": {\"color\": \"#ab63fa\"}, \"name\": \"Thursday\", \"offsetgroup\": \"Thursday\", \"orientation\": \"v\", \"showlegend\": true, \"textposition\": \"auto\", \"type\": \"bar\", \"x\": [72, 73, 74, 75, 76, 77, 78, 79, 80, 81, 82, 83, 84, 85, 86, 87, 88, 89, 90, 91, 92, 93, 94, 95], \"xaxis\": \"x\", \"y\": [22.190812720848058, 22.16148023549201, 23.142857142857142, 22.551928783382788, 25.581395348837212, 22.32024702249669, 22.62971452385914, 21.393171806167402, 18.315892970011937, 15.781622911694509, 15.865014950875695, 15.922543548114323, 17.39946162003426, 18.22528807713412, 18.311013938234492, 20.405336443828826, 18.44408827518185, 20.14472312503833, 21.397756686798964, 22.75240813414199, 23.781549173194083, 24.528301886792452, 23.229795377594584, 25.438100621820237], \"yaxis\": \"y\"}, {\"alignmentgroup\": \"True\", \"customdata\": [[1393, 8, 0, 6507, \"Friday 00:00\"], [680, 5, 0, 3052, \"Friday 01:00\"], [456, 2, 1, 2211, \"Friday 02:00\"], [406, 8, 0, 1747, \"Friday 03:00\"], [480, 8, 4, 1983, \"Friday 04:00\"], [604, 5, 0, 2508, \"Friday 05:00\"], [1069, 4, 1, 4986, \"Friday 06:00\"], [1519, 7, 2, 7209, \"Friday 07:00\"], [2510, 7, 0, 13753, \"Friday 08:00\"], [2153, 5, 2, 13126, \"Friday 09:00\"], [1759, 11, 2, 11546, \"Friday 10:00\"], [2034, 8, 4, 11997, \"Friday 11:00\"], [2130, 11, 1, 12753, \"Friday 12:00\"], [2353, 5, 1, 13338, \"Friday 13:00\"], [2973, 10, 3, 15938, \"Friday 14:00\"], [2939, 8, 5, 15030, \"Friday 15:00\"], [3203, 5, 2, 17240, \"Friday 16:00\"], [3402, 10, 4, 17130, \"Friday 17:00\"], [3244, 12, 3, 14818, \"Friday 18:00\"], [2711, 12, 2, 12122, \"Friday 19:00\"], [2291, 9, 3, 10102, \"Friday 20:00\"], [1871, 15, 2, 8314, \"Friday 21:00\"], [1856, 9, 1, 7842, \"Friday 22:00\"], [1688, 8, 3, 6853, \"Friday 23:00\"]], \"hovertemplate\": \"<b>%{customdata[4]}</b><br><br>Number of collisions with only injured: %{customdata[0]}<br>Number of collisions with only killed: %{customdata[1]}<br>Number of collisions with both killed and injured: %{customdata[2]}<br>Total number of collisions: %{customdata[3]}<br><br>Probability of a collision being serious: %{y}%\", \"legendgroup\": \"Friday\", \"marker\": {\"color\": \"#FFA15A\"}, \"name\": \"Friday\", \"offsetgroup\": \"Friday\", \"orientation\": \"v\", \"showlegend\": true, \"textposition\": \"auto\", \"type\": \"bar\", \"x\": [96, 97, 98, 99, 100, 101, 102, 103, 104, 105, 106, 107, 108, 109, 110, 111, 112, 113, 114, 115, 116, 117, 118, 119], \"xaxis\": \"x\", \"y\": [21.53065928999539, 22.44429882044561, 20.759837177747624, 23.69776760160275, 24.81089258698941, 24.2822966507177, 21.540312876052948, 21.195727562768763, 18.30146149930924, 16.455889075118087, 15.347306426468041, 17.05426356589147, 16.79604798870854, 17.68630979157295, 18.735098506713516, 19.64071856287425, 18.619489559164734, 19.941622883829538, 21.993521392900526, 22.479788813727108, 22.797465848346864, 22.708684147221554, 23.794950267788828, 24.792061870713557], \"yaxis\": \"y\"}, {\"alignmentgroup\": \"True\", \"customdata\": [[1766, 14, 2, 8117, \"Saturday 00:00\"], [1135, 1, 4, 5143, \"Saturday 01:00\"], [1031, 10, 6, 4267, \"Saturday 02:00\"], [952, 7, 5, 3846, \"Saturday 03:00\"], [1056, 12, 9, 4309, \"Saturday 04:00\"], [833, 6, 4, 3548, \"Saturday 05:00\"], [757, 3, 1, 3330, \"Saturday 06:00\"], [698, 1, 3, 3366, \"Saturday 07:00\"], [1053, 2, 2, 5972, \"Saturday 08:00\"], [1272, 7, 0, 7197, \"Saturday 09:00\"], [1363, 7, 2, 8352, \"Saturday 10:00\"], [1703, 5, 2, 9766, \"Saturday 11:00\"], [1948, 3, 2, 10825, \"Saturday 12:00\"], [2138, 7, 2, 11831, \"Saturday 13:00\"], [2334, 8, 1, 13038, \"Saturday 14:00\"], [2316, 5, 4, 11296, \"Saturday 15:00\"], [2517, 9, 6, 13286, \"Saturday 16:00\"], [2462, 16, 7, 12167, \"Saturday 17:00\"], [2425, 11, 4, 11283, \"Saturday 18:00\"], [2286, 7, 4, 9988, \"Saturday 19:00\"], [2146, 7, 4, 9119, \"Saturday 20:00\"], [1982, 15, 2, 8260, \"Saturday 21:00\"], [1887, 12, 4, 8041, \"Saturday 22:00\"], [1782, 10, 6, 7257, \"Saturday 23:00\"]], \"hovertemplate\": \"<b>%{customdata[4]}</b><br><br>Number of collisions with only injured: %{customdata[0]}<br>Number of collisions with only killed: %{customdata[1]}<br>Number of collisions with both killed and injured: %{customdata[2]}<br>Total number of collisions: %{customdata[3]}<br><br>Probability of a collision being serious: %{y}%\", \"legendgroup\": \"Saturday\", \"marker\": {\"color\": \"#19d3f3\"}, \"name\": \"Saturday\", \"offsetgroup\": \"Saturday\", \"orientation\": \"v\", \"showlegend\": true, \"textposition\": \"auto\", \"type\": \"bar\", \"x\": [120, 121, 122, 123, 124, 125, 126, 127, 128, 129, 130, 131, 132, 133, 134, 135, 136, 137, 138, 139, 140, 141, 142, 143], \"xaxis\": \"x\", \"y\": [21.953923863496367, 22.16605094302936, 24.53714553550504, 25.065002600104002, 24.994198189835227, 23.75986471251409, 22.852852852852852, 20.855614973262032, 17.699263228399197, 17.771293594553285, 16.4272030651341, 17.509727626459142, 18.041570438799077, 18.147240300904404, 17.970547630004603, 20.582507082152972, 19.05765467409303, 20.424097969918634, 21.625454223167598, 22.997597116539847, 23.653909419892532, 24.200968523002423, 23.666210670314637, 24.77607826925727], \"yaxis\": \"y\"}, {\"alignmentgroup\": \"True\", \"customdata\": [[1826, 11, 4, 8118, \"Sunday 00:00\"], [1247, 10, 4, 5650, \"Sunday 01:00\"], [1121, 10, 6, 4594, \"Sunday 02:00\"], [1105, 11, 4, 4373, \"Sunday 03:00\"], [1264, 15, 10, 4920, \"Sunday 04:00\"], [971, 12, 7, 3951, \"Sunday 05:00\"], [682, 4, 4, 3000, \"Sunday 06:00\"], [612, 6, 1, 2659, \"Sunday 07:00\"], [794, 5, 1, 4374, \"Sunday 08:00\"], [899, 2, 2, 5157, \"Sunday 09:00\"], [1126, 5, 0, 6623, \"Sunday 10:00\"], [1422, 3, 0, 8044, \"Sunday 11:00\"], [1595, 3, 6, 9098, \"Sunday 12:00\"], [1857, 11, 2, 10310, \"Sunday 13:00\"], [2129, 2, 4, 11904, \"Sunday 14:00\"], [2153, 8, 1, 10487, \"Sunday 15:00\"], [2284, 8, 4, 11851, \"Sunday 16:00\"], [2236, 8, 3, 10753, \"Sunday 17:00\"], [2276, 7, 2, 9992, \"Sunday 18:00\"], [2080, 8, 2, 8783, \"Sunday 19:00\"], [1941, 11, 5, 7808, \"Sunday 20:00\"], [1723, 10, 1, 6818, \"Sunday 21:00\"], [1584, 13, 6, 6357, \"Sunday 22:00\"], [1217, 5, 3, 4962, \"Sunday 23:00\"]], \"hovertemplate\": \"<b>%{customdata[4]}</b><br><br>Number of collisions with only injured: %{customdata[0]}<br>Number of collisions with only killed: %{customdata[1]}<br>Number of collisions with both killed and injured: %{customdata[2]}<br>Total number of collisions: %{customdata[3]}<br><br>Probability of a collision being serious: %{y}%\", \"legendgroup\": \"Sunday\", \"marker\": {\"color\": \"#FF6692\"}, \"name\": \"Sunday\", \"offsetgroup\": \"Sunday\", \"orientation\": \"v\", \"showlegend\": true, \"textposition\": \"auto\", \"type\": \"bar\", \"x\": [144, 145, 146, 147, 148, 149, 150, 151, 152, 153, 154, 155, 156, 157, 158, 159, 160, 161, 162, 163, 164, 165, 166, 167], \"xaxis\": \"x\", \"y\": [22.6779995072678, 22.31858407079646, 24.74967348715716, 25.61170820946719, 26.199186991869915, 25.05694760820046, 23.0, 23.27942835652501, 18.289894833104707, 17.51018033740547, 17.07685338970255, 17.715067130780707, 17.63024840624313, 18.13773035887488, 17.935147849462364, 20.616000762849243, 19.373892498523333, 20.89649400167395, 22.868294635708565, 23.795969486508024, 25.064036885245898, 25.43267820475213, 25.216296995438096, 24.68762595727529], \"yaxis\": \"y\"}],                        {\"barmode\": \"relative\", \"height\": 500, \"legend\": {\"title\": {\"text\": \"weekday\"}, \"tracegroupgap\": 0}, \"template\": {\"data\": {\"bar\": [{\"error_x\": {\"color\": \"#2a3f5f\"}, \"error_y\": {\"color\": \"#2a3f5f\"}, \"marker\": {\"line\": {\"color\": \"#E5ECF6\", \"width\": 0.5}}, \"type\": \"bar\"}], \"barpolar\": [{\"marker\": {\"line\": {\"color\": \"#E5ECF6\", \"width\": 0.5}}, \"type\": \"barpolar\"}], \"carpet\": [{\"aaxis\": {\"endlinecolor\": \"#2a3f5f\", \"gridcolor\": \"white\", \"linecolor\": \"white\", \"minorgridcolor\": \"white\", \"startlinecolor\": \"#2a3f5f\"}, \"baxis\": {\"endlinecolor\": \"#2a3f5f\", \"gridcolor\": \"white\", \"linecolor\": \"white\", \"minorgridcolor\": \"white\", \"startlinecolor\": \"#2a3f5f\"}, \"type\": \"carpet\"}], \"choropleth\": [{\"colorbar\": {\"outlinewidth\": 0, \"ticks\": \"\"}, \"type\": \"choropleth\"}], \"contour\": [{\"colorbar\": {\"outlinewidth\": 0, \"ticks\": \"\"}, \"colorscale\": [[0.0, \"#0d0887\"], [0.1111111111111111, \"#46039f\"], [0.2222222222222222, \"#7201a8\"], [0.3333333333333333, \"#9c179e\"], [0.4444444444444444, \"#bd3786\"], [0.5555555555555556, \"#d8576b\"], [0.6666666666666666, \"#ed7953\"], [0.7777777777777778, \"#fb9f3a\"], [0.8888888888888888, \"#fdca26\"], [1.0, \"#f0f921\"]], \"type\": \"contour\"}], \"contourcarpet\": [{\"colorbar\": {\"outlinewidth\": 0, \"ticks\": \"\"}, \"type\": \"contourcarpet\"}], \"heatmap\": [{\"colorbar\": {\"outlinewidth\": 0, \"ticks\": \"\"}, \"colorscale\": [[0.0, \"#0d0887\"], [0.1111111111111111, \"#46039f\"], [0.2222222222222222, \"#7201a8\"], [0.3333333333333333, \"#9c179e\"], [0.4444444444444444, \"#bd3786\"], [0.5555555555555556, \"#d8576b\"], [0.6666666666666666, \"#ed7953\"], [0.7777777777777778, \"#fb9f3a\"], [0.8888888888888888, \"#fdca26\"], [1.0, \"#f0f921\"]], \"type\": \"heatmap\"}], \"heatmapgl\": [{\"colorbar\": {\"outlinewidth\": 0, \"ticks\": \"\"}, \"colorscale\": [[0.0, \"#0d0887\"], [0.1111111111111111, \"#46039f\"], [0.2222222222222222, \"#7201a8\"], [0.3333333333333333, \"#9c179e\"], [0.4444444444444444, \"#bd3786\"], [0.5555555555555556, \"#d8576b\"], [0.6666666666666666, \"#ed7953\"], [0.7777777777777778, \"#fb9f3a\"], [0.8888888888888888, \"#fdca26\"], [1.0, \"#f0f921\"]], \"type\": \"heatmapgl\"}], \"histogram\": [{\"marker\": {\"colorbar\": {\"outlinewidth\": 0, \"ticks\": \"\"}}, \"type\": \"histogram\"}], \"histogram2d\": [{\"colorbar\": {\"outlinewidth\": 0, \"ticks\": \"\"}, \"colorscale\": [[0.0, \"#0d0887\"], [0.1111111111111111, \"#46039f\"], [0.2222222222222222, \"#7201a8\"], [0.3333333333333333, \"#9c179e\"], [0.4444444444444444, \"#bd3786\"], [0.5555555555555556, \"#d8576b\"], [0.6666666666666666, \"#ed7953\"], [0.7777777777777778, \"#fb9f3a\"], [0.8888888888888888, \"#fdca26\"], [1.0, \"#f0f921\"]], \"type\": \"histogram2d\"}], \"histogram2dcontour\": [{\"colorbar\": {\"outlinewidth\": 0, \"ticks\": \"\"}, \"colorscale\": [[0.0, \"#0d0887\"], [0.1111111111111111, \"#46039f\"], [0.2222222222222222, \"#7201a8\"], [0.3333333333333333, \"#9c179e\"], [0.4444444444444444, \"#bd3786\"], [0.5555555555555556, \"#d8576b\"], [0.6666666666666666, \"#ed7953\"], [0.7777777777777778, \"#fb9f3a\"], [0.8888888888888888, \"#fdca26\"], [1.0, \"#f0f921\"]], \"type\": \"histogram2dcontour\"}], \"mesh3d\": [{\"colorbar\": {\"outlinewidth\": 0, \"ticks\": \"\"}, \"type\": \"mesh3d\"}], \"parcoords\": [{\"line\": {\"colorbar\": {\"outlinewidth\": 0, \"ticks\": \"\"}}, \"type\": \"parcoords\"}], \"pie\": [{\"automargin\": true, \"type\": \"pie\"}], \"scatter\": [{\"marker\": {\"colorbar\": {\"outlinewidth\": 0, \"ticks\": \"\"}}, \"type\": \"scatter\"}], \"scatter3d\": [{\"line\": {\"colorbar\": {\"outlinewidth\": 0, \"ticks\": \"\"}}, \"marker\": {\"colorbar\": {\"outlinewidth\": 0, \"ticks\": \"\"}}, \"type\": \"scatter3d\"}], \"scattercarpet\": [{\"marker\": {\"colorbar\": {\"outlinewidth\": 0, \"ticks\": \"\"}}, \"type\": \"scattercarpet\"}], \"scattergeo\": [{\"marker\": {\"colorbar\": {\"outlinewidth\": 0, \"ticks\": \"\"}}, \"type\": \"scattergeo\"}], \"scattergl\": [{\"marker\": {\"colorbar\": {\"outlinewidth\": 0, \"ticks\": \"\"}}, \"type\": \"scattergl\"}], \"scattermapbox\": [{\"marker\": {\"colorbar\": {\"outlinewidth\": 0, \"ticks\": \"\"}}, \"type\": \"scattermapbox\"}], \"scatterpolar\": [{\"marker\": {\"colorbar\": {\"outlinewidth\": 0, \"ticks\": \"\"}}, \"type\": \"scatterpolar\"}], \"scatterpolargl\": [{\"marker\": {\"colorbar\": {\"outlinewidth\": 0, \"ticks\": \"\"}}, \"type\": \"scatterpolargl\"}], \"scatterternary\": [{\"marker\": {\"colorbar\": {\"outlinewidth\": 0, \"ticks\": \"\"}}, \"type\": \"scatterternary\"}], \"surface\": [{\"colorbar\": {\"outlinewidth\": 0, \"ticks\": \"\"}, \"colorscale\": [[0.0, \"#0d0887\"], [0.1111111111111111, \"#46039f\"], [0.2222222222222222, \"#7201a8\"], [0.3333333333333333, \"#9c179e\"], [0.4444444444444444, \"#bd3786\"], [0.5555555555555556, \"#d8576b\"], [0.6666666666666666, \"#ed7953\"], [0.7777777777777778, \"#fb9f3a\"], [0.8888888888888888, \"#fdca26\"], [1.0, \"#f0f921\"]], \"type\": \"surface\"}], \"table\": [{\"cells\": {\"fill\": {\"color\": \"#EBF0F8\"}, \"line\": {\"color\": \"white\"}}, \"header\": {\"fill\": {\"color\": \"#C8D4E3\"}, \"line\": {\"color\": \"white\"}}, \"type\": \"table\"}]}, \"layout\": {\"annotationdefaults\": {\"arrowcolor\": \"#2a3f5f\", \"arrowhead\": 0, \"arrowwidth\": 1}, \"autotypenumbers\": \"strict\", \"coloraxis\": {\"colorbar\": {\"outlinewidth\": 0, \"ticks\": \"\"}}, \"colorscale\": {\"diverging\": [[0, \"#8e0152\"], [0.1, \"#c51b7d\"], [0.2, \"#de77ae\"], [0.3, \"#f1b6da\"], [0.4, \"#fde0ef\"], [0.5, \"#f7f7f7\"], [0.6, \"#e6f5d0\"], [0.7, \"#b8e186\"], [0.8, \"#7fbc41\"], [0.9, \"#4d9221\"], [1, \"#276419\"]], \"sequential\": [[0.0, \"#0d0887\"], [0.1111111111111111, \"#46039f\"], [0.2222222222222222, \"#7201a8\"], [0.3333333333333333, \"#9c179e\"], [0.4444444444444444, \"#bd3786\"], [0.5555555555555556, \"#d8576b\"], [0.6666666666666666, \"#ed7953\"], [0.7777777777777778, \"#fb9f3a\"], [0.8888888888888888, \"#fdca26\"], [1.0, \"#f0f921\"]], \"sequentialminus\": [[0.0, \"#0d0887\"], [0.1111111111111111, \"#46039f\"], [0.2222222222222222, \"#7201a8\"], [0.3333333333333333, \"#9c179e\"], [0.4444444444444444, \"#bd3786\"], [0.5555555555555556, \"#d8576b\"], [0.6666666666666666, \"#ed7953\"], [0.7777777777777778, \"#fb9f3a\"], [0.8888888888888888, \"#fdca26\"], [1.0, \"#f0f921\"]]}, \"colorway\": [\"#636efa\", \"#EF553B\", \"#00cc96\", \"#ab63fa\", \"#FFA15A\", \"#19d3f3\", \"#FF6692\", \"#B6E880\", \"#FF97FF\", \"#FECB52\"], \"font\": {\"color\": \"#2a3f5f\"}, \"geo\": {\"bgcolor\": \"white\", \"lakecolor\": \"white\", \"landcolor\": \"#E5ECF6\", \"showlakes\": true, \"showland\": true, \"subunitcolor\": \"white\"}, \"hoverlabel\": {\"align\": \"left\"}, \"hovermode\": \"closest\", \"mapbox\": {\"style\": \"light\"}, \"paper_bgcolor\": \"white\", \"plot_bgcolor\": \"#E5ECF6\", \"polar\": {\"angularaxis\": {\"gridcolor\": \"white\", \"linecolor\": \"white\", \"ticks\": \"\"}, \"bgcolor\": \"#E5ECF6\", \"radialaxis\": {\"gridcolor\": \"white\", \"linecolor\": \"white\", \"ticks\": \"\"}}, \"scene\": {\"xaxis\": {\"backgroundcolor\": \"#E5ECF6\", \"gridcolor\": \"white\", \"gridwidth\": 2, \"linecolor\": \"white\", \"showbackground\": true, \"ticks\": \"\", \"zerolinecolor\": \"white\"}, \"yaxis\": {\"backgroundcolor\": \"#E5ECF6\", \"gridcolor\": \"white\", \"gridwidth\": 2, \"linecolor\": \"white\", \"showbackground\": true, \"ticks\": \"\", \"zerolinecolor\": \"white\"}, \"zaxis\": {\"backgroundcolor\": \"#E5ECF6\", \"gridcolor\": \"white\", \"gridwidth\": 2, \"linecolor\": \"white\", \"showbackground\": true, \"ticks\": \"\", \"zerolinecolor\": \"white\"}}, \"shapedefaults\": {\"line\": {\"color\": \"#2a3f5f\"}}, \"ternary\": {\"aaxis\": {\"gridcolor\": \"white\", \"linecolor\": \"white\", \"ticks\": \"\"}, \"baxis\": {\"gridcolor\": \"white\", \"linecolor\": \"white\", \"ticks\": \"\"}, \"bgcolor\": \"#E5ECF6\", \"caxis\": {\"gridcolor\": \"white\", \"linecolor\": \"white\", \"ticks\": \"\"}}, \"title\": {\"x\": 0.05}, \"xaxis\": {\"automargin\": true, \"gridcolor\": \"white\", \"linecolor\": \"white\", \"ticks\": \"\", \"title\": {\"standoff\": 15}, \"zerolinecolor\": \"white\", \"zerolinewidth\": 2}, \"yaxis\": {\"automargin\": true, \"gridcolor\": \"white\", \"linecolor\": \"white\", \"ticks\": \"\", \"title\": {\"standoff\": 15}, \"zerolinecolor\": \"white\", \"zerolinewidth\": 2}}}, \"title\": {\"text\": \"Probability of a collision being either deadly or serious across the week.\"}, \"width\": 1500, \"xaxis\": {\"anchor\": \"y\", \"domain\": [0.0, 1.0], \"title\": {\"text\": \"Hour of week\"}}, \"yaxis\": {\"anchor\": \"x\", \"domain\": [0.0, 1.0], \"range\": [0, 29.0], \"title\": {\"text\": \"Probability of being injured or killed in a collision\"}}},                        {\"responsive\": true}                    ).then(function(){\n",
       "                            \n",
       "var gd = document.getElementById('4b364789-107a-48b7-b10b-9835450f2f52');\n",
       "var x = new MutationObserver(function (mutations, observer) {{\n",
       "        var display = window.getComputedStyle(gd).display;\n",
       "        if (!display || display === 'none') {{\n",
       "            console.log([gd, 'removed!']);\n",
       "            Plotly.purge(gd);\n",
       "            observer.disconnect();\n",
       "        }}\n",
       "}});\n",
       "\n",
       "// Listen for the removal of the full notebook cells\n",
       "var notebookContainer = gd.closest('#notebook-container');\n",
       "if (notebookContainer) {{\n",
       "    x.observe(notebookContainer, {childList: true});\n",
       "}}\n",
       "\n",
       "// Listen for the clearing of the current output cell\n",
       "var outputEl = gd.closest('.output');\n",
       "if (outputEl) {{\n",
       "    x.observe(outputEl, {childList: true});\n",
       "}}\n",
       "\n",
       "                        })                };                });            </script>        </div>"
      ]
     },
     "metadata": {},
     "output_type": "display_data"
    }
   ],
   "source": [
    "df['AnyInjured'] = (df['NUMBER OF PERSONS INJURED'] > 0).astype(int)\n",
    "df['AnyKilled']  = (df['NUMBER OF PERSONS KILLED'] > 0).astype(int)\n",
    "\n",
    "df_plot1 = pd.DataFrame({'hour_of_week'          : np.arange(0,24*7),\n",
    "                         'only_injured'  : df.loc[(df['AnyInjured'] == 1)&(df['AnyKilled'] == 0)].groupby([df['TIME'].dt.hour, df['TIME'].dt.weekday]).size().unstack().fillna(0).values.reshape(-1,order='F').astype(int),\n",
    "                         'only_killed'   : df.loc[(df['AnyInjured'] == 0)&(df['AnyKilled'] == 1)].groupby([df['TIME'].dt.hour, df['TIME'].dt.weekday]).size().unstack().fillna(0).values.reshape(-1,order='F').astype(int),\n",
    "                         'both'          : df.loc[(df['AnyInjured'] == 1)&(df['AnyKilled'] == 1)].groupby([df['TIME'].dt.hour, df['TIME'].dt.weekday]).size().unstack().fillna(0).values.reshape(-1,order='F').astype(int),\n",
    "                         'either'        : df.loc[(df['AnyInjured'] == 1)|(df['AnyKilled'] == 1)].groupby([df['TIME'].dt.hour, df['TIME'].dt.weekday]).size().unstack().fillna(0).values.reshape(-1,order='F').astype(int),\n",
    "                         'total_count'   : df.groupby([df['TIME'].dt.hour, df['TIME'].dt.weekday]).size().unstack().values.reshape(-1,order='F'),\n",
    "                         'weekday'       : np.repeat(list(calendar.day_name),24)})\n",
    "\n",
    "df_plot1['probability'] = (df_plot1['either']/df_plot1['total_count'])*100\n",
    "df_plot1['weekday_and_time'] = df_plot1['weekday'] + ' ' + [str(x).zfill(2)+':00' for x in np.arange(0,24)]*7\n",
    "\n",
    "fig = px.bar(df_plot1,x='hour_of_week', y='probability',\n",
    "             custom_data=['only_injured', 'only_killed', 'both', 'total_count', 'weekday_and_time'],\n",
    "             labels = {'hour_of_week' : 'Hour of week', 'probability' : 'Probability of being injured or killed in a collision'},\n",
    "             color='weekday',\n",
    "             title='Probability of a collision being either deadly or serious across the week.',\n",
    "             height=500, width=1500)\n",
    "\n",
    "\n",
    "fig.update_traces(\n",
    "    hovertemplate=\"<br>\".join([\n",
    "        \"<b>%{customdata[4]}</b>\",\n",
    "        \"\",\n",
    "        \"Number of collisions with only injured: %{customdata[0]}\",\n",
    "        \"Number of collisions with only killed: %{customdata[1]}\",\n",
    "        \"Number of collisions with both killed and injured: %{customdata[2]}\",\n",
    "        \"Total number of collisions: %{customdata[3]}\",\n",
    "        \"\",\n",
    "        \"Probability of a collision being serious: %{y}%\",\n",
    "    ])\n",
    ")\n",
    "\n",
    "fig.update_layout(yaxis_range=[0,np.ceil(df_plot1['probability'].max())+2])\n",
    "fig.show()"
   ]
  },
  {
   "cell_type": "code",
   "execution_count": 4,
   "metadata": {},
   "outputs": [],
   "source": [
    "import numpy as np\n",
    "factors = df[[f'CONTRIBUTING FACTOR VEHICLE {i}' for i in range(1,6)]].values.reshape(-1,)\n",
    "factors = np.unique(factors[~pd.isna(factors)])"
   ]
  },
  {
   "cell_type": "code",
   "execution_count": 5,
   "metadata": {},
   "outputs": [
    {
     "name": "stdout",
     "output_type": "stream",
     "text": [
      "1 : 0.14285714285714285\n",
      "80 : 0.136986301369863\n",
      "Accelerator Defective : 0.288135593220339\n",
      "Aggressive Driving/Road Rage : 0.28818710359408034\n",
      "Alcohol Involvement : 0.29566896309623064\n",
      "Animals Action : 0.2886610878661088\n",
      "Backing Unsafely : 0.14462648048297155\n",
      "Brakes Defective : 0.15287437899219306\n",
      "Cell Phone (hand-Held) : 0.15359022311138174\n",
      "Cell Phone (hand-held) : 0.1536564431841639\n",
      "Cell Phone (hands-free) : 0.15373943203988727\n",
      "Driver Inattention/Distraction : 0.2005224172523881\n",
      "Driver Inexperience : 0.1993662044145988\n",
      "Driverless/Runaway Vehicle : 0.19925698925756116\n",
      "Drugs (Illegal) : 0.1993575869269654\n"
     ]
    },
    {
     "ename": "KeyboardInterrupt",
     "evalue": "",
     "output_type": "error",
     "traceback": [
      "\u001b[0;31m---------------------------------------------------------------------------\u001b[0m",
      "\u001b[0;31mKeyboardInterrupt\u001b[0m                         Traceback (most recent call last)",
      "\u001b[0;32m<ipython-input-5-74a525b49419>\u001b[0m in \u001b[0;36m<module>\u001b[0;34m\u001b[0m\n\u001b[1;32m      3\u001b[0m \u001b[0;32mfor\u001b[0m \u001b[0mfactor\u001b[0m \u001b[0;32min\u001b[0m \u001b[0mfactors\u001b[0m\u001b[0;34m:\u001b[0m\u001b[0;34m\u001b[0m\u001b[0;34m\u001b[0m\u001b[0m\n\u001b[1;32m      4\u001b[0m     \u001b[0;32mfor\u001b[0m \u001b[0mi\u001b[0m \u001b[0;32min\u001b[0m \u001b[0mrange\u001b[0m\u001b[0;34m(\u001b[0m\u001b[0mlen\u001b[0m\u001b[0;34m(\u001b[0m\u001b[0mdf\u001b[0m\u001b[0;34m)\u001b[0m\u001b[0;34m)\u001b[0m\u001b[0;34m:\u001b[0m\u001b[0;34m\u001b[0m\u001b[0;34m\u001b[0m\u001b[0m\n\u001b[0;32m----> 5\u001b[0;31m         \u001b[0;32mif\u001b[0m \u001b[0mfactor\u001b[0m \u001b[0;32min\u001b[0m \u001b[0mcontributing_factors\u001b[0m\u001b[0;34m[\u001b[0m\u001b[0mi\u001b[0m\u001b[0;34m,\u001b[0m\u001b[0;34m:\u001b[0m\u001b[0;34m]\u001b[0m\u001b[0;34m:\u001b[0m\u001b[0;34m\u001b[0m\u001b[0;34m\u001b[0m\u001b[0m\n\u001b[0m\u001b[1;32m      6\u001b[0m             \u001b[0mmask\u001b[0m\u001b[0;34m[\u001b[0m\u001b[0mi\u001b[0m\u001b[0;34m]\u001b[0m \u001b[0;34m=\u001b[0m \u001b[0;36m1\u001b[0m\u001b[0;34m\u001b[0m\u001b[0;34m\u001b[0m\u001b[0m\n\u001b[1;32m      7\u001b[0m \u001b[0;34m\u001b[0m\u001b[0m\n",
      "\u001b[0;31mKeyboardInterrupt\u001b[0m: "
     ]
    }
   ],
   "source": [
    "mask = np.zeros(len(df))\n",
    "contributing_factors = df[[f'CONTRIBUTING FACTOR VEHICLE {i}' for i in range(1,6)]].values\n",
    "for factor in factors:\n",
    "    for i in range(len(df)):\n",
    "        if factor in contributing_factors[i,:]:\n",
    "            mask[i] = 1\n",
    "            \n",
    "    df_subset = df.iloc[mask.astype(bool),:]\n",
    "    \n",
    "    p = len(df_subset.loc[(df_subset['NUMBER OF PERSONS KILLED'] + df_subset['NUMBER OF PERSONS INJURED']) > 0]) / len(df_subset)\n",
    "    print(f'{factor} : {p}')"
   ]
  },
  {
   "cell_type": "markdown",
   "metadata": {},
   "source": [
    "## Cleaning up the data"
   ]
  },
  {
   "cell_type": "code",
   "execution_count": 6,
   "metadata": {},
   "outputs": [
    {
     "name": "stderr",
     "output_type": "stream",
     "text": [
      "/Users/Marie/opt/anaconda3/lib/python3.7/site-packages/ipykernel_launcher.py:2: SettingWithCopyWarning:\n",
      "\n",
      "\n",
      "A value is trying to be set on a copy of a slice from a DataFrame.\n",
      "Try using .loc[row_indexer,col_indexer] = value instead\n",
      "\n",
      "See the caveats in the documentation: http://pandas.pydata.org/pandas-docs/stable/user_guide/indexing.html#returning-a-view-versus-a-copy\n",
      "\n"
     ]
    }
   ],
   "source": [
    "df_serious = df.loc[(df['NUMBER OF PERSONS KILLED'] + df['NUMBER OF PERSONS INJURED']) > 0]\n",
    "df_serious['TIME'] = pd.to_datetime(df_serious['CRASH DATE'] + ' ' + df_serious['CRASH TIME']) #Takes approximately 1 minute.\n",
    "\n",
    "#Discard 2012 and 2021.\n",
    "df_serious = df_serious.loc[~((df_serious['TIME'].dt.year == 2012) | (df_serious['TIME'].dt.year == 2021))]\n",
    "\n",
    "\n",
    "#Drop rows with NA in BOROUGH, ZIP CODE, LATITUDE or LONGITUDE.\n",
    "#col = ['BOROUGH', 'ZIP CODE', 'LATITUDE', 'LONGITUDE']\n",
    "#for c in col:\n",
    "#    df_serious = df_serious.loc[~pd.isna(df_serious[c])]\n",
    "#    \n",
    "#Drop rows where LAT, LON == 0.000\n",
    "#df_serious = df_serious.loc[~(df_serious['LATITUDE'] == 0)]\n",
    "#df_serious = df_serious.loc[~(df_serious['LONGITUDE'] == 0)]"
   ]
  },
  {
   "cell_type": "markdown",
   "metadata": {},
   "source": [
    "Print the first observations."
   ]
  },
  {
   "cell_type": "code",
   "execution_count": 8,
   "metadata": {},
   "outputs": [
    {
     "data": {
      "text/html": [
       "<div>\n",
       "<style scoped>\n",
       "    .dataframe tbody tr th:only-of-type {\n",
       "        vertical-align: middle;\n",
       "    }\n",
       "\n",
       "    .dataframe tbody tr th {\n",
       "        vertical-align: top;\n",
       "    }\n",
       "\n",
       "    .dataframe thead th {\n",
       "        text-align: right;\n",
       "    }\n",
       "</style>\n",
       "<table border=\"1\" class=\"dataframe\">\n",
       "  <thead>\n",
       "    <tr style=\"text-align: right;\">\n",
       "      <th></th>\n",
       "      <th>Unnamed: 0</th>\n",
       "      <th>CRASH DATE</th>\n",
       "      <th>CRASH TIME</th>\n",
       "      <th>BOROUGH</th>\n",
       "      <th>ZIP CODE</th>\n",
       "      <th>LATITUDE</th>\n",
       "      <th>LONGITUDE</th>\n",
       "      <th>LOCATION</th>\n",
       "      <th>ON STREET NAME</th>\n",
       "      <th>CROSS STREET NAME</th>\n",
       "      <th>OFF STREET NAME</th>\n",
       "      <th>NUMBER OF PERSONS INJURED</th>\n",
       "      <th>NUMBER OF PERSONS KILLED</th>\n",
       "      <th>NUMBER OF PEDESTRIANS INJURED</th>\n",
       "      <th>NUMBER OF PEDESTRIANS KILLED</th>\n",
       "      <th>NUMBER OF CYCLIST INJURED</th>\n",
       "      <th>NUMBER OF CYCLIST KILLED</th>\n",
       "      <th>NUMBER OF MOTORIST INJURED</th>\n",
       "      <th>NUMBER OF MOTORIST KILLED</th>\n",
       "      <th>CONTRIBUTING FACTOR VEHICLE 1</th>\n",
       "      <th>CONTRIBUTING FACTOR VEHICLE 2</th>\n",
       "      <th>CONTRIBUTING FACTOR VEHICLE 3</th>\n",
       "      <th>CONTRIBUTING FACTOR VEHICLE 4</th>\n",
       "      <th>CONTRIBUTING FACTOR VEHICLE 5</th>\n",
       "      <th>COLLISION_ID</th>\n",
       "      <th>VEHICLE TYPE CODE 1</th>\n",
       "      <th>VEHICLE TYPE CODE 2</th>\n",
       "      <th>VEHICLE TYPE CODE 3</th>\n",
       "      <th>VEHICLE TYPE CODE 4</th>\n",
       "      <th>VEHICLE TYPE CODE 5</th>\n",
       "      <th>CONTRIBUTING FACTORS (SPECIFIC)</th>\n",
       "      <th>CONTRIBUTING FACTORS (GENERAL)</th>\n",
       "      <th>VEHICLE TYPES</th>\n",
       "      <th>TIME</th>\n",
       "      <th>AnyInjured</th>\n",
       "      <th>AnyKilled</th>\n",
       "    </tr>\n",
       "  </thead>\n",
       "  <tbody>\n",
       "    <tr>\n",
       "      <td>64</td>\n",
       "      <td>243</td>\n",
       "      <td>12/05/2020</td>\n",
       "      <td>13:45</td>\n",
       "      <td>BROOKLYN</td>\n",
       "      <td>11234</td>\n",
       "      <td>40.651863</td>\n",
       "      <td>-73.865360</td>\n",
       "      <td>(40.651863, -73.86536)</td>\n",
       "      <td>BELT PARKWAY</td>\n",
       "      <td>NaN</td>\n",
       "      <td>NaN</td>\n",
       "      <td>1.0</td>\n",
       "      <td>0.0</td>\n",
       "      <td>0</td>\n",
       "      <td>0</td>\n",
       "      <td>0</td>\n",
       "      <td>0</td>\n",
       "      <td>1</td>\n",
       "      <td>0</td>\n",
       "      <td>Following Too Closely</td>\n",
       "      <td>Unspecified</td>\n",
       "      <td>Unspecified</td>\n",
       "      <td>NaN</td>\n",
       "      <td>NaN</td>\n",
       "      <td>4373337</td>\n",
       "      <td>Sedan</td>\n",
       "      <td>Station Wagon/Sport Utility Vehicle</td>\n",
       "      <td>Sedan</td>\n",
       "      <td>NaN</td>\n",
       "      <td>NaN</td>\n",
       "      <td>Following Too Closely</td>\n",
       "      <td>Poor Driving</td>\n",
       "      <td>Car, Car, Car</td>\n",
       "      <td>2020-12-05 13:45:00</td>\n",
       "      <td>1</td>\n",
       "      <td>0</td>\n",
       "    </tr>\n",
       "    <tr>\n",
       "      <td>69</td>\n",
       "      <td>262</td>\n",
       "      <td>11/24/2020</td>\n",
       "      <td>8:40</td>\n",
       "      <td>BROOKLYN</td>\n",
       "      <td>11201</td>\n",
       "      <td>40.688572</td>\n",
       "      <td>-73.991104</td>\n",
       "      <td>(40.688572, -73.991104)</td>\n",
       "      <td>PACIFIC STREET</td>\n",
       "      <td>NaN</td>\n",
       "      <td>NaN</td>\n",
       "      <td>1.0</td>\n",
       "      <td>0.0</td>\n",
       "      <td>1</td>\n",
       "      <td>0</td>\n",
       "      <td>0</td>\n",
       "      <td>0</td>\n",
       "      <td>0</td>\n",
       "      <td>0</td>\n",
       "      <td>NaN</td>\n",
       "      <td>NaN</td>\n",
       "      <td>NaN</td>\n",
       "      <td>NaN</td>\n",
       "      <td>NaN</td>\n",
       "      <td>4370719</td>\n",
       "      <td>NaN</td>\n",
       "      <td>NaN</td>\n",
       "      <td>NaN</td>\n",
       "      <td>NaN</td>\n",
       "      <td>NaN</td>\n",
       "      <td>NaN</td>\n",
       "      <td>NaN</td>\n",
       "      <td>NaN</td>\n",
       "      <td>2020-11-24 08:40:00</td>\n",
       "      <td>1</td>\n",
       "      <td>0</td>\n",
       "    </tr>\n",
       "    <tr>\n",
       "      <td>72</td>\n",
       "      <td>266</td>\n",
       "      <td>11/21/2020</td>\n",
       "      <td>17:00</td>\n",
       "      <td>BROOKLYN</td>\n",
       "      <td>11235</td>\n",
       "      <td>40.575726</td>\n",
       "      <td>-73.961150</td>\n",
       "      <td>(40.575726, -73.96115)</td>\n",
       "      <td>NaN</td>\n",
       "      <td>NaN</td>\n",
       "      <td>3152      BRIGHTON 6 STREET</td>\n",
       "      <td>1.0</td>\n",
       "      <td>0.0</td>\n",
       "      <td>1</td>\n",
       "      <td>0</td>\n",
       "      <td>0</td>\n",
       "      <td>0</td>\n",
       "      <td>0</td>\n",
       "      <td>0</td>\n",
       "      <td>NaN</td>\n",
       "      <td>NaN</td>\n",
       "      <td>NaN</td>\n",
       "      <td>NaN</td>\n",
       "      <td>NaN</td>\n",
       "      <td>4369527</td>\n",
       "      <td>NaN</td>\n",
       "      <td>NaN</td>\n",
       "      <td>NaN</td>\n",
       "      <td>NaN</td>\n",
       "      <td>NaN</td>\n",
       "      <td>NaN</td>\n",
       "      <td>NaN</td>\n",
       "      <td>NaN</td>\n",
       "      <td>2020-11-21 17:00:00</td>\n",
       "      <td>1</td>\n",
       "      <td>0</td>\n",
       "    </tr>\n",
       "    <tr>\n",
       "      <td>73</td>\n",
       "      <td>269</td>\n",
       "      <td>11/20/2020</td>\n",
       "      <td>12:40</td>\n",
       "      <td>BROOKLYN</td>\n",
       "      <td>11211</td>\n",
       "      <td>40.715400</td>\n",
       "      <td>-73.926930</td>\n",
       "      <td>(40.7154, -73.92693)</td>\n",
       "      <td>GARDNER AVENUE</td>\n",
       "      <td>GRAND STREET</td>\n",
       "      <td>NaN</td>\n",
       "      <td>1.0</td>\n",
       "      <td>0.0</td>\n",
       "      <td>0</td>\n",
       "      <td>0</td>\n",
       "      <td>0</td>\n",
       "      <td>0</td>\n",
       "      <td>1</td>\n",
       "      <td>0</td>\n",
       "      <td>Pavement Defective</td>\n",
       "      <td>NaN</td>\n",
       "      <td>NaN</td>\n",
       "      <td>NaN</td>\n",
       "      <td>NaN</td>\n",
       "      <td>4369463</td>\n",
       "      <td>Motorcycle</td>\n",
       "      <td>NaN</td>\n",
       "      <td>NaN</td>\n",
       "      <td>NaN</td>\n",
       "      <td>NaN</td>\n",
       "      <td>Pavement Defective</td>\n",
       "      <td>Physical Surroundings</td>\n",
       "      <td>Motorcycle</td>\n",
       "      <td>2020-11-20 12:40:00</td>\n",
       "      <td>1</td>\n",
       "      <td>0</td>\n",
       "    </tr>\n",
       "    <tr>\n",
       "      <td>75</td>\n",
       "      <td>279</td>\n",
       "      <td>11/18/2020</td>\n",
       "      <td>13:50</td>\n",
       "      <td>QUEENS</td>\n",
       "      <td>11373</td>\n",
       "      <td>40.737490</td>\n",
       "      <td>-73.877280</td>\n",
       "      <td>(40.73749, -73.87728)</td>\n",
       "      <td>NaN</td>\n",
       "      <td>NaN</td>\n",
       "      <td>86-34     BROADWAY</td>\n",
       "      <td>1.0</td>\n",
       "      <td>0.0</td>\n",
       "      <td>1</td>\n",
       "      <td>0</td>\n",
       "      <td>0</td>\n",
       "      <td>0</td>\n",
       "      <td>0</td>\n",
       "      <td>0</td>\n",
       "      <td>Unspecified</td>\n",
       "      <td>NaN</td>\n",
       "      <td>NaN</td>\n",
       "      <td>NaN</td>\n",
       "      <td>NaN</td>\n",
       "      <td>4368838</td>\n",
       "      <td>Station Wagon/Sport Utility Vehicle</td>\n",
       "      <td>NaN</td>\n",
       "      <td>NaN</td>\n",
       "      <td>NaN</td>\n",
       "      <td>NaN</td>\n",
       "      <td>NaN</td>\n",
       "      <td>NaN</td>\n",
       "      <td>Car</td>\n",
       "      <td>2020-11-18 13:50:00</td>\n",
       "      <td>1</td>\n",
       "      <td>0</td>\n",
       "    </tr>\n",
       "  </tbody>\n",
       "</table>\n",
       "</div>"
      ],
      "text/plain": [
       "    Unnamed: 0  CRASH DATE CRASH TIME   BOROUGH  ZIP CODE   LATITUDE  \\\n",
       "64         243  12/05/2020      13:45  BROOKLYN     11234  40.651863   \n",
       "69         262  11/24/2020       8:40  BROOKLYN     11201  40.688572   \n",
       "72         266  11/21/2020      17:00  BROOKLYN     11235  40.575726   \n",
       "73         269  11/20/2020      12:40  BROOKLYN     11211  40.715400   \n",
       "75         279  11/18/2020      13:50    QUEENS     11373  40.737490   \n",
       "\n",
       "    LONGITUDE                 LOCATION                    ON STREET NAME  \\\n",
       "64 -73.865360   (40.651863, -73.86536)  BELT PARKWAY                       \n",
       "69 -73.991104  (40.688572, -73.991104)  PACIFIC STREET                     \n",
       "72 -73.961150   (40.575726, -73.96115)                               NaN   \n",
       "73 -73.926930     (40.7154, -73.92693)  GARDNER AVENUE                     \n",
       "75 -73.877280    (40.73749, -73.87728)                               NaN   \n",
       "\n",
       "   CROSS STREET NAME                           OFF STREET NAME  \\\n",
       "64               NaN                                       NaN   \n",
       "69               NaN                                       NaN   \n",
       "72               NaN  3152      BRIGHTON 6 STREET                \n",
       "73      GRAND STREET                                       NaN   \n",
       "75               NaN  86-34     BROADWAY                         \n",
       "\n",
       "    NUMBER OF PERSONS INJURED  NUMBER OF PERSONS KILLED  \\\n",
       "64                        1.0                       0.0   \n",
       "69                        1.0                       0.0   \n",
       "72                        1.0                       0.0   \n",
       "73                        1.0                       0.0   \n",
       "75                        1.0                       0.0   \n",
       "\n",
       "    NUMBER OF PEDESTRIANS INJURED  NUMBER OF PEDESTRIANS KILLED  \\\n",
       "64                              0                             0   \n",
       "69                              1                             0   \n",
       "72                              1                             0   \n",
       "73                              0                             0   \n",
       "75                              1                             0   \n",
       "\n",
       "    NUMBER OF CYCLIST INJURED  NUMBER OF CYCLIST KILLED  \\\n",
       "64                          0                         0   \n",
       "69                          0                         0   \n",
       "72                          0                         0   \n",
       "73                          0                         0   \n",
       "75                          0                         0   \n",
       "\n",
       "    NUMBER OF MOTORIST INJURED  NUMBER OF MOTORIST KILLED  \\\n",
       "64                           1                          0   \n",
       "69                           0                          0   \n",
       "72                           0                          0   \n",
       "73                           1                          0   \n",
       "75                           0                          0   \n",
       "\n",
       "   CONTRIBUTING FACTOR VEHICLE 1 CONTRIBUTING FACTOR VEHICLE 2  \\\n",
       "64         Following Too Closely                   Unspecified   \n",
       "69                           NaN                           NaN   \n",
       "72                           NaN                           NaN   \n",
       "73            Pavement Defective                           NaN   \n",
       "75                   Unspecified                           NaN   \n",
       "\n",
       "   CONTRIBUTING FACTOR VEHICLE 3 CONTRIBUTING FACTOR VEHICLE 4  \\\n",
       "64                   Unspecified                           NaN   \n",
       "69                           NaN                           NaN   \n",
       "72                           NaN                           NaN   \n",
       "73                           NaN                           NaN   \n",
       "75                           NaN                           NaN   \n",
       "\n",
       "   CONTRIBUTING FACTOR VEHICLE 5  COLLISION_ID  \\\n",
       "64                           NaN       4373337   \n",
       "69                           NaN       4370719   \n",
       "72                           NaN       4369527   \n",
       "73                           NaN       4369463   \n",
       "75                           NaN       4368838   \n",
       "\n",
       "                    VEHICLE TYPE CODE 1                  VEHICLE TYPE CODE 2  \\\n",
       "64                                Sedan  Station Wagon/Sport Utility Vehicle   \n",
       "69                                  NaN                                  NaN   \n",
       "72                                  NaN                                  NaN   \n",
       "73                           Motorcycle                                  NaN   \n",
       "75  Station Wagon/Sport Utility Vehicle                                  NaN   \n",
       "\n",
       "   VEHICLE TYPE CODE 3 VEHICLE TYPE CODE 4 VEHICLE TYPE CODE 5  \\\n",
       "64               Sedan                 NaN                 NaN   \n",
       "69                 NaN                 NaN                 NaN   \n",
       "72                 NaN                 NaN                 NaN   \n",
       "73                 NaN                 NaN                 NaN   \n",
       "75                 NaN                 NaN                 NaN   \n",
       "\n",
       "   CONTRIBUTING FACTORS (SPECIFIC) CONTRIBUTING FACTORS (GENERAL)  \\\n",
       "64           Following Too Closely                   Poor Driving   \n",
       "69                             NaN                            NaN   \n",
       "72                             NaN                            NaN   \n",
       "73              Pavement Defective          Physical Surroundings   \n",
       "75                             NaN                            NaN   \n",
       "\n",
       "    VEHICLE TYPES                TIME  AnyInjured  AnyKilled  \n",
       "64  Car, Car, Car 2020-12-05 13:45:00           1          0  \n",
       "69            NaN 2020-11-24 08:40:00           1          0  \n",
       "72            NaN 2020-11-21 17:00:00           1          0  \n",
       "73     Motorcycle 2020-11-20 12:40:00           1          0  \n",
       "75            Car 2020-11-18 13:50:00           1          0  "
      ]
     },
     "execution_count": 8,
     "metadata": {},
     "output_type": "execute_result"
    }
   ],
   "source": [
    "pd.set_option('display.max_columns', None)\n",
    "df_serious.head()"
   ]
  },
  {
   "cell_type": "code",
   "execution_count": null,
   "metadata": {},
   "outputs": [],
   "source": [
    "# Make dataframe only where contributing factor is drunk driving\n",
    "df_serious_alco =  df_serious[(df_serious['CONTRIBUTING FACTOR VEHICLE 1'] == \"Alcohol Involvement\")]\n",
    "#df_alco =  df[(df['CONTRIBUTING FACTOR VEHICLE 1'] == \"Alcohol Involvement\")]"
   ]
  },
  {
   "cell_type": "code",
   "execution_count": 130,
   "metadata": {},
   "outputs": [],
   "source": [
    "df_alco = df.loc[df[[f'CONTRIBUTING FACTOR VEHICLE {i}' for i in range(1,6)]].astype(str).apply(lambda x : 'Alcohol Involvement' in list(x), axis=1)]"
   ]
  },
  {
   "cell_type": "code",
   "execution_count": 119,
   "metadata": {},
   "outputs": [
    {
     "name": "stderr",
     "output_type": "stream",
     "text": [
      "/Users/Marie/opt/anaconda3/lib/python3.7/site-packages/ipykernel_launcher.py:1: SettingWithCopyWarning:\n",
      "\n",
      "\n",
      "A value is trying to be set on a copy of a slice from a DataFrame.\n",
      "Try using .loc[row_indexer,col_indexer] = value instead\n",
      "\n",
      "See the caveats in the documentation: http://pandas.pydata.org/pandas-docs/stable/user_guide/indexing.html#returning-a-view-versus-a-copy\n",
      "\n",
      "/Users/Marie/opt/anaconda3/lib/python3.7/site-packages/ipykernel_launcher.py:2: SettingWithCopyWarning:\n",
      "\n",
      "\n",
      "A value is trying to be set on a copy of a slice from a DataFrame.\n",
      "Try using .loc[row_indexer,col_indexer] = value instead\n",
      "\n",
      "See the caveats in the documentation: http://pandas.pydata.org/pandas-docs/stable/user_guide/indexing.html#returning-a-view-versus-a-copy\n",
      "\n",
      "/Users/Marie/opt/anaconda3/lib/python3.7/site-packages/ipykernel_launcher.py:4: SettingWithCopyWarning:\n",
      "\n",
      "\n",
      "A value is trying to be set on a copy of a slice from a DataFrame.\n",
      "Try using .loc[row_indexer,col_indexer] = value instead\n",
      "\n",
      "See the caveats in the documentation: http://pandas.pydata.org/pandas-docs/stable/user_guide/indexing.html#returning-a-view-versus-a-copy\n",
      "\n",
      "/Users/Marie/opt/anaconda3/lib/python3.7/site-packages/ipykernel_launcher.py:5: SettingWithCopyWarning:\n",
      "\n",
      "\n",
      "A value is trying to be set on a copy of a slice from a DataFrame.\n",
      "Try using .loc[row_indexer,col_indexer] = value instead\n",
      "\n",
      "See the caveats in the documentation: http://pandas.pydata.org/pandas-docs/stable/user_guide/indexing.html#returning-a-view-versus-a-copy\n",
      "\n"
     ]
    }
   ],
   "source": [
    "df_serious_alco['YEAR'] = df_serious_alco['TIME'].dt.year\n",
    "df_serious_alco['MONTH'] = df_serious_alco['TIME'].dt.month\n",
    "\n",
    "df_alco['YEAR'] = df_alco['TIME'].dt.year\n",
    "df_alco['MONTH'] = df_alco['TIME'].dt.month"
   ]
  },
  {
   "cell_type": "markdown",
   "metadata": {},
   "source": [
    "## How has the number of collisions with alcohol involment changed?"
   ]
  },
  {
   "cell_type": "markdown",
   "metadata": {},
   "source": [
    "All you need to do is subtract your current year earnings by last year's earnings, then divide by last year's earnings. Then, you multiply the resulting figure by 100, which provides you with a percentage figure."
   ]
  },
  {
   "cell_type": "code",
   "execution_count": 49,
   "metadata": {},
   "outputs": [
    {
     "data": {
      "text/plain": [
       "YEAR\n",
       "2013     566.0\n",
       "2014     616.0\n",
       "2015     618.0\n",
       "2016     989.0\n",
       "2017    1199.0\n",
       "2018     989.0\n",
       "2019     966.0\n",
       "2020     724.0\n",
       "Name: NUMBER OF PERSONS INJURED, dtype: float64"
      ]
     },
     "execution_count": 49,
     "metadata": {},
     "output_type": "execute_result"
    }
   ],
   "source": [
    "df_serious_alco.groupby('YEAR')['NUMBER OF PERSONS INJURED'].sum()"
   ]
  },
  {
   "cell_type": "code",
   "execution_count": 51,
   "metadata": {},
   "outputs": [
    {
     "data": {
      "image/png": "[encoded data removed]",
      "text/plain": [
       "<Figure size 432x288 with 1 Axes>"
      ]
     },
     "metadata": {
      "needs_background": "light"
     },
     "output_type": "display_data"
    }
   ],
   "source": [
    "import matplotlib.pyplot as plt\n",
    "plt.plot(df_serious_alco.groupby('YEAR')['NUMBER OF PERSONS INJURED'].sum())\n",
    "plt.title(\"Number of colisions where alhocol was the leading contributing factor \")\n",
    "plt.ylabel(\"Number of colisions\")\n",
    "plt.show()"
   ]
  },
  {
   "cell_type": "code",
   "execution_count": 127,
   "metadata": {
    "scrolled": true
   },
   "outputs": [
    {
     "data": {
      "text/html": [
       "<div>\n",
       "<style scoped>\n",
       "    .dataframe tbody tr th:only-of-type {\n",
       "        vertical-align: middle;\n",
       "    }\n",
       "\n",
       "    .dataframe tbody tr th {\n",
       "        vertical-align: top;\n",
       "    }\n",
       "\n",
       "    .dataframe thead th {\n",
       "        text-align: right;\n",
       "    }\n",
       "</style>\n",
       "<table border=\"1\" class=\"dataframe\">\n",
       "  <thead>\n",
       "    <tr style=\"text-align: right;\">\n",
       "      <th></th>\n",
       "      <th></th>\n",
       "      <th>NUMBER OF PERSONS INJURED</th>\n",
       "    </tr>\n",
       "    <tr>\n",
       "      <th>YEAR</th>\n",
       "      <th>MONTH</th>\n",
       "      <th></th>\n",
       "    </tr>\n",
       "  </thead>\n",
       "  <tbody>\n",
       "    <tr>\n",
       "      <td rowspan=\"5\" valign=\"top\">2013</td>\n",
       "      <td>1</td>\n",
       "      <td>45</td>\n",
       "    </tr>\n",
       "    <tr>\n",
       "      <td>2</td>\n",
       "      <td>36</td>\n",
       "    </tr>\n",
       "    <tr>\n",
       "      <td>3</td>\n",
       "      <td>32</td>\n",
       "    </tr>\n",
       "    <tr>\n",
       "      <td>4</td>\n",
       "      <td>52</td>\n",
       "    </tr>\n",
       "    <tr>\n",
       "      <td>5</td>\n",
       "      <td>58</td>\n",
       "    </tr>\n",
       "    <tr>\n",
       "      <td>...</td>\n",
       "      <td>...</td>\n",
       "      <td>...</td>\n",
       "    </tr>\n",
       "    <tr>\n",
       "      <td rowspan=\"5\" valign=\"top\">2020</td>\n",
       "      <td>8</td>\n",
       "      <td>51</td>\n",
       "    </tr>\n",
       "    <tr>\n",
       "      <td>9</td>\n",
       "      <td>89</td>\n",
       "    </tr>\n",
       "    <tr>\n",
       "      <td>10</td>\n",
       "      <td>79</td>\n",
       "    </tr>\n",
       "    <tr>\n",
       "      <td>11</td>\n",
       "      <td>43</td>\n",
       "    </tr>\n",
       "    <tr>\n",
       "      <td>12</td>\n",
       "      <td>52</td>\n",
       "    </tr>\n",
       "  </tbody>\n",
       "</table>\n",
       "<p>96 rows × 1 columns</p>\n",
       "</div>"
      ],
      "text/plain": [
       "            NUMBER OF PERSONS INJURED\n",
       "YEAR MONTH                           \n",
       "2013 1                             45\n",
       "     2                             36\n",
       "     3                             32\n",
       "     4                             52\n",
       "     5                             58\n",
       "...                               ...\n",
       "2020 8                             51\n",
       "     9                             89\n",
       "     10                            79\n",
       "     11                            43\n",
       "     12                            52\n",
       "\n",
       "[96 rows x 1 columns]"
      ]
     },
     "execution_count": 127,
     "metadata": {},
     "output_type": "execute_result"
    }
   ],
   "source": [
    "pd.pivot_table(df_alco,index=['YEAR','MONTH'],values = ['NUMBER OF PERSONS INJURED'], aggfunc=np.sum).astype(int)"
   ]
  },
  {
   "cell_type": "code",
   "execution_count": null,
   "metadata": {},
   "outputs": [],
   "source": []
  },
  {
   "cell_type": "markdown",
   "metadata": {},
   "source": [
    "## Where is the highest probabilty of being injured or die"
   ]
  },
  {
   "cell_type": "code",
   "execution_count": null,
   "metadata": {},
   "outputs": [],
   "source": [
    "import plotly.express as px\n",
    "from urllib.request import urlopen\n",
    "import json\n",
    "with urlopen('https://raw.githubusercontent.com/fedhere/PUI2015_EC/master/mam1612_EC/nyc-zip-code-tabulation-areas-polygons.geojson') as response:\n",
    "    counties = json.load(response)"
   ]
  },
  {
   "cell_type": "code",
   "execution_count": 112,
   "metadata": {},
   "outputs": [
    {
     "data": {
      "text/html": [
       "<div>\n",
       "<style scoped>\n",
       "    .dataframe tbody tr th:only-of-type {\n",
       "        vertical-align: middle;\n",
       "    }\n",
       "\n",
       "    .dataframe tbody tr th {\n",
       "        vertical-align: top;\n",
       "    }\n",
       "\n",
       "    .dataframe thead th {\n",
       "        text-align: right;\n",
       "    }\n",
       "</style>\n",
       "<table border=\"1\" class=\"dataframe\">\n",
       "  <thead>\n",
       "    <tr style=\"text-align: right;\">\n",
       "      <th></th>\n",
       "      <th>Borough</th>\n",
       "      <th>ZIP CODE</th>\n",
       "    </tr>\n",
       "  </thead>\n",
       "  <tbody>\n",
       "    <tr>\n",
       "      <td>0</td>\n",
       "      <td>Queens</td>\n",
       "      <td>11372</td>\n",
       "    </tr>\n",
       "    <tr>\n",
       "      <td>1</td>\n",
       "      <td>Queens</td>\n",
       "      <td>11004</td>\n",
       "    </tr>\n",
       "    <tr>\n",
       "      <td>2</td>\n",
       "      <td>Queens</td>\n",
       "      <td>11040</td>\n",
       "    </tr>\n",
       "    <tr>\n",
       "      <td>3</td>\n",
       "      <td>Queens</td>\n",
       "      <td>11426</td>\n",
       "    </tr>\n",
       "    <tr>\n",
       "      <td>4</td>\n",
       "      <td>Queens</td>\n",
       "      <td>11365</td>\n",
       "    </tr>\n",
       "    <tr>\n",
       "      <td>...</td>\n",
       "      <td>...</td>\n",
       "      <td>...</td>\n",
       "    </tr>\n",
       "    <tr>\n",
       "      <td>257</td>\n",
       "      <td>Manhattan</td>\n",
       "      <td>10065</td>\n",
       "    </tr>\n",
       "    <tr>\n",
       "      <td>258</td>\n",
       "      <td>Manhattan</td>\n",
       "      <td>10075</td>\n",
       "    </tr>\n",
       "    <tr>\n",
       "      <td>259</td>\n",
       "      <td>Manhattan</td>\n",
       "      <td>10069</td>\n",
       "    </tr>\n",
       "    <tr>\n",
       "      <td>260</td>\n",
       "      <td>Manhattan</td>\n",
       "      <td>10281</td>\n",
       "    </tr>\n",
       "    <tr>\n",
       "      <td>261</td>\n",
       "      <td>Manhattan</td>\n",
       "      <td>10282</td>\n",
       "    </tr>\n",
       "  </tbody>\n",
       "</table>\n",
       "<p>262 rows × 2 columns</p>\n",
       "</div>"
      ],
      "text/plain": [
       "       Borough  ZIP CODE\n",
       "0       Queens     11372\n",
       "1       Queens     11004\n",
       "2       Queens     11040\n",
       "3       Queens     11426\n",
       "4       Queens     11365\n",
       "..         ...       ...\n",
       "257  Manhattan     10065\n",
       "258  Manhattan     10075\n",
       "259  Manhattan     10069\n",
       "260  Manhattan     10281\n",
       "261  Manhattan     10282\n",
       "\n",
       "[262 rows x 2 columns]"
      ]
     },
     "execution_count": 112,
     "metadata": {},
     "output_type": "execute_result"
    }
   ],
   "source": [
    "zip_and_borough = []\n",
    "for feature in counties['features']:\n",
    "    zip_and_borough.append([feature['properties']['borough'], feature['properties']['postalCode']])\n",
    "    \n",
    "zip_and_borough = pd.DataFrame(zip_and_borough, columns=['Borough', 'ZIP CODE'])\n",
    "zip_and_borough['ZIP CODE'] = zip_and_borough['ZIP CODE'].astype(int)\n",
    "zip_and_borough"
   ]
  },
  {
   "cell_type": "code",
   "execution_count": 113,
   "metadata": {},
   "outputs": [
    {
     "data": {
      "text/html": [
       "<div>\n",
       "<style scoped>\n",
       "    .dataframe tbody tr th:only-of-type {\n",
       "        vertical-align: middle;\n",
       "    }\n",
       "\n",
       "    .dataframe tbody tr th {\n",
       "        vertical-align: top;\n",
       "    }\n",
       "\n",
       "    .dataframe thead th {\n",
       "        text-align: right;\n",
       "    }\n",
       "</style>\n",
       "<table border=\"1\" class=\"dataframe\">\n",
       "  <thead>\n",
       "    <tr style=\"text-align: right;\">\n",
       "      <th></th>\n",
       "      <th>ZIP CODE</th>\n",
       "      <th>TOTAL COUNT</th>\n",
       "    </tr>\n",
       "  </thead>\n",
       "  <tbody>\n",
       "    <tr>\n",
       "      <td>0</td>\n",
       "      <td>10001</td>\n",
       "      <td>72</td>\n",
       "    </tr>\n",
       "    <tr>\n",
       "      <td>1</td>\n",
       "      <td>10002</td>\n",
       "      <td>145</td>\n",
       "    </tr>\n",
       "    <tr>\n",
       "      <td>2</td>\n",
       "      <td>10003</td>\n",
       "      <td>45</td>\n",
       "    </tr>\n",
       "    <tr>\n",
       "      <td>3</td>\n",
       "      <td>10004</td>\n",
       "      <td>19</td>\n",
       "    </tr>\n",
       "    <tr>\n",
       "      <td>4</td>\n",
       "      <td>10005</td>\n",
       "      <td>3</td>\n",
       "    </tr>\n",
       "    <tr>\n",
       "      <td>...</td>\n",
       "      <td>...</td>\n",
       "      <td>...</td>\n",
       "    </tr>\n",
       "    <tr>\n",
       "      <td>177</td>\n",
       "      <td>11691</td>\n",
       "      <td>80</td>\n",
       "    </tr>\n",
       "    <tr>\n",
       "      <td>178</td>\n",
       "      <td>11692</td>\n",
       "      <td>17</td>\n",
       "    </tr>\n",
       "    <tr>\n",
       "      <td>179</td>\n",
       "      <td>11693</td>\n",
       "      <td>30</td>\n",
       "    </tr>\n",
       "    <tr>\n",
       "      <td>180</td>\n",
       "      <td>11694</td>\n",
       "      <td>40</td>\n",
       "    </tr>\n",
       "    <tr>\n",
       "      <td>181</td>\n",
       "      <td>11697</td>\n",
       "      <td>6</td>\n",
       "    </tr>\n",
       "  </tbody>\n",
       "</table>\n",
       "<p>182 rows × 2 columns</p>\n",
       "</div>"
      ],
      "text/plain": [
       "     ZIP CODE  TOTAL COUNT\n",
       "0       10001           72\n",
       "1       10002          145\n",
       "2       10003           45\n",
       "3       10004           19\n",
       "4       10005            3\n",
       "..        ...          ...\n",
       "177     11691           80\n",
       "178     11692           17\n",
       "179     11693           30\n",
       "180     11694           40\n",
       "181     11697            6\n",
       "\n",
       "[182 rows x 2 columns]"
      ]
     },
     "execution_count": 113,
     "metadata": {},
     "output_type": "execute_result"
    }
   ],
   "source": [
    "df_temp1 = pd.DataFrame(df_alco.loc[(df_alco['ZIP CODE']) != 0].groupby('ZIP CODE').size().reset_index()); df_temp1.columns = ['ZIP CODE', 'TOTAL COUNT']\n",
    "df_temp1['ZIP CODE'] = df_temp1['ZIP CODE'].astype(int)\n",
    "df_temp1"
   ]
  },
  {
   "cell_type": "code",
   "execution_count": 114,
   "metadata": {},
   "outputs": [
    {
     "data": {
      "text/html": [
       "<div>\n",
       "<style scoped>\n",
       "    .dataframe tbody tr th:only-of-type {\n",
       "        vertical-align: middle;\n",
       "    }\n",
       "\n",
       "    .dataframe tbody tr th {\n",
       "        vertical-align: top;\n",
       "    }\n",
       "\n",
       "    .dataframe thead th {\n",
       "        text-align: right;\n",
       "    }\n",
       "</style>\n",
       "<table border=\"1\" class=\"dataframe\">\n",
       "  <thead>\n",
       "    <tr style=\"text-align: right;\">\n",
       "      <th></th>\n",
       "      <th>ZIP CODE</th>\n",
       "      <th>SERIOUS COUNT</th>\n",
       "    </tr>\n",
       "  </thead>\n",
       "  <tbody>\n",
       "    <tr>\n",
       "      <td>0</td>\n",
       "      <td>10001</td>\n",
       "      <td>12</td>\n",
       "    </tr>\n",
       "    <tr>\n",
       "      <td>1</td>\n",
       "      <td>10002</td>\n",
       "      <td>48</td>\n",
       "    </tr>\n",
       "    <tr>\n",
       "      <td>2</td>\n",
       "      <td>10003</td>\n",
       "      <td>10</td>\n",
       "    </tr>\n",
       "    <tr>\n",
       "      <td>3</td>\n",
       "      <td>10004</td>\n",
       "      <td>3</td>\n",
       "    </tr>\n",
       "    <tr>\n",
       "      <td>4</td>\n",
       "      <td>10007</td>\n",
       "      <td>7</td>\n",
       "    </tr>\n",
       "    <tr>\n",
       "      <td>...</td>\n",
       "      <td>...</td>\n",
       "      <td>...</td>\n",
       "    </tr>\n",
       "    <tr>\n",
       "      <td>173</td>\n",
       "      <td>11436</td>\n",
       "      <td>11</td>\n",
       "    </tr>\n",
       "    <tr>\n",
       "      <td>174</td>\n",
       "      <td>11691</td>\n",
       "      <td>18</td>\n",
       "    </tr>\n",
       "    <tr>\n",
       "      <td>175</td>\n",
       "      <td>11692</td>\n",
       "      <td>4</td>\n",
       "    </tr>\n",
       "    <tr>\n",
       "      <td>176</td>\n",
       "      <td>11693</td>\n",
       "      <td>13</td>\n",
       "    </tr>\n",
       "    <tr>\n",
       "      <td>177</td>\n",
       "      <td>11694</td>\n",
       "      <td>10</td>\n",
       "    </tr>\n",
       "  </tbody>\n",
       "</table>\n",
       "<p>178 rows × 2 columns</p>\n",
       "</div>"
      ],
      "text/plain": [
       "     ZIP CODE  SERIOUS COUNT\n",
       "0       10001             12\n",
       "1       10002             48\n",
       "2       10003             10\n",
       "3       10004              3\n",
       "4       10007              7\n",
       "..        ...            ...\n",
       "173     11436             11\n",
       "174     11691             18\n",
       "175     11692              4\n",
       "176     11693             13\n",
       "177     11694             10\n",
       "\n",
       "[178 rows x 2 columns]"
      ]
     },
     "execution_count": 114,
     "metadata": {},
     "output_type": "execute_result"
    }
   ],
   "source": [
    "df_temp2 = pd.DataFrame(df_alco.loc[(df_alco['ZIP CODE']) != 0].loc[(df_alco['AnyInjured']|df_alco['AnyKilled']).astype(bool)].groupby('ZIP CODE').size().reset_index()); df_temp2.columns = ['ZIP CODE', 'SERIOUS COUNT']\n",
    "df_temp2['ZIP CODE'] = df_temp2['ZIP CODE'].astype(int)\n",
    "df_temp2"
   ]
  },
  {
   "cell_type": "code",
   "execution_count": 115,
   "metadata": {},
   "outputs": [
    {
     "data": {
      "text/html": [
       "<div>\n",
       "<style scoped>\n",
       "    .dataframe tbody tr th:only-of-type {\n",
       "        vertical-align: middle;\n",
       "    }\n",
       "\n",
       "    .dataframe tbody tr th {\n",
       "        vertical-align: top;\n",
       "    }\n",
       "\n",
       "    .dataframe thead th {\n",
       "        text-align: right;\n",
       "    }\n",
       "</style>\n",
       "<table border=\"1\" class=\"dataframe\">\n",
       "  <thead>\n",
       "    <tr style=\"text-align: right;\">\n",
       "      <th></th>\n",
       "      <th>Borough</th>\n",
       "      <th>ZIP CODE</th>\n",
       "      <th>TOTAL COUNT</th>\n",
       "      <th>SERIOUS COUNT</th>\n",
       "    </tr>\n",
       "  </thead>\n",
       "  <tbody>\n",
       "    <tr>\n",
       "      <td>0</td>\n",
       "      <td>Queens</td>\n",
       "      <td>11372</td>\n",
       "      <td>190.0</td>\n",
       "      <td>46.0</td>\n",
       "    </tr>\n",
       "    <tr>\n",
       "      <td>1</td>\n",
       "      <td>Queens</td>\n",
       "      <td>11004</td>\n",
       "      <td>31.0</td>\n",
       "      <td>11.0</td>\n",
       "    </tr>\n",
       "    <tr>\n",
       "      <td>2</td>\n",
       "      <td>Queens</td>\n",
       "      <td>11040</td>\n",
       "      <td>2.0</td>\n",
       "      <td>1.0</td>\n",
       "    </tr>\n",
       "    <tr>\n",
       "      <td>3</td>\n",
       "      <td>Queens</td>\n",
       "      <td>11426</td>\n",
       "      <td>29.0</td>\n",
       "      <td>6.0</td>\n",
       "    </tr>\n",
       "    <tr>\n",
       "      <td>4</td>\n",
       "      <td>Queens</td>\n",
       "      <td>11365</td>\n",
       "      <td>49.0</td>\n",
       "      <td>12.0</td>\n",
       "    </tr>\n",
       "    <tr>\n",
       "      <td>...</td>\n",
       "      <td>...</td>\n",
       "      <td>...</td>\n",
       "      <td>...</td>\n",
       "      <td>...</td>\n",
       "    </tr>\n",
       "    <tr>\n",
       "      <td>257</td>\n",
       "      <td>Manhattan</td>\n",
       "      <td>10065</td>\n",
       "      <td>50.0</td>\n",
       "      <td>11.0</td>\n",
       "    </tr>\n",
       "    <tr>\n",
       "      <td>258</td>\n",
       "      <td>Manhattan</td>\n",
       "      <td>10075</td>\n",
       "      <td>18.0</td>\n",
       "      <td>4.0</td>\n",
       "    </tr>\n",
       "    <tr>\n",
       "      <td>259</td>\n",
       "      <td>Manhattan</td>\n",
       "      <td>10069</td>\n",
       "      <td>2.0</td>\n",
       "      <td>1.0</td>\n",
       "    </tr>\n",
       "    <tr>\n",
       "      <td>260</td>\n",
       "      <td>Manhattan</td>\n",
       "      <td>10281</td>\n",
       "      <td>NaN</td>\n",
       "      <td>NaN</td>\n",
       "    </tr>\n",
       "    <tr>\n",
       "      <td>261</td>\n",
       "      <td>Manhattan</td>\n",
       "      <td>10282</td>\n",
       "      <td>NaN</td>\n",
       "      <td>NaN</td>\n",
       "    </tr>\n",
       "  </tbody>\n",
       "</table>\n",
       "<p>262 rows × 4 columns</p>\n",
       "</div>"
      ],
      "text/plain": [
       "       Borough  ZIP CODE  TOTAL COUNT  SERIOUS COUNT\n",
       "0       Queens     11372        190.0           46.0\n",
       "1       Queens     11004         31.0           11.0\n",
       "2       Queens     11040          2.0            1.0\n",
       "3       Queens     11426         29.0            6.0\n",
       "4       Queens     11365         49.0           12.0\n",
       "..         ...       ...          ...            ...\n",
       "257  Manhattan     10065         50.0           11.0\n",
       "258  Manhattan     10075         18.0            4.0\n",
       "259  Manhattan     10069          2.0            1.0\n",
       "260  Manhattan     10281          NaN            NaN\n",
       "261  Manhattan     10282          NaN            NaN\n",
       "\n",
       "[262 rows x 4 columns]"
      ]
     },
     "execution_count": 115,
     "metadata": {},
     "output_type": "execute_result"
    }
   ],
   "source": [
    "df_temp3 = pd.merge(pd.merge(zip_and_borough, df_temp1, how='left', on='ZIP CODE'), df_temp2, how='left', on='ZIP CODE')\n",
    "df_temp3"
   ]
  },
  {
   "cell_type": "code",
   "execution_count": 116,
   "metadata": {},
   "outputs": [],
   "source": [
    "df_temp3['SERIOUS COUNT'] = df_temp3['SERIOUS COUNT'].fillna(0).astype(int)\n",
    "df_temp3['p'] = (df_temp3['SERIOUS COUNT']/df_temp3['TOTAL COUNT'])*100"
   ]
  },
  {
   "cell_type": "code",
   "execution_count": 117,
   "metadata": {},
   "outputs": [
    {
     "data": {
      "text/html": [
       "<div>\n",
       "<style scoped>\n",
       "    .dataframe tbody tr th:only-of-type {\n",
       "        vertical-align: middle;\n",
       "    }\n",
       "\n",
       "    .dataframe tbody tr th {\n",
       "        vertical-align: top;\n",
       "    }\n",
       "\n",
       "    .dataframe thead th {\n",
       "        text-align: right;\n",
       "    }\n",
       "</style>\n",
       "<table border=\"1\" class=\"dataframe\">\n",
       "  <thead>\n",
       "    <tr style=\"text-align: right;\">\n",
       "      <th></th>\n",
       "      <th>ZIP</th>\n",
       "      <th>Serious count</th>\n",
       "      <th>Total count</th>\n",
       "      <th>p</th>\n",
       "      <th>p_short</th>\n",
       "    </tr>\n",
       "  </thead>\n",
       "  <tbody>\n",
       "    <tr>\n",
       "      <td>0</td>\n",
       "      <td>11372</td>\n",
       "      <td>46</td>\n",
       "      <td>190</td>\n",
       "      <td>24</td>\n",
       "      <td>24</td>\n",
       "    </tr>\n",
       "    <tr>\n",
       "      <td>1</td>\n",
       "      <td>11004</td>\n",
       "      <td>11</td>\n",
       "      <td>31</td>\n",
       "      <td>35</td>\n",
       "      <td>35</td>\n",
       "    </tr>\n",
       "    <tr>\n",
       "      <td>2</td>\n",
       "      <td>11040</td>\n",
       "      <td>1</td>\n",
       "      <td>2</td>\n",
       "      <td>50</td>\n",
       "      <td>50</td>\n",
       "    </tr>\n",
       "    <tr>\n",
       "      <td>3</td>\n",
       "      <td>11426</td>\n",
       "      <td>6</td>\n",
       "      <td>29</td>\n",
       "      <td>20</td>\n",
       "      <td>20</td>\n",
       "    </tr>\n",
       "    <tr>\n",
       "      <td>4</td>\n",
       "      <td>11365</td>\n",
       "      <td>12</td>\n",
       "      <td>49</td>\n",
       "      <td>24</td>\n",
       "      <td>24</td>\n",
       "    </tr>\n",
       "    <tr>\n",
       "      <td>...</td>\n",
       "      <td>...</td>\n",
       "      <td>...</td>\n",
       "      <td>...</td>\n",
       "      <td>...</td>\n",
       "      <td>...</td>\n",
       "    </tr>\n",
       "    <tr>\n",
       "      <td>257</td>\n",
       "      <td>10065</td>\n",
       "      <td>11</td>\n",
       "      <td>50</td>\n",
       "      <td>22</td>\n",
       "      <td>22</td>\n",
       "    </tr>\n",
       "    <tr>\n",
       "      <td>258</td>\n",
       "      <td>10075</td>\n",
       "      <td>4</td>\n",
       "      <td>18</td>\n",
       "      <td>22</td>\n",
       "      <td>22</td>\n",
       "    </tr>\n",
       "    <tr>\n",
       "      <td>259</td>\n",
       "      <td>10069</td>\n",
       "      <td>1</td>\n",
       "      <td>2</td>\n",
       "      <td>50</td>\n",
       "      <td>50</td>\n",
       "    </tr>\n",
       "    <tr>\n",
       "      <td>260</td>\n",
       "      <td>10281</td>\n",
       "      <td>0</td>\n",
       "      <td>0</td>\n",
       "      <td>0</td>\n",
       "      <td>0</td>\n",
       "    </tr>\n",
       "    <tr>\n",
       "      <td>261</td>\n",
       "      <td>10282</td>\n",
       "      <td>0</td>\n",
       "      <td>0</td>\n",
       "      <td>0</td>\n",
       "      <td>0</td>\n",
       "    </tr>\n",
       "  </tbody>\n",
       "</table>\n",
       "<p>262 rows × 5 columns</p>\n",
       "</div>"
      ],
      "text/plain": [
       "       ZIP  Serious count  Total count   p  p_short\n",
       "0    11372             46          190  24       24\n",
       "1    11004             11           31  35       35\n",
       "2    11040              1            2  50       50\n",
       "3    11426              6           29  20       20\n",
       "4    11365             12           49  24       24\n",
       "..     ...            ...          ...  ..      ...\n",
       "257  10065             11           50  22       22\n",
       "258  10075              4           18  22       22\n",
       "259  10069              1            2  50       50\n",
       "260  10281              0            0   0        0\n",
       "261  10282              0            0   0        0\n",
       "\n",
       "[262 rows x 5 columns]"
      ]
     },
     "execution_count": 117,
     "metadata": {},
     "output_type": "execute_result"
    }
   ],
   "source": [
    "df_temp3.columns = ['Borough', 'ZIP', 'Total count', 'Serious count', 'p']\n",
    "df_temp3 = df_temp3[['ZIP', 'Serious count', 'Total count', 'p']]\n",
    "df_temp3['p_short'] = np.round(df_temp3['p'],2)\n",
    "df_temp3['Total count'] = df_temp3['Total count'].fillna(0).astype(int)\n",
    "df_temp3['p'] = df_temp3['p'].fillna(0).astype(int)\n",
    "df_temp3['p_short'] = df_temp3['p_short'].fillna(0).astype(int)\n",
    "df_temp3"
   ]
  },
  {
   "cell_type": "code",
   "execution_count": null,
   "metadata": {},
   "outputs": [],
   "source": []
  },
  {
   "cell_type": "code",
   "execution_count": null,
   "metadata": {},
   "outputs": [],
   "source": []
  },
  {
   "cell_type": "code",
   "execution_count": null,
   "metadata": {},
   "outputs": [],
   "source": []
  },
  {
   "cell_type": "code",
   "execution_count": null,
   "metadata": {},
   "outputs": [],
   "source": []
  },
  {
   "cell_type": "code",
   "execution_count": null,
   "metadata": {},
   "outputs": [],
   "source": []
  },
  {
   "cell_type": "code",
   "execution_count": null,
   "metadata": {},
   "outputs": [],
   "source": []
  },
  {
   "cell_type": "code",
   "execution_count": null,
   "metadata": {},
   "outputs": [],
   "source": []
  },
  {
   "cell_type": "code",
   "execution_count": null,
   "metadata": {},
   "outputs": [],
   "source": []
  },
  {
   "cell_type": "code",
   "execution_count": null,
   "metadata": {},
   "outputs": [],
   "source": []
  },
  {
   "cell_type": "markdown",
   "metadata": {},
   "source": [
    "# General Properties (Time)\n",
    "\n",
    "TIME does not contain any NANs."
   ]
  },
  {
   "cell_type": "code",
   "execution_count": null,
   "metadata": {},
   "outputs": [],
   "source": [
    "df_serious.groupby(df_serious['TIME'].dt.year).size()"
   ]
  },
  {
   "cell_type": "code",
   "execution_count": null,
   "metadata": {},
   "outputs": [],
   "source": [
    "df_serious.groupby(df_serious['TIME'].dt.month).size()"
   ]
  },
  {
   "cell_type": "code",
   "execution_count": null,
   "metadata": {},
   "outputs": [],
   "source": [
    "df_serious.groupby(df_serious['TIME'].dt.weekday).size()"
   ]
  },
  {
   "cell_type": "code",
   "execution_count": null,
   "metadata": {},
   "outputs": [],
   "source": [
    "df_serious.groupby(df_serious['TIME'].dt.hour).size()"
   ]
  },
  {
   "cell_type": "markdown",
   "metadata": {},
   "source": [
    "# General Properties (BOROUGH and ZIP CODE)\n"
   ]
  },
  {
   "cell_type": "code",
   "execution_count": null,
   "metadata": {},
   "outputs": [],
   "source": [
    "df_serious.groupby(df_serious['BOROUGH']).size()"
   ]
  },
  {
   "cell_type": "code",
   "execution_count": null,
   "metadata": {},
   "outputs": [],
   "source": [
    "df_serious.groupby(df_serious['ZIP CODE']).size()"
   ]
  },
  {
   "cell_type": "markdown",
   "metadata": {},
   "source": [
    "# General Properties (Vehicle Types)"
   ]
  },
  {
   "cell_type": "code",
   "execution_count": null,
   "metadata": {},
   "outputs": [],
   "source": [
    "replace_vehicle = dict(zip(pd.read_csv('https://media.githubusercontent.com/media/rasgaard/socialdatascience/main/vehicle_types.csv?token=AINZZODWKIOWT5UAXKP6RWLAR2E3U', sep=';')['Specific'].to_numpy(),\n",
    "                           pd.read_csv('https://media.githubusercontent.com/media/rasgaard/socialdatascience/main/vehicle_types.csv?token=AINZZODWKIOWT5UAXKP6RWLAR2E3U', sep=';')['General'].to_numpy()))\n",
    "\n",
    "replace_factor  = dict(zip(pd.read_csv('https://media.githubusercontent.com/media/rasgaard/socialdatascience/main/contributing_factors.csv?token=AINZZOCQQESHJCRAPW23KEDAR2GYI', sep=';')['Specific'].to_numpy(),\n",
    "                           pd.read_csv('https://media.githubusercontent.com/media/rasgaard/socialdatascience/main/contributing_factors.csv?token=AINZZOCQQESHJCRAPW23KEDAR2GYI', sep=';')['General'].to_numpy()))\n",
    "\n",
    "for i in range(1, 6): \n",
    "    print(f'Processing VEHICLE {i}.')\n",
    "    df_serious[f'VEHICLE TYPE CODE {i} (AGGR)'] = df_serious[f'VEHICLE TYPE CODE {i}'].str.lower().fillna(' ').replace(replace_vehicle)\n",
    "    df_serious[f'CONTRIBUTING FACTOR VEHICLE {i} (AGGR)'] = df_serious[f'CONTRIBUTING FACTOR VEHICLE {i}'].fillna(' ').replace(replace_factor)\n",
    "    print(f'Processed VEHICLE {i}.')"
   ]
  },
  {
   "cell_type": "code",
   "execution_count": null,
   "metadata": {},
   "outputs": [],
   "source": [
    "df_serious[[f'CONTRIBUTING FACTOR VEHICLE {x}' for x in range(1,6)]]['CONTRIBUTING FACTOR VEHICLE 1'].fillna(' ').unique()"
   ]
  }
 ],
 "metadata": {
  "kernelspec": {
   "display_name": "Python 3",
   "language": "python",
   "name": "python3"
  },
  "language_info": {
   "codemirror_mode": {
    "name": "ipython",
    "version": 3
   },
   "file_extension": ".py",
   "mimetype": "text/x-python",
   "name": "python",
   "nbconvert_exporter": "python",
   "pygments_lexer": "ipython3",
   "version": "3.7.4"
  }
 },
 "nbformat": 4,
 "nbformat_minor": 5
}
