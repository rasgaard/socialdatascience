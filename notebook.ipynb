{
 "cells": [
  {
   "cell_type": "markdown",
   "id": "engaged-motorcycle",
   "metadata": {},
   "source": [
    "# Notebook about Motor Vehicle Collisions in New York City"
   ]
  },
  {
   "cell_type": "code",
   "execution_count": 27,
   "id": "imperial-addiction",
   "metadata": {},
   "outputs": [
    {
     "name": "stderr",
     "output_type": "stream",
     "text": [
      "/opt/anaconda3/lib/python3.7/site-packages/IPython/core/interactiveshell.py:3156: DtypeWarning: Columns (3) have mixed types.Specify dtype option on import or set low_memory=False.\n",
      "  interactivity=interactivity, compiler=compiler, result=result)\n"
     ]
    },
    {
     "name": "stdout",
     "output_type": "stream",
     "text": [
      "Time elapsed: 13.247107028961182 seconds.\n"
     ]
    }
   ],
   "source": [
    "import pandas as pd\n",
    "import time\n",
    "import numpy as np\n",
    "import calendar\n",
    "import plotly.express as px\n",
    "\n",
    "t1 = time.time()\n",
    "df = pd.read_csv('Motor_Vehicle_Collisions_Crashes.csv')\n",
    "df['TIME'] = df['CRASH DATE'] + ' ' + df['CRASH TIME']\n",
    "df['TIME'] = pd.to_datetime(df['TIME'], format=\"%m/%d/%Y %H:%M\")\n",
    "t2 = time.time()\n",
    "\n",
    "#Discard 2012 and 2021. \n",
    "df = df.loc[(df['TIME'].dt.year > 2012) & (df['TIME'].dt.year < 2021)]\n",
    "\n",
    "print(f'Time elapsed: {t2-t1} seconds.')"
   ]
  },
  {
   "cell_type": "markdown",
   "id": "arranged-convention",
   "metadata": {},
   "source": [
    "# Probability of being injured or killed"
   ]
  },
  {
   "cell_type": "code",
   "execution_count": 30,
   "id": "occupied-setting",
   "metadata": {},
   "outputs": [
    {
     "data": {
      "application/vnd.plotly.v1+json": {
       "config": {
        "plotlyServerURL": "https://plot.ly"
       },
       "data": [
        {
         "alignmentgroup": "True",
         "customdata": [
          [
           1427,
           11,
           3,
           6304,
           "Monday 00:00"
          ],
          [
           682,
           1,
           3,
           2888,
           "Monday 01:00"
          ],
          [
           464,
           7,
           2,
           2055,
           "Monday 02:00"
          ],
          [
           408,
           6,
           3,
           1665,
           "Monday 03:00"
          ],
          [
           529,
           11,
           3,
           2032,
           "Monday 04:00"
          ],
          [
           715,
           8,
           3,
           2841,
           "Monday 05:00"
          ],
          [
           1274,
           9,
           4,
           5774,
           "Monday 06:00"
          ],
          [
           1733,
           7,
           3,
           8406,
           "Monday 07:00"
          ],
          [
           2843,
           10,
           0,
           15909,
           "Monday 08:00"
          ],
          [
           2379,
           9,
           3,
           14936,
           "Monday 09:00"
          ],
          [
           2018,
           9,
           3,
           13137,
           "Monday 10:00"
          ],
          [
           2025,
           9,
           2,
           13216,
           "Monday 11:00"
          ],
          [
           2260,
           10,
           3,
           13456,
           "Monday 12:00"
          ],
          [
           2402,
           10,
           2,
           13924,
           "Monday 13:00"
          ],
          [
           2763,
           4,
           2,
           15879,
           "Monday 14:00"
          ],
          [
           3013,
           4,
           2,
           15150,
           "Monday 15:00"
          ],
          [
           3449,
           15,
           6,
           18015,
           "Monday 16:00"
          ],
          [
           3587,
           13,
           6,
           17368,
           "Monday 17:00"
          ],
          [
           3178,
           11,
           3,
           14672,
           "Monday 18:00"
          ],
          [
           2587,
           18,
           1,
           11330,
           "Monday 19:00"
          ],
          [
           2207,
           10,
           2,
           8886,
           "Monday 20:00"
          ],
          [
           1819,
           10,
           2,
           7103,
           "Monday 21:00"
          ],
          [
           1476,
           12,
           4,
           6027,
           "Monday 22:00"
          ],
          [
           1252,
           10,
           5,
           4750,
           "Monday 23:00"
          ]
         ],
         "hovertemplate": "<b>%{customdata[4]}</b><br><br>Number of collisions with only injured: %{customdata[0]}<br>Number of collisions with only killed: %{customdata[1]}<br>Number of collisions with both killed and injured: %{customdata[2]}<br>Total number of collisions: %{customdata[3]}<br><br>Probability of a collision being serious: %{y}%",
         "legendgroup": "Monday",
         "marker": {
          "color": "#636efa"
         },
         "name": "Monday",
         "offsetgroup": "Monday",
         "orientation": "v",
         "showlegend": true,
         "textposition": "auto",
         "type": "bar",
         "x": [
          0,
          1,
          2,
          3,
          4,
          5,
          6,
          7,
          8,
          9,
          10,
          11,
          12,
          13,
          14,
          15,
          16,
          17,
          18,
          19,
          20,
          21,
          22,
          23
         ],
         "xaxis": "x",
         "y": [
          22.858502538071065,
          23.753462603878116,
          23.01703163017032,
          25.045045045045043,
          26.722440944881892,
          25.55438225976769,
          22.289573952199515,
          20.735189150606708,
          17.933245332830474,
          16.008302088912693,
          15.45253863134658,
          15.405569007263923,
          16.892092746730082,
          17.336972134444125,
          17.438125826563386,
          19.927392739273927,
          19.26172633916181,
          20.762321510824506,
          21.755725190839694,
          23.000882612533097,
          24.97186585640333,
          25.777840349148246,
          24.755267960842875,
          26.673684210526318
         ],
         "yaxis": "y"
        },
        {
         "alignmentgroup": "True",
         "customdata": [
          [
           1195,
           7,
           1,
           5626,
           "Tuesday 00:00"
          ],
          [
           524,
           11,
           7,
           2333,
           "Tuesday 01:00"
          ],
          [
           398,
           1,
           0,
           1637,
           "Tuesday 02:00"
          ],
          [
           305,
           3,
           5,
           1289,
           "Tuesday 03:00"
          ],
          [
           357,
           8,
           5,
           1477,
           "Tuesday 04:00"
          ],
          [
           634,
           7,
           1,
           2600,
           "Tuesday 05:00"
          ],
          [
           1234,
           16,
           5,
           5694,
           "Tuesday 06:00"
          ],
          [
           1739,
           4,
           4,
           8688,
           "Tuesday 07:00"
          ],
          [
           3051,
           7,
           1,
           16650,
           "Tuesday 08:00"
          ],
          [
           2581,
           14,
           0,
           15908,
           "Tuesday 09:00"
          ],
          [
           2201,
           9,
           2,
           13828,
           "Tuesday 10:00"
          ],
          [
           2188,
           7,
           3,
           13737,
           "Tuesday 11:00"
          ],
          [
           2304,
           9,
           2,
           13963,
           "Tuesday 12:00"
          ],
          [
           2434,
           7,
           1,
           14410,
           "Tuesday 13:00"
          ],
          [
           2977,
           11,
           5,
           16613,
           "Tuesday 14:00"
          ],
          [
           3053,
           7,
           2,
           15374,
           "Tuesday 15:00"
          ],
          [
           3477,
           7,
           2,
           18515,
           "Tuesday 16:00"
          ],
          [
           3750,
           12,
           3,
           18441,
           "Tuesday 17:00"
          ],
          [
           3381,
           10,
           3,
           15689,
           "Tuesday 18:00"
          ],
          [
           2901,
           10,
           2,
           12350,
           "Tuesday 19:00"
          ],
          [
           2484,
           9,
           2,
           9724,
           "Tuesday 20:00"
          ],
          [
           1926,
           13,
           2,
           7710,
           "Tuesday 21:00"
          ],
          [
           1668,
           5,
           1,
           6661,
           "Tuesday 22:00"
          ],
          [
           1332,
           11,
           6,
           5280,
           "Tuesday 23:00"
          ]
         ],
         "hovertemplate": "<b>%{customdata[4]}</b><br><br>Number of collisions with only injured: %{customdata[0]}<br>Number of collisions with only killed: %{customdata[1]}<br>Number of collisions with both killed and injured: %{customdata[2]}<br>Total number of collisions: %{customdata[3]}<br><br>Probability of a collision being serious: %{y}%",
         "legendgroup": "Tuesday",
         "marker": {
          "color": "#EF553B"
         },
         "name": "Tuesday",
         "offsetgroup": "Tuesday",
         "orientation": "v",
         "showlegend": true,
         "textposition": "auto",
         "type": "bar",
         "x": [
          24,
          25,
          26,
          27,
          28,
          29,
          30,
          31,
          32,
          33,
          34,
          35,
          36,
          37,
          38,
          39,
          40,
          41,
          42,
          43,
          44,
          45,
          46,
          47
         ],
         "xaxis": "x",
         "y": [
          21.38286526839673,
          23.231890270038576,
          24.373854612095297,
          24.282389449185416,
          25.050778605280975,
          24.69230769230769,
          22.04074464348437,
          20.108195211786374,
          18.37237237237237,
          16.31254714609002,
          15.996528782181082,
          16.000582368785032,
          16.579531619279525,
          16.946564885496183,
          18.016011557214227,
          19.91674255236113,
          18.82797731568998,
          20.416463315438424,
          21.632991267767228,
          23.587044534412954,
          25.65816536404772,
          25.17509727626459,
          25.131361657408796,
          25.549242424242426
         ],
         "yaxis": "y"
        },
        {
         "alignmentgroup": "True",
         "customdata": [
          [
           1313,
           10,
           5,
           5882,
           "Wednesday 00:00"
          ],
          [
           585,
           3,
           3,
           2582,
           "Wednesday 01:00"
          ],
          [
           383,
           2,
           4,
           1689,
           "Wednesday 02:00"
          ],
          [
           323,
           3,
           2,
           1442,
           "Wednesday 03:00"
          ],
          [
           414,
           7,
           3,
           1638,
           "Wednesday 04:00"
          ],
          [
           589,
           7,
           2,
           2531,
           "Wednesday 05:00"
          ],
          [
           1252,
           10,
           1,
           5441,
           "Wednesday 06:00"
          ],
          [
           1807,
           8,
           1,
           8555,
           "Wednesday 07:00"
          ],
          [
           2965,
           5,
           2,
           16087,
           "Wednesday 08:00"
          ],
          [
           2391,
           6,
           3,
           14697,
           "Wednesday 09:00"
          ],
          [
           1944,
           7,
           3,
           12929,
           "Wednesday 10:00"
          ],
          [
           2129,
           6,
           0,
           12733,
           "Wednesday 11:00"
          ],
          [
           2316,
           6,
           3,
           13559,
           "Wednesday 12:00"
          ],
          [
           2420,
           6,
           2,
           13890,
           "Wednesday 13:00"
          ],
          [
           2940,
           6,
           4,
           16795,
           "Wednesday 14:00"
          ],
          [
           3110,
           11,
           3,
           15601,
           "Wednesday 15:00"
          ],
          [
           3370,
           10,
           4,
           18202,
           "Wednesday 16:00"
          ],
          [
           3651,
           12,
           3,
           18311,
           "Wednesday 17:00"
          ],
          [
           3442,
           14,
           3,
           16160,
           "Wednesday 18:00"
          ],
          [
           2769,
           15,
           1,
           12495,
           "Wednesday 19:00"
          ],
          [
           2333,
           8,
           4,
           9726,
           "Wednesday 20:00"
          ],
          [
           2038,
           14,
           1,
           8110,
           "Wednesday 21:00"
          ],
          [
           1724,
           8,
           0,
           7062,
           "Wednesday 22:00"
          ],
          [
           1340,
           8,
           3,
           5454,
           "Wednesday 23:00"
          ]
         ],
         "hovertemplate": "<b>%{customdata[4]}</b><br><br>Number of collisions with only injured: %{customdata[0]}<br>Number of collisions with only killed: %{customdata[1]}<br>Number of collisions with both killed and injured: %{customdata[2]}<br>Total number of collisions: %{customdata[3]}<br><br>Probability of a collision being serious: %{y}%",
         "legendgroup": "Wednesday",
         "marker": {
          "color": "#00cc96"
         },
         "name": "Wednesday",
         "offsetgroup": "Wednesday",
         "orientation": "v",
         "showlegend": true,
         "textposition": "auto",
         "type": "bar",
         "x": [
          48,
          49,
          50,
          51,
          52,
          53,
          54,
          55,
          56,
          57,
          58,
          59,
          60,
          61,
          62,
          63,
          64,
          65,
          66,
          67,
          68,
          69,
          70,
          71
         ],
         "xaxis": "x",
         "y": [
          22.577354641278475,
          22.889233152594887,
          23.031379514505623,
          22.74618585298197,
          25.88522588522589,
          23.627024891347293,
          23.21264473442382,
          21.227352425482174,
          18.474544663392802,
          16.329863237395386,
          15.113311160955991,
          16.767454645409565,
          17.147282247953388,
          17.48020158387329,
          17.564751414111342,
          20.024357412986348,
          18.591363586419074,
          20.020752553110153,
          21.40470297029703,
          22.288915566226493,
          24.11063129755295,
          25.314426633785448,
          24.52563013310677,
          24.770810414374772
         ],
         "yaxis": "y"
        },
        {
         "alignmentgroup": "True",
         "customdata": [
          [
           1390,
           9,
           4,
           6352,
           "Thursday 00:00"
          ],
          [
           591,
           8,
           2,
           2692,
           "Thursday 01:00"
          ],
          [
           455,
           8,
           1,
           1985,
           "Thursday 02:00"
          ],
          [
           357,
           4,
           3,
           1563,
           "Thursday 03:00"
          ],
          [
           447,
           8,
           1,
           1835,
           "Thursday 04:00"
          ],
          [
           576,
           12,
           1,
           2581,
           "Thursday 05:00"
          ],
          [
           1206,
           12,
           1,
           5473,
           "Thursday 06:00"
          ],
          [
           1757,
           8,
           2,
           8254,
           "Thursday 07:00"
          ],
          [
           2921,
           5,
           4,
           16233,
           "Thursday 08:00"
          ],
          [
           2364,
           8,
           1,
           15259,
           "Thursday 09:00"
          ],
          [
           2101,
           7,
           0,
           13243,
           "Thursday 10:00"
          ],
          [
           2107,
           13,
           1,
           13327,
           "Thursday 11:00"
          ],
          [
           2382,
           5,
           1,
           13836,
           "Thursday 12:00"
          ],
          [
           2557,
           6,
           2,
           14414,
           "Thursday 13:00"
          ],
          [
           3003,
           3,
           0,
           16561,
           "Thursday 14:00"
          ],
          [
           3096,
           7,
           3,
           15529,
           "Thursday 15:00"
          ],
          [
           3357,
           12,
           0,
           18481,
           "Thursday 16:00"
          ],
          [
           3683,
           8,
           4,
           18449,
           "Thursday 17:00"
          ],
          [
           3321,
           11,
           2,
           15871,
           "Thursday 18:00"
          ],
          [
           2810,
           11,
           5,
           12706,
           "Thursday 19:00"
          ],
          [
           2427,
           13,
           2,
           10374,
           "Thursday 20:00"
          ],
          [
           2100,
           12,
           3,
           8711,
           "Thursday 21:00"
          ],
          [
           1758,
           6,
           3,
           7735,
           "Thursday 22:00"
          ],
          [
           1494,
           14,
           4,
           6065,
           "Thursday 23:00"
          ]
         ],
         "hovertemplate": "<b>%{customdata[4]}</b><br><br>Number of collisions with only injured: %{customdata[0]}<br>Number of collisions with only killed: %{customdata[1]}<br>Number of collisions with both killed and injured: %{customdata[2]}<br>Total number of collisions: %{customdata[3]}<br><br>Probability of a collision being serious: %{y}%",
         "legendgroup": "Thursday",
         "marker": {
          "color": "#ab63fa"
         },
         "name": "Thursday",
         "offsetgroup": "Thursday",
         "orientation": "v",
         "showlegend": true,
         "textposition": "auto",
         "type": "bar",
         "x": [
          72,
          73,
          74,
          75,
          76,
          77,
          78,
          79,
          80,
          81,
          82,
          83,
          84,
          85,
          86,
          87,
          88,
          89,
          90,
          91,
          92,
          93,
          94,
          95
         ],
         "xaxis": "x",
         "y": [
          22.087531486146094,
          22.32540861812779,
          23.375314861460957,
          23.28854766474728,
          24.850136239782017,
          22.820612165827196,
          22.272976429746024,
          21.407802277683547,
          18.04965194357174,
          15.551477816370666,
          15.917843388960208,
          15.915059653335334,
          17.259323503902863,
          17.79519911197447,
          18.151077833464164,
          20.001287912937084,
          18.229533033926735,
          20.028185809528974,
          21.00686787221977,
          22.24146072721549,
          23.53961827646038,
          24.279646424061532,
          22.844214608920492,
          24.929925803792248
         ],
         "yaxis": "y"
        },
        {
         "alignmentgroup": "True",
         "customdata": [
          [
           1550,
           8,
           0,
           7301,
           "Friday 00:00"
          ],
          [
           770,
           6,
           0,
           3492,
           "Friday 01:00"
          ],
          [
           502,
           3,
           1,
           2496,
           "Friday 02:00"
          ],
          [
           477,
           9,
           0,
           1980,
           "Friday 03:00"
          ],
          [
           556,
           9,
           4,
           2307,
           "Friday 04:00"
          ],
          [
           721,
           6,
           0,
           2939,
           "Friday 05:00"
          ],
          [
           1220,
           5,
           1,
           5717,
           "Friday 06:00"
          ],
          [
           1710,
           7,
           2,
           8216,
           "Friday 07:00"
          ],
          [
           2794,
           7,
           1,
           15454,
           "Friday 08:00"
          ],
          [
           2371,
           7,
           3,
           14803,
           "Friday 09:00"
          ],
          [
           1991,
           11,
           2,
           12989,
           "Friday 10:00"
          ],
          [
           2249,
           8,
           4,
           13492,
           "Friday 11:00"
          ],
          [
           2372,
           14,
           1,
           14340,
           "Friday 12:00"
          ],
          [
           2626,
           5,
           1,
           15043,
           "Friday 13:00"
          ],
          [
           3315,
           11,
           4,
           18048,
           "Friday 14:00"
          ],
          [
           3271,
           9,
           5,
           17094,
           "Friday 15:00"
          ],
          [
           3575,
           5,
           3,
           19589,
           "Friday 16:00"
          ],
          [
           3780,
           14,
           4,
           19508,
           "Friday 17:00"
          ],
          [
           3593,
           14,
           4,
           16759,
           "Friday 18:00"
          ],
          [
           3014,
           13,
           2,
           13777,
           "Friday 19:00"
          ],
          [
           2558,
           10,
           4,
           11430,
           "Friday 20:00"
          ],
          [
           2112,
           15,
           3,
           9361,
           "Friday 21:00"
          ],
          [
           2068,
           12,
           1,
           8826,
           "Friday 22:00"
          ],
          [
           1890,
           11,
           3,
           7785,
           "Friday 23:00"
          ]
         ],
         "hovertemplate": "<b>%{customdata[4]}</b><br><br>Number of collisions with only injured: %{customdata[0]}<br>Number of collisions with only killed: %{customdata[1]}<br>Number of collisions with both killed and injured: %{customdata[2]}<br>Total number of collisions: %{customdata[3]}<br><br>Probability of a collision being serious: %{y}%",
         "legendgroup": "Friday",
         "marker": {
          "color": "#FFA15A"
         },
         "name": "Friday",
         "offsetgroup": "Friday",
         "orientation": "v",
         "showlegend": true,
         "textposition": "auto",
         "type": "bar",
         "x": [
          96,
          97,
          98,
          99,
          100,
          101,
          102,
          103,
          104,
          105,
          106,
          107,
          108,
          109,
          110,
          111,
          112,
          113,
          114,
          115,
          116,
          117,
          118,
          119
         ],
         "xaxis": "x",
         "y": [
          21.339542528420765,
          22.22222222222222,
          20.272435897435898,
          24.545454545454547,
          24.664065886432596,
          24.736304865600545,
          21.444813713486095,
          20.92259006815969,
          18.131228160993917,
          16.084577450516786,
          15.428439448764339,
          16.758078861547585,
          16.645746164574614,
          17.496510004653327,
          18.450797872340424,
          19.217269217269216,
          18.29087753330951,
          19.46893582120156,
          21.546631660600273,
          21.985918559918705,
          22.502187226596675,
          22.753979275718407,
          23.57806480852028,
          24.4572896596018
         ],
         "yaxis": "y"
        },
        {
         "alignmentgroup": "True",
         "customdata": [
          [
           1972,
           14,
           2,
           9078,
           "Saturday 00:00"
          ],
          [
           1312,
           3,
           9,
           5841,
           "Saturday 01:00"
          ],
          [
           1161,
           10,
           7,
           4796,
           "Saturday 02:00"
          ],
          [
           1080,
           11,
           7,
           4349,
           "Saturday 03:00"
          ],
          [
           1208,
           13,
           10,
           4889,
           "Saturday 04:00"
          ],
          [
           951,
           6,
           5,
           3989,
           "Saturday 05:00"
          ],
          [
           875,
           3,
           2,
           3782,
           "Saturday 06:00"
          ],
          [
           808,
           1,
           3,
           3790,
           "Saturday 07:00"
          ],
          [
           1204,
           2,
           2,
           6753,
           "Saturday 08:00"
          ],
          [
           1412,
           8,
           0,
           8071,
           "Saturday 09:00"
          ],
          [
           1548,
           10,
           2,
           9453,
           "Saturday 10:00"
          ],
          [
           1941,
           6,
           2,
           11030,
           "Saturday 11:00"
          ],
          [
           2190,
           3,
           2,
           12246,
           "Saturday 12:00"
          ],
          [
           2419,
           7,
           3,
           13486,
           "Saturday 13:00"
          ],
          [
           2677,
           9,
           1,
           14843,
           "Saturday 14:00"
          ],
          [
           2633,
           5,
           5,
           12860,
           "Saturday 15:00"
          ],
          [
           2830,
           10,
           6,
           15120,
           "Saturday 16:00"
          ],
          [
           2790,
           19,
           7,
           13840,
           "Saturday 17:00"
          ],
          [
           2733,
           14,
           5,
           12873,
           "Saturday 18:00"
          ],
          [
           2556,
           7,
           5,
           11295,
           "Saturday 19:00"
          ],
          [
           2399,
           9,
           5,
           10282,
           "Saturday 20:00"
          ],
          [
           2218,
           17,
           2,
           9328,
           "Saturday 21:00"
          ],
          [
           2134,
           12,
           4,
           9080,
           "Saturday 22:00"
          ],
          [
           2006,
           11,
           6,
           8159,
           "Saturday 23:00"
          ]
         ],
         "hovertemplate": "<b>%{customdata[4]}</b><br><br>Number of collisions with only injured: %{customdata[0]}<br>Number of collisions with only killed: %{customdata[1]}<br>Number of collisions with both killed and injured: %{customdata[2]}<br>Total number of collisions: %{customdata[3]}<br><br>Probability of a collision being serious: %{y}%",
         "legendgroup": "Saturday",
         "marker": {
          "color": "#19d3f3"
         },
         "name": "Saturday",
         "offsetgroup": "Saturday",
         "orientation": "v",
         "showlegend": true,
         "textposition": "auto",
         "type": "bar",
         "x": [
          120,
          121,
          122,
          123,
          124,
          125,
          126,
          127,
          128,
          129,
          130,
          131,
          132,
          133,
          134,
          135,
          136,
          137,
          138,
          139,
          140,
          141,
          142,
          143
         ],
         "xaxis": "x",
         "y": [
          21.89909671733862,
          22.667351480910803,
          24.56213511259383,
          25.247183260519662,
          25.178973205154424,
          24.116319879669092,
          23.268112109994714,
          21.424802110817943,
          17.888345920331705,
          17.593854540949078,
          16.502697556331324,
          17.669990933816862,
          17.924220153519517,
          18.011270947649415,
          18.102809405106786,
          20.552099533437012,
          18.822751322751323,
          20.346820809248555,
          21.378078148061835,
          22.735723771580346,
          23.46819684886209,
          23.98156089193825,
          23.6784140969163,
          24.794705233484496
         ],
         "yaxis": "y"
        },
        {
         "alignmentgroup": "True",
         "customdata": [
          [
           2056,
           14,
           5,
           9115,
           "Sunday 00:00"
          ],
          [
           1445,
           15,
           4,
           6418,
           "Sunday 01:00"
          ],
          [
           1249,
           12,
           6,
           5170,
           "Sunday 02:00"
          ],
          [
           1255,
           12,
           5,
           4907,
           "Sunday 03:00"
          ],
          [
           1430,
           19,
           10,
           5548,
           "Sunday 04:00"
          ],
          [
           1101,
           12,
           8,
           4451,
           "Sunday 05:00"
          ],
          [
           786,
           4,
           5,
           3410,
           "Sunday 06:00"
          ],
          [
           700,
           6,
           1,
           3006,
           "Sunday 07:00"
          ],
          [
           892,
           5,
           1,
           4895,
           "Sunday 08:00"
          ],
          [
           1002,
           2,
           2,
           5764,
           "Sunday 09:00"
          ],
          [
           1275,
           6,
           1,
           7425,
           "Sunday 10:00"
          ],
          [
           1615,
           4,
           0,
           9041,
           "Sunday 11:00"
          ],
          [
           1838,
           4,
           6,
           10364,
           "Sunday 12:00"
          ],
          [
           2116,
           11,
           2,
           11679,
           "Sunday 13:00"
          ],
          [
           2445,
           2,
           4,
           13538,
           "Sunday 14:00"
          ],
          [
           2443,
           9,
           1,
           11892,
           "Sunday 15:00"
          ],
          [
           2576,
           8,
           4,
           13469,
           "Sunday 16:00"
          ],
          [
           2535,
           10,
           4,
           12304,
           "Sunday 17:00"
          ],
          [
           2566,
           8,
           3,
           11359,
           "Sunday 18:00"
          ],
          [
           2340,
           8,
           2,
           9946,
           "Sunday 19:00"
          ],
          [
           2167,
           12,
           6,
           8871,
           "Sunday 20:00"
          ],
          [
           1949,
           11,
           2,
           7763,
           "Sunday 21:00"
          ],
          [
           1782,
           13,
           7,
           7179,
           "Sunday 22:00"
          ],
          [
           1410,
           6,
           3,
           5675,
           "Sunday 23:00"
          ]
         ],
         "hovertemplate": "<b>%{customdata[4]}</b><br><br>Number of collisions with only injured: %{customdata[0]}<br>Number of collisions with only killed: %{customdata[1]}<br>Number of collisions with both killed and injured: %{customdata[2]}<br>Total number of collisions: %{customdata[3]}<br><br>Probability of a collision being serious: %{y}%",
         "legendgroup": "Sunday",
         "marker": {
          "color": "#FF6692"
         },
         "name": "Sunday",
         "offsetgroup": "Sunday",
         "orientation": "v",
         "showlegend": true,
         "textposition": "auto",
         "type": "bar",
         "x": [
          144,
          145,
          146,
          147,
          148,
          149,
          150,
          151,
          152,
          153,
          154,
          155,
          156,
          157,
          158,
          159,
          160,
          161,
          162,
          163,
          164,
          165,
          166,
          167
         ],
         "xaxis": "x",
         "y": [
          22.76467361492046,
          22.810844499844187,
          24.506769825918763,
          25.922152027715505,
          26.297764960346072,
          25.18535160638059,
          23.313782991202345,
          23.51962741184298,
          18.345250255362615,
          17.453157529493406,
          17.265993265993266,
          17.907311138148437,
          17.830953299884214,
          18.229300453805976,
          18.10459447481164,
          20.627312478977462,
          19.21449253842156,
          20.716840052015606,
          22.686856237344838,
          23.62758898049467,
          24.630819524292637,
          25.27373438103826,
          25.10098899568185,
          25.004405286343612
         ],
         "yaxis": "y"
        }
       ],
       "layout": {
        "barmode": "relative",
        "height": 800,
        "legend": {
         "title": {
          "text": "weekday"
         },
         "tracegroupgap": 0
        },
        "template": {
         "data": {
          "bar": [
           {
            "error_x": {
             "color": "#2a3f5f"
            },
            "error_y": {
             "color": "#2a3f5f"
            },
            "marker": {
             "line": {
              "color": "#E5ECF6",
              "width": 0.5
             }
            },
            "type": "bar"
           }
          ],
          "barpolar": [
           {
            "marker": {
             "line": {
              "color": "#E5ECF6",
              "width": 0.5
             }
            },
            "type": "barpolar"
           }
          ],
          "carpet": [
           {
            "aaxis": {
             "endlinecolor": "#2a3f5f",
             "gridcolor": "white",
             "linecolor": "white",
             "minorgridcolor": "white",
             "startlinecolor": "#2a3f5f"
            },
            "baxis": {
             "endlinecolor": "#2a3f5f",
             "gridcolor": "white",
             "linecolor": "white",
             "minorgridcolor": "white",
             "startlinecolor": "#2a3f5f"
            },
            "type": "carpet"
           }
          ],
          "choropleth": [
           {
            "colorbar": {
             "outlinewidth": 0,
             "ticks": ""
            },
            "type": "choropleth"
           }
          ],
          "contour": [
           {
            "colorbar": {
             "outlinewidth": 0,
             "ticks": ""
            },
            "colorscale": [
             [
              0,
              "#0d0887"
             ],
             [
              0.1111111111111111,
              "#46039f"
             ],
             [
              0.2222222222222222,
              "#7201a8"
             ],
             [
              0.3333333333333333,
              "#9c179e"
             ],
             [
              0.4444444444444444,
              "#bd3786"
             ],
             [
              0.5555555555555556,
              "#d8576b"
             ],
             [
              0.6666666666666666,
              "#ed7953"
             ],
             [
              0.7777777777777778,
              "#fb9f3a"
             ],
             [
              0.8888888888888888,
              "#fdca26"
             ],
             [
              1,
              "#f0f921"
             ]
            ],
            "type": "contour"
           }
          ],
          "contourcarpet": [
           {
            "colorbar": {
             "outlinewidth": 0,
             "ticks": ""
            },
            "type": "contourcarpet"
           }
          ],
          "heatmap": [
           {
            "colorbar": {
             "outlinewidth": 0,
             "ticks": ""
            },
            "colorscale": [
             [
              0,
              "#0d0887"
             ],
             [
              0.1111111111111111,
              "#46039f"
             ],
             [
              0.2222222222222222,
              "#7201a8"
             ],
             [
              0.3333333333333333,
              "#9c179e"
             ],
             [
              0.4444444444444444,
              "#bd3786"
             ],
             [
              0.5555555555555556,
              "#d8576b"
             ],
             [
              0.6666666666666666,
              "#ed7953"
             ],
             [
              0.7777777777777778,
              "#fb9f3a"
             ],
             [
              0.8888888888888888,
              "#fdca26"
             ],
             [
              1,
              "#f0f921"
             ]
            ],
            "type": "heatmap"
           }
          ],
          "heatmapgl": [
           {
            "colorbar": {
             "outlinewidth": 0,
             "ticks": ""
            },
            "colorscale": [
             [
              0,
              "#0d0887"
             ],
             [
              0.1111111111111111,
              "#46039f"
             ],
             [
              0.2222222222222222,
              "#7201a8"
             ],
             [
              0.3333333333333333,
              "#9c179e"
             ],
             [
              0.4444444444444444,
              "#bd3786"
             ],
             [
              0.5555555555555556,
              "#d8576b"
             ],
             [
              0.6666666666666666,
              "#ed7953"
             ],
             [
              0.7777777777777778,
              "#fb9f3a"
             ],
             [
              0.8888888888888888,
              "#fdca26"
             ],
             [
              1,
              "#f0f921"
             ]
            ],
            "type": "heatmapgl"
           }
          ],
          "histogram": [
           {
            "marker": {
             "colorbar": {
              "outlinewidth": 0,
              "ticks": ""
             }
            },
            "type": "histogram"
           }
          ],
          "histogram2d": [
           {
            "colorbar": {
             "outlinewidth": 0,
             "ticks": ""
            },
            "colorscale": [
             [
              0,
              "#0d0887"
             ],
             [
              0.1111111111111111,
              "#46039f"
             ],
             [
              0.2222222222222222,
              "#7201a8"
             ],
             [
              0.3333333333333333,
              "#9c179e"
             ],
             [
              0.4444444444444444,
              "#bd3786"
             ],
             [
              0.5555555555555556,
              "#d8576b"
             ],
             [
              0.6666666666666666,
              "#ed7953"
             ],
             [
              0.7777777777777778,
              "#fb9f3a"
             ],
             [
              0.8888888888888888,
              "#fdca26"
             ],
             [
              1,
              "#f0f921"
             ]
            ],
            "type": "histogram2d"
           }
          ],
          "histogram2dcontour": [
           {
            "colorbar": {
             "outlinewidth": 0,
             "ticks": ""
            },
            "colorscale": [
             [
              0,
              "#0d0887"
             ],
             [
              0.1111111111111111,
              "#46039f"
             ],
             [
              0.2222222222222222,
              "#7201a8"
             ],
             [
              0.3333333333333333,
              "#9c179e"
             ],
             [
              0.4444444444444444,
              "#bd3786"
             ],
             [
              0.5555555555555556,
              "#d8576b"
             ],
             [
              0.6666666666666666,
              "#ed7953"
             ],
             [
              0.7777777777777778,
              "#fb9f3a"
             ],
             [
              0.8888888888888888,
              "#fdca26"
             ],
             [
              1,
              "#f0f921"
             ]
            ],
            "type": "histogram2dcontour"
           }
          ],
          "mesh3d": [
           {
            "colorbar": {
             "outlinewidth": 0,
             "ticks": ""
            },
            "type": "mesh3d"
           }
          ],
          "parcoords": [
           {
            "line": {
             "colorbar": {
              "outlinewidth": 0,
              "ticks": ""
             }
            },
            "type": "parcoords"
           }
          ],
          "pie": [
           {
            "automargin": true,
            "type": "pie"
           }
          ],
          "scatter": [
           {
            "marker": {
             "colorbar": {
              "outlinewidth": 0,
              "ticks": ""
             }
            },
            "type": "scatter"
           }
          ],
          "scatter3d": [
           {
            "line": {
             "colorbar": {
              "outlinewidth": 0,
              "ticks": ""
             }
            },
            "marker": {
             "colorbar": {
              "outlinewidth": 0,
              "ticks": ""
             }
            },
            "type": "scatter3d"
           }
          ],
          "scattercarpet": [
           {
            "marker": {
             "colorbar": {
              "outlinewidth": 0,
              "ticks": ""
             }
            },
            "type": "scattercarpet"
           }
          ],
          "scattergeo": [
           {
            "marker": {
             "colorbar": {
              "outlinewidth": 0,
              "ticks": ""
             }
            },
            "type": "scattergeo"
           }
          ],
          "scattergl": [
           {
            "marker": {
             "colorbar": {
              "outlinewidth": 0,
              "ticks": ""
             }
            },
            "type": "scattergl"
           }
          ],
          "scattermapbox": [
           {
            "marker": {
             "colorbar": {
              "outlinewidth": 0,
              "ticks": ""
             }
            },
            "type": "scattermapbox"
           }
          ],
          "scatterpolar": [
           {
            "marker": {
             "colorbar": {
              "outlinewidth": 0,
              "ticks": ""
             }
            },
            "type": "scatterpolar"
           }
          ],
          "scatterpolargl": [
           {
            "marker": {
             "colorbar": {
              "outlinewidth": 0,
              "ticks": ""
             }
            },
            "type": "scatterpolargl"
           }
          ],
          "scatterternary": [
           {
            "marker": {
             "colorbar": {
              "outlinewidth": 0,
              "ticks": ""
             }
            },
            "type": "scatterternary"
           }
          ],
          "surface": [
           {
            "colorbar": {
             "outlinewidth": 0,
             "ticks": ""
            },
            "colorscale": [
             [
              0,
              "#0d0887"
             ],
             [
              0.1111111111111111,
              "#46039f"
             ],
             [
              0.2222222222222222,
              "#7201a8"
             ],
             [
              0.3333333333333333,
              "#9c179e"
             ],
             [
              0.4444444444444444,
              "#bd3786"
             ],
             [
              0.5555555555555556,
              "#d8576b"
             ],
             [
              0.6666666666666666,
              "#ed7953"
             ],
             [
              0.7777777777777778,
              "#fb9f3a"
             ],
             [
              0.8888888888888888,
              "#fdca26"
             ],
             [
              1,
              "#f0f921"
             ]
            ],
            "type": "surface"
           }
          ],
          "table": [
           {
            "cells": {
             "fill": {
              "color": "#EBF0F8"
             },
             "line": {
              "color": "white"
             }
            },
            "header": {
             "fill": {
              "color": "#C8D4E3"
             },
             "line": {
              "color": "white"
             }
            },
            "type": "table"
           }
          ]
         },
         "layout": {
          "annotationdefaults": {
           "arrowcolor": "#2a3f5f",
           "arrowhead": 0,
           "arrowwidth": 1
          },
          "autotypenumbers": "strict",
          "coloraxis": {
           "colorbar": {
            "outlinewidth": 0,
            "ticks": ""
           }
          },
          "colorscale": {
           "diverging": [
            [
             0,
             "#8e0152"
            ],
            [
             0.1,
             "#c51b7d"
            ],
            [
             0.2,
             "#de77ae"
            ],
            [
             0.3,
             "#f1b6da"
            ],
            [
             0.4,
             "#fde0ef"
            ],
            [
             0.5,
             "#f7f7f7"
            ],
            [
             0.6,
             "#e6f5d0"
            ],
            [
             0.7,
             "#b8e186"
            ],
            [
             0.8,
             "#7fbc41"
            ],
            [
             0.9,
             "#4d9221"
            ],
            [
             1,
             "#276419"
            ]
           ],
           "sequential": [
            [
             0,
             "#0d0887"
            ],
            [
             0.1111111111111111,
             "#46039f"
            ],
            [
             0.2222222222222222,
             "#7201a8"
            ],
            [
             0.3333333333333333,
             "#9c179e"
            ],
            [
             0.4444444444444444,
             "#bd3786"
            ],
            [
             0.5555555555555556,
             "#d8576b"
            ],
            [
             0.6666666666666666,
             "#ed7953"
            ],
            [
             0.7777777777777778,
             "#fb9f3a"
            ],
            [
             0.8888888888888888,
             "#fdca26"
            ],
            [
             1,
             "#f0f921"
            ]
           ],
           "sequentialminus": [
            [
             0,
             "#0d0887"
            ],
            [
             0.1111111111111111,
             "#46039f"
            ],
            [
             0.2222222222222222,
             "#7201a8"
            ],
            [
             0.3333333333333333,
             "#9c179e"
            ],
            [
             0.4444444444444444,
             "#bd3786"
            ],
            [
             0.5555555555555556,
             "#d8576b"
            ],
            [
             0.6666666666666666,
             "#ed7953"
            ],
            [
             0.7777777777777778,
             "#fb9f3a"
            ],
            [
             0.8888888888888888,
             "#fdca26"
            ],
            [
             1,
             "#f0f921"
            ]
           ]
          },
          "colorway": [
           "#636efa",
           "#EF553B",
           "#00cc96",
           "#ab63fa",
           "#FFA15A",
           "#19d3f3",
           "#FF6692",
           "#B6E880",
           "#FF97FF",
           "#FECB52"
          ],
          "font": {
           "color": "#2a3f5f"
          },
          "geo": {
           "bgcolor": "white",
           "lakecolor": "white",
           "landcolor": "#E5ECF6",
           "showlakes": true,
           "showland": true,
           "subunitcolor": "white"
          },
          "hoverlabel": {
           "align": "left"
          },
          "hovermode": "closest",
          "mapbox": {
           "style": "light"
          },
          "paper_bgcolor": "white",
          "plot_bgcolor": "#E5ECF6",
          "polar": {
           "angularaxis": {
            "gridcolor": "white",
            "linecolor": "white",
            "ticks": ""
           },
           "bgcolor": "#E5ECF6",
           "radialaxis": {
            "gridcolor": "white",
            "linecolor": "white",
            "ticks": ""
           }
          },
          "scene": {
           "xaxis": {
            "backgroundcolor": "#E5ECF6",
            "gridcolor": "white",
            "gridwidth": 2,
            "linecolor": "white",
            "showbackground": true,
            "ticks": "",
            "zerolinecolor": "white"
           },
           "yaxis": {
            "backgroundcolor": "#E5ECF6",
            "gridcolor": "white",
            "gridwidth": 2,
            "linecolor": "white",
            "showbackground": true,
            "ticks": "",
            "zerolinecolor": "white"
           },
           "zaxis": {
            "backgroundcolor": "#E5ECF6",
            "gridcolor": "white",
            "gridwidth": 2,
            "linecolor": "white",
            "showbackground": true,
            "ticks": "",
            "zerolinecolor": "white"
           }
          },
          "shapedefaults": {
           "line": {
            "color": "#2a3f5f"
           }
          },
          "ternary": {
           "aaxis": {
            "gridcolor": "white",
            "linecolor": "white",
            "ticks": ""
           },
           "baxis": {
            "gridcolor": "white",
            "linecolor": "white",
            "ticks": ""
           },
           "bgcolor": "#E5ECF6",
           "caxis": {
            "gridcolor": "white",
            "linecolor": "white",
            "ticks": ""
           }
          },
          "title": {
           "x": 0.05
          },
          "xaxis": {
           "automargin": true,
           "gridcolor": "white",
           "linecolor": "white",
           "ticks": "",
           "title": {
            "standoff": 15
           },
           "zerolinecolor": "white",
           "zerolinewidth": 2
          },
          "yaxis": {
           "automargin": true,
           "gridcolor": "white",
           "linecolor": "white",
           "ticks": "",
           "title": {
            "standoff": 15
           },
           "zerolinecolor": "white",
           "zerolinewidth": 2
          }
         }
        },
        "title": {
         "text": "Probability of being killed or injured in a collision across the week."
        },
        "width": 1500,
        "xaxis": {
         "anchor": "y",
         "autorange": true,
         "domain": [
          0,
          1
         ],
         "range": [
          -0.5,
          167.5
         ],
         "title": {
          "text": "Hour of week"
         },
         "type": "linear"
        },
        "yaxis": {
         "anchor": "x",
         "domain": [
          0,
          1
         ],
         "range": [
          0,
          29
         ],
         "title": {
          "text": "Probability of being injured or killed in a collision"
         },
         "type": "linear"
        }
       }
      },
      "image/png": "[encoded data removed]",
      "text/html": [
       "<div>                            <div id=\"a08304e2-9348-40fe-ab2a-dedecd0b3874\" class=\"plotly-graph-div\" style=\"height:800px; width:1500px;\"></div>            <script type=\"text/javascript\">                require([\"plotly\"], function(Plotly) {                    window.PLOTLYENV=window.PLOTLYENV || {};                                    if (document.getElementById(\"a08304e2-9348-40fe-ab2a-dedecd0b3874\")) {                    Plotly.newPlot(                        \"a08304e2-9348-40fe-ab2a-dedecd0b3874\",                        [{\"alignmentgroup\": \"True\", \"customdata\": [[1427, 11, 3, 6304, \"Monday 00:00\"], [682, 1, 3, 2888, \"Monday 01:00\"], [464, 7, 2, 2055, \"Monday 02:00\"], [408, 6, 3, 1665, \"Monday 03:00\"], [529, 11, 3, 2032, \"Monday 04:00\"], [715, 8, 3, 2841, \"Monday 05:00\"], [1274, 9, 4, 5774, \"Monday 06:00\"], [1733, 7, 3, 8406, \"Monday 07:00\"], [2843, 10, 0, 15909, \"Monday 08:00\"], [2379, 9, 3, 14936, \"Monday 09:00\"], [2018, 9, 3, 13137, \"Monday 10:00\"], [2025, 9, 2, 13216, \"Monday 11:00\"], [2260, 10, 3, 13456, \"Monday 12:00\"], [2402, 10, 2, 13924, \"Monday 13:00\"], [2763, 4, 2, 15879, \"Monday 14:00\"], [3013, 4, 2, 15150, \"Monday 15:00\"], [3449, 15, 6, 18015, \"Monday 16:00\"], [3587, 13, 6, 17368, \"Monday 17:00\"], [3178, 11, 3, 14672, \"Monday 18:00\"], [2587, 18, 1, 11330, \"Monday 19:00\"], [2207, 10, 2, 8886, \"Monday 20:00\"], [1819, 10, 2, 7103, \"Monday 21:00\"], [1476, 12, 4, 6027, \"Monday 22:00\"], [1252, 10, 5, 4750, \"Monday 23:00\"]], \"hovertemplate\": \"<b>%{customdata[4]}</b><br><br>Number of collisions with only injured: %{customdata[0]}<br>Number of collisions with only killed: %{customdata[1]}<br>Number of collisions with both killed and injured: %{customdata[2]}<br>Total number of collisions: %{customdata[3]}<br><br>Probability of a collision being serious: %{y}%\", \"legendgroup\": \"Monday\", \"marker\": {\"color\": \"#636efa\"}, \"name\": \"Monday\", \"offsetgroup\": \"Monday\", \"orientation\": \"v\", \"showlegend\": true, \"textposition\": \"auto\", \"type\": \"bar\", \"x\": [0, 1, 2, 3, 4, 5, 6, 7, 8, 9, 10, 11, 12, 13, 14, 15, 16, 17, 18, 19, 20, 21, 22, 23], \"xaxis\": \"x\", \"y\": [22.858502538071065, 23.753462603878116, 23.01703163017032, 25.045045045045043, 26.722440944881892, 25.55438225976769, 22.289573952199515, 20.735189150606708, 17.933245332830474, 16.008302088912693, 15.45253863134658, 15.405569007263923, 16.892092746730082, 17.336972134444125, 17.438125826563386, 19.927392739273927, 19.26172633916181, 20.762321510824506, 21.755725190839694, 23.000882612533097, 24.97186585640333, 25.777840349148246, 24.755267960842875, 26.673684210526318], \"yaxis\": \"y\"}, {\"alignmentgroup\": \"True\", \"customdata\": [[1195, 7, 1, 5626, \"Tuesday 00:00\"], [524, 11, 7, 2333, \"Tuesday 01:00\"], [398, 1, 0, 1637, \"Tuesday 02:00\"], [305, 3, 5, 1289, \"Tuesday 03:00\"], [357, 8, 5, 1477, \"Tuesday 04:00\"], [634, 7, 1, 2600, \"Tuesday 05:00\"], [1234, 16, 5, 5694, \"Tuesday 06:00\"], [1739, 4, 4, 8688, \"Tuesday 07:00\"], [3051, 7, 1, 16650, \"Tuesday 08:00\"], [2581, 14, 0, 15908, \"Tuesday 09:00\"], [2201, 9, 2, 13828, \"Tuesday 10:00\"], [2188, 7, 3, 13737, \"Tuesday 11:00\"], [2304, 9, 2, 13963, \"Tuesday 12:00\"], [2434, 7, 1, 14410, \"Tuesday 13:00\"], [2977, 11, 5, 16613, \"Tuesday 14:00\"], [3053, 7, 2, 15374, \"Tuesday 15:00\"], [3477, 7, 2, 18515, \"Tuesday 16:00\"], [3750, 12, 3, 18441, \"Tuesday 17:00\"], [3381, 10, 3, 15689, \"Tuesday 18:00\"], [2901, 10, 2, 12350, \"Tuesday 19:00\"], [2484, 9, 2, 9724, \"Tuesday 20:00\"], [1926, 13, 2, 7710, \"Tuesday 21:00\"], [1668, 5, 1, 6661, \"Tuesday 22:00\"], [1332, 11, 6, 5280, \"Tuesday 23:00\"]], \"hovertemplate\": \"<b>%{customdata[4]}</b><br><br>Number of collisions with only injured: %{customdata[0]}<br>Number of collisions with only killed: %{customdata[1]}<br>Number of collisions with both killed and injured: %{customdata[2]}<br>Total number of collisions: %{customdata[3]}<br><br>Probability of a collision being serious: %{y}%\", \"legendgroup\": \"Tuesday\", \"marker\": {\"color\": \"#EF553B\"}, \"name\": \"Tuesday\", \"offsetgroup\": \"Tuesday\", \"orientation\": \"v\", \"showlegend\": true, \"textposition\": \"auto\", \"type\": \"bar\", \"x\": [24, 25, 26, 27, 28, 29, 30, 31, 32, 33, 34, 35, 36, 37, 38, 39, 40, 41, 42, 43, 44, 45, 46, 47], \"xaxis\": \"x\", \"y\": [21.38286526839673, 23.231890270038576, 24.373854612095297, 24.282389449185416, 25.050778605280975, 24.69230769230769, 22.04074464348437, 20.108195211786374, 18.37237237237237, 16.31254714609002, 15.996528782181082, 16.000582368785032, 16.579531619279525, 16.946564885496183, 18.016011557214227, 19.91674255236113, 18.82797731568998, 20.416463315438424, 21.632991267767228, 23.587044534412954, 25.65816536404772, 25.17509727626459, 25.131361657408796, 25.549242424242426], \"yaxis\": \"y\"}, {\"alignmentgroup\": \"True\", \"customdata\": [[1313, 10, 5, 5882, \"Wednesday 00:00\"], [585, 3, 3, 2582, \"Wednesday 01:00\"], [383, 2, 4, 1689, \"Wednesday 02:00\"], [323, 3, 2, 1442, \"Wednesday 03:00\"], [414, 7, 3, 1638, \"Wednesday 04:00\"], [589, 7, 2, 2531, \"Wednesday 05:00\"], [1252, 10, 1, 5441, \"Wednesday 06:00\"], [1807, 8, 1, 8555, \"Wednesday 07:00\"], [2965, 5, 2, 16087, \"Wednesday 08:00\"], [2391, 6, 3, 14697, \"Wednesday 09:00\"], [1944, 7, 3, 12929, \"Wednesday 10:00\"], [2129, 6, 0, 12733, \"Wednesday 11:00\"], [2316, 6, 3, 13559, \"Wednesday 12:00\"], [2420, 6, 2, 13890, \"Wednesday 13:00\"], [2940, 6, 4, 16795, \"Wednesday 14:00\"], [3110, 11, 3, 15601, \"Wednesday 15:00\"], [3370, 10, 4, 18202, \"Wednesday 16:00\"], [3651, 12, 3, 18311, \"Wednesday 17:00\"], [3442, 14, 3, 16160, \"Wednesday 18:00\"], [2769, 15, 1, 12495, \"Wednesday 19:00\"], [2333, 8, 4, 9726, \"Wednesday 20:00\"], [2038, 14, 1, 8110, \"Wednesday 21:00\"], [1724, 8, 0, 7062, \"Wednesday 22:00\"], [1340, 8, 3, 5454, \"Wednesday 23:00\"]], \"hovertemplate\": \"<b>%{customdata[4]}</b><br><br>Number of collisions with only injured: %{customdata[0]}<br>Number of collisions with only killed: %{customdata[1]}<br>Number of collisions with both killed and injured: %{customdata[2]}<br>Total number of collisions: %{customdata[3]}<br><br>Probability of a collision being serious: %{y}%\", \"legendgroup\": \"Wednesday\", \"marker\": {\"color\": \"#00cc96\"}, \"name\": \"Wednesday\", \"offsetgroup\": \"Wednesday\", \"orientation\": \"v\", \"showlegend\": true, \"textposition\": \"auto\", \"type\": \"bar\", \"x\": [48, 49, 50, 51, 52, 53, 54, 55, 56, 57, 58, 59, 60, 61, 62, 63, 64, 65, 66, 67, 68, 69, 70, 71], \"xaxis\": \"x\", \"y\": [22.577354641278475, 22.889233152594887, 23.031379514505623, 22.74618585298197, 25.88522588522589, 23.627024891347293, 23.21264473442382, 21.227352425482174, 18.474544663392802, 16.329863237395386, 15.113311160955991, 16.767454645409565, 17.147282247953388, 17.48020158387329, 17.564751414111342, 20.024357412986348, 18.591363586419074, 20.020752553110153, 21.40470297029703, 22.288915566226493, 24.11063129755295, 25.314426633785448, 24.52563013310677, 24.770810414374772], \"yaxis\": \"y\"}, {\"alignmentgroup\": \"True\", \"customdata\": [[1390, 9, 4, 6352, \"Thursday 00:00\"], [591, 8, 2, 2692, \"Thursday 01:00\"], [455, 8, 1, 1985, \"Thursday 02:00\"], [357, 4, 3, 1563, \"Thursday 03:00\"], [447, 8, 1, 1835, \"Thursday 04:00\"], [576, 12, 1, 2581, \"Thursday 05:00\"], [1206, 12, 1, 5473, \"Thursday 06:00\"], [1757, 8, 2, 8254, \"Thursday 07:00\"], [2921, 5, 4, 16233, \"Thursday 08:00\"], [2364, 8, 1, 15259, \"Thursday 09:00\"], [2101, 7, 0, 13243, \"Thursday 10:00\"], [2107, 13, 1, 13327, \"Thursday 11:00\"], [2382, 5, 1, 13836, \"Thursday 12:00\"], [2557, 6, 2, 14414, \"Thursday 13:00\"], [3003, 3, 0, 16561, \"Thursday 14:00\"], [3096, 7, 3, 15529, \"Thursday 15:00\"], [3357, 12, 0, 18481, \"Thursday 16:00\"], [3683, 8, 4, 18449, \"Thursday 17:00\"], [3321, 11, 2, 15871, \"Thursday 18:00\"], [2810, 11, 5, 12706, \"Thursday 19:00\"], [2427, 13, 2, 10374, \"Thursday 20:00\"], [2100, 12, 3, 8711, \"Thursday 21:00\"], [1758, 6, 3, 7735, \"Thursday 22:00\"], [1494, 14, 4, 6065, \"Thursday 23:00\"]], \"hovertemplate\": \"<b>%{customdata[4]}</b><br><br>Number of collisions with only injured: %{customdata[0]}<br>Number of collisions with only killed: %{customdata[1]}<br>Number of collisions with both killed and injured: %{customdata[2]}<br>Total number of collisions: %{customdata[3]}<br><br>Probability of a collision being serious: %{y}%\", \"legendgroup\": \"Thursday\", \"marker\": {\"color\": \"#ab63fa\"}, \"name\": \"Thursday\", \"offsetgroup\": \"Thursday\", \"orientation\": \"v\", \"showlegend\": true, \"textposition\": \"auto\", \"type\": \"bar\", \"x\": [72, 73, 74, 75, 76, 77, 78, 79, 80, 81, 82, 83, 84, 85, 86, 87, 88, 89, 90, 91, 92, 93, 94, 95], \"xaxis\": \"x\", \"y\": [22.087531486146094, 22.32540861812779, 23.375314861460957, 23.28854766474728, 24.850136239782017, 22.820612165827196, 22.272976429746024, 21.407802277683547, 18.04965194357174, 15.551477816370666, 15.917843388960208, 15.915059653335334, 17.259323503902863, 17.79519911197447, 18.151077833464164, 20.001287912937084, 18.229533033926735, 20.028185809528974, 21.00686787221977, 22.24146072721549, 23.53961827646038, 24.279646424061532, 22.844214608920492, 24.929925803792248], \"yaxis\": \"y\"}, {\"alignmentgroup\": \"True\", \"customdata\": [[1550, 8, 0, 7301, \"Friday 00:00\"], [770, 6, 0, 3492, \"Friday 01:00\"], [502, 3, 1, 2496, \"Friday 02:00\"], [477, 9, 0, 1980, \"Friday 03:00\"], [556, 9, 4, 2307, \"Friday 04:00\"], [721, 6, 0, 2939, \"Friday 05:00\"], [1220, 5, 1, 5717, \"Friday 06:00\"], [1710, 7, 2, 8216, \"Friday 07:00\"], [2794, 7, 1, 15454, \"Friday 08:00\"], [2371, 7, 3, 14803, \"Friday 09:00\"], [1991, 11, 2, 12989, \"Friday 10:00\"], [2249, 8, 4, 13492, \"Friday 11:00\"], [2372, 14, 1, 14340, \"Friday 12:00\"], [2626, 5, 1, 15043, \"Friday 13:00\"], [3315, 11, 4, 18048, \"Friday 14:00\"], [3271, 9, 5, 17094, \"Friday 15:00\"], [3575, 5, 3, 19589, \"Friday 16:00\"], [3780, 14, 4, 19508, \"Friday 17:00\"], [3593, 14, 4, 16759, \"Friday 18:00\"], [3014, 13, 2, 13777, \"Friday 19:00\"], [2558, 10, 4, 11430, \"Friday 20:00\"], [2112, 15, 3, 9361, \"Friday 21:00\"], [2068, 12, 1, 8826, \"Friday 22:00\"], [1890, 11, 3, 7785, \"Friday 23:00\"]], \"hovertemplate\": \"<b>%{customdata[4]}</b><br><br>Number of collisions with only injured: %{customdata[0]}<br>Number of collisions with only killed: %{customdata[1]}<br>Number of collisions with both killed and injured: %{customdata[2]}<br>Total number of collisions: %{customdata[3]}<br><br>Probability of a collision being serious: %{y}%\", \"legendgroup\": \"Friday\", \"marker\": {\"color\": \"#FFA15A\"}, \"name\": \"Friday\", \"offsetgroup\": \"Friday\", \"orientation\": \"v\", \"showlegend\": true, \"textposition\": \"auto\", \"type\": \"bar\", \"x\": [96, 97, 98, 99, 100, 101, 102, 103, 104, 105, 106, 107, 108, 109, 110, 111, 112, 113, 114, 115, 116, 117, 118, 119], \"xaxis\": \"x\", \"y\": [21.339542528420765, 22.22222222222222, 20.272435897435898, 24.545454545454547, 24.664065886432596, 24.736304865600545, 21.444813713486095, 20.92259006815969, 18.131228160993917, 16.084577450516786, 15.428439448764339, 16.758078861547585, 16.645746164574614, 17.496510004653327, 18.450797872340424, 19.217269217269216, 18.29087753330951, 19.46893582120156, 21.546631660600273, 21.985918559918705, 22.502187226596675, 22.753979275718407, 23.57806480852028, 24.4572896596018], \"yaxis\": \"y\"}, {\"alignmentgroup\": \"True\", \"customdata\": [[1972, 14, 2, 9078, \"Saturday 00:00\"], [1312, 3, 9, 5841, \"Saturday 01:00\"], [1161, 10, 7, 4796, \"Saturday 02:00\"], [1080, 11, 7, 4349, \"Saturday 03:00\"], [1208, 13, 10, 4889, \"Saturday 04:00\"], [951, 6, 5, 3989, \"Saturday 05:00\"], [875, 3, 2, 3782, \"Saturday 06:00\"], [808, 1, 3, 3790, \"Saturday 07:00\"], [1204, 2, 2, 6753, \"Saturday 08:00\"], [1412, 8, 0, 8071, \"Saturday 09:00\"], [1548, 10, 2, 9453, \"Saturday 10:00\"], [1941, 6, 2, 11030, \"Saturday 11:00\"], [2190, 3, 2, 12246, \"Saturday 12:00\"], [2419, 7, 3, 13486, \"Saturday 13:00\"], [2677, 9, 1, 14843, \"Saturday 14:00\"], [2633, 5, 5, 12860, \"Saturday 15:00\"], [2830, 10, 6, 15120, \"Saturday 16:00\"], [2790, 19, 7, 13840, \"Saturday 17:00\"], [2733, 14, 5, 12873, \"Saturday 18:00\"], [2556, 7, 5, 11295, \"Saturday 19:00\"], [2399, 9, 5, 10282, \"Saturday 20:00\"], [2218, 17, 2, 9328, \"Saturday 21:00\"], [2134, 12, 4, 9080, \"Saturday 22:00\"], [2006, 11, 6, 8159, \"Saturday 23:00\"]], \"hovertemplate\": \"<b>%{customdata[4]}</b><br><br>Number of collisions with only injured: %{customdata[0]}<br>Number of collisions with only killed: %{customdata[1]}<br>Number of collisions with both killed and injured: %{customdata[2]}<br>Total number of collisions: %{customdata[3]}<br><br>Probability of a collision being serious: %{y}%\", \"legendgroup\": \"Saturday\", \"marker\": {\"color\": \"#19d3f3\"}, \"name\": \"Saturday\", \"offsetgroup\": \"Saturday\", \"orientation\": \"v\", \"showlegend\": true, \"textposition\": \"auto\", \"type\": \"bar\", \"x\": [120, 121, 122, 123, 124, 125, 126, 127, 128, 129, 130, 131, 132, 133, 134, 135, 136, 137, 138, 139, 140, 141, 142, 143], \"xaxis\": \"x\", \"y\": [21.89909671733862, 22.667351480910803, 24.56213511259383, 25.247183260519662, 25.178973205154424, 24.116319879669092, 23.268112109994714, 21.424802110817943, 17.888345920331705, 17.593854540949078, 16.502697556331324, 17.669990933816862, 17.924220153519517, 18.011270947649415, 18.102809405106786, 20.552099533437012, 18.822751322751323, 20.346820809248555, 21.378078148061835, 22.735723771580346, 23.46819684886209, 23.98156089193825, 23.6784140969163, 24.794705233484496], \"yaxis\": \"y\"}, {\"alignmentgroup\": \"True\", \"customdata\": [[2056, 14, 5, 9115, \"Sunday 00:00\"], [1445, 15, 4, 6418, \"Sunday 01:00\"], [1249, 12, 6, 5170, \"Sunday 02:00\"], [1255, 12, 5, 4907, \"Sunday 03:00\"], [1430, 19, 10, 5548, \"Sunday 04:00\"], [1101, 12, 8, 4451, \"Sunday 05:00\"], [786, 4, 5, 3410, \"Sunday 06:00\"], [700, 6, 1, 3006, \"Sunday 07:00\"], [892, 5, 1, 4895, \"Sunday 08:00\"], [1002, 2, 2, 5764, \"Sunday 09:00\"], [1275, 6, 1, 7425, \"Sunday 10:00\"], [1615, 4, 0, 9041, \"Sunday 11:00\"], [1838, 4, 6, 10364, \"Sunday 12:00\"], [2116, 11, 2, 11679, \"Sunday 13:00\"], [2445, 2, 4, 13538, \"Sunday 14:00\"], [2443, 9, 1, 11892, \"Sunday 15:00\"], [2576, 8, 4, 13469, \"Sunday 16:00\"], [2535, 10, 4, 12304, \"Sunday 17:00\"], [2566, 8, 3, 11359, \"Sunday 18:00\"], [2340, 8, 2, 9946, \"Sunday 19:00\"], [2167, 12, 6, 8871, \"Sunday 20:00\"], [1949, 11, 2, 7763, \"Sunday 21:00\"], [1782, 13, 7, 7179, \"Sunday 22:00\"], [1410, 6, 3, 5675, \"Sunday 23:00\"]], \"hovertemplate\": \"<b>%{customdata[4]}</b><br><br>Number of collisions with only injured: %{customdata[0]}<br>Number of collisions with only killed: %{customdata[1]}<br>Number of collisions with both killed and injured: %{customdata[2]}<br>Total number of collisions: %{customdata[3]}<br><br>Probability of a collision being serious: %{y}%\", \"legendgroup\": \"Sunday\", \"marker\": {\"color\": \"#FF6692\"}, \"name\": \"Sunday\", \"offsetgroup\": \"Sunday\", \"orientation\": \"v\", \"showlegend\": true, \"textposition\": \"auto\", \"type\": \"bar\", \"x\": [144, 145, 146, 147, 148, 149, 150, 151, 152, 153, 154, 155, 156, 157, 158, 159, 160, 161, 162, 163, 164, 165, 166, 167], \"xaxis\": \"x\", \"y\": [22.76467361492046, 22.810844499844187, 24.506769825918763, 25.922152027715505, 26.297764960346072, 25.18535160638059, 23.313782991202345, 23.51962741184298, 18.345250255362615, 17.453157529493406, 17.265993265993266, 17.907311138148437, 17.830953299884214, 18.229300453805976, 18.10459447481164, 20.627312478977462, 19.21449253842156, 20.716840052015606, 22.686856237344838, 23.62758898049467, 24.630819524292637, 25.27373438103826, 25.10098899568185, 25.004405286343612], \"yaxis\": \"y\"}],                        {\"barmode\": \"relative\", \"height\": 800, \"legend\": {\"title\": {\"text\": \"weekday\"}, \"tracegroupgap\": 0}, \"template\": {\"data\": {\"bar\": [{\"error_x\": {\"color\": \"#2a3f5f\"}, \"error_y\": {\"color\": \"#2a3f5f\"}, \"marker\": {\"line\": {\"color\": \"#E5ECF6\", \"width\": 0.5}}, \"type\": \"bar\"}], \"barpolar\": [{\"marker\": {\"line\": {\"color\": \"#E5ECF6\", \"width\": 0.5}}, \"type\": \"barpolar\"}], \"carpet\": [{\"aaxis\": {\"endlinecolor\": \"#2a3f5f\", \"gridcolor\": \"white\", \"linecolor\": \"white\", \"minorgridcolor\": \"white\", \"startlinecolor\": \"#2a3f5f\"}, \"baxis\": {\"endlinecolor\": \"#2a3f5f\", \"gridcolor\": \"white\", \"linecolor\": \"white\", \"minorgridcolor\": \"white\", \"startlinecolor\": \"#2a3f5f\"}, \"type\": \"carpet\"}], \"choropleth\": [{\"colorbar\": {\"outlinewidth\": 0, \"ticks\": \"\"}, \"type\": \"choropleth\"}], \"contour\": [{\"colorbar\": {\"outlinewidth\": 0, \"ticks\": \"\"}, \"colorscale\": [[0.0, \"#0d0887\"], [0.1111111111111111, \"#46039f\"], [0.2222222222222222, \"#7201a8\"], [0.3333333333333333, \"#9c179e\"], [0.4444444444444444, \"#bd3786\"], [0.5555555555555556, \"#d8576b\"], [0.6666666666666666, \"#ed7953\"], [0.7777777777777778, \"#fb9f3a\"], [0.8888888888888888, \"#fdca26\"], [1.0, \"#f0f921\"]], \"type\": \"contour\"}], \"contourcarpet\": [{\"colorbar\": {\"outlinewidth\": 0, \"ticks\": \"\"}, \"type\": \"contourcarpet\"}], \"heatmap\": [{\"colorbar\": {\"outlinewidth\": 0, \"ticks\": \"\"}, \"colorscale\": [[0.0, \"#0d0887\"], [0.1111111111111111, \"#46039f\"], [0.2222222222222222, \"#7201a8\"], [0.3333333333333333, \"#9c179e\"], [0.4444444444444444, \"#bd3786\"], [0.5555555555555556, \"#d8576b\"], [0.6666666666666666, \"#ed7953\"], [0.7777777777777778, \"#fb9f3a\"], [0.8888888888888888, \"#fdca26\"], [1.0, \"#f0f921\"]], \"type\": \"heatmap\"}], \"heatmapgl\": [{\"colorbar\": {\"outlinewidth\": 0, \"ticks\": \"\"}, \"colorscale\": [[0.0, \"#0d0887\"], [0.1111111111111111, \"#46039f\"], [0.2222222222222222, \"#7201a8\"], [0.3333333333333333, \"#9c179e\"], [0.4444444444444444, \"#bd3786\"], [0.5555555555555556, \"#d8576b\"], [0.6666666666666666, \"#ed7953\"], [0.7777777777777778, \"#fb9f3a\"], [0.8888888888888888, \"#fdca26\"], [1.0, \"#f0f921\"]], \"type\": \"heatmapgl\"}], \"histogram\": [{\"marker\": {\"colorbar\": {\"outlinewidth\": 0, \"ticks\": \"\"}}, \"type\": \"histogram\"}], \"histogram2d\": [{\"colorbar\": {\"outlinewidth\": 0, \"ticks\": \"\"}, \"colorscale\": [[0.0, \"#0d0887\"], [0.1111111111111111, \"#46039f\"], [0.2222222222222222, \"#7201a8\"], [0.3333333333333333, \"#9c179e\"], [0.4444444444444444, \"#bd3786\"], [0.5555555555555556, \"#d8576b\"], [0.6666666666666666, \"#ed7953\"], [0.7777777777777778, \"#fb9f3a\"], [0.8888888888888888, \"#fdca26\"], [1.0, \"#f0f921\"]], \"type\": \"histogram2d\"}], \"histogram2dcontour\": [{\"colorbar\": {\"outlinewidth\": 0, \"ticks\": \"\"}, \"colorscale\": [[0.0, \"#0d0887\"], [0.1111111111111111, \"#46039f\"], [0.2222222222222222, \"#7201a8\"], [0.3333333333333333, \"#9c179e\"], [0.4444444444444444, \"#bd3786\"], [0.5555555555555556, \"#d8576b\"], [0.6666666666666666, \"#ed7953\"], [0.7777777777777778, \"#fb9f3a\"], [0.8888888888888888, \"#fdca26\"], [1.0, \"#f0f921\"]], \"type\": \"histogram2dcontour\"}], \"mesh3d\": [{\"colorbar\": {\"outlinewidth\": 0, \"ticks\": \"\"}, \"type\": \"mesh3d\"}], \"parcoords\": [{\"line\": {\"colorbar\": {\"outlinewidth\": 0, \"ticks\": \"\"}}, \"type\": \"parcoords\"}], \"pie\": [{\"automargin\": true, \"type\": \"pie\"}], \"scatter\": [{\"marker\": {\"colorbar\": {\"outlinewidth\": 0, \"ticks\": \"\"}}, \"type\": \"scatter\"}], \"scatter3d\": [{\"line\": {\"colorbar\": {\"outlinewidth\": 0, \"ticks\": \"\"}}, \"marker\": {\"colorbar\": {\"outlinewidth\": 0, \"ticks\": \"\"}}, \"type\": \"scatter3d\"}], \"scattercarpet\": [{\"marker\": {\"colorbar\": {\"outlinewidth\": 0, \"ticks\": \"\"}}, \"type\": \"scattercarpet\"}], \"scattergeo\": [{\"marker\": {\"colorbar\": {\"outlinewidth\": 0, \"ticks\": \"\"}}, \"type\": \"scattergeo\"}], \"scattergl\": [{\"marker\": {\"colorbar\": {\"outlinewidth\": 0, \"ticks\": \"\"}}, \"type\": \"scattergl\"}], \"scattermapbox\": [{\"marker\": {\"colorbar\": {\"outlinewidth\": 0, \"ticks\": \"\"}}, \"type\": \"scattermapbox\"}], \"scatterpolar\": [{\"marker\": {\"colorbar\": {\"outlinewidth\": 0, \"ticks\": \"\"}}, \"type\": \"scatterpolar\"}], \"scatterpolargl\": [{\"marker\": {\"colorbar\": {\"outlinewidth\": 0, \"ticks\": \"\"}}, \"type\": \"scatterpolargl\"}], \"scatterternary\": [{\"marker\": {\"colorbar\": {\"outlinewidth\": 0, \"ticks\": \"\"}}, \"type\": \"scatterternary\"}], \"surface\": [{\"colorbar\": {\"outlinewidth\": 0, \"ticks\": \"\"}, \"colorscale\": [[0.0, \"#0d0887\"], [0.1111111111111111, \"#46039f\"], [0.2222222222222222, \"#7201a8\"], [0.3333333333333333, \"#9c179e\"], [0.4444444444444444, \"#bd3786\"], [0.5555555555555556, \"#d8576b\"], [0.6666666666666666, \"#ed7953\"], [0.7777777777777778, \"#fb9f3a\"], [0.8888888888888888, \"#fdca26\"], [1.0, \"#f0f921\"]], \"type\": \"surface\"}], \"table\": [{\"cells\": {\"fill\": {\"color\": \"#EBF0F8\"}, \"line\": {\"color\": \"white\"}}, \"header\": {\"fill\": {\"color\": \"#C8D4E3\"}, \"line\": {\"color\": \"white\"}}, \"type\": \"table\"}]}, \"layout\": {\"annotationdefaults\": {\"arrowcolor\": \"#2a3f5f\", \"arrowhead\": 0, \"arrowwidth\": 1}, \"autotypenumbers\": \"strict\", \"coloraxis\": {\"colorbar\": {\"outlinewidth\": 0, \"ticks\": \"\"}}, \"colorscale\": {\"diverging\": [[0, \"#8e0152\"], [0.1, \"#c51b7d\"], [0.2, \"#de77ae\"], [0.3, \"#f1b6da\"], [0.4, \"#fde0ef\"], [0.5, \"#f7f7f7\"], [0.6, \"#e6f5d0\"], [0.7, \"#b8e186\"], [0.8, \"#7fbc41\"], [0.9, \"#4d9221\"], [1, \"#276419\"]], \"sequential\": [[0.0, \"#0d0887\"], [0.1111111111111111, \"#46039f\"], [0.2222222222222222, \"#7201a8\"], [0.3333333333333333, \"#9c179e\"], [0.4444444444444444, \"#bd3786\"], [0.5555555555555556, \"#d8576b\"], [0.6666666666666666, \"#ed7953\"], [0.7777777777777778, \"#fb9f3a\"], [0.8888888888888888, \"#fdca26\"], [1.0, \"#f0f921\"]], \"sequentialminus\": [[0.0, \"#0d0887\"], [0.1111111111111111, \"#46039f\"], [0.2222222222222222, \"#7201a8\"], [0.3333333333333333, \"#9c179e\"], [0.4444444444444444, \"#bd3786\"], [0.5555555555555556, \"#d8576b\"], [0.6666666666666666, \"#ed7953\"], [0.7777777777777778, \"#fb9f3a\"], [0.8888888888888888, \"#fdca26\"], [1.0, \"#f0f921\"]]}, \"colorway\": [\"#636efa\", \"#EF553B\", \"#00cc96\", \"#ab63fa\", \"#FFA15A\", \"#19d3f3\", \"#FF6692\", \"#B6E880\", \"#FF97FF\", \"#FECB52\"], \"font\": {\"color\": \"#2a3f5f\"}, \"geo\": {\"bgcolor\": \"white\", \"lakecolor\": \"white\", \"landcolor\": \"#E5ECF6\", \"showlakes\": true, \"showland\": true, \"subunitcolor\": \"white\"}, \"hoverlabel\": {\"align\": \"left\"}, \"hovermode\": \"closest\", \"mapbox\": {\"style\": \"light\"}, \"paper_bgcolor\": \"white\", \"plot_bgcolor\": \"#E5ECF6\", \"polar\": {\"angularaxis\": {\"gridcolor\": \"white\", \"linecolor\": \"white\", \"ticks\": \"\"}, \"bgcolor\": \"#E5ECF6\", \"radialaxis\": {\"gridcolor\": \"white\", \"linecolor\": \"white\", \"ticks\": \"\"}}, \"scene\": {\"xaxis\": {\"backgroundcolor\": \"#E5ECF6\", \"gridcolor\": \"white\", \"gridwidth\": 2, \"linecolor\": \"white\", \"showbackground\": true, \"ticks\": \"\", \"zerolinecolor\": \"white\"}, \"yaxis\": {\"backgroundcolor\": \"#E5ECF6\", \"gridcolor\": \"white\", \"gridwidth\": 2, \"linecolor\": \"white\", \"showbackground\": true, \"ticks\": \"\", \"zerolinecolor\": \"white\"}, \"zaxis\": {\"backgroundcolor\": \"#E5ECF6\", \"gridcolor\": \"white\", \"gridwidth\": 2, \"linecolor\": \"white\", \"showbackground\": true, \"ticks\": \"\", \"zerolinecolor\": \"white\"}}, \"shapedefaults\": {\"line\": {\"color\": \"#2a3f5f\"}}, \"ternary\": {\"aaxis\": {\"gridcolor\": \"white\", \"linecolor\": \"white\", \"ticks\": \"\"}, \"baxis\": {\"gridcolor\": \"white\", \"linecolor\": \"white\", \"ticks\": \"\"}, \"bgcolor\": \"#E5ECF6\", \"caxis\": {\"gridcolor\": \"white\", \"linecolor\": \"white\", \"ticks\": \"\"}}, \"title\": {\"x\": 0.05}, \"xaxis\": {\"automargin\": true, \"gridcolor\": \"white\", \"linecolor\": \"white\", \"ticks\": \"\", \"title\": {\"standoff\": 15}, \"zerolinecolor\": \"white\", \"zerolinewidth\": 2}, \"yaxis\": {\"automargin\": true, \"gridcolor\": \"white\", \"linecolor\": \"white\", \"ticks\": \"\", \"title\": {\"standoff\": 15}, \"zerolinecolor\": \"white\", \"zerolinewidth\": 2}}}, \"title\": {\"text\": \"Probability of being killed or injured in a collision across the week.\"}, \"width\": 1500, \"xaxis\": {\"anchor\": \"y\", \"domain\": [0.0, 1.0], \"title\": {\"text\": \"Hour of week\"}}, \"yaxis\": {\"anchor\": \"x\", \"domain\": [0.0, 1.0], \"range\": [0, 29.0], \"title\": {\"text\": \"Probability of being injured or killed in a collision\"}}},                        {\"responsive\": true}                    ).then(function(){\n",
       "                            \n",
       "var gd = document.getElementById('a08304e2-9348-40fe-ab2a-dedecd0b3874');\n",
       "var x = new MutationObserver(function (mutations, observer) {{\n",
       "        var display = window.getComputedStyle(gd).display;\n",
       "        if (!display || display === 'none') {{\n",
       "            console.log([gd, 'removed!']);\n",
       "            Plotly.purge(gd);\n",
       "            observer.disconnect();\n",
       "        }}\n",
       "}});\n",
       "\n",
       "// Listen for the removal of the full notebook cells\n",
       "var notebookContainer = gd.closest('#notebook-container');\n",
       "if (notebookContainer) {{\n",
       "    x.observe(notebookContainer, {childList: true});\n",
       "}}\n",
       "\n",
       "// Listen for the clearing of the current output cell\n",
       "var outputEl = gd.closest('.output');\n",
       "if (outputEl) {{\n",
       "    x.observe(outputEl, {childList: true});\n",
       "}}\n",
       "\n",
       "                        })                };                });            </script>        </div>"
      ]
     },
     "metadata": {},
     "output_type": "display_data"
    }
   ],
   "source": [
    "df['AnyInjured'] = (df['NUMBER OF PERSONS INJURED'] > 0).astype(int)\n",
    "df['AnyKilled']  = (df['NUMBER OF PERSONS KILLED'] > 0).astype(int)\n",
    "\n",
    "df_plot1 = pd.DataFrame({'hour_of_week'          : np.arange(0,24*7),\n",
    "                         'only_injured'  : df.loc[(df['AnyInjured'] == 1)&(df['AnyKilled'] == 0)].groupby([df['TIME'].dt.hour, df['TIME'].dt.weekday]).size().unstack().fillna(0).values.reshape(-1,order='F').astype(int),\n",
    "                         'only_killed'   : df.loc[(df['AnyInjured'] == 0)&(df['AnyKilled'] == 1)].groupby([df['TIME'].dt.hour, df['TIME'].dt.weekday]).size().unstack().fillna(0).values.reshape(-1,order='F').astype(int),\n",
    "                         'both'          : df.loc[(df['AnyInjured'] == 1)&(df['AnyKilled'] == 1)].groupby([df['TIME'].dt.hour, df['TIME'].dt.weekday]).size().unstack().fillna(0).values.reshape(-1,order='F').astype(int),\n",
    "                         'either'        : df.loc[(df['AnyInjured'] == 1)|(df['AnyKilled'] == 1)].groupby([df['TIME'].dt.hour, df['TIME'].dt.weekday]).size().unstack().fillna(0).values.reshape(-1,order='F').astype(int),\n",
    "                         'total_count'   : df.groupby([df['TIME'].dt.hour, df['TIME'].dt.weekday]).size().unstack().values.reshape(-1,order='F'),\n",
    "                         'weekday'       : np.repeat(list(calendar.day_name),24)})\n",
    "\n",
    "df_plot1['probability'] = (df_plot1['either']/df_plot1['total_count'])*100\n",
    "df_plot1['weekday_and_time'] = df_plot1['weekday'] + ' ' + [str(x).zfill(2)+':00' for x in np.arange(0,24)]*7\n",
    "\n",
    "fig = px.bar(df_plot1,x='hour_of_week', y='probability',\n",
    "             custom_data=['only_injured', 'only_killed', 'both', 'total_count', 'weekday_and_time'],\n",
    "             labels = {'hour_of_week' : 'Hour of week', 'probability' : 'Probability of being injured or killed in a collision'},\n",
    "             color='weekday',\n",
    "             title='Probability of a collision being either deadly or serious across the week.',\n",
    "             height=800, width=1500)\n",
    "\n",
    "\n",
    "fig.update_traces(\n",
    "    hovertemplate=\"<br>\".join([\n",
    "        \"<b>%{customdata[4]}</b>\",\n",
    "        \"\",\n",
    "        \"Number of collisions with only injured: %{customdata[0]}\",\n",
    "        \"Number of collisions with only killed: %{customdata[1]}\",\n",
    "        \"Number of collisions with both killed and injured: %{customdata[2]}\",\n",
    "        \"Total number of collisions: %{customdata[3]}\",\n",
    "        \"\",\n",
    "        \"Probability of a collision being serious: %{y}%\",\n",
    "    ])\n",
    ")\n",
    "\n",
    "fig.update_layout(yaxis_range=[0,np.ceil(df_plot1['probability'].max())+2])\n",
    "fig.show()"
   ]
  },
  {
   "cell_type": "code",
   "execution_count": 106,
   "id": "interstate-commissioner",
   "metadata": {},
   "outputs": [],
   "source": [
    "import numpy as np\n",
    "factors = df[[f'CONTRIBUTING FACTOR VEHICLE {i}' for i in range(1,6)]].values.reshape(-1,)\n",
    "factors = np.unique(factors[~pd.isna(factors)])"
   ]
  },
  {
   "cell_type": "code",
   "execution_count": 126,
   "id": "specified-knock",
   "metadata": {},
   "outputs": [
    {
     "name": "stdout",
     "output_type": "stream",
     "text": [
      "1 : 0.21428571428571427\n",
      "80 : 0.18487394957983194\n",
      "Accelerator Defective : 0.2849846782431052\n",
      "Aggressive Driving/Road Rage : 0.28625014652444025\n",
      "Alcohol Involvement : 0.29801968641792786\n",
      "Animals Action : 0.29108764128219383\n",
      "Backing Unsafely : 0.1457545942006351\n",
      "Brakes Defective : 0.15415875389898553\n",
      "Cell Phone (hand-Held) : 0.1548124124281053\n",
      "Cell Phone (hand-held) : 0.15487938596491227\n",
      "Cell Phone (hands-free) : 0.15500605492402048\n",
      "Driver Inattention/Distraction : 0.1994683019175551\n",
      "Driver Inexperience : 0.1986347289485014\n",
      "Driverless/Runaway Vehicle : 0.19852977326701138\n",
      "Drugs (Illegal) : 0.19862541193858352\n",
      "Drugs (illegal) : 0.19897015628966166\n",
      "Eating or Drinking : 0.19898061461687744\n",
      "Failure to Keep Right : 0.19907682134924806\n",
      "Failure to Yield Right-of-Way : 0.22394303063836643\n",
      "Fatigued/Drowsy : 0.22038069033623478\n",
      "Fell Asleep : 0.22099804946202906\n",
      "Following Too Closely : 0.22163166234595205\n",
      "Glare : 0.2224511573996679\n",
      "Headlights Defective : 0.22246521151676393\n",
      "Illnes : 0.22315297861361957\n",
      "Illness : 0.22303539425280342\n",
      "Lane Marking Improper/Inadequate : 0.2229143517428086\n",
      "Listening/Using Headphones : 0.2229252593209373\n",
      "Lost Consciousness : 0.22043137960079878\n",
      "Obstruction/Debris : 0.22018190555287093\n",
      "Other Electronic Device : 0.22007987917435812\n",
      "Other Lighting Defects : 0.22011245622489098\n",
      "Other Vehicular : 0.21603762835040452\n",
      "Outside Car Distraction : 0.2157532145776763\n",
      "Oversized Vehicle : 0.21370970234408515\n",
      "Passenger Distraction : 0.21570481917365267\n",
      "Passing Too Closely : 0.20842143241194874\n",
      "Passing or Lane Usage Improper : 0.20415511629025207\n",
      "Pavement Defective : 0.20433365022829827\n",
      "Pavement Slippery : 0.20469182039649247\n",
      "Pedestrian/Bicyclist/Other Pedestrian Error/Confusion : 0.20812901665437408\n",
      "Physical Disability : 0.20958972037634624\n",
      "Prescription Medication : 0.20867299083351099\n",
      "Reaction to Other Uninvolved Vehicle : 0.20858509660789026\n",
      "Reaction to Uninvolved Vehicle : 0.2086057629641465\n",
      "Shoulders Defective/Improper : 0.2086073676830595\n",
      "Steering Failure : 0.20864853298425365\n",
      "Texting : 0.20864926436885292\n",
      "Tinted Windows : 0.2086629574665569\n",
      "Tire Failure/Inadequate : 0.20868055846363873\n",
      "Tow Hitch Defective : 0.20866458642342964\n",
      "Traffic Control Device Improper/Non-Working : 0.2087377422007235\n",
      "Traffic Control Disregarded : 0.21387747775679128\n",
      "Turning Improperly : 0.21049133004732637\n",
      "Unsafe Lane Changing : 0.2075467383443559\n",
      "Unsafe Speed : 0.20995896022544616\n",
      "Unspecified : 0.19884796147240913\n",
      "Using On Board Navigation Device : 0.19884810060051802\n",
      "Vehicle Vandalism : 0.19884738553303835\n",
      "View Obstructed/Limited : 0.1993870569461186\n",
      "Windshield Inadequate : 0.1993897458514735\n"
     ]
    }
   ],
   "source": [
    "mask = np.zeros(len(df))\n",
    "contributing_factors = df[[f'CONTRIBUTING FACTOR VEHICLE {i}' for i in range(1,6)]].values\n",
    "for factor in factors:\n",
    "    for i in range(len(df)):\n",
    "        if factor in contributing_factors[i,:]:\n",
    "            mask[i] = 1\n",
    "            \n",
    "    df_subset = df.iloc[mask.astype(bool),:]\n",
    "    \n",
    "    p = len(df_subset.loc[(df_subset['NUMBER OF PERSONS KILLED'] + df_subset['NUMBER OF PERSONS INJURED']) > 0]) / len(df_subset)\n",
    "    print(f'{factor} : {p}')"
   ]
  },
  {
   "cell_type": "markdown",
   "id": "brave-generator",
   "metadata": {},
   "source": [
    "## Cleaning up the data"
   ]
  },
  {
   "cell_type": "code",
   "execution_count": 3,
   "id": "smooth-invalid",
   "metadata": {},
   "outputs": [
    {
     "ename": "KeyboardInterrupt",
     "evalue": "",
     "output_type": "error",
     "traceback": [
      "\u001b[0;31m---------------------------------------------------------------------------\u001b[0m",
      "\u001b[0;31mKeyboardInterrupt\u001b[0m                         Traceback (most recent call last)",
      "\u001b[0;32m<ipython-input-3-fb842a507581>\u001b[0m in \u001b[0;36m<module>\u001b[0;34m\u001b[0m\n\u001b[1;32m      1\u001b[0m \u001b[0mdf_serious\u001b[0m \u001b[0;34m=\u001b[0m \u001b[0mdf\u001b[0m\u001b[0;34m.\u001b[0m\u001b[0mloc\u001b[0m\u001b[0;34m[\u001b[0m\u001b[0;34m(\u001b[0m\u001b[0mdf\u001b[0m\u001b[0;34m[\u001b[0m\u001b[0;34m'NUMBER OF PERSONS KILLED'\u001b[0m\u001b[0;34m]\u001b[0m \u001b[0;34m+\u001b[0m \u001b[0mdf\u001b[0m\u001b[0;34m[\u001b[0m\u001b[0;34m'NUMBER OF PERSONS INJURED'\u001b[0m\u001b[0;34m]\u001b[0m\u001b[0;34m)\u001b[0m \u001b[0;34m>\u001b[0m \u001b[0;36m0\u001b[0m\u001b[0;34m]\u001b[0m\u001b[0;34m\u001b[0m\u001b[0;34m\u001b[0m\u001b[0m\n\u001b[0;32m----> 2\u001b[0;31m \u001b[0mdf_serious\u001b[0m\u001b[0;34m[\u001b[0m\u001b[0;34m'TIME'\u001b[0m\u001b[0;34m]\u001b[0m \u001b[0;34m=\u001b[0m \u001b[0mpd\u001b[0m\u001b[0;34m.\u001b[0m\u001b[0mto_datetime\u001b[0m\u001b[0;34m(\u001b[0m\u001b[0mdf_serious\u001b[0m\u001b[0;34m[\u001b[0m\u001b[0;34m'CRASH DATE'\u001b[0m\u001b[0;34m]\u001b[0m \u001b[0;34m+\u001b[0m \u001b[0;34m' '\u001b[0m \u001b[0;34m+\u001b[0m \u001b[0mdf_serious\u001b[0m\u001b[0;34m[\u001b[0m\u001b[0;34m'CRASH TIME'\u001b[0m\u001b[0;34m]\u001b[0m\u001b[0;34m)\u001b[0m \u001b[0;31m#Takes approximately 1 minute.\u001b[0m\u001b[0;34m\u001b[0m\u001b[0;34m\u001b[0m\u001b[0m\n\u001b[0m\u001b[1;32m      3\u001b[0m \u001b[0;34m\u001b[0m\u001b[0m\n\u001b[1;32m      4\u001b[0m \u001b[0;31m#Discard 2012 and 2021.\u001b[0m\u001b[0;34m\u001b[0m\u001b[0;34m\u001b[0m\u001b[0;34m\u001b[0m\u001b[0m\n\u001b[1;32m      5\u001b[0m \u001b[0mdf_serious\u001b[0m \u001b[0;34m=\u001b[0m \u001b[0mdf_serious\u001b[0m\u001b[0;34m.\u001b[0m\u001b[0mloc\u001b[0m\u001b[0;34m[\u001b[0m\u001b[0;34m~\u001b[0m\u001b[0;34m(\u001b[0m\u001b[0;34m(\u001b[0m\u001b[0mdf_serious\u001b[0m\u001b[0;34m[\u001b[0m\u001b[0;34m'TIME'\u001b[0m\u001b[0;34m]\u001b[0m\u001b[0;34m.\u001b[0m\u001b[0mdt\u001b[0m\u001b[0;34m.\u001b[0m\u001b[0myear\u001b[0m \u001b[0;34m==\u001b[0m \u001b[0;36m2012\u001b[0m\u001b[0;34m)\u001b[0m \u001b[0;34m|\u001b[0m \u001b[0;34m(\u001b[0m\u001b[0mdf_serious\u001b[0m\u001b[0;34m[\u001b[0m\u001b[0;34m'TIME'\u001b[0m\u001b[0;34m]\u001b[0m\u001b[0;34m.\u001b[0m\u001b[0mdt\u001b[0m\u001b[0;34m.\u001b[0m\u001b[0myear\u001b[0m \u001b[0;34m==\u001b[0m \u001b[0;36m2021\u001b[0m\u001b[0;34m)\u001b[0m\u001b[0;34m)\u001b[0m\u001b[0;34m]\u001b[0m\u001b[0;34m\u001b[0m\u001b[0;34m\u001b[0m\u001b[0m\n",
      "\u001b[0;32m/opt/anaconda3/lib/python3.7/site-packages/pandas/core/tools/datetimes.py\u001b[0m in \u001b[0;36mto_datetime\u001b[0;34m(arg, errors, dayfirst, yearfirst, utc, format, exact, unit, infer_datetime_format, origin, cache)\u001b[0m\n\u001b[1;32m    803\u001b[0m             \u001b[0mresult\u001b[0m \u001b[0;34m=\u001b[0m \u001b[0marg\u001b[0m\u001b[0;34m.\u001b[0m\u001b[0mmap\u001b[0m\u001b[0;34m(\u001b[0m\u001b[0mcache_array\u001b[0m\u001b[0;34m)\u001b[0m\u001b[0;34m\u001b[0m\u001b[0;34m\u001b[0m\u001b[0m\n\u001b[1;32m    804\u001b[0m         \u001b[0;32melse\u001b[0m\u001b[0;34m:\u001b[0m\u001b[0;34m\u001b[0m\u001b[0;34m\u001b[0m\u001b[0m\n\u001b[0;32m--> 805\u001b[0;31m             \u001b[0mvalues\u001b[0m \u001b[0;34m=\u001b[0m \u001b[0mconvert_listlike\u001b[0m\u001b[0;34m(\u001b[0m\u001b[0marg\u001b[0m\u001b[0;34m.\u001b[0m\u001b[0m_values\u001b[0m\u001b[0;34m,\u001b[0m \u001b[0mformat\u001b[0m\u001b[0;34m)\u001b[0m\u001b[0;34m\u001b[0m\u001b[0;34m\u001b[0m\u001b[0m\n\u001b[0m\u001b[1;32m    806\u001b[0m             \u001b[0mresult\u001b[0m \u001b[0;34m=\u001b[0m \u001b[0marg\u001b[0m\u001b[0;34m.\u001b[0m\u001b[0m_constructor\u001b[0m\u001b[0;34m(\u001b[0m\u001b[0mvalues\u001b[0m\u001b[0;34m,\u001b[0m \u001b[0mindex\u001b[0m\u001b[0;34m=\u001b[0m\u001b[0marg\u001b[0m\u001b[0;34m.\u001b[0m\u001b[0mindex\u001b[0m\u001b[0;34m,\u001b[0m \u001b[0mname\u001b[0m\u001b[0;34m=\u001b[0m\u001b[0marg\u001b[0m\u001b[0;34m.\u001b[0m\u001b[0mname\u001b[0m\u001b[0;34m)\u001b[0m\u001b[0;34m\u001b[0m\u001b[0;34m\u001b[0m\u001b[0m\n\u001b[1;32m    807\u001b[0m     \u001b[0;32melif\u001b[0m \u001b[0misinstance\u001b[0m\u001b[0;34m(\u001b[0m\u001b[0marg\u001b[0m\u001b[0;34m,\u001b[0m \u001b[0;34m(\u001b[0m\u001b[0mABCDataFrame\u001b[0m\u001b[0;34m,\u001b[0m \u001b[0mabc\u001b[0m\u001b[0;34m.\u001b[0m\u001b[0mMutableMapping\u001b[0m\u001b[0;34m)\u001b[0m\u001b[0;34m)\u001b[0m\u001b[0;34m:\u001b[0m\u001b[0;34m\u001b[0m\u001b[0;34m\u001b[0m\u001b[0m\n",
      "\u001b[0;32m/opt/anaconda3/lib/python3.7/site-packages/pandas/core/tools/datetimes.py\u001b[0m in \u001b[0;36m_convert_listlike_datetimes\u001b[0;34m(arg, format, name, tz, unit, errors, infer_datetime_format, dayfirst, yearfirst, exact)\u001b[0m\n\u001b[1;32m    470\u001b[0m             \u001b[0merrors\u001b[0m\u001b[0;34m=\u001b[0m\u001b[0merrors\u001b[0m\u001b[0;34m,\u001b[0m\u001b[0;34m\u001b[0m\u001b[0;34m\u001b[0m\u001b[0m\n\u001b[1;32m    471\u001b[0m             \u001b[0mrequire_iso8601\u001b[0m\u001b[0;34m=\u001b[0m\u001b[0mrequire_iso8601\u001b[0m\u001b[0;34m,\u001b[0m\u001b[0;34m\u001b[0m\u001b[0;34m\u001b[0m\u001b[0m\n\u001b[0;32m--> 472\u001b[0;31m             \u001b[0mallow_object\u001b[0m\u001b[0;34m=\u001b[0m\u001b[0;32mTrue\u001b[0m\u001b[0;34m,\u001b[0m\u001b[0;34m\u001b[0m\u001b[0;34m\u001b[0m\u001b[0m\n\u001b[0m\u001b[1;32m    473\u001b[0m         )\n\u001b[1;32m    474\u001b[0m \u001b[0;34m\u001b[0m\u001b[0m\n",
      "\u001b[0;32m/opt/anaconda3/lib/python3.7/site-packages/pandas/core/arrays/datetimes.py\u001b[0m in \u001b[0;36mobjects_to_datetime64ns\u001b[0;34m(data, dayfirst, yearfirst, utc, errors, require_iso8601, allow_object)\u001b[0m\n\u001b[1;32m   2079\u001b[0m             \u001b[0mdayfirst\u001b[0m\u001b[0;34m=\u001b[0m\u001b[0mdayfirst\u001b[0m\u001b[0;34m,\u001b[0m\u001b[0;34m\u001b[0m\u001b[0;34m\u001b[0m\u001b[0m\n\u001b[1;32m   2080\u001b[0m             \u001b[0myearfirst\u001b[0m\u001b[0;34m=\u001b[0m\u001b[0myearfirst\u001b[0m\u001b[0;34m,\u001b[0m\u001b[0;34m\u001b[0m\u001b[0;34m\u001b[0m\u001b[0m\n\u001b[0;32m-> 2081\u001b[0;31m             \u001b[0mrequire_iso8601\u001b[0m\u001b[0;34m=\u001b[0m\u001b[0mrequire_iso8601\u001b[0m\u001b[0;34m,\u001b[0m\u001b[0;34m\u001b[0m\u001b[0;34m\u001b[0m\u001b[0m\n\u001b[0m\u001b[1;32m   2082\u001b[0m         )\n\u001b[1;32m   2083\u001b[0m     \u001b[0;32mexcept\u001b[0m \u001b[0mValueError\u001b[0m \u001b[0;32mas\u001b[0m \u001b[0me\u001b[0m\u001b[0;34m:\u001b[0m\u001b[0;34m\u001b[0m\u001b[0;34m\u001b[0m\u001b[0m\n",
      "\u001b[0;32mpandas/_libs/tslib.pyx\u001b[0m in \u001b[0;36mpandas._libs.tslib.array_to_datetime\u001b[0;34m()\u001b[0m\n",
      "\u001b[0;32mpandas/_libs/tslib.pyx\u001b[0m in \u001b[0;36mpandas._libs.tslib.array_to_datetime\u001b[0;34m()\u001b[0m\n",
      "\u001b[0;32mpandas/_libs/tslibs/parsing.pyx\u001b[0m in \u001b[0;36mpandas._libs.tslibs.parsing.parse_datetime_string\u001b[0;34m()\u001b[0m\n",
      "\u001b[0;32m/opt/anaconda3/lib/python3.7/site-packages/dateutil/parser/_parser.py\u001b[0m in \u001b[0;36mparse\u001b[0;34m(timestr, parserinfo, **kwargs)\u001b[0m\n\u001b[1;32m   1372\u001b[0m         \u001b[0;32mreturn\u001b[0m \u001b[0mparser\u001b[0m\u001b[0;34m(\u001b[0m\u001b[0mparserinfo\u001b[0m\u001b[0;34m)\u001b[0m\u001b[0;34m.\u001b[0m\u001b[0mparse\u001b[0m\u001b[0;34m(\u001b[0m\u001b[0mtimestr\u001b[0m\u001b[0;34m,\u001b[0m \u001b[0;34m**\u001b[0m\u001b[0mkwargs\u001b[0m\u001b[0;34m)\u001b[0m\u001b[0;34m\u001b[0m\u001b[0;34m\u001b[0m\u001b[0m\n\u001b[1;32m   1373\u001b[0m     \u001b[0;32melse\u001b[0m\u001b[0;34m:\u001b[0m\u001b[0;34m\u001b[0m\u001b[0;34m\u001b[0m\u001b[0m\n\u001b[0;32m-> 1374\u001b[0;31m         \u001b[0;32mreturn\u001b[0m \u001b[0mDEFAULTPARSER\u001b[0m\u001b[0;34m.\u001b[0m\u001b[0mparse\u001b[0m\u001b[0;34m(\u001b[0m\u001b[0mtimestr\u001b[0m\u001b[0;34m,\u001b[0m \u001b[0;34m**\u001b[0m\u001b[0mkwargs\u001b[0m\u001b[0;34m)\u001b[0m\u001b[0;34m\u001b[0m\u001b[0;34m\u001b[0m\u001b[0m\n\u001b[0m\u001b[1;32m   1375\u001b[0m \u001b[0;34m\u001b[0m\u001b[0m\n\u001b[1;32m   1376\u001b[0m \u001b[0;34m\u001b[0m\u001b[0m\n",
      "\u001b[0;32m/opt/anaconda3/lib/python3.7/site-packages/dateutil/parser/_parser.py\u001b[0m in \u001b[0;36mparse\u001b[0;34m(self, timestr, default, ignoretz, tzinfos, **kwargs)\u001b[0m\n\u001b[1;32m    644\u001b[0m                                                       second=0, microsecond=0)\n\u001b[1;32m    645\u001b[0m \u001b[0;34m\u001b[0m\u001b[0m\n\u001b[0;32m--> 646\u001b[0;31m         \u001b[0mres\u001b[0m\u001b[0;34m,\u001b[0m \u001b[0mskipped_tokens\u001b[0m \u001b[0;34m=\u001b[0m \u001b[0mself\u001b[0m\u001b[0;34m.\u001b[0m\u001b[0m_parse\u001b[0m\u001b[0;34m(\u001b[0m\u001b[0mtimestr\u001b[0m\u001b[0;34m,\u001b[0m \u001b[0;34m**\u001b[0m\u001b[0mkwargs\u001b[0m\u001b[0;34m)\u001b[0m\u001b[0;34m\u001b[0m\u001b[0;34m\u001b[0m\u001b[0m\n\u001b[0m\u001b[1;32m    647\u001b[0m \u001b[0;34m\u001b[0m\u001b[0m\n\u001b[1;32m    648\u001b[0m         \u001b[0;32mif\u001b[0m \u001b[0mres\u001b[0m \u001b[0;32mis\u001b[0m \u001b[0;32mNone\u001b[0m\u001b[0;34m:\u001b[0m\u001b[0;34m\u001b[0m\u001b[0;34m\u001b[0m\u001b[0m\n",
      "\u001b[0;32m/opt/anaconda3/lib/python3.7/site-packages/dateutil/parser/_parser.py\u001b[0m in \u001b[0;36m_parse\u001b[0;34m(self, timestr, dayfirst, yearfirst, fuzzy, fuzzy_with_tokens)\u001b[0m\n\u001b[1;32m    723\u001b[0m \u001b[0;34m\u001b[0m\u001b[0m\n\u001b[1;32m    724\u001b[0m         \u001b[0mres\u001b[0m \u001b[0;34m=\u001b[0m \u001b[0mself\u001b[0m\u001b[0;34m.\u001b[0m\u001b[0m_result\u001b[0m\u001b[0;34m(\u001b[0m\u001b[0;34m)\u001b[0m\u001b[0;34m\u001b[0m\u001b[0;34m\u001b[0m\u001b[0m\n\u001b[0;32m--> 725\u001b[0;31m         \u001b[0ml\u001b[0m \u001b[0;34m=\u001b[0m \u001b[0m_timelex\u001b[0m\u001b[0;34m.\u001b[0m\u001b[0msplit\u001b[0m\u001b[0;34m(\u001b[0m\u001b[0mtimestr\u001b[0m\u001b[0;34m)\u001b[0m         \u001b[0;31m# Splits the timestr into tokens\u001b[0m\u001b[0;34m\u001b[0m\u001b[0;34m\u001b[0m\u001b[0m\n\u001b[0m\u001b[1;32m    726\u001b[0m \u001b[0;34m\u001b[0m\u001b[0m\n\u001b[1;32m    727\u001b[0m         \u001b[0mskipped_idxs\u001b[0m \u001b[0;34m=\u001b[0m \u001b[0;34m[\u001b[0m\u001b[0;34m]\u001b[0m\u001b[0;34m\u001b[0m\u001b[0;34m\u001b[0m\u001b[0m\n",
      "\u001b[0;32m/opt/anaconda3/lib/python3.7/site-packages/dateutil/parser/_parser.py\u001b[0m in \u001b[0;36msplit\u001b[0;34m(cls, s)\u001b[0m\n\u001b[1;32m    205\u001b[0m     \u001b[0;34m@\u001b[0m\u001b[0mclassmethod\u001b[0m\u001b[0;34m\u001b[0m\u001b[0;34m\u001b[0m\u001b[0m\n\u001b[1;32m    206\u001b[0m     \u001b[0;32mdef\u001b[0m \u001b[0msplit\u001b[0m\u001b[0;34m(\u001b[0m\u001b[0mcls\u001b[0m\u001b[0;34m,\u001b[0m \u001b[0ms\u001b[0m\u001b[0;34m)\u001b[0m\u001b[0;34m:\u001b[0m\u001b[0;34m\u001b[0m\u001b[0;34m\u001b[0m\u001b[0m\n\u001b[0;32m--> 207\u001b[0;31m         \u001b[0;32mreturn\u001b[0m \u001b[0mlist\u001b[0m\u001b[0;34m(\u001b[0m\u001b[0mcls\u001b[0m\u001b[0;34m(\u001b[0m\u001b[0ms\u001b[0m\u001b[0;34m)\u001b[0m\u001b[0;34m)\u001b[0m\u001b[0;34m\u001b[0m\u001b[0;34m\u001b[0m\u001b[0m\n\u001b[0m\u001b[1;32m    208\u001b[0m \u001b[0;34m\u001b[0m\u001b[0m\n\u001b[1;32m    209\u001b[0m     \u001b[0;34m@\u001b[0m\u001b[0mclassmethod\u001b[0m\u001b[0;34m\u001b[0m\u001b[0;34m\u001b[0m\u001b[0m\n",
      "\u001b[0;32m/opt/anaconda3/lib/python3.7/site-packages/dateutil/parser/_parser.py\u001b[0m in \u001b[0;36m__next__\u001b[0;34m(self)\u001b[0m\n\u001b[1;32m    194\u001b[0m \u001b[0;34m\u001b[0m\u001b[0m\n\u001b[1;32m    195\u001b[0m     \u001b[0;32mdef\u001b[0m \u001b[0m__next__\u001b[0m\u001b[0;34m(\u001b[0m\u001b[0mself\u001b[0m\u001b[0;34m)\u001b[0m\u001b[0;34m:\u001b[0m\u001b[0;34m\u001b[0m\u001b[0;34m\u001b[0m\u001b[0m\n\u001b[0;32m--> 196\u001b[0;31m         \u001b[0mtoken\u001b[0m \u001b[0;34m=\u001b[0m \u001b[0mself\u001b[0m\u001b[0;34m.\u001b[0m\u001b[0mget_token\u001b[0m\u001b[0;34m(\u001b[0m\u001b[0;34m)\u001b[0m\u001b[0;34m\u001b[0m\u001b[0;34m\u001b[0m\u001b[0m\n\u001b[0m\u001b[1;32m    197\u001b[0m         \u001b[0;32mif\u001b[0m \u001b[0mtoken\u001b[0m \u001b[0;32mis\u001b[0m \u001b[0;32mNone\u001b[0m\u001b[0;34m:\u001b[0m\u001b[0;34m\u001b[0m\u001b[0;34m\u001b[0m\u001b[0m\n\u001b[1;32m    198\u001b[0m             \u001b[0;32mraise\u001b[0m \u001b[0mStopIteration\u001b[0m\u001b[0;34m\u001b[0m\u001b[0;34m\u001b[0m\u001b[0m\n",
      "\u001b[0;32m/opt/anaconda3/lib/python3.7/site-packages/dateutil/parser/_parser.py\u001b[0m in \u001b[0;36mget_token\u001b[0;34m(self)\u001b[0m\n\u001b[1;32m    108\u001b[0m             \u001b[0;31m# charstack.\u001b[0m\u001b[0;34m\u001b[0m\u001b[0;34m\u001b[0m\u001b[0;34m\u001b[0m\u001b[0m\n\u001b[1;32m    109\u001b[0m             \u001b[0;32mif\u001b[0m \u001b[0mself\u001b[0m\u001b[0;34m.\u001b[0m\u001b[0mcharstack\u001b[0m\u001b[0;34m:\u001b[0m\u001b[0;34m\u001b[0m\u001b[0;34m\u001b[0m\u001b[0m\n\u001b[0;32m--> 110\u001b[0;31m                 \u001b[0mnextchar\u001b[0m \u001b[0;34m=\u001b[0m \u001b[0mself\u001b[0m\u001b[0;34m.\u001b[0m\u001b[0mcharstack\u001b[0m\u001b[0;34m.\u001b[0m\u001b[0mpop\u001b[0m\u001b[0;34m(\u001b[0m\u001b[0;36m0\u001b[0m\u001b[0;34m)\u001b[0m\u001b[0;34m\u001b[0m\u001b[0;34m\u001b[0m\u001b[0m\n\u001b[0m\u001b[1;32m    111\u001b[0m             \u001b[0;32melse\u001b[0m\u001b[0;34m:\u001b[0m\u001b[0;34m\u001b[0m\u001b[0;34m\u001b[0m\u001b[0m\n\u001b[1;32m    112\u001b[0m                 \u001b[0mnextchar\u001b[0m \u001b[0;34m=\u001b[0m \u001b[0mself\u001b[0m\u001b[0;34m.\u001b[0m\u001b[0minstream\u001b[0m\u001b[0;34m.\u001b[0m\u001b[0mread\u001b[0m\u001b[0;34m(\u001b[0m\u001b[0;36m1\u001b[0m\u001b[0;34m)\u001b[0m\u001b[0;34m\u001b[0m\u001b[0;34m\u001b[0m\u001b[0m\n",
      "\u001b[0;31mKeyboardInterrupt\u001b[0m: "
     ]
    }
   ],
   "source": [
    "df_serious = df.loc[(df['NUMBER OF PERSONS KILLED'] + df['NUMBER OF PERSONS INJURED']) > 0]\n",
    "df_serious['TIME'] = pd.to_datetime(df_serious['CRASH DATE'] + ' ' + df_serious['CRASH TIME']) #Takes approximately 1 minute.\n",
    "\n",
    "#Discard 2012 and 2021.\n",
    "df_serious = df_serious.loc[~((df_serious['TIME'].dt.year == 2012) | (df_serious['TIME'].dt.year == 2021))]\n",
    "\n",
    "\n",
    "#Drop rows with NA in BOROUGH, ZIP CODE, LATITUDE or LONGITUDE.\n",
    "#col = ['BOROUGH', 'ZIP CODE', 'LATITUDE', 'LONGITUDE']\n",
    "#for c in col:\n",
    "#    df_serious = df_serious.loc[~pd.isna(df_serious[c])]\n",
    "#    \n",
    "#Drop rows where LAT, LON == 0.000\n",
    "#df_serious = df_serious.loc[~(df_serious['LATITUDE'] == 0)]\n",
    "#df_serious = df_serious.loc[~(df_serious['LONGITUDE'] == 0)]"
   ]
  },
  {
   "cell_type": "markdown",
   "id": "operating-portuguese",
   "metadata": {},
   "source": [
    "Print the first observations."
   ]
  },
  {
   "cell_type": "markdown",
   "id": "growing-brazilian",
   "metadata": {},
   "source": [
    "# General Properties (Time)\n",
    "\n",
    "TIME does not contain any NANs."
   ]
  },
  {
   "cell_type": "code",
   "execution_count": null,
   "id": "considerable-camera",
   "metadata": {},
   "outputs": [],
   "source": [
    "df_serious.groupby(df_serious['TIME'].dt.year).size()"
   ]
  },
  {
   "cell_type": "code",
   "execution_count": null,
   "id": "romantic-rugby",
   "metadata": {},
   "outputs": [],
   "source": [
    "df_serious.groupby(df_serious['TIME'].dt.month).size()"
   ]
  },
  {
   "cell_type": "code",
   "execution_count": null,
   "id": "graduate-velvet",
   "metadata": {},
   "outputs": [],
   "source": [
    "df_serious.groupby(df_serious['TIME'].dt.weekday).size()"
   ]
  },
  {
   "cell_type": "code",
   "execution_count": null,
   "id": "alternate-athens",
   "metadata": {},
   "outputs": [],
   "source": [
    "df_serious.groupby(df_serious['TIME'].dt.hour).size()"
   ]
  },
  {
   "cell_type": "markdown",
   "id": "greenhouse-david",
   "metadata": {},
   "source": [
    "# General Properties (BOROUGH and ZIP CODE)\n"
   ]
  },
  {
   "cell_type": "code",
   "execution_count": null,
   "id": "thrown-momentum",
   "metadata": {},
   "outputs": [],
   "source": [
    "df_serious.groupby(df_serious['BOROUGH']).size()"
   ]
  },
  {
   "cell_type": "code",
   "execution_count": null,
   "id": "decreased-cowboy",
   "metadata": {},
   "outputs": [],
   "source": [
    "df_serious.groupby(df_serious['ZIP CODE']).size()"
   ]
  },
  {
   "cell_type": "markdown",
   "id": "arctic-payroll",
   "metadata": {},
   "source": [
    "# General Properties (Vehicle Types)"
   ]
  },
  {
   "cell_type": "code",
   "execution_count": null,
   "id": "sunrise-staff",
   "metadata": {},
   "outputs": [],
   "source": [
    "replace_vehicle = dict(zip(pd.read_csv('https://media.githubusercontent.com/media/rasgaard/socialdatascience/main/vehicle_types.csv?token=AINZZODWKIOWT5UAXKP6RWLAR2E3U', sep=';')['Specific'].to_numpy(),\n",
    "                           pd.read_csv('https://media.githubusercontent.com/media/rasgaard/socialdatascience/main/vehicle_types.csv?token=AINZZODWKIOWT5UAXKP6RWLAR2E3U', sep=';')['General'].to_numpy()))\n",
    "\n",
    "replace_factor  = dict(zip(pd.read_csv('https://media.githubusercontent.com/media/rasgaard/socialdatascience/main/contributing_factors.csv?token=AINZZOCQQESHJCRAPW23KEDAR2GYI', sep=';')['Specific'].to_numpy(),\n",
    "                           pd.read_csv('https://media.githubusercontent.com/media/rasgaard/socialdatascience/main/contributing_factors.csv?token=AINZZOCQQESHJCRAPW23KEDAR2GYI', sep=';')['General'].to_numpy()))\n",
    "\n",
    "for i in range(1, 6): \n",
    "    print(f'Processing VEHICLE {i}.')\n",
    "    df_serious[f'VEHICLE TYPE CODE {i} (AGGR)'] = df_serious[f'VEHICLE TYPE CODE {i}'].str.lower().fillna(' ').replace(replace_vehicle)\n",
    "    df_serious[f'CONTRIBUTING FACTOR VEHICLE {i} (AGGR)'] = df_serious[f'CONTRIBUTING FACTOR VEHICLE {i}'].fillna(' ').replace(replace_factor)\n",
    "    print(f'Processed VEHICLE {i}.')"
   ]
  },
  {
   "cell_type": "code",
   "execution_count": null,
   "id": "nasty-spencer",
   "metadata": {},
   "outputs": [],
   "source": [
    "df_serious[[f'CONTRIBUTING FACTOR VEHICLE {x}' for x in range(1,6)]]['CONTRIBUTING FACTOR VEHICLE 1'].fillna(' ').unique()"
   ]
  }
 ],
 "metadata": {
  "kernelspec": {
   "display_name": "Python 3",
   "language": "python",
   "name": "python3"
  },
  "language_info": {
   "codemirror_mode": {
    "name": "ipython",
    "version": 3
   },
   "file_extension": ".py",
   "mimetype": "text/x-python",
   "name": "python",
   "nbconvert_exporter": "python",
   "pygments_lexer": "ipython3",
   "version": "3.7.6"
  }
 },
 "nbformat": 4,
 "nbformat_minor": 5
}
