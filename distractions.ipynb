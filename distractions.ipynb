{
 "cells": [
  {
   "cell_type": "markdown",
   "id": "generous-leonard",
   "metadata": {},
   "source": [
    "## Distraction Notebook\n"
   ]
  },
  {
   "cell_type": "code",
   "execution_count": null,
   "id": "handed-labor",
   "metadata": {},
   "outputs": [],
   "source": [
    "import numpy as np\n",
    "import pandas as pd\n",
    "from sklearn.neighbors import NearestNeighbors\n",
    "from aux import *\n",
    "import time\n",
    "\n",
    "t1 = time.time()\n",
    "df = pd.read_csv('Motor_Vehicle_Collisions_Crashes.csv')\n",
    "df = df.loc[~df['LOCATION'].isna()]\n",
    "df = df.loc[~(df['LOCATION'] == '(0.0, 0.0)')]\n",
    "\n",
    "df['ZIP CODE'] = df['ZIP CODE'].astype(str).replace('     ','nan').astype(float)\n",
    "\n",
    "df = haversine_KNN_impute(df, 'ZIP CODE')\n",
    "df = haversine_KNN_impute(df, 'BOROUGH')\n",
    "\n",
    "df['ZIP CODE'] = df['ZIP CODE'].astype(int)\n",
    "\n",
    "#Extract the contributing factors and vehicle types.\n",
    "df = extract_contributing_factors(df)\n",
    "df = extract_vehicle_types(df)\n",
    "\n",
    "t2 = time.time()\n",
    "print(f'Done doing the preprocessing. Time elapsed {t2-t1} seconds.')"
   ]
  }
 ],
 "metadata": {
  "kernelspec": {
   "display_name": "Python 3",
   "language": "python",
   "name": "python3"
  },
  "language_info": {
   "codemirror_mode": {
    "name": "ipython",
    "version": 3
   },
   "file_extension": ".py",
   "mimetype": "text/x-python",
   "name": "python",
   "nbconvert_exporter": "python",
   "pygments_lexer": "ipython3",
   "version": "3.7.6"
  }
 },
 "nbformat": 4,
 "nbformat_minor": 5
}
