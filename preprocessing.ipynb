{
 "cells": [
  {
   "cell_type": "markdown",
   "metadata": {},
   "source": [
    "# Preprocessing"
   ]
  },
  {
   "cell_type": "code",
   "execution_count": 28,
   "metadata": {},
   "outputs": [],
   "source": [
    "#Import dependencies.\n",
    "\n",
    "import pandas as pd\n",
    "import time\n",
    "import numpy as np\n",
    "import calendar\n",
    "import plotly.express as px\n",
    "import matplotlib.pyplot as plt\n",
    "plt.style.use('seaborn')"
   ]
  },
  {
   "cell_type": "code",
   "execution_count": 35,
   "metadata": {},
   "outputs": [
    {
     "name": "stdout",
     "output_type": "stream",
     "text": [
      "Time elapsed: 25.30820608139038 seconds.\n"
     ]
    }
   ],
   "source": [
    "t1 = time.time()\n",
    "df = pd.read_csv('Motor_Vehicle_Collisions_Crashes.csv')\n",
    "df['TIME'] = df['CRASH DATE'] + ' ' + df['CRASH TIME']\n",
    "df['TIME'] = pd.to_datetime(df['TIME'], format=\"%m/%d/%Y %H:%M\")\n",
    "t2 = time.time()\n",
    "\n",
    "#Discard observations where LOCATION is missing.\n",
    "df = df.loc[~df['LOCATION'].isna()]\n",
    "df = df.loc[~(df['LOCATION'] == '(0.0, 0.0)')]\n",
    "\n",
    "df['ZIP CODE'] = df['ZIP CODE'].replace({'     ' : np.nan}).astype(float)\n",
    "#df['ZIP CODE'] = df['ZIP CODE'].astype(float).fillna(0).astype(int)\n",
    "\n",
    "#Discard 2012 and 2021. \n",
    "df = df.loc[(df['TIME'].dt.year > 2012) & (df['TIME'].dt.year < 2021)]\n",
    "print(f'Time elapsed: {t2-t1} seconds.')"
   ]
  },
  {
   "cell_type": "code",
   "execution_count": 36,
   "metadata": {},
   "outputs": [
    {
     "data": {
      "application/vnd.plotly.v1+json": {
       "config": {
        "plotlyServerURL": "https://plot.ly"
       },
       "data": [
        {
         "fill": "toself",
         "lat": [
          40.942772,
          40.942772,
          40.482772000000004,
          40.482772000000004
         ],
         "lon": [
          -74.256058,
          -73.756058,
          -73.756058,
          -74.256058
         ],
         "marker": {
          "color": "green",
          "size": 10
         },
         "type": "scattermapbox"
        }
       ],
       "layout": {
        "height": 900,
        "mapbox": {
         "center": {
          "lat": 40.712772,
          "lon": -74.006058
         },
         "style": "stamen-terrain",
         "zoom": 8.85
        },
        "showlegend": false,
        "template": {
         "data": {
          "bar": [
           {
            "error_x": {
             "color": "#2a3f5f"
            },
            "error_y": {
             "color": "#2a3f5f"
            },
            "marker": {
             "line": {
              "color": "#E5ECF6",
              "width": 0.5
             }
            },
            "type": "bar"
           }
          ],
          "barpolar": [
           {
            "marker": {
             "line": {
              "color": "#E5ECF6",
              "width": 0.5
             }
            },
            "type": "barpolar"
           }
          ],
          "carpet": [
           {
            "aaxis": {
             "endlinecolor": "#2a3f5f",
             "gridcolor": "white",
             "linecolor": "white",
             "minorgridcolor": "white",
             "startlinecolor": "#2a3f5f"
            },
            "baxis": {
             "endlinecolor": "#2a3f5f",
             "gridcolor": "white",
             "linecolor": "white",
             "minorgridcolor": "white",
             "startlinecolor": "#2a3f5f"
            },
            "type": "carpet"
           }
          ],
          "choropleth": [
           {
            "colorbar": {
             "outlinewidth": 0,
             "ticks": ""
            },
            "type": "choropleth"
           }
          ],
          "contour": [
           {
            "colorbar": {
             "outlinewidth": 0,
             "ticks": ""
            },
            "colorscale": [
             [
              0,
              "#0d0887"
             ],
             [
              0.1111111111111111,
              "#46039f"
             ],
             [
              0.2222222222222222,
              "#7201a8"
             ],
             [
              0.3333333333333333,
              "#9c179e"
             ],
             [
              0.4444444444444444,
              "#bd3786"
             ],
             [
              0.5555555555555556,
              "#d8576b"
             ],
             [
              0.6666666666666666,
              "#ed7953"
             ],
             [
              0.7777777777777778,
              "#fb9f3a"
             ],
             [
              0.8888888888888888,
              "#fdca26"
             ],
             [
              1,
              "#f0f921"
             ]
            ],
            "type": "contour"
           }
          ],
          "contourcarpet": [
           {
            "colorbar": {
             "outlinewidth": 0,
             "ticks": ""
            },
            "type": "contourcarpet"
           }
          ],
          "heatmap": [
           {
            "colorbar": {
             "outlinewidth": 0,
             "ticks": ""
            },
            "colorscale": [
             [
              0,
              "#0d0887"
             ],
             [
              0.1111111111111111,
              "#46039f"
             ],
             [
              0.2222222222222222,
              "#7201a8"
             ],
             [
              0.3333333333333333,
              "#9c179e"
             ],
             [
              0.4444444444444444,
              "#bd3786"
             ],
             [
              0.5555555555555556,
              "#d8576b"
             ],
             [
              0.6666666666666666,
              "#ed7953"
             ],
             [
              0.7777777777777778,
              "#fb9f3a"
             ],
             [
              0.8888888888888888,
              "#fdca26"
             ],
             [
              1,
              "#f0f921"
             ]
            ],
            "type": "heatmap"
           }
          ],
          "heatmapgl": [
           {
            "colorbar": {
             "outlinewidth": 0,
             "ticks": ""
            },
            "colorscale": [
             [
              0,
              "#0d0887"
             ],
             [
              0.1111111111111111,
              "#46039f"
             ],
             [
              0.2222222222222222,
              "#7201a8"
             ],
             [
              0.3333333333333333,
              "#9c179e"
             ],
             [
              0.4444444444444444,
              "#bd3786"
             ],
             [
              0.5555555555555556,
              "#d8576b"
             ],
             [
              0.6666666666666666,
              "#ed7953"
             ],
             [
              0.7777777777777778,
              "#fb9f3a"
             ],
             [
              0.8888888888888888,
              "#fdca26"
             ],
             [
              1,
              "#f0f921"
             ]
            ],
            "type": "heatmapgl"
           }
          ],
          "histogram": [
           {
            "marker": {
             "colorbar": {
              "outlinewidth": 0,
              "ticks": ""
             }
            },
            "type": "histogram"
           }
          ],
          "histogram2d": [
           {
            "colorbar": {
             "outlinewidth": 0,
             "ticks": ""
            },
            "colorscale": [
             [
              0,
              "#0d0887"
             ],
             [
              0.1111111111111111,
              "#46039f"
             ],
             [
              0.2222222222222222,
              "#7201a8"
             ],
             [
              0.3333333333333333,
              "#9c179e"
             ],
             [
              0.4444444444444444,
              "#bd3786"
             ],
             [
              0.5555555555555556,
              "#d8576b"
             ],
             [
              0.6666666666666666,
              "#ed7953"
             ],
             [
              0.7777777777777778,
              "#fb9f3a"
             ],
             [
              0.8888888888888888,
              "#fdca26"
             ],
             [
              1,
              "#f0f921"
             ]
            ],
            "type": "histogram2d"
           }
          ],
          "histogram2dcontour": [
           {
            "colorbar": {
             "outlinewidth": 0,
             "ticks": ""
            },
            "colorscale": [
             [
              0,
              "#0d0887"
             ],
             [
              0.1111111111111111,
              "#46039f"
             ],
             [
              0.2222222222222222,
              "#7201a8"
             ],
             [
              0.3333333333333333,
              "#9c179e"
             ],
             [
              0.4444444444444444,
              "#bd3786"
             ],
             [
              0.5555555555555556,
              "#d8576b"
             ],
             [
              0.6666666666666666,
              "#ed7953"
             ],
             [
              0.7777777777777778,
              "#fb9f3a"
             ],
             [
              0.8888888888888888,
              "#fdca26"
             ],
             [
              1,
              "#f0f921"
             ]
            ],
            "type": "histogram2dcontour"
           }
          ],
          "mesh3d": [
           {
            "colorbar": {
             "outlinewidth": 0,
             "ticks": ""
            },
            "type": "mesh3d"
           }
          ],
          "parcoords": [
           {
            "line": {
             "colorbar": {
              "outlinewidth": 0,
              "ticks": ""
             }
            },
            "type": "parcoords"
           }
          ],
          "pie": [
           {
            "automargin": true,
            "type": "pie"
           }
          ],
          "scatter": [
           {
            "marker": {
             "colorbar": {
              "outlinewidth": 0,
              "ticks": ""
             }
            },
            "type": "scatter"
           }
          ],
          "scatter3d": [
           {
            "line": {
             "colorbar": {
              "outlinewidth": 0,
              "ticks": ""
             }
            },
            "marker": {
             "colorbar": {
              "outlinewidth": 0,
              "ticks": ""
             }
            },
            "type": "scatter3d"
           }
          ],
          "scattercarpet": [
           {
            "marker": {
             "colorbar": {
              "outlinewidth": 0,
              "ticks": ""
             }
            },
            "type": "scattercarpet"
           }
          ],
          "scattergeo": [
           {
            "marker": {
             "colorbar": {
              "outlinewidth": 0,
              "ticks": ""
             }
            },
            "type": "scattergeo"
           }
          ],
          "scattergl": [
           {
            "marker": {
             "colorbar": {
              "outlinewidth": 0,
              "ticks": ""
             }
            },
            "type": "scattergl"
           }
          ],
          "scattermapbox": [
           {
            "marker": {
             "colorbar": {
              "outlinewidth": 0,
              "ticks": ""
             }
            },
            "type": "scattermapbox"
           }
          ],
          "scatterpolar": [
           {
            "marker": {
             "colorbar": {
              "outlinewidth": 0,
              "ticks": ""
             }
            },
            "type": "scatterpolar"
           }
          ],
          "scatterpolargl": [
           {
            "marker": {
             "colorbar": {
              "outlinewidth": 0,
              "ticks": ""
             }
            },
            "type": "scatterpolargl"
           }
          ],
          "scatterternary": [
           {
            "marker": {
             "colorbar": {
              "outlinewidth": 0,
              "ticks": ""
             }
            },
            "type": "scatterternary"
           }
          ],
          "surface": [
           {
            "colorbar": {
             "outlinewidth": 0,
             "ticks": ""
            },
            "colorscale": [
             [
              0,
              "#0d0887"
             ],
             [
              0.1111111111111111,
              "#46039f"
             ],
             [
              0.2222222222222222,
              "#7201a8"
             ],
             [
              0.3333333333333333,
              "#9c179e"
             ],
             [
              0.4444444444444444,
              "#bd3786"
             ],
             [
              0.5555555555555556,
              "#d8576b"
             ],
             [
              0.6666666666666666,
              "#ed7953"
             ],
             [
              0.7777777777777778,
              "#fb9f3a"
             ],
             [
              0.8888888888888888,
              "#fdca26"
             ],
             [
              1,
              "#f0f921"
             ]
            ],
            "type": "surface"
           }
          ],
          "table": [
           {
            "cells": {
             "fill": {
              "color": "#EBF0F8"
             },
             "line": {
              "color": "white"
             }
            },
            "header": {
             "fill": {
              "color": "#C8D4E3"
             },
             "line": {
              "color": "white"
             }
            },
            "type": "table"
           }
          ]
         },
         "layout": {
          "annotationdefaults": {
           "arrowcolor": "#2a3f5f",
           "arrowhead": 0,
           "arrowwidth": 1
          },
          "autotypenumbers": "strict",
          "coloraxis": {
           "colorbar": {
            "outlinewidth": 0,
            "ticks": ""
           }
          },
          "colorscale": {
           "diverging": [
            [
             0,
             "#8e0152"
            ],
            [
             0.1,
             "#c51b7d"
            ],
            [
             0.2,
             "#de77ae"
            ],
            [
             0.3,
             "#f1b6da"
            ],
            [
             0.4,
             "#fde0ef"
            ],
            [
             0.5,
             "#f7f7f7"
            ],
            [
             0.6,
             "#e6f5d0"
            ],
            [
             0.7,
             "#b8e186"
            ],
            [
             0.8,
             "#7fbc41"
            ],
            [
             0.9,
             "#4d9221"
            ],
            [
             1,
             "#276419"
            ]
           ],
           "sequential": [
            [
             0,
             "#0d0887"
            ],
            [
             0.1111111111111111,
             "#46039f"
            ],
            [
             0.2222222222222222,
             "#7201a8"
            ],
            [
             0.3333333333333333,
             "#9c179e"
            ],
            [
             0.4444444444444444,
             "#bd3786"
            ],
            [
             0.5555555555555556,
             "#d8576b"
            ],
            [
             0.6666666666666666,
             "#ed7953"
            ],
            [
             0.7777777777777778,
             "#fb9f3a"
            ],
            [
             0.8888888888888888,
             "#fdca26"
            ],
            [
             1,
             "#f0f921"
            ]
           ],
           "sequentialminus": [
            [
             0,
             "#0d0887"
            ],
            [
             0.1111111111111111,
             "#46039f"
            ],
            [
             0.2222222222222222,
             "#7201a8"
            ],
            [
             0.3333333333333333,
             "#9c179e"
            ],
            [
             0.4444444444444444,
             "#bd3786"
            ],
            [
             0.5555555555555556,
             "#d8576b"
            ],
            [
             0.6666666666666666,
             "#ed7953"
            ],
            [
             0.7777777777777778,
             "#fb9f3a"
            ],
            [
             0.8888888888888888,
             "#fdca26"
            ],
            [
             1,
             "#f0f921"
            ]
           ]
          },
          "colorway": [
           "#636efa",
           "#EF553B",
           "#00cc96",
           "#ab63fa",
           "#FFA15A",
           "#19d3f3",
           "#FF6692",
           "#B6E880",
           "#FF97FF",
           "#FECB52"
          ],
          "font": {
           "color": "#2a3f5f"
          },
          "geo": {
           "bgcolor": "white",
           "lakecolor": "white",
           "landcolor": "#E5ECF6",
           "showlakes": true,
           "showland": true,
           "subunitcolor": "white"
          },
          "hoverlabel": {
           "align": "left"
          },
          "hovermode": "closest",
          "mapbox": {
           "style": "light"
          },
          "paper_bgcolor": "white",
          "plot_bgcolor": "#E5ECF6",
          "polar": {
           "angularaxis": {
            "gridcolor": "white",
            "linecolor": "white",
            "ticks": ""
           },
           "bgcolor": "#E5ECF6",
           "radialaxis": {
            "gridcolor": "white",
            "linecolor": "white",
            "ticks": ""
           }
          },
          "scene": {
           "xaxis": {
            "backgroundcolor": "#E5ECF6",
            "gridcolor": "white",
            "gridwidth": 2,
            "linecolor": "white",
            "showbackground": true,
            "ticks": "",
            "zerolinecolor": "white"
           },
           "yaxis": {
            "backgroundcolor": "#E5ECF6",
            "gridcolor": "white",
            "gridwidth": 2,
            "linecolor": "white",
            "showbackground": true,
            "ticks": "",
            "zerolinecolor": "white"
           },
           "zaxis": {
            "backgroundcolor": "#E5ECF6",
            "gridcolor": "white",
            "gridwidth": 2,
            "linecolor": "white",
            "showbackground": true,
            "ticks": "",
            "zerolinecolor": "white"
           }
          },
          "shapedefaults": {
           "line": {
            "color": "#2a3f5f"
           }
          },
          "ternary": {
           "aaxis": {
            "gridcolor": "white",
            "linecolor": "white",
            "ticks": ""
           },
           "baxis": {
            "gridcolor": "white",
            "linecolor": "white",
            "ticks": ""
           },
           "bgcolor": "#E5ECF6",
           "caxis": {
            "gridcolor": "white",
            "linecolor": "white",
            "ticks": ""
           }
          },
          "title": {
           "x": 0.05
          },
          "xaxis": {
           "automargin": true,
           "gridcolor": "white",
           "linecolor": "white",
           "ticks": "",
           "title": {
            "standoff": 15
           },
           "zerolinecolor": "white",
           "zerolinewidth": 2
          },
          "yaxis": {
           "automargin": true,
           "gridcolor": "white",
           "linecolor": "white",
           "ticks": "",
           "title": {
            "standoff": 15
           },
           "zerolinecolor": "white",
           "zerolinewidth": 2
          }
         }
        },
        "title": {
         "text": "Valid Region for Latitudes and Longitudes"
        },
        "width": 1200
       }
      },
      "text/html": [
       "<div>                            <div id=\"3d7d2ead-79c1-4f2d-aca2-ce8e98865b68\" class=\"plotly-graph-div\" style=\"height:900px; width:1200px;\"></div>            <script type=\"text/javascript\">                require([\"plotly\"], function(Plotly) {                    window.PLOTLYENV=window.PLOTLYENV || {};                                    if (document.getElementById(\"3d7d2ead-79c1-4f2d-aca2-ce8e98865b68\")) {                    Plotly.newPlot(                        \"3d7d2ead-79c1-4f2d-aca2-ce8e98865b68\",                        [{\"fill\": \"toself\", \"lat\": [40.942772, 40.942772, 40.482772000000004, 40.482772000000004], \"lon\": [-74.256058, -73.756058, -73.756058, -74.256058], \"marker\": {\"color\": \"green\", \"size\": 10}, \"type\": \"scattermapbox\"}],                        {\"height\": 900, \"mapbox\": {\"center\": {\"lat\": 40.712772, \"lon\": -74.006058}, \"style\": \"stamen-terrain\", \"zoom\": 8.85}, \"showlegend\": false, \"template\": {\"data\": {\"bar\": [{\"error_x\": {\"color\": \"#2a3f5f\"}, \"error_y\": {\"color\": \"#2a3f5f\"}, \"marker\": {\"line\": {\"color\": \"#E5ECF6\", \"width\": 0.5}}, \"type\": \"bar\"}], \"barpolar\": [{\"marker\": {\"line\": {\"color\": \"#E5ECF6\", \"width\": 0.5}}, \"type\": \"barpolar\"}], \"carpet\": [{\"aaxis\": {\"endlinecolor\": \"#2a3f5f\", \"gridcolor\": \"white\", \"linecolor\": \"white\", \"minorgridcolor\": \"white\", \"startlinecolor\": \"#2a3f5f\"}, \"baxis\": {\"endlinecolor\": \"#2a3f5f\", \"gridcolor\": \"white\", \"linecolor\": \"white\", \"minorgridcolor\": \"white\", \"startlinecolor\": \"#2a3f5f\"}, \"type\": \"carpet\"}], \"choropleth\": [{\"colorbar\": {\"outlinewidth\": 0, \"ticks\": \"\"}, \"type\": \"choropleth\"}], \"contour\": [{\"colorbar\": {\"outlinewidth\": 0, \"ticks\": \"\"}, \"colorscale\": [[0.0, \"#0d0887\"], [0.1111111111111111, \"#46039f\"], [0.2222222222222222, \"#7201a8\"], [0.3333333333333333, \"#9c179e\"], [0.4444444444444444, \"#bd3786\"], [0.5555555555555556, \"#d8576b\"], [0.6666666666666666, \"#ed7953\"], [0.7777777777777778, \"#fb9f3a\"], [0.8888888888888888, \"#fdca26\"], [1.0, \"#f0f921\"]], \"type\": \"contour\"}], \"contourcarpet\": [{\"colorbar\": {\"outlinewidth\": 0, \"ticks\": \"\"}, \"type\": \"contourcarpet\"}], \"heatmap\": [{\"colorbar\": {\"outlinewidth\": 0, \"ticks\": \"\"}, \"colorscale\": [[0.0, \"#0d0887\"], [0.1111111111111111, \"#46039f\"], [0.2222222222222222, \"#7201a8\"], [0.3333333333333333, \"#9c179e\"], [0.4444444444444444, \"#bd3786\"], [0.5555555555555556, \"#d8576b\"], [0.6666666666666666, \"#ed7953\"], [0.7777777777777778, \"#fb9f3a\"], [0.8888888888888888, \"#fdca26\"], [1.0, \"#f0f921\"]], \"type\": \"heatmap\"}], \"heatmapgl\": [{\"colorbar\": {\"outlinewidth\": 0, \"ticks\": \"\"}, \"colorscale\": [[0.0, \"#0d0887\"], [0.1111111111111111, \"#46039f\"], [0.2222222222222222, \"#7201a8\"], [0.3333333333333333, \"#9c179e\"], [0.4444444444444444, \"#bd3786\"], [0.5555555555555556, \"#d8576b\"], [0.6666666666666666, \"#ed7953\"], [0.7777777777777778, \"#fb9f3a\"], [0.8888888888888888, \"#fdca26\"], [1.0, \"#f0f921\"]], \"type\": \"heatmapgl\"}], \"histogram\": [{\"marker\": {\"colorbar\": {\"outlinewidth\": 0, \"ticks\": \"\"}}, \"type\": \"histogram\"}], \"histogram2d\": [{\"colorbar\": {\"outlinewidth\": 0, \"ticks\": \"\"}, \"colorscale\": [[0.0, \"#0d0887\"], [0.1111111111111111, \"#46039f\"], [0.2222222222222222, \"#7201a8\"], [0.3333333333333333, \"#9c179e\"], [0.4444444444444444, \"#bd3786\"], [0.5555555555555556, \"#d8576b\"], [0.6666666666666666, \"#ed7953\"], [0.7777777777777778, \"#fb9f3a\"], [0.8888888888888888, \"#fdca26\"], [1.0, \"#f0f921\"]], \"type\": \"histogram2d\"}], \"histogram2dcontour\": [{\"colorbar\": {\"outlinewidth\": 0, \"ticks\": \"\"}, \"colorscale\": [[0.0, \"#0d0887\"], [0.1111111111111111, \"#46039f\"], [0.2222222222222222, \"#7201a8\"], [0.3333333333333333, \"#9c179e\"], [0.4444444444444444, \"#bd3786\"], [0.5555555555555556, \"#d8576b\"], [0.6666666666666666, \"#ed7953\"], [0.7777777777777778, \"#fb9f3a\"], [0.8888888888888888, \"#fdca26\"], [1.0, \"#f0f921\"]], \"type\": \"histogram2dcontour\"}], \"mesh3d\": [{\"colorbar\": {\"outlinewidth\": 0, \"ticks\": \"\"}, \"type\": \"mesh3d\"}], \"parcoords\": [{\"line\": {\"colorbar\": {\"outlinewidth\": 0, \"ticks\": \"\"}}, \"type\": \"parcoords\"}], \"pie\": [{\"automargin\": true, \"type\": \"pie\"}], \"scatter\": [{\"marker\": {\"colorbar\": {\"outlinewidth\": 0, \"ticks\": \"\"}}, \"type\": \"scatter\"}], \"scatter3d\": [{\"line\": {\"colorbar\": {\"outlinewidth\": 0, \"ticks\": \"\"}}, \"marker\": {\"colorbar\": {\"outlinewidth\": 0, \"ticks\": \"\"}}, \"type\": \"scatter3d\"}], \"scattercarpet\": [{\"marker\": {\"colorbar\": {\"outlinewidth\": 0, \"ticks\": \"\"}}, \"type\": \"scattercarpet\"}], \"scattergeo\": [{\"marker\": {\"colorbar\": {\"outlinewidth\": 0, \"ticks\": \"\"}}, \"type\": \"scattergeo\"}], \"scattergl\": [{\"marker\": {\"colorbar\": {\"outlinewidth\": 0, \"ticks\": \"\"}}, \"type\": \"scattergl\"}], \"scattermapbox\": [{\"marker\": {\"colorbar\": {\"outlinewidth\": 0, \"ticks\": \"\"}}, \"type\": \"scattermapbox\"}], \"scatterpolar\": [{\"marker\": {\"colorbar\": {\"outlinewidth\": 0, \"ticks\": \"\"}}, \"type\": \"scatterpolar\"}], \"scatterpolargl\": [{\"marker\": {\"colorbar\": {\"outlinewidth\": 0, \"ticks\": \"\"}}, \"type\": \"scatterpolargl\"}], \"scatterternary\": [{\"marker\": {\"colorbar\": {\"outlinewidth\": 0, \"ticks\": \"\"}}, \"type\": \"scatterternary\"}], \"surface\": [{\"colorbar\": {\"outlinewidth\": 0, \"ticks\": \"\"}, \"colorscale\": [[0.0, \"#0d0887\"], [0.1111111111111111, \"#46039f\"], [0.2222222222222222, \"#7201a8\"], [0.3333333333333333, \"#9c179e\"], [0.4444444444444444, \"#bd3786\"], [0.5555555555555556, \"#d8576b\"], [0.6666666666666666, \"#ed7953\"], [0.7777777777777778, \"#fb9f3a\"], [0.8888888888888888, \"#fdca26\"], [1.0, \"#f0f921\"]], \"type\": \"surface\"}], \"table\": [{\"cells\": {\"fill\": {\"color\": \"#EBF0F8\"}, \"line\": {\"color\": \"white\"}}, \"header\": {\"fill\": {\"color\": \"#C8D4E3\"}, \"line\": {\"color\": \"white\"}}, \"type\": \"table\"}]}, \"layout\": {\"annotationdefaults\": {\"arrowcolor\": \"#2a3f5f\", \"arrowhead\": 0, \"arrowwidth\": 1}, \"autotypenumbers\": \"strict\", \"coloraxis\": {\"colorbar\": {\"outlinewidth\": 0, \"ticks\": \"\"}}, \"colorscale\": {\"diverging\": [[0, \"#8e0152\"], [0.1, \"#c51b7d\"], [0.2, \"#de77ae\"], [0.3, \"#f1b6da\"], [0.4, \"#fde0ef\"], [0.5, \"#f7f7f7\"], [0.6, \"#e6f5d0\"], [0.7, \"#b8e186\"], [0.8, \"#7fbc41\"], [0.9, \"#4d9221\"], [1, \"#276419\"]], \"sequential\": [[0.0, \"#0d0887\"], [0.1111111111111111, \"#46039f\"], [0.2222222222222222, \"#7201a8\"], [0.3333333333333333, \"#9c179e\"], [0.4444444444444444, \"#bd3786\"], [0.5555555555555556, \"#d8576b\"], [0.6666666666666666, \"#ed7953\"], [0.7777777777777778, \"#fb9f3a\"], [0.8888888888888888, \"#fdca26\"], [1.0, \"#f0f921\"]], \"sequentialminus\": [[0.0, \"#0d0887\"], [0.1111111111111111, \"#46039f\"], [0.2222222222222222, \"#7201a8\"], [0.3333333333333333, \"#9c179e\"], [0.4444444444444444, \"#bd3786\"], [0.5555555555555556, \"#d8576b\"], [0.6666666666666666, \"#ed7953\"], [0.7777777777777778, \"#fb9f3a\"], [0.8888888888888888, \"#fdca26\"], [1.0, \"#f0f921\"]]}, \"colorway\": [\"#636efa\", \"#EF553B\", \"#00cc96\", \"#ab63fa\", \"#FFA15A\", \"#19d3f3\", \"#FF6692\", \"#B6E880\", \"#FF97FF\", \"#FECB52\"], \"font\": {\"color\": \"#2a3f5f\"}, \"geo\": {\"bgcolor\": \"white\", \"lakecolor\": \"white\", \"landcolor\": \"#E5ECF6\", \"showlakes\": true, \"showland\": true, \"subunitcolor\": \"white\"}, \"hoverlabel\": {\"align\": \"left\"}, \"hovermode\": \"closest\", \"mapbox\": {\"style\": \"light\"}, \"paper_bgcolor\": \"white\", \"plot_bgcolor\": \"#E5ECF6\", \"polar\": {\"angularaxis\": {\"gridcolor\": \"white\", \"linecolor\": \"white\", \"ticks\": \"\"}, \"bgcolor\": \"#E5ECF6\", \"radialaxis\": {\"gridcolor\": \"white\", \"linecolor\": \"white\", \"ticks\": \"\"}}, \"scene\": {\"xaxis\": {\"backgroundcolor\": \"#E5ECF6\", \"gridcolor\": \"white\", \"gridwidth\": 2, \"linecolor\": \"white\", \"showbackground\": true, \"ticks\": \"\", \"zerolinecolor\": \"white\"}, \"yaxis\": {\"backgroundcolor\": \"#E5ECF6\", \"gridcolor\": \"white\", \"gridwidth\": 2, \"linecolor\": \"white\", \"showbackground\": true, \"ticks\": \"\", \"zerolinecolor\": \"white\"}, \"zaxis\": {\"backgroundcolor\": \"#E5ECF6\", \"gridcolor\": \"white\", \"gridwidth\": 2, \"linecolor\": \"white\", \"showbackground\": true, \"ticks\": \"\", \"zerolinecolor\": \"white\"}}, \"shapedefaults\": {\"line\": {\"color\": \"#2a3f5f\"}}, \"ternary\": {\"aaxis\": {\"gridcolor\": \"white\", \"linecolor\": \"white\", \"ticks\": \"\"}, \"baxis\": {\"gridcolor\": \"white\", \"linecolor\": \"white\", \"ticks\": \"\"}, \"bgcolor\": \"#E5ECF6\", \"caxis\": {\"gridcolor\": \"white\", \"linecolor\": \"white\", \"ticks\": \"\"}}, \"title\": {\"x\": 0.05}, \"xaxis\": {\"automargin\": true, \"gridcolor\": \"white\", \"linecolor\": \"white\", \"ticks\": \"\", \"title\": {\"standoff\": 15}, \"zerolinecolor\": \"white\", \"zerolinewidth\": 2}, \"yaxis\": {\"automargin\": true, \"gridcolor\": \"white\", \"linecolor\": \"white\", \"ticks\": \"\", \"title\": {\"standoff\": 15}, \"zerolinecolor\": \"white\", \"zerolinewidth\": 2}}}, \"title\": {\"text\": \"Valid Region for Latitudes and Longitudes\"}, \"width\": 1200},                        {\"responsive\": true}                    ).then(function(){\n",
       "                            \n",
       "var gd = document.getElementById('3d7d2ead-79c1-4f2d-aca2-ce8e98865b68');\n",
       "var x = new MutationObserver(function (mutations, observer) {{\n",
       "        var display = window.getComputedStyle(gd).display;\n",
       "        if (!display || display === 'none') {{\n",
       "            console.log([gd, 'removed!']);\n",
       "            Plotly.purge(gd);\n",
       "            observer.disconnect();\n",
       "        }}\n",
       "}});\n",
       "\n",
       "// Listen for the removal of the full notebook cells\n",
       "var notebookContainer = gd.closest('#notebook-container');\n",
       "if (notebookContainer) {{\n",
       "    x.observe(notebookContainer, {childList: true});\n",
       "}}\n",
       "\n",
       "// Listen for the clearing of the current output cell\n",
       "var outputEl = gd.closest('.output');\n",
       "if (outputEl) {{\n",
       "    x.observe(outputEl, {childList: true});\n",
       "}}\n",
       "\n",
       "                        })                };                });            </script>        </div>"
      ]
     },
     "metadata": {},
     "output_type": "display_data"
    }
   ],
   "source": [
    "import plotly.graph_objects as go\n",
    "lon_center = -74.006058\n",
    "lat_center = 40.712772\n",
    "lat_width = 0.23\n",
    "lon_width  = 0.25\n",
    "\n",
    "fig = go.Figure(go.Scattermapbox(\n",
    "    fill = \"toself\",\n",
    "    lon = [lon_center-lon_width, lon_center+lon_width, lon_center+lon_width, lon_center-lon_width], lat = [lat_center+lat_width, lat_center+lat_width, lat_center-lat_width, lat_center-lat_width],\n",
    "    marker = { 'size': 10, 'color': \"green\" }))\n",
    "\n",
    "fig.update_layout(\n",
    "    mapbox = {\n",
    "        'style': \"stamen-terrain\",\n",
    "        'center': {'lon': -74.006058, 'lat': 40.712772},\n",
    "        'zoom': 8.85},\n",
    "    showlegend = False, width=1200, height=900, title='Valid Region for Latitudes and Longitudes')\n",
    "\n",
    "fig.show()\n",
    "fig.write_html(\"./plotly_html/valid_area.html\")\n",
    "\n",
    "df = df.loc[(df['LONGITUDE'] >= lon_center - lon_width) & \n",
    "            (df['LONGITUDE'] <= lon_center + lon_width) & \n",
    "            (df['LATITUDE']  >= lat_center - lat_width) & \n",
    "            (df['LATITUDE'] <= lat_center + lat_width)]"
   ]
  },
  {
   "cell_type": "markdown",
   "metadata": {},
   "source": [
    "## Adding new columns\n",
    "\n",
    "We wish to add a column specifying whether or not any was injured or killed.\n",
    "\n"
   ]
  },
  {
   "cell_type": "code",
   "execution_count": 32,
   "metadata": {},
   "outputs": [
    {
     "data": {
      "text/html": [
       "<div>\n",
       "<style scoped>\n",
       "    .dataframe tbody tr th:only-of-type {\n",
       "        vertical-align: middle;\n",
       "    }\n",
       "\n",
       "    .dataframe tbody tr th {\n",
       "        vertical-align: top;\n",
       "    }\n",
       "\n",
       "    .dataframe thead th {\n",
       "        text-align: right;\n",
       "    }\n",
       "</style>\n",
       "<table border=\"1\" class=\"dataframe\">\n",
       "  <thead>\n",
       "    <tr style=\"text-align: right;\">\n",
       "      <th></th>\n",
       "      <th>Column</th>\n",
       "      <th>Percentage missing</th>\n",
       "    </tr>\n",
       "  </thead>\n",
       "  <tbody>\n",
       "    <tr>\n",
       "      <td>0</td>\n",
       "      <td>CRASH DATE</td>\n",
       "      <td>0.000000</td>\n",
       "    </tr>\n",
       "    <tr>\n",
       "      <td>1</td>\n",
       "      <td>COLLISION_ID</td>\n",
       "      <td>0.000000</td>\n",
       "    </tr>\n",
       "    <tr>\n",
       "      <td>2</td>\n",
       "      <td>NUMBER OF MOTORIST KILLED</td>\n",
       "      <td>0.000000</td>\n",
       "    </tr>\n",
       "    <tr>\n",
       "      <td>3</td>\n",
       "      <td>NUMBER OF MOTORIST INJURED</td>\n",
       "      <td>0.000000</td>\n",
       "    </tr>\n",
       "    <tr>\n",
       "      <td>4</td>\n",
       "      <td>NUMBER OF CYCLIST KILLED</td>\n",
       "      <td>0.000000</td>\n",
       "    </tr>\n",
       "    <tr>\n",
       "      <td>5</td>\n",
       "      <td>NUMBER OF PEDESTRIANS KILLED</td>\n",
       "      <td>0.000000</td>\n",
       "    </tr>\n",
       "    <tr>\n",
       "      <td>6</td>\n",
       "      <td>NUMBER OF PEDESTRIANS INJURED</td>\n",
       "      <td>0.000000</td>\n",
       "    </tr>\n",
       "    <tr>\n",
       "      <td>7</td>\n",
       "      <td>NUMBER OF CYCLIST INJURED</td>\n",
       "      <td>0.000000</td>\n",
       "    </tr>\n",
       "    <tr>\n",
       "      <td>8</td>\n",
       "      <td>TIME</td>\n",
       "      <td>0.000000</td>\n",
       "    </tr>\n",
       "    <tr>\n",
       "      <td>9</td>\n",
       "      <td>CRASH TIME</td>\n",
       "      <td>0.000000</td>\n",
       "    </tr>\n",
       "    <tr>\n",
       "      <td>10</td>\n",
       "      <td>LOCATION</td>\n",
       "      <td>0.000000</td>\n",
       "    </tr>\n",
       "    <tr>\n",
       "      <td>11</td>\n",
       "      <td>LONGITUDE</td>\n",
       "      <td>0.000000</td>\n",
       "    </tr>\n",
       "    <tr>\n",
       "      <td>12</td>\n",
       "      <td>LATITUDE</td>\n",
       "      <td>0.000000</td>\n",
       "    </tr>\n",
       "    <tr>\n",
       "      <td>13</td>\n",
       "      <td>NUMBER OF PERSONS INJURED</td>\n",
       "      <td>0.000011</td>\n",
       "    </tr>\n",
       "    <tr>\n",
       "      <td>14</td>\n",
       "      <td>NUMBER OF PERSONS KILLED</td>\n",
       "      <td>0.000019</td>\n",
       "    </tr>\n",
       "    <tr>\n",
       "      <td>15</td>\n",
       "      <td>CONTRIBUTING FACTOR VEHICLE 1</td>\n",
       "      <td>0.003038</td>\n",
       "    </tr>\n",
       "    <tr>\n",
       "      <td>16</td>\n",
       "      <td>VEHICLE TYPE CODE 1</td>\n",
       "      <td>0.005635</td>\n",
       "    </tr>\n",
       "    <tr>\n",
       "      <td>17</td>\n",
       "      <td>CONTRIBUTING FACTOR VEHICLE 2</td>\n",
       "      <td>0.145827</td>\n",
       "    </tr>\n",
       "    <tr>\n",
       "      <td>18</td>\n",
       "      <td>VEHICLE TYPE CODE 2</td>\n",
       "      <td>0.172346</td>\n",
       "    </tr>\n",
       "    <tr>\n",
       "      <td>19</td>\n",
       "      <td>ON STREET NAME</td>\n",
       "      <td>0.197496</td>\n",
       "    </tr>\n",
       "    <tr>\n",
       "      <td>20</td>\n",
       "      <td>BOROUGH</td>\n",
       "      <td>0.239981</td>\n",
       "    </tr>\n",
       "    <tr>\n",
       "      <td>21</td>\n",
       "      <td>ZIP CODE</td>\n",
       "      <td>0.240107</td>\n",
       "    </tr>\n",
       "    <tr>\n",
       "      <td>22</td>\n",
       "      <td>CROSS STREET NAME</td>\n",
       "      <td>0.359207</td>\n",
       "    </tr>\n",
       "    <tr>\n",
       "      <td>23</td>\n",
       "      <td>OFF STREET NAME</td>\n",
       "      <td>0.838169</td>\n",
       "    </tr>\n",
       "    <tr>\n",
       "      <td>24</td>\n",
       "      <td>CONTRIBUTING FACTOR VEHICLE 3</td>\n",
       "      <td>0.934747</td>\n",
       "    </tr>\n",
       "    <tr>\n",
       "      <td>25</td>\n",
       "      <td>VEHICLE TYPE CODE 3</td>\n",
       "      <td>0.936652</td>\n",
       "    </tr>\n",
       "    <tr>\n",
       "      <td>26</td>\n",
       "      <td>CONTRIBUTING FACTOR VEHICLE 4</td>\n",
       "      <td>0.985769</td>\n",
       "    </tr>\n",
       "    <tr>\n",
       "      <td>27</td>\n",
       "      <td>VEHICLE TYPE CODE 4</td>\n",
       "      <td>0.986198</td>\n",
       "    </tr>\n",
       "    <tr>\n",
       "      <td>28</td>\n",
       "      <td>CONTRIBUTING FACTOR VEHICLE 5</td>\n",
       "      <td>0.996189</td>\n",
       "    </tr>\n",
       "    <tr>\n",
       "      <td>29</td>\n",
       "      <td>VEHICLE TYPE CODE 5</td>\n",
       "      <td>0.996296</td>\n",
       "    </tr>\n",
       "  </tbody>\n",
       "</table>\n",
       "</div>"
      ],
      "text/plain": [
       "                           Column  Percentage missing\n",
       "0                      CRASH DATE            0.000000\n",
       "1                    COLLISION_ID            0.000000\n",
       "2       NUMBER OF MOTORIST KILLED            0.000000\n",
       "3      NUMBER OF MOTORIST INJURED            0.000000\n",
       "4        NUMBER OF CYCLIST KILLED            0.000000\n",
       "5    NUMBER OF PEDESTRIANS KILLED            0.000000\n",
       "6   NUMBER OF PEDESTRIANS INJURED            0.000000\n",
       "7       NUMBER OF CYCLIST INJURED            0.000000\n",
       "8                            TIME            0.000000\n",
       "9                      CRASH TIME            0.000000\n",
       "10                       LOCATION            0.000000\n",
       "11                      LONGITUDE            0.000000\n",
       "12                       LATITUDE            0.000000\n",
       "13      NUMBER OF PERSONS INJURED            0.000011\n",
       "14       NUMBER OF PERSONS KILLED            0.000019\n",
       "15  CONTRIBUTING FACTOR VEHICLE 1            0.003038\n",
       "16            VEHICLE TYPE CODE 1            0.005635\n",
       "17  CONTRIBUTING FACTOR VEHICLE 2            0.145827\n",
       "18            VEHICLE TYPE CODE 2            0.172346\n",
       "19                 ON STREET NAME            0.197496\n",
       "20                        BOROUGH            0.239981\n",
       "21                       ZIP CODE            0.240107\n",
       "22              CROSS STREET NAME            0.359207\n",
       "23                OFF STREET NAME            0.838169\n",
       "24  CONTRIBUTING FACTOR VEHICLE 3            0.934747\n",
       "25            VEHICLE TYPE CODE 3            0.936652\n",
       "26  CONTRIBUTING FACTOR VEHICLE 4            0.985769\n",
       "27            VEHICLE TYPE CODE 4            0.986198\n",
       "28  CONTRIBUTING FACTOR VEHICLE 5            0.996189\n",
       "29            VEHICLE TYPE CODE 5            0.996296"
      ]
     },
     "execution_count": 32,
     "metadata": {},
     "output_type": "execute_result"
    }
   ],
   "source": [
    "missing_pct_df"
   ]
  },
  {
   "cell_type": "code",
   "execution_count": 34,
   "metadata": {},
   "outputs": [
    {
     "data": {
      "application/vnd.plotly.v1+json": {
       "config": {
        "plotlyServerURL": "https://plot.ly"
       },
       "data": [
        {
         "alignmentgroup": "True",
         "hovertemplate": "Percentage missing=%{x}<br>Column=%{y}<extra></extra>",
         "legendgroup": "",
         "marker": {
          "color": "rgb(43,174,128)"
         },
         "name": "",
         "offsetgroup": "",
         "orientation": "h",
         "showlegend": false,
         "textposition": "auto",
         "type": "bar",
         "x": [
          0,
          0,
          0,
          0,
          0,
          0,
          0,
          0,
          0,
          0,
          1.0339450233185012e-05,
          1.8854291601690317e-05,
          0.0029625565932849527,
          0.0055121433801973985,
          0.11699148759144332,
          0.11699148759144332,
          0.11699148759144332,
          0.14255547419151582,
          0.16694684549455416,
          0.20422421280291547,
          0.3115519636440602,
          0.3117003651650541,
          0.36219215807438077,
          0.844872970730841,
          0.933394478003732,
          0.9352774743520814,
          0.98570114853046,
          0.9861220249752461,
          0.9962674584658202,
          0.9963720693740619
         ],
         "xaxis": "x",
         "y": [
          "CRASH DATE",
          "COLLISION_ID",
          "NUMBER OF MOTORIST KILLED",
          "NUMBER OF MOTORIST INJURED",
          "NUMBER OF CYCLIST KILLED",
          "NUMBER OF PEDESTRIANS KILLED",
          "NUMBER OF PEDESTRIANS INJURED",
          "NUMBER OF CYCLIST INJURED",
          "TIME",
          "CRASH TIME",
          "NUMBER OF PERSONS INJURED",
          "NUMBER OF PERSONS KILLED",
          "CONTRIBUTING FACTOR VEHICLE 1",
          "VEHICLE TYPE CODE 1",
          "LONGITUDE",
          "LATITUDE",
          "LOCATION",
          "CONTRIBUTING FACTOR VEHICLE 2",
          "VEHICLE TYPE CODE 2",
          "ON STREET NAME",
          "BOROUGH",
          "ZIP CODE",
          "CROSS STREET NAME",
          "OFF STREET NAME",
          "CONTRIBUTING FACTOR VEHICLE 3",
          "VEHICLE TYPE CODE 3",
          "CONTRIBUTING FACTOR VEHICLE 4",
          "VEHICLE TYPE CODE 4",
          "CONTRIBUTING FACTOR VEHICLE 5",
          "VEHICLE TYPE CODE 5"
         ],
         "yaxis": "y"
        }
       ],
       "layout": {
        "barmode": "relative",
        "height": 800,
        "hoverlabel": {
         "font": {
          "color": "White"
         }
        },
        "legend": {
         "tracegroupgap": 0
        },
        "template": {
         "data": {
          "bar": [
           {
            "error_x": {
             "color": "#2a3f5f"
            },
            "error_y": {
             "color": "#2a3f5f"
            },
            "marker": {
             "line": {
              "color": "#E5ECF6",
              "width": 0.5
             }
            },
            "type": "bar"
           }
          ],
          "barpolar": [
           {
            "marker": {
             "line": {
              "color": "#E5ECF6",
              "width": 0.5
             }
            },
            "type": "barpolar"
           }
          ],
          "carpet": [
           {
            "aaxis": {
             "endlinecolor": "#2a3f5f",
             "gridcolor": "white",
             "linecolor": "white",
             "minorgridcolor": "white",
             "startlinecolor": "#2a3f5f"
            },
            "baxis": {
             "endlinecolor": "#2a3f5f",
             "gridcolor": "white",
             "linecolor": "white",
             "minorgridcolor": "white",
             "startlinecolor": "#2a3f5f"
            },
            "type": "carpet"
           }
          ],
          "choropleth": [
           {
            "colorbar": {
             "outlinewidth": 0,
             "ticks": ""
            },
            "type": "choropleth"
           }
          ],
          "contour": [
           {
            "colorbar": {
             "outlinewidth": 0,
             "ticks": ""
            },
            "colorscale": [
             [
              0,
              "#0d0887"
             ],
             [
              0.1111111111111111,
              "#46039f"
             ],
             [
              0.2222222222222222,
              "#7201a8"
             ],
             [
              0.3333333333333333,
              "#9c179e"
             ],
             [
              0.4444444444444444,
              "#bd3786"
             ],
             [
              0.5555555555555556,
              "#d8576b"
             ],
             [
              0.6666666666666666,
              "#ed7953"
             ],
             [
              0.7777777777777778,
              "#fb9f3a"
             ],
             [
              0.8888888888888888,
              "#fdca26"
             ],
             [
              1,
              "#f0f921"
             ]
            ],
            "type": "contour"
           }
          ],
          "contourcarpet": [
           {
            "colorbar": {
             "outlinewidth": 0,
             "ticks": ""
            },
            "type": "contourcarpet"
           }
          ],
          "heatmap": [
           {
            "colorbar": {
             "outlinewidth": 0,
             "ticks": ""
            },
            "colorscale": [
             [
              0,
              "#0d0887"
             ],
             [
              0.1111111111111111,
              "#46039f"
             ],
             [
              0.2222222222222222,
              "#7201a8"
             ],
             [
              0.3333333333333333,
              "#9c179e"
             ],
             [
              0.4444444444444444,
              "#bd3786"
             ],
             [
              0.5555555555555556,
              "#d8576b"
             ],
             [
              0.6666666666666666,
              "#ed7953"
             ],
             [
              0.7777777777777778,
              "#fb9f3a"
             ],
             [
              0.8888888888888888,
              "#fdca26"
             ],
             [
              1,
              "#f0f921"
             ]
            ],
            "type": "heatmap"
           }
          ],
          "heatmapgl": [
           {
            "colorbar": {
             "outlinewidth": 0,
             "ticks": ""
            },
            "colorscale": [
             [
              0,
              "#0d0887"
             ],
             [
              0.1111111111111111,
              "#46039f"
             ],
             [
              0.2222222222222222,
              "#7201a8"
             ],
             [
              0.3333333333333333,
              "#9c179e"
             ],
             [
              0.4444444444444444,
              "#bd3786"
             ],
             [
              0.5555555555555556,
              "#d8576b"
             ],
             [
              0.6666666666666666,
              "#ed7953"
             ],
             [
              0.7777777777777778,
              "#fb9f3a"
             ],
             [
              0.8888888888888888,
              "#fdca26"
             ],
             [
              1,
              "#f0f921"
             ]
            ],
            "type": "heatmapgl"
           }
          ],
          "histogram": [
           {
            "marker": {
             "colorbar": {
              "outlinewidth": 0,
              "ticks": ""
             }
            },
            "type": "histogram"
           }
          ],
          "histogram2d": [
           {
            "colorbar": {
             "outlinewidth": 0,
             "ticks": ""
            },
            "colorscale": [
             [
              0,
              "#0d0887"
             ],
             [
              0.1111111111111111,
              "#46039f"
             ],
             [
              0.2222222222222222,
              "#7201a8"
             ],
             [
              0.3333333333333333,
              "#9c179e"
             ],
             [
              0.4444444444444444,
              "#bd3786"
             ],
             [
              0.5555555555555556,
              "#d8576b"
             ],
             [
              0.6666666666666666,
              "#ed7953"
             ],
             [
              0.7777777777777778,
              "#fb9f3a"
             ],
             [
              0.8888888888888888,
              "#fdca26"
             ],
             [
              1,
              "#f0f921"
             ]
            ],
            "type": "histogram2d"
           }
          ],
          "histogram2dcontour": [
           {
            "colorbar": {
             "outlinewidth": 0,
             "ticks": ""
            },
            "colorscale": [
             [
              0,
              "#0d0887"
             ],
             [
              0.1111111111111111,
              "#46039f"
             ],
             [
              0.2222222222222222,
              "#7201a8"
             ],
             [
              0.3333333333333333,
              "#9c179e"
             ],
             [
              0.4444444444444444,
              "#bd3786"
             ],
             [
              0.5555555555555556,
              "#d8576b"
             ],
             [
              0.6666666666666666,
              "#ed7953"
             ],
             [
              0.7777777777777778,
              "#fb9f3a"
             ],
             [
              0.8888888888888888,
              "#fdca26"
             ],
             [
              1,
              "#f0f921"
             ]
            ],
            "type": "histogram2dcontour"
           }
          ],
          "mesh3d": [
           {
            "colorbar": {
             "outlinewidth": 0,
             "ticks": ""
            },
            "type": "mesh3d"
           }
          ],
          "parcoords": [
           {
            "line": {
             "colorbar": {
              "outlinewidth": 0,
              "ticks": ""
             }
            },
            "type": "parcoords"
           }
          ],
          "pie": [
           {
            "automargin": true,
            "type": "pie"
           }
          ],
          "scatter": [
           {
            "marker": {
             "colorbar": {
              "outlinewidth": 0,
              "ticks": ""
             }
            },
            "type": "scatter"
           }
          ],
          "scatter3d": [
           {
            "line": {
             "colorbar": {
              "outlinewidth": 0,
              "ticks": ""
             }
            },
            "marker": {
             "colorbar": {
              "outlinewidth": 0,
              "ticks": ""
             }
            },
            "type": "scatter3d"
           }
          ],
          "scattercarpet": [
           {
            "marker": {
             "colorbar": {
              "outlinewidth": 0,
              "ticks": ""
             }
            },
            "type": "scattercarpet"
           }
          ],
          "scattergeo": [
           {
            "marker": {
             "colorbar": {
              "outlinewidth": 0,
              "ticks": ""
             }
            },
            "type": "scattergeo"
           }
          ],
          "scattergl": [
           {
            "marker": {
             "colorbar": {
              "outlinewidth": 0,
              "ticks": ""
             }
            },
            "type": "scattergl"
           }
          ],
          "scattermapbox": [
           {
            "marker": {
             "colorbar": {
              "outlinewidth": 0,
              "ticks": ""
             }
            },
            "type": "scattermapbox"
           }
          ],
          "scatterpolar": [
           {
            "marker": {
             "colorbar": {
              "outlinewidth": 0,
              "ticks": ""
             }
            },
            "type": "scatterpolar"
           }
          ],
          "scatterpolargl": [
           {
            "marker": {
             "colorbar": {
              "outlinewidth": 0,
              "ticks": ""
             }
            },
            "type": "scatterpolargl"
           }
          ],
          "scatterternary": [
           {
            "marker": {
             "colorbar": {
              "outlinewidth": 0,
              "ticks": ""
             }
            },
            "type": "scatterternary"
           }
          ],
          "surface": [
           {
            "colorbar": {
             "outlinewidth": 0,
             "ticks": ""
            },
            "colorscale": [
             [
              0,
              "#0d0887"
             ],
             [
              0.1111111111111111,
              "#46039f"
             ],
             [
              0.2222222222222222,
              "#7201a8"
             ],
             [
              0.3333333333333333,
              "#9c179e"
             ],
             [
              0.4444444444444444,
              "#bd3786"
             ],
             [
              0.5555555555555556,
              "#d8576b"
             ],
             [
              0.6666666666666666,
              "#ed7953"
             ],
             [
              0.7777777777777778,
              "#fb9f3a"
             ],
             [
              0.8888888888888888,
              "#fdca26"
             ],
             [
              1,
              "#f0f921"
             ]
            ],
            "type": "surface"
           }
          ],
          "table": [
           {
            "cells": {
             "fill": {
              "color": "#EBF0F8"
             },
             "line": {
              "color": "white"
             }
            },
            "header": {
             "fill": {
              "color": "#C8D4E3"
             },
             "line": {
              "color": "white"
             }
            },
            "type": "table"
           }
          ]
         },
         "layout": {
          "annotationdefaults": {
           "arrowcolor": "#2a3f5f",
           "arrowhead": 0,
           "arrowwidth": 1
          },
          "autotypenumbers": "strict",
          "coloraxis": {
           "colorbar": {
            "outlinewidth": 0,
            "ticks": ""
           }
          },
          "colorscale": {
           "diverging": [
            [
             0,
             "#8e0152"
            ],
            [
             0.1,
             "#c51b7d"
            ],
            [
             0.2,
             "#de77ae"
            ],
            [
             0.3,
             "#f1b6da"
            ],
            [
             0.4,
             "#fde0ef"
            ],
            [
             0.5,
             "#f7f7f7"
            ],
            [
             0.6,
             "#e6f5d0"
            ],
            [
             0.7,
             "#b8e186"
            ],
            [
             0.8,
             "#7fbc41"
            ],
            [
             0.9,
             "#4d9221"
            ],
            [
             1,
             "#276419"
            ]
           ],
           "sequential": [
            [
             0,
             "#0d0887"
            ],
            [
             0.1111111111111111,
             "#46039f"
            ],
            [
             0.2222222222222222,
             "#7201a8"
            ],
            [
             0.3333333333333333,
             "#9c179e"
            ],
            [
             0.4444444444444444,
             "#bd3786"
            ],
            [
             0.5555555555555556,
             "#d8576b"
            ],
            [
             0.6666666666666666,
             "#ed7953"
            ],
            [
             0.7777777777777778,
             "#fb9f3a"
            ],
            [
             0.8888888888888888,
             "#fdca26"
            ],
            [
             1,
             "#f0f921"
            ]
           ],
           "sequentialminus": [
            [
             0,
             "#0d0887"
            ],
            [
             0.1111111111111111,
             "#46039f"
            ],
            [
             0.2222222222222222,
             "#7201a8"
            ],
            [
             0.3333333333333333,
             "#9c179e"
            ],
            [
             0.4444444444444444,
             "#bd3786"
            ],
            [
             0.5555555555555556,
             "#d8576b"
            ],
            [
             0.6666666666666666,
             "#ed7953"
            ],
            [
             0.7777777777777778,
             "#fb9f3a"
            ],
            [
             0.8888888888888888,
             "#fdca26"
            ],
            [
             1,
             "#f0f921"
            ]
           ]
          },
          "colorway": [
           "#636efa",
           "#EF553B",
           "#00cc96",
           "#ab63fa",
           "#FFA15A",
           "#19d3f3",
           "#FF6692",
           "#B6E880",
           "#FF97FF",
           "#FECB52"
          ],
          "font": {
           "color": "#2a3f5f"
          },
          "geo": {
           "bgcolor": "white",
           "lakecolor": "white",
           "landcolor": "#E5ECF6",
           "showlakes": true,
           "showland": true,
           "subunitcolor": "white"
          },
          "hoverlabel": {
           "align": "left"
          },
          "hovermode": "closest",
          "mapbox": {
           "style": "light"
          },
          "paper_bgcolor": "white",
          "plot_bgcolor": "#E5ECF6",
          "polar": {
           "angularaxis": {
            "gridcolor": "white",
            "linecolor": "white",
            "ticks": ""
           },
           "bgcolor": "#E5ECF6",
           "radialaxis": {
            "gridcolor": "white",
            "linecolor": "white",
            "ticks": ""
           }
          },
          "scene": {
           "xaxis": {
            "backgroundcolor": "#E5ECF6",
            "gridcolor": "white",
            "gridwidth": 2,
            "linecolor": "white",
            "showbackground": true,
            "ticks": "",
            "zerolinecolor": "white"
           },
           "yaxis": {
            "backgroundcolor": "#E5ECF6",
            "gridcolor": "white",
            "gridwidth": 2,
            "linecolor": "white",
            "showbackground": true,
            "ticks": "",
            "zerolinecolor": "white"
           },
           "zaxis": {
            "backgroundcolor": "#E5ECF6",
            "gridcolor": "white",
            "gridwidth": 2,
            "linecolor": "white",
            "showbackground": true,
            "ticks": "",
            "zerolinecolor": "white"
           }
          },
          "shapedefaults": {
           "line": {
            "color": "#2a3f5f"
           }
          },
          "ternary": {
           "aaxis": {
            "gridcolor": "white",
            "linecolor": "white",
            "ticks": ""
           },
           "baxis": {
            "gridcolor": "white",
            "linecolor": "white",
            "ticks": ""
           },
           "bgcolor": "#E5ECF6",
           "caxis": {
            "gridcolor": "white",
            "linecolor": "white",
            "ticks": ""
           }
          },
          "title": {
           "x": 0.05
          },
          "xaxis": {
           "automargin": true,
           "gridcolor": "white",
           "linecolor": "white",
           "ticks": "",
           "title": {
            "standoff": 15
           },
           "zerolinecolor": "white",
           "zerolinewidth": 2
          },
          "yaxis": {
           "automargin": true,
           "gridcolor": "white",
           "linecolor": "white",
           "ticks": "",
           "title": {
            "standoff": 15
           },
           "zerolinecolor": "white",
           "zerolinewidth": 2
          }
         }
        },
        "title": {
         "text": "Percentage of data missing for each column"
        },
        "width": 1000,
        "xaxis": {
         "anchor": "y",
         "domain": [
          0,
          1
         ],
         "range": [
          0,
          1
         ],
         "tickmode": "array",
         "ticktext": [
          "0.00",
          "0.05",
          "0.10",
          "0.15",
          "0.20",
          "0.25",
          "0.30",
          "0.35",
          "0.40",
          "0.45",
          "0.50",
          "0.55",
          "0.60",
          "0.65",
          "0.70",
          "0.75",
          "0.80",
          "0.85",
          "0.90",
          "0.95",
          "1.00"
         ],
         "tickvals": [
          0,
          0.05,
          0.1,
          0.15000000000000002,
          0.2,
          0.25,
          0.30000000000000004,
          0.35000000000000003,
          0.4,
          0.45,
          0.5,
          0.55,
          0.6000000000000001,
          0.65,
          0.7000000000000001,
          0.75,
          0.8,
          0.8500000000000001,
          0.9,
          0.9500000000000001,
          1
         ],
         "title": {
          "text": "% missing"
         },
         "type": "linear"
        },
        "yaxis": {
         "anchor": "x",
         "autorange": true,
         "domain": [
          0,
          1
         ],
         "range": [
          -0.5,
          29.5
         ],
         "title": {
          "text": "Column"
         },
         "type": "category"
        }
       }
      },
      "image/png": "[encoded data removed]",
      "text/html": [
       "<div>                            <div id=\"0dc846cb-38e4-4f0b-a98b-b804a04de3bc\" class=\"plotly-graph-div\" style=\"height:800px; width:1000px;\"></div>            <script type=\"text/javascript\">                require([\"plotly\"], function(Plotly) {                    window.PLOTLYENV=window.PLOTLYENV || {};                                    if (document.getElementById(\"0dc846cb-38e4-4f0b-a98b-b804a04de3bc\")) {                    Plotly.newPlot(                        \"0dc846cb-38e4-4f0b-a98b-b804a04de3bc\",                        [{\"alignmentgroup\": \"True\", \"hovertemplate\": \"Percentage missing=%{x}<br>Column=%{y}<extra></extra>\", \"legendgroup\": \"\", \"marker\": {\"color\": \"rgb(43,174,128)\"}, \"name\": \"\", \"offsetgroup\": \"\", \"orientation\": \"h\", \"showlegend\": false, \"textposition\": \"auto\", \"type\": \"bar\", \"x\": [0.0, 0.0, 0.0, 0.0, 0.0, 0.0, 0.0, 0.0, 0.0, 0.0, 1.0339450233185012e-05, 1.8854291601690317e-05, 0.0029625565932849527, 0.0055121433801973985, 0.11699148759144332, 0.11699148759144332, 0.11699148759144332, 0.14255547419151582, 0.16694684549455416, 0.20422421280291547, 0.3115519636440602, 0.3117003651650541, 0.36219215807438077, 0.844872970730841, 0.933394478003732, 0.9352774743520814, 0.98570114853046, 0.9861220249752461, 0.9962674584658202, 0.9963720693740619], \"xaxis\": \"x\", \"y\": [\"CRASH DATE\", \"COLLISION_ID\", \"NUMBER OF MOTORIST KILLED\", \"NUMBER OF MOTORIST INJURED\", \"NUMBER OF CYCLIST KILLED\", \"NUMBER OF PEDESTRIANS KILLED\", \"NUMBER OF PEDESTRIANS INJURED\", \"NUMBER OF CYCLIST INJURED\", \"TIME\", \"CRASH TIME\", \"NUMBER OF PERSONS INJURED\", \"NUMBER OF PERSONS KILLED\", \"CONTRIBUTING FACTOR VEHICLE 1\", \"VEHICLE TYPE CODE 1\", \"LONGITUDE\", \"LATITUDE\", \"LOCATION\", \"CONTRIBUTING FACTOR VEHICLE 2\", \"VEHICLE TYPE CODE 2\", \"ON STREET NAME\", \"BOROUGH\", \"ZIP CODE\", \"CROSS STREET NAME\", \"OFF STREET NAME\", \"CONTRIBUTING FACTOR VEHICLE 3\", \"VEHICLE TYPE CODE 3\", \"CONTRIBUTING FACTOR VEHICLE 4\", \"VEHICLE TYPE CODE 4\", \"CONTRIBUTING FACTOR VEHICLE 5\", \"VEHICLE TYPE CODE 5\"], \"yaxis\": \"y\"}],                        {\"barmode\": \"relative\", \"height\": 800, \"hoverlabel\": {\"font\": {\"color\": \"White\"}}, \"legend\": {\"tracegroupgap\": 0}, \"template\": {\"data\": {\"bar\": [{\"error_x\": {\"color\": \"#2a3f5f\"}, \"error_y\": {\"color\": \"#2a3f5f\"}, \"marker\": {\"line\": {\"color\": \"#E5ECF6\", \"width\": 0.5}}, \"type\": \"bar\"}], \"barpolar\": [{\"marker\": {\"line\": {\"color\": \"#E5ECF6\", \"width\": 0.5}}, \"type\": \"barpolar\"}], \"carpet\": [{\"aaxis\": {\"endlinecolor\": \"#2a3f5f\", \"gridcolor\": \"white\", \"linecolor\": \"white\", \"minorgridcolor\": \"white\", \"startlinecolor\": \"#2a3f5f\"}, \"baxis\": {\"endlinecolor\": \"#2a3f5f\", \"gridcolor\": \"white\", \"linecolor\": \"white\", \"minorgridcolor\": \"white\", \"startlinecolor\": \"#2a3f5f\"}, \"type\": \"carpet\"}], \"choropleth\": [{\"colorbar\": {\"outlinewidth\": 0, \"ticks\": \"\"}, \"type\": \"choropleth\"}], \"contour\": [{\"colorbar\": {\"outlinewidth\": 0, \"ticks\": \"\"}, \"colorscale\": [[0.0, \"#0d0887\"], [0.1111111111111111, \"#46039f\"], [0.2222222222222222, \"#7201a8\"], [0.3333333333333333, \"#9c179e\"], [0.4444444444444444, \"#bd3786\"], [0.5555555555555556, \"#d8576b\"], [0.6666666666666666, \"#ed7953\"], [0.7777777777777778, \"#fb9f3a\"], [0.8888888888888888, \"#fdca26\"], [1.0, \"#f0f921\"]], \"type\": \"contour\"}], \"contourcarpet\": [{\"colorbar\": {\"outlinewidth\": 0, \"ticks\": \"\"}, \"type\": \"contourcarpet\"}], \"heatmap\": [{\"colorbar\": {\"outlinewidth\": 0, \"ticks\": \"\"}, \"colorscale\": [[0.0, \"#0d0887\"], [0.1111111111111111, \"#46039f\"], [0.2222222222222222, \"#7201a8\"], [0.3333333333333333, \"#9c179e\"], [0.4444444444444444, \"#bd3786\"], [0.5555555555555556, \"#d8576b\"], [0.6666666666666666, \"#ed7953\"], [0.7777777777777778, \"#fb9f3a\"], [0.8888888888888888, \"#fdca26\"], [1.0, \"#f0f921\"]], \"type\": \"heatmap\"}], \"heatmapgl\": [{\"colorbar\": {\"outlinewidth\": 0, \"ticks\": \"\"}, \"colorscale\": [[0.0, \"#0d0887\"], [0.1111111111111111, \"#46039f\"], [0.2222222222222222, \"#7201a8\"], [0.3333333333333333, \"#9c179e\"], [0.4444444444444444, \"#bd3786\"], [0.5555555555555556, \"#d8576b\"], [0.6666666666666666, \"#ed7953\"], [0.7777777777777778, \"#fb9f3a\"], [0.8888888888888888, \"#fdca26\"], [1.0, \"#f0f921\"]], \"type\": \"heatmapgl\"}], \"histogram\": [{\"marker\": {\"colorbar\": {\"outlinewidth\": 0, \"ticks\": \"\"}}, \"type\": \"histogram\"}], \"histogram2d\": [{\"colorbar\": {\"outlinewidth\": 0, \"ticks\": \"\"}, \"colorscale\": [[0.0, \"#0d0887\"], [0.1111111111111111, \"#46039f\"], [0.2222222222222222, \"#7201a8\"], [0.3333333333333333, \"#9c179e\"], [0.4444444444444444, \"#bd3786\"], [0.5555555555555556, \"#d8576b\"], [0.6666666666666666, \"#ed7953\"], [0.7777777777777778, \"#fb9f3a\"], [0.8888888888888888, \"#fdca26\"], [1.0, \"#f0f921\"]], \"type\": \"histogram2d\"}], \"histogram2dcontour\": [{\"colorbar\": {\"outlinewidth\": 0, \"ticks\": \"\"}, \"colorscale\": [[0.0, \"#0d0887\"], [0.1111111111111111, \"#46039f\"], [0.2222222222222222, \"#7201a8\"], [0.3333333333333333, \"#9c179e\"], [0.4444444444444444, \"#bd3786\"], [0.5555555555555556, \"#d8576b\"], [0.6666666666666666, \"#ed7953\"], [0.7777777777777778, \"#fb9f3a\"], [0.8888888888888888, \"#fdca26\"], [1.0, \"#f0f921\"]], \"type\": \"histogram2dcontour\"}], \"mesh3d\": [{\"colorbar\": {\"outlinewidth\": 0, \"ticks\": \"\"}, \"type\": \"mesh3d\"}], \"parcoords\": [{\"line\": {\"colorbar\": {\"outlinewidth\": 0, \"ticks\": \"\"}}, \"type\": \"parcoords\"}], \"pie\": [{\"automargin\": true, \"type\": \"pie\"}], \"scatter\": [{\"marker\": {\"colorbar\": {\"outlinewidth\": 0, \"ticks\": \"\"}}, \"type\": \"scatter\"}], \"scatter3d\": [{\"line\": {\"colorbar\": {\"outlinewidth\": 0, \"ticks\": \"\"}}, \"marker\": {\"colorbar\": {\"outlinewidth\": 0, \"ticks\": \"\"}}, \"type\": \"scatter3d\"}], \"scattercarpet\": [{\"marker\": {\"colorbar\": {\"outlinewidth\": 0, \"ticks\": \"\"}}, \"type\": \"scattercarpet\"}], \"scattergeo\": [{\"marker\": {\"colorbar\": {\"outlinewidth\": 0, \"ticks\": \"\"}}, \"type\": \"scattergeo\"}], \"scattergl\": [{\"marker\": {\"colorbar\": {\"outlinewidth\": 0, \"ticks\": \"\"}}, \"type\": \"scattergl\"}], \"scattermapbox\": [{\"marker\": {\"colorbar\": {\"outlinewidth\": 0, \"ticks\": \"\"}}, \"type\": \"scattermapbox\"}], \"scatterpolar\": [{\"marker\": {\"colorbar\": {\"outlinewidth\": 0, \"ticks\": \"\"}}, \"type\": \"scatterpolar\"}], \"scatterpolargl\": [{\"marker\": {\"colorbar\": {\"outlinewidth\": 0, \"ticks\": \"\"}}, \"type\": \"scatterpolargl\"}], \"scatterternary\": [{\"marker\": {\"colorbar\": {\"outlinewidth\": 0, \"ticks\": \"\"}}, \"type\": \"scatterternary\"}], \"surface\": [{\"colorbar\": {\"outlinewidth\": 0, \"ticks\": \"\"}, \"colorscale\": [[0.0, \"#0d0887\"], [0.1111111111111111, \"#46039f\"], [0.2222222222222222, \"#7201a8\"], [0.3333333333333333, \"#9c179e\"], [0.4444444444444444, \"#bd3786\"], [0.5555555555555556, \"#d8576b\"], [0.6666666666666666, \"#ed7953\"], [0.7777777777777778, \"#fb9f3a\"], [0.8888888888888888, \"#fdca26\"], [1.0, \"#f0f921\"]], \"type\": \"surface\"}], \"table\": [{\"cells\": {\"fill\": {\"color\": \"#EBF0F8\"}, \"line\": {\"color\": \"white\"}}, \"header\": {\"fill\": {\"color\": \"#C8D4E3\"}, \"line\": {\"color\": \"white\"}}, \"type\": \"table\"}]}, \"layout\": {\"annotationdefaults\": {\"arrowcolor\": \"#2a3f5f\", \"arrowhead\": 0, \"arrowwidth\": 1}, \"autotypenumbers\": \"strict\", \"coloraxis\": {\"colorbar\": {\"outlinewidth\": 0, \"ticks\": \"\"}}, \"colorscale\": {\"diverging\": [[0, \"#8e0152\"], [0.1, \"#c51b7d\"], [0.2, \"#de77ae\"], [0.3, \"#f1b6da\"], [0.4, \"#fde0ef\"], [0.5, \"#f7f7f7\"], [0.6, \"#e6f5d0\"], [0.7, \"#b8e186\"], [0.8, \"#7fbc41\"], [0.9, \"#4d9221\"], [1, \"#276419\"]], \"sequential\": [[0.0, \"#0d0887\"], [0.1111111111111111, \"#46039f\"], [0.2222222222222222, \"#7201a8\"], [0.3333333333333333, \"#9c179e\"], [0.4444444444444444, \"#bd3786\"], [0.5555555555555556, \"#d8576b\"], [0.6666666666666666, \"#ed7953\"], [0.7777777777777778, \"#fb9f3a\"], [0.8888888888888888, \"#fdca26\"], [1.0, \"#f0f921\"]], \"sequentialminus\": [[0.0, \"#0d0887\"], [0.1111111111111111, \"#46039f\"], [0.2222222222222222, \"#7201a8\"], [0.3333333333333333, \"#9c179e\"], [0.4444444444444444, \"#bd3786\"], [0.5555555555555556, \"#d8576b\"], [0.6666666666666666, \"#ed7953\"], [0.7777777777777778, \"#fb9f3a\"], [0.8888888888888888, \"#fdca26\"], [1.0, \"#f0f921\"]]}, \"colorway\": [\"#636efa\", \"#EF553B\", \"#00cc96\", \"#ab63fa\", \"#FFA15A\", \"#19d3f3\", \"#FF6692\", \"#B6E880\", \"#FF97FF\", \"#FECB52\"], \"font\": {\"color\": \"#2a3f5f\"}, \"geo\": {\"bgcolor\": \"white\", \"lakecolor\": \"white\", \"landcolor\": \"#E5ECF6\", \"showlakes\": true, \"showland\": true, \"subunitcolor\": \"white\"}, \"hoverlabel\": {\"align\": \"left\"}, \"hovermode\": \"closest\", \"mapbox\": {\"style\": \"light\"}, \"paper_bgcolor\": \"white\", \"plot_bgcolor\": \"#E5ECF6\", \"polar\": {\"angularaxis\": {\"gridcolor\": \"white\", \"linecolor\": \"white\", \"ticks\": \"\"}, \"bgcolor\": \"#E5ECF6\", \"radialaxis\": {\"gridcolor\": \"white\", \"linecolor\": \"white\", \"ticks\": \"\"}}, \"scene\": {\"xaxis\": {\"backgroundcolor\": \"#E5ECF6\", \"gridcolor\": \"white\", \"gridwidth\": 2, \"linecolor\": \"white\", \"showbackground\": true, \"ticks\": \"\", \"zerolinecolor\": \"white\"}, \"yaxis\": {\"backgroundcolor\": \"#E5ECF6\", \"gridcolor\": \"white\", \"gridwidth\": 2, \"linecolor\": \"white\", \"showbackground\": true, \"ticks\": \"\", \"zerolinecolor\": \"white\"}, \"zaxis\": {\"backgroundcolor\": \"#E5ECF6\", \"gridcolor\": \"white\", \"gridwidth\": 2, \"linecolor\": \"white\", \"showbackground\": true, \"ticks\": \"\", \"zerolinecolor\": \"white\"}}, \"shapedefaults\": {\"line\": {\"color\": \"#2a3f5f\"}}, \"ternary\": {\"aaxis\": {\"gridcolor\": \"white\", \"linecolor\": \"white\", \"ticks\": \"\"}, \"baxis\": {\"gridcolor\": \"white\", \"linecolor\": \"white\", \"ticks\": \"\"}, \"bgcolor\": \"#E5ECF6\", \"caxis\": {\"gridcolor\": \"white\", \"linecolor\": \"white\", \"ticks\": \"\"}}, \"title\": {\"x\": 0.05}, \"xaxis\": {\"automargin\": true, \"gridcolor\": \"white\", \"linecolor\": \"white\", \"ticks\": \"\", \"title\": {\"standoff\": 15}, \"zerolinecolor\": \"white\", \"zerolinewidth\": 2}, \"yaxis\": {\"automargin\": true, \"gridcolor\": \"white\", \"linecolor\": \"white\", \"ticks\": \"\", \"title\": {\"standoff\": 15}, \"zerolinecolor\": \"white\", \"zerolinewidth\": 2}}}, \"title\": {\"text\": \"Percentage of data missing for each column\"}, \"width\": 1000, \"xaxis\": {\"anchor\": \"y\", \"domain\": [0.0, 1.0], \"range\": [0, 1], \"tickmode\": \"array\", \"ticktext\": [\"0.00\", \"0.05\", \"0.10\", \"0.15\", \"0.20\", \"0.25\", \"0.30\", \"0.35\", \"0.40\", \"0.45\", \"0.50\", \"0.55\", \"0.60\", \"0.65\", \"0.70\", \"0.75\", \"0.80\", \"0.85\", \"0.90\", \"0.95\", \"1.00\"], \"tickvals\": [0.0, 0.05, 0.1, 0.15000000000000002, 0.2, 0.25, 0.30000000000000004, 0.35000000000000003, 0.4, 0.45, 0.5, 0.55, 0.6000000000000001, 0.65, 0.7000000000000001, 0.75, 0.8, 0.8500000000000001, 0.9, 0.9500000000000001, 1.0], \"title\": {\"text\": \"% missing\"}}, \"yaxis\": {\"anchor\": \"x\", \"domain\": [0.0, 1.0], \"title\": {\"text\": \"Column\"}}},                        {\"responsive\": true}                    ).then(function(){\n",
       "                            \n",
       "var gd = document.getElementById('0dc846cb-38e4-4f0b-a98b-b804a04de3bc');\n",
       "var x = new MutationObserver(function (mutations, observer) {{\n",
       "        var display = window.getComputedStyle(gd).display;\n",
       "        if (!display || display === 'none') {{\n",
       "            console.log([gd, 'removed!']);\n",
       "            Plotly.purge(gd);\n",
       "            observer.disconnect();\n",
       "        }}\n",
       "}});\n",
       "\n",
       "// Listen for the removal of the full notebook cells\n",
       "var notebookContainer = gd.closest('#notebook-container');\n",
       "if (notebookContainer) {{\n",
       "    x.observe(notebookContainer, {childList: true});\n",
       "}}\n",
       "\n",
       "// Listen for the clearing of the current output cell\n",
       "var outputEl = gd.closest('.output');\n",
       "if (outputEl) {{\n",
       "    x.observe(outputEl, {childList: true});\n",
       "}}\n",
       "\n",
       "                        })                };                });            </script>        </div>"
      ]
     },
     "metadata": {},
     "output_type": "display_data"
    }
   ],
   "source": [
    "missing_pct_df = pd.DataFrame((df.isnull().sum(axis=0)/len(df)).sort_values(ascending=True)).reset_index(); missing_pct_df.columns = ['Column', 'Percentage missing']\n",
    "\n",
    "import plotly.express as px\n",
    "fig = px.bar(missing_pct_df, x=\"Percentage missing\", y=\"Column\", orientation='h', width = 1000, height=800, title='Percentage of data missing for each column')\n",
    "fig.update_layout(\n",
    "    xaxis_title=\"% missing\",\n",
    "    xaxis = dict(\n",
    "        tickmode = 'array',\n",
    "        tickvals = np.arange(0,1.05,0.05),\n",
    "        ticktext = ['{0:.2f}'.format(x) for x in np.arange(0, 1.05, 0.05)]\n",
    "    ),\n",
    "    hoverlabel_font_color='White')\n",
    "fig.update_xaxes(range=[0, 1], row=1, col=1)\n",
    "\n",
    "fig.update_traces(\n",
    "    marker_color='rgb(43,174,128)'\n",
    ")\n",
    "\n",
    "fig.show()\n",
    "fig.write_html(\"./plotly_html/pct_missing.html\")"
   ]
  },
  {
   "cell_type": "markdown",
   "metadata": {},
   "source": [
    "## Filling in Missing Borough and ZIP Codes"
   ]
  },
  {
   "cell_type": "code",
   "execution_count": 12,
   "metadata": {},
   "outputs": [],
   "source": [
    "(_, data_complete), (_, data_missing) = df.groupby(np.any(pd.isna(df[['ZIP CODE', 'BOROUGH']]), axis=1))"
   ]
  },
  {
   "cell_type": "code",
   "execution_count": 13,
   "metadata": {},
   "outputs": [
    {
     "name": "stdout",
     "output_type": "stream",
     "text": [
      "Number of rows with either BOROUGH or ZIP CODE missing: 334840\n",
      "\n"
     ]
    },
    {
     "data": {
      "text/html": [
       "<div>\n",
       "<style scoped>\n",
       "    .dataframe tbody tr th:only-of-type {\n",
       "        vertical-align: middle;\n",
       "    }\n",
       "\n",
       "    .dataframe tbody tr th {\n",
       "        vertical-align: top;\n",
       "    }\n",
       "\n",
       "    .dataframe thead th {\n",
       "        text-align: right;\n",
       "    }\n",
       "</style>\n",
       "<table border=\"1\" class=\"dataframe\">\n",
       "  <thead>\n",
       "    <tr style=\"text-align: right;\">\n",
       "      <th></th>\n",
       "      <th>CRASH DATE</th>\n",
       "      <th>CRASH TIME</th>\n",
       "      <th>BOROUGH</th>\n",
       "      <th>ZIP CODE</th>\n",
       "      <th>LATITUDE</th>\n",
       "      <th>LONGITUDE</th>\n",
       "      <th>LOCATION</th>\n",
       "      <th>ON STREET NAME</th>\n",
       "      <th>CROSS STREET NAME</th>\n",
       "      <th>OFF STREET NAME</th>\n",
       "      <th>...</th>\n",
       "      <th>CONTRIBUTING FACTOR VEHICLE 3</th>\n",
       "      <th>CONTRIBUTING FACTOR VEHICLE 4</th>\n",
       "      <th>CONTRIBUTING FACTOR VEHICLE 5</th>\n",
       "      <th>COLLISION_ID</th>\n",
       "      <th>VEHICLE TYPE CODE 1</th>\n",
       "      <th>VEHICLE TYPE CODE 2</th>\n",
       "      <th>VEHICLE TYPE CODE 3</th>\n",
       "      <th>VEHICLE TYPE CODE 4</th>\n",
       "      <th>VEHICLE TYPE CODE 5</th>\n",
       "      <th>TIME</th>\n",
       "    </tr>\n",
       "  </thead>\n",
       "  <tbody>\n",
       "    <tr>\n",
       "      <td>217</td>\n",
       "      <td>12/18/2020</td>\n",
       "      <td>21:55</td>\n",
       "      <td>NaN</td>\n",
       "      <td>NaN</td>\n",
       "      <td>40.695970</td>\n",
       "      <td>-73.913370</td>\n",
       "      <td>(40.69597, -73.91337)</td>\n",
       "      <td>KNICKERBOCKER AVENUE</td>\n",
       "      <td>NaN</td>\n",
       "      <td>NaN</td>\n",
       "      <td>...</td>\n",
       "      <td>NaN</td>\n",
       "      <td>NaN</td>\n",
       "      <td>NaN</td>\n",
       "      <td>4377213</td>\n",
       "      <td>Sedan</td>\n",
       "      <td>NaN</td>\n",
       "      <td>NaN</td>\n",
       "      <td>NaN</td>\n",
       "      <td>NaN</td>\n",
       "      <td>2020-12-18 21:55:00</td>\n",
       "    </tr>\n",
       "    <tr>\n",
       "      <td>232</td>\n",
       "      <td>12/11/2020</td>\n",
       "      <td>14:43</td>\n",
       "      <td>NaN</td>\n",
       "      <td>NaN</td>\n",
       "      <td>40.843246</td>\n",
       "      <td>-73.945050</td>\n",
       "      <td>(40.843246, -73.94505)</td>\n",
       "      <td>HENRY HUDSON PARKWAY</td>\n",
       "      <td>NaN</td>\n",
       "      <td>NaN</td>\n",
       "      <td>...</td>\n",
       "      <td>NaN</td>\n",
       "      <td>NaN</td>\n",
       "      <td>NaN</td>\n",
       "      <td>4375744</td>\n",
       "      <td>Sedan</td>\n",
       "      <td>NaN</td>\n",
       "      <td>NaN</td>\n",
       "      <td>NaN</td>\n",
       "      <td>NaN</td>\n",
       "      <td>2020-12-11 14:43:00</td>\n",
       "    </tr>\n",
       "    <tr>\n",
       "      <td>237</td>\n",
       "      <td>12/08/2020</td>\n",
       "      <td>2:00</td>\n",
       "      <td>NaN</td>\n",
       "      <td>NaN</td>\n",
       "      <td>40.865100</td>\n",
       "      <td>-73.921890</td>\n",
       "      <td>(40.8651, -73.92189)</td>\n",
       "      <td>SHERMAN AVENUE</td>\n",
       "      <td>NaN</td>\n",
       "      <td>NaN</td>\n",
       "      <td>...</td>\n",
       "      <td>NaN</td>\n",
       "      <td>NaN</td>\n",
       "      <td>NaN</td>\n",
       "      <td>4374133</td>\n",
       "      <td>Sedan</td>\n",
       "      <td>Sedan</td>\n",
       "      <td>NaN</td>\n",
       "      <td>NaN</td>\n",
       "      <td>NaN</td>\n",
       "      <td>2020-12-08 02:00:00</td>\n",
       "    </tr>\n",
       "    <tr>\n",
       "      <td>238</td>\n",
       "      <td>12/07/2020</td>\n",
       "      <td>10:00</td>\n",
       "      <td>NaN</td>\n",
       "      <td>NaN</td>\n",
       "      <td>40.820827</td>\n",
       "      <td>-73.950836</td>\n",
       "      <td>(40.820827, -73.950836)</td>\n",
       "      <td>WEST 138 STREET</td>\n",
       "      <td>NaN</td>\n",
       "      <td>NaN</td>\n",
       "      <td>...</td>\n",
       "      <td>NaN</td>\n",
       "      <td>NaN</td>\n",
       "      <td>NaN</td>\n",
       "      <td>4374340</td>\n",
       "      <td>Sedan</td>\n",
       "      <td>NaN</td>\n",
       "      <td>NaN</td>\n",
       "      <td>NaN</td>\n",
       "      <td>NaN</td>\n",
       "      <td>2020-12-07 10:00:00</td>\n",
       "    </tr>\n",
       "    <tr>\n",
       "      <td>243</td>\n",
       "      <td>12/05/2020</td>\n",
       "      <td>13:45</td>\n",
       "      <td>NaN</td>\n",
       "      <td>NaN</td>\n",
       "      <td>40.651863</td>\n",
       "      <td>-73.865360</td>\n",
       "      <td>(40.651863, -73.86536)</td>\n",
       "      <td>BELT PARKWAY</td>\n",
       "      <td>NaN</td>\n",
       "      <td>NaN</td>\n",
       "      <td>...</td>\n",
       "      <td>Unspecified</td>\n",
       "      <td>NaN</td>\n",
       "      <td>NaN</td>\n",
       "      <td>4373337</td>\n",
       "      <td>Sedan</td>\n",
       "      <td>Station Wagon/Sport Utility Vehicle</td>\n",
       "      <td>Sedan</td>\n",
       "      <td>NaN</td>\n",
       "      <td>NaN</td>\n",
       "      <td>2020-12-05 13:45:00</td>\n",
       "    </tr>\n",
       "  </tbody>\n",
       "</table>\n",
       "<p>5 rows × 30 columns</p>\n",
       "</div>"
      ],
      "text/plain": [
       "     CRASH DATE CRASH TIME BOROUGH  ZIP CODE   LATITUDE  LONGITUDE  \\\n",
       "217  12/18/2020      21:55     NaN       NaN  40.695970 -73.913370   \n",
       "232  12/11/2020      14:43     NaN       NaN  40.843246 -73.945050   \n",
       "237  12/08/2020       2:00     NaN       NaN  40.865100 -73.921890   \n",
       "238  12/07/2020      10:00     NaN       NaN  40.820827 -73.950836   \n",
       "243  12/05/2020      13:45     NaN       NaN  40.651863 -73.865360   \n",
       "\n",
       "                    LOCATION                    ON STREET NAME  \\\n",
       "217    (40.69597, -73.91337)  KNICKERBOCKER AVENUE               \n",
       "232   (40.843246, -73.94505)  HENRY HUDSON PARKWAY               \n",
       "237     (40.8651, -73.92189)  SHERMAN AVENUE                     \n",
       "238  (40.820827, -73.950836)  WEST 138 STREET                    \n",
       "243   (40.651863, -73.86536)  BELT PARKWAY                       \n",
       "\n",
       "    CROSS STREET NAME OFF STREET NAME  ...  CONTRIBUTING FACTOR VEHICLE 3  \\\n",
       "217               NaN             NaN  ...                            NaN   \n",
       "232               NaN             NaN  ...                            NaN   \n",
       "237               NaN             NaN  ...                            NaN   \n",
       "238               NaN             NaN  ...                            NaN   \n",
       "243               NaN             NaN  ...                    Unspecified   \n",
       "\n",
       "     CONTRIBUTING FACTOR VEHICLE 4  CONTRIBUTING FACTOR VEHICLE 5  \\\n",
       "217                            NaN                            NaN   \n",
       "232                            NaN                            NaN   \n",
       "237                            NaN                            NaN   \n",
       "238                            NaN                            NaN   \n",
       "243                            NaN                            NaN   \n",
       "\n",
       "     COLLISION_ID  VEHICLE TYPE CODE 1                  VEHICLE TYPE CODE 2  \\\n",
       "217       4377213                Sedan                                  NaN   \n",
       "232       4375744                Sedan                                  NaN   \n",
       "237       4374133                Sedan                                Sedan   \n",
       "238       4374340                Sedan                                  NaN   \n",
       "243       4373337                Sedan  Station Wagon/Sport Utility Vehicle   \n",
       "\n",
       "     VEHICLE TYPE CODE 3  VEHICLE TYPE CODE 4 VEHICLE TYPE CODE 5  \\\n",
       "217                  NaN                  NaN                 NaN   \n",
       "232                  NaN                  NaN                 NaN   \n",
       "237                  NaN                  NaN                 NaN   \n",
       "238                  NaN                  NaN                 NaN   \n",
       "243                Sedan                  NaN                 NaN   \n",
       "\n",
       "                   TIME  \n",
       "217 2020-12-18 21:55:00  \n",
       "232 2020-12-11 14:43:00  \n",
       "237 2020-12-08 02:00:00  \n",
       "238 2020-12-07 10:00:00  \n",
       "243 2020-12-05 13:45:00  \n",
       "\n",
       "[5 rows x 30 columns]"
      ]
     },
     "execution_count": 13,
     "metadata": {},
     "output_type": "execute_result"
    }
   ],
   "source": [
    "print(f'Number of rows with either BOROUGH or ZIP CODE missing: {len(data_missing)}\\n')\n",
    "data_missing.head()"
   ]
  },
  {
   "cell_type": "code",
   "execution_count": 14,
   "metadata": {},
   "outputs": [
    {
     "name": "stdout",
     "output_type": "stream",
     "text": [
      "Number of rows with both BOROUGH and ZIP CODE: 1059705\n",
      "\n"
     ]
    },
    {
     "data": {
      "text/html": [
       "<div>\n",
       "<style scoped>\n",
       "    .dataframe tbody tr th:only-of-type {\n",
       "        vertical-align: middle;\n",
       "    }\n",
       "\n",
       "    .dataframe tbody tr th {\n",
       "        vertical-align: top;\n",
       "    }\n",
       "\n",
       "    .dataframe thead th {\n",
       "        text-align: right;\n",
       "    }\n",
       "</style>\n",
       "<table border=\"1\" class=\"dataframe\">\n",
       "  <thead>\n",
       "    <tr style=\"text-align: right;\">\n",
       "      <th></th>\n",
       "      <th>CRASH DATE</th>\n",
       "      <th>CRASH TIME</th>\n",
       "      <th>BOROUGH</th>\n",
       "      <th>ZIP CODE</th>\n",
       "      <th>LATITUDE</th>\n",
       "      <th>LONGITUDE</th>\n",
       "      <th>LOCATION</th>\n",
       "      <th>ON STREET NAME</th>\n",
       "      <th>CROSS STREET NAME</th>\n",
       "      <th>OFF STREET NAME</th>\n",
       "      <th>...</th>\n",
       "      <th>CONTRIBUTING FACTOR VEHICLE 3</th>\n",
       "      <th>CONTRIBUTING FACTOR VEHICLE 4</th>\n",
       "      <th>CONTRIBUTING FACTOR VEHICLE 5</th>\n",
       "      <th>COLLISION_ID</th>\n",
       "      <th>VEHICLE TYPE CODE 1</th>\n",
       "      <th>VEHICLE TYPE CODE 2</th>\n",
       "      <th>VEHICLE TYPE CODE 3</th>\n",
       "      <th>VEHICLE TYPE CODE 4</th>\n",
       "      <th>VEHICLE TYPE CODE 5</th>\n",
       "      <th>TIME</th>\n",
       "    </tr>\n",
       "  </thead>\n",
       "  <tbody>\n",
       "    <tr>\n",
       "      <td>199</td>\n",
       "      <td>12/28/2020</td>\n",
       "      <td>17:28</td>\n",
       "      <td>BRONX</td>\n",
       "      <td>10456.0</td>\n",
       "      <td>40.824066</td>\n",
       "      <td>-73.908714</td>\n",
       "      <td>(40.824066, -73.908714)</td>\n",
       "      <td>3 AVENUE</td>\n",
       "      <td>EAST 163 STREET</td>\n",
       "      <td>NaN</td>\n",
       "      <td>...</td>\n",
       "      <td>NaN</td>\n",
       "      <td>NaN</td>\n",
       "      <td>NaN</td>\n",
       "      <td>4379833</td>\n",
       "      <td>Sedan</td>\n",
       "      <td>Sedan</td>\n",
       "      <td>NaN</td>\n",
       "      <td>NaN</td>\n",
       "      <td>NaN</td>\n",
       "      <td>2020-12-28 17:28:00</td>\n",
       "    </tr>\n",
       "    <tr>\n",
       "      <td>218</td>\n",
       "      <td>12/17/2020</td>\n",
       "      <td>14:43</td>\n",
       "      <td>QUEENS</td>\n",
       "      <td>11368.0</td>\n",
       "      <td>40.747650</td>\n",
       "      <td>-73.863010</td>\n",
       "      <td>(40.74765, -73.86301)</td>\n",
       "      <td>NaN</td>\n",
       "      <td>NaN</td>\n",
       "      <td>102-02    42 AVENUE</td>\n",
       "      <td>...</td>\n",
       "      <td>NaN</td>\n",
       "      <td>NaN</td>\n",
       "      <td>NaN</td>\n",
       "      <td>4376945</td>\n",
       "      <td>Tractor Truck Gasoline</td>\n",
       "      <td>NaN</td>\n",
       "      <td>NaN</td>\n",
       "      <td>NaN</td>\n",
       "      <td>NaN</td>\n",
       "      <td>2020-12-17 14:43:00</td>\n",
       "    </tr>\n",
       "    <tr>\n",
       "      <td>221</td>\n",
       "      <td>12/15/2020</td>\n",
       "      <td>11:00</td>\n",
       "      <td>MANHATTAN</td>\n",
       "      <td>10002.0</td>\n",
       "      <td>40.713920</td>\n",
       "      <td>-73.991714</td>\n",
       "      <td>(40.71392, -73.991714)</td>\n",
       "      <td>NaN</td>\n",
       "      <td>NaN</td>\n",
       "      <td>129       EAST BROADWAY</td>\n",
       "      <td>...</td>\n",
       "      <td>NaN</td>\n",
       "      <td>NaN</td>\n",
       "      <td>NaN</td>\n",
       "      <td>4376264</td>\n",
       "      <td>Sedan</td>\n",
       "      <td>NaN</td>\n",
       "      <td>NaN</td>\n",
       "      <td>NaN</td>\n",
       "      <td>NaN</td>\n",
       "      <td>2020-12-15 11:00:00</td>\n",
       "    </tr>\n",
       "    <tr>\n",
       "      <td>224</td>\n",
       "      <td>12/14/2020</td>\n",
       "      <td>17:11</td>\n",
       "      <td>BRONX</td>\n",
       "      <td>10459.0</td>\n",
       "      <td>40.820990</td>\n",
       "      <td>-73.895890</td>\n",
       "      <td>(40.82099, -73.89589)</td>\n",
       "      <td>KELLY STREET</td>\n",
       "      <td>EAST 163 STREET</td>\n",
       "      <td>NaN</td>\n",
       "      <td>...</td>\n",
       "      <td>NaN</td>\n",
       "      <td>NaN</td>\n",
       "      <td>NaN</td>\n",
       "      <td>4376147</td>\n",
       "      <td>Sedan</td>\n",
       "      <td>NaN</td>\n",
       "      <td>NaN</td>\n",
       "      <td>NaN</td>\n",
       "      <td>NaN</td>\n",
       "      <td>2020-12-14 17:11:00</td>\n",
       "    </tr>\n",
       "    <tr>\n",
       "      <td>236</td>\n",
       "      <td>12/08/2020</td>\n",
       "      <td>19:52</td>\n",
       "      <td>BROOKLYN</td>\n",
       "      <td>11229.0</td>\n",
       "      <td>40.599728</td>\n",
       "      <td>-73.937920</td>\n",
       "      <td>(40.599728, -73.93792)</td>\n",
       "      <td>NaN</td>\n",
       "      <td>NaN</td>\n",
       "      <td>2152      FORD STREET</td>\n",
       "      <td>...</td>\n",
       "      <td>NaN</td>\n",
       "      <td>NaN</td>\n",
       "      <td>NaN</td>\n",
       "      <td>4374372</td>\n",
       "      <td>Sedan</td>\n",
       "      <td>NaN</td>\n",
       "      <td>NaN</td>\n",
       "      <td>NaN</td>\n",
       "      <td>NaN</td>\n",
       "      <td>2020-12-08 19:52:00</td>\n",
       "    </tr>\n",
       "  </tbody>\n",
       "</table>\n",
       "<p>5 rows × 30 columns</p>\n",
       "</div>"
      ],
      "text/plain": [
       "     CRASH DATE CRASH TIME    BOROUGH  ZIP CODE   LATITUDE  LONGITUDE  \\\n",
       "199  12/28/2020      17:28      BRONX   10456.0  40.824066 -73.908714   \n",
       "218  12/17/2020      14:43     QUEENS   11368.0  40.747650 -73.863010   \n",
       "221  12/15/2020      11:00  MANHATTAN   10002.0  40.713920 -73.991714   \n",
       "224  12/14/2020      17:11      BRONX   10459.0  40.820990 -73.895890   \n",
       "236  12/08/2020      19:52   BROOKLYN   11229.0  40.599728 -73.937920   \n",
       "\n",
       "                    LOCATION                    ON STREET NAME  \\\n",
       "199  (40.824066, -73.908714)  3 AVENUE                           \n",
       "218    (40.74765, -73.86301)                               NaN   \n",
       "221   (40.71392, -73.991714)                               NaN   \n",
       "224    (40.82099, -73.89589)  KELLY STREET                       \n",
       "236   (40.599728, -73.93792)                               NaN   \n",
       "\n",
       "    CROSS STREET NAME                           OFF STREET NAME  ...  \\\n",
       "199   EAST 163 STREET                                       NaN  ...   \n",
       "218               NaN  102-02    42 AVENUE                       ...   \n",
       "221               NaN  129       EAST BROADWAY                   ...   \n",
       "224   EAST 163 STREET                                       NaN  ...   \n",
       "236               NaN  2152      FORD STREET                     ...   \n",
       "\n",
       "     CONTRIBUTING FACTOR VEHICLE 3  CONTRIBUTING FACTOR VEHICLE 4  \\\n",
       "199                            NaN                            NaN   \n",
       "218                            NaN                            NaN   \n",
       "221                            NaN                            NaN   \n",
       "224                            NaN                            NaN   \n",
       "236                            NaN                            NaN   \n",
       "\n",
       "     CONTRIBUTING FACTOR VEHICLE 5  COLLISION_ID     VEHICLE TYPE CODE 1  \\\n",
       "199                            NaN       4379833                   Sedan   \n",
       "218                            NaN       4376945  Tractor Truck Gasoline   \n",
       "221                            NaN       4376264                   Sedan   \n",
       "224                            NaN       4376147                   Sedan   \n",
       "236                            NaN       4374372                   Sedan   \n",
       "\n",
       "     VEHICLE TYPE CODE 2  VEHICLE TYPE CODE 3  VEHICLE TYPE CODE 4  \\\n",
       "199                Sedan                  NaN                  NaN   \n",
       "218                  NaN                  NaN                  NaN   \n",
       "221                  NaN                  NaN                  NaN   \n",
       "224                  NaN                  NaN                  NaN   \n",
       "236                  NaN                  NaN                  NaN   \n",
       "\n",
       "    VEHICLE TYPE CODE 5                TIME  \n",
       "199                 NaN 2020-12-28 17:28:00  \n",
       "218                 NaN 2020-12-17 14:43:00  \n",
       "221                 NaN 2020-12-15 11:00:00  \n",
       "224                 NaN 2020-12-14 17:11:00  \n",
       "236                 NaN 2020-12-08 19:52:00  \n",
       "\n",
       "[5 rows x 30 columns]"
      ]
     },
     "execution_count": 14,
     "metadata": {},
     "output_type": "execute_result"
    }
   ],
   "source": [
    "print(f'Number of rows with both BOROUGH and ZIP CODE: {len(data_complete)}\\n')\n",
    "data_complete.head()"
   ]
  },
  {
   "cell_type": "markdown",
   "metadata": {},
   "source": [
    "Even with the complete data, the police seems to have some issues regarding which zip codes belong where."
   ]
  },
  {
   "cell_type": "code",
   "execution_count": 15,
   "metadata": {},
   "outputs": [
    {
     "data": {
      "text/html": [
       "<div>\n",
       "<style scoped>\n",
       "    .dataframe tbody tr th:only-of-type {\n",
       "        vertical-align: middle;\n",
       "    }\n",
       "\n",
       "    .dataframe tbody tr th {\n",
       "        vertical-align: top;\n",
       "    }\n",
       "\n",
       "    .dataframe thead th {\n",
       "        text-align: right;\n",
       "    }\n",
       "</style>\n",
       "<table border=\"1\" class=\"dataframe\">\n",
       "  <thead>\n",
       "    <tr style=\"text-align: right;\">\n",
       "      <th></th>\n",
       "      <th>ZIP CODE</th>\n",
       "      <th>BOROUGH</th>\n",
       "      <th>COUNT</th>\n",
       "    </tr>\n",
       "  </thead>\n",
       "  <tbody>\n",
       "    <tr>\n",
       "      <td>140</td>\n",
       "      <td>11208.0</td>\n",
       "      <td>BROOKLYN</td>\n",
       "      <td>12337</td>\n",
       "    </tr>\n",
       "    <tr>\n",
       "      <td>141</td>\n",
       "      <td>11208.0</td>\n",
       "      <td>QUEENS</td>\n",
       "      <td>156</td>\n",
       "    </tr>\n",
       "    <tr>\n",
       "      <td>169</td>\n",
       "      <td>11237.0</td>\n",
       "      <td>BROOKLYN</td>\n",
       "      <td>6367</td>\n",
       "    </tr>\n",
       "    <tr>\n",
       "      <td>170</td>\n",
       "      <td>11237.0</td>\n",
       "      <td>QUEENS</td>\n",
       "      <td>280</td>\n",
       "    </tr>\n",
       "    <tr>\n",
       "      <td>201</td>\n",
       "      <td>11385.0</td>\n",
       "      <td>BROOKLYN</td>\n",
       "      <td>30</td>\n",
       "    </tr>\n",
       "    <tr>\n",
       "      <td>202</td>\n",
       "      <td>11385.0</td>\n",
       "      <td>QUEENS</td>\n",
       "      <td>13513</td>\n",
       "    </tr>\n",
       "    <tr>\n",
       "      <td>213</td>\n",
       "      <td>11421.0</td>\n",
       "      <td>BROOKLYN</td>\n",
       "      <td>6</td>\n",
       "    </tr>\n",
       "    <tr>\n",
       "      <td>214</td>\n",
       "      <td>11421.0</td>\n",
       "      <td>QUEENS</td>\n",
       "      <td>4208</td>\n",
       "    </tr>\n",
       "  </tbody>\n",
       "</table>\n",
       "</div>"
      ],
      "text/plain": [
       "     ZIP CODE   BOROUGH  COUNT\n",
       "140   11208.0  BROOKLYN  12337\n",
       "141   11208.0    QUEENS    156\n",
       "169   11237.0  BROOKLYN   6367\n",
       "170   11237.0    QUEENS    280\n",
       "201   11385.0  BROOKLYN     30\n",
       "202   11385.0    QUEENS  13513\n",
       "213   11421.0  BROOKLYN      6\n",
       "214   11421.0    QUEENS   4208"
      ]
     },
     "execution_count": 15,
     "metadata": {},
     "output_type": "execute_result"
    }
   ],
   "source": [
    "counts = data_complete.groupby(['ZIP CODE', 'BOROUGH']).size().reset_index(); counts.columns = ['ZIP CODE', 'BOROUGH', 'COUNT']\n",
    "zips, n = np.unique(counts['ZIP CODE'], return_counts=True)\n",
    "counts.loc[counts['ZIP CODE'].apply(lambda x : x in zips[n > 1])]"
   ]
  },
  {
   "cell_type": "markdown",
   "metadata": {},
   "source": [
    "We can see out of the 12493 observations with ZIP CODE 11208, 156 of them were in Queens and 12337 of them were in Brooklyn. \n",
    "With these cases, we are going to let the majority of the observations decide which borough is the correct one. From the table above, we can see that we have a total of **472** observations with the wrong borough."
   ]
  },
  {
   "cell_type": "code",
   "execution_count": 16,
   "metadata": {},
   "outputs": [
    {
     "name": "stdout",
     "output_type": "stream",
     "text": [
      "We have remapped 472 observations.\n"
     ]
    }
   ],
   "source": [
    "#We make a mapping between zip code and the correct borough.\n",
    "zip_to_borough = {}\n",
    "for zip_, subset in counts.groupby('ZIP CODE'):\n",
    "    zip_to_borough[zip_] = subset.sort_values('COUNT', ascending=False)['BOROUGH'].iloc[0]\n",
    "    \n",
    "correct_boroughs = data_complete['ZIP CODE'].replace(zip_to_borough)\n",
    "n_remaps = (correct_boroughs != data_complete['BOROUGH']).sum()\n",
    "print(f'We have remapped {n_remaps} observations.')\n",
    "\n",
    "data_complete['BOROUGH'] = correct_boroughs"
   ]
  },
  {
   "cell_type": "code",
   "execution_count": 36,
   "metadata": {},
   "outputs": [
    {
     "data": {
      "text/html": [
       "<div>\n",
       "<style scoped>\n",
       "    .dataframe tbody tr th:only-of-type {\n",
       "        vertical-align: middle;\n",
       "    }\n",
       "\n",
       "    .dataframe tbody tr th {\n",
       "        vertical-align: top;\n",
       "    }\n",
       "\n",
       "    .dataframe thead th {\n",
       "        text-align: right;\n",
       "    }\n",
       "</style>\n",
       "<table border=\"1\" class=\"dataframe\">\n",
       "  <thead>\n",
       "    <tr style=\"text-align: right;\">\n",
       "      <th></th>\n",
       "      <th>CRASH DATE</th>\n",
       "      <th>CRASH TIME</th>\n",
       "      <th>BOROUGH</th>\n",
       "      <th>ZIP CODE</th>\n",
       "      <th>LATITUDE</th>\n",
       "      <th>LONGITUDE</th>\n",
       "      <th>LOCATION</th>\n",
       "      <th>ON STREET NAME</th>\n",
       "      <th>CROSS STREET NAME</th>\n",
       "      <th>OFF STREET NAME</th>\n",
       "      <th>...</th>\n",
       "      <th>CONTRIBUTING FACTOR VEHICLE 3</th>\n",
       "      <th>CONTRIBUTING FACTOR VEHICLE 4</th>\n",
       "      <th>CONTRIBUTING FACTOR VEHICLE 5</th>\n",
       "      <th>COLLISION_ID</th>\n",
       "      <th>VEHICLE TYPE CODE 1</th>\n",
       "      <th>VEHICLE TYPE CODE 2</th>\n",
       "      <th>VEHICLE TYPE CODE 3</th>\n",
       "      <th>VEHICLE TYPE CODE 4</th>\n",
       "      <th>VEHICLE TYPE CODE 5</th>\n",
       "      <th>TIME</th>\n",
       "    </tr>\n",
       "  </thead>\n",
       "  <tbody>\n",
       "    <tr>\n",
       "      <th>199</th>\n",
       "      <td>12/28/2020</td>\n",
       "      <td>17:28</td>\n",
       "      <td>BRONX</td>\n",
       "      <td>10456.0</td>\n",
       "      <td>40.824066</td>\n",
       "      <td>-73.908714</td>\n",
       "      <td>(40.824066, -73.908714)</td>\n",
       "      <td>3 AVENUE</td>\n",
       "      <td>EAST 163 STREET</td>\n",
       "      <td>NaN</td>\n",
       "      <td>...</td>\n",
       "      <td>NaN</td>\n",
       "      <td>NaN</td>\n",
       "      <td>NaN</td>\n",
       "      <td>4379833</td>\n",
       "      <td>Sedan</td>\n",
       "      <td>Sedan</td>\n",
       "      <td>NaN</td>\n",
       "      <td>NaN</td>\n",
       "      <td>NaN</td>\n",
       "      <td>2020-12-28 17:28:00</td>\n",
       "    </tr>\n",
       "    <tr>\n",
       "      <th>218</th>\n",
       "      <td>12/17/2020</td>\n",
       "      <td>14:43</td>\n",
       "      <td>QUEENS</td>\n",
       "      <td>11368.0</td>\n",
       "      <td>40.747650</td>\n",
       "      <td>-73.863010</td>\n",
       "      <td>(40.74765, -73.86301)</td>\n",
       "      <td>NaN</td>\n",
       "      <td>NaN</td>\n",
       "      <td>102-02    42 AVENUE</td>\n",
       "      <td>...</td>\n",
       "      <td>NaN</td>\n",
       "      <td>NaN</td>\n",
       "      <td>NaN</td>\n",
       "      <td>4376945</td>\n",
       "      <td>Tractor Truck Gasoline</td>\n",
       "      <td>NaN</td>\n",
       "      <td>NaN</td>\n",
       "      <td>NaN</td>\n",
       "      <td>NaN</td>\n",
       "      <td>2020-12-17 14:43:00</td>\n",
       "    </tr>\n",
       "    <tr>\n",
       "      <th>221</th>\n",
       "      <td>12/15/2020</td>\n",
       "      <td>11:00</td>\n",
       "      <td>MANHATTAN</td>\n",
       "      <td>10002.0</td>\n",
       "      <td>40.713920</td>\n",
       "      <td>-73.991714</td>\n",
       "      <td>(40.71392, -73.991714)</td>\n",
       "      <td>NaN</td>\n",
       "      <td>NaN</td>\n",
       "      <td>129       EAST BROADWAY</td>\n",
       "      <td>...</td>\n",
       "      <td>NaN</td>\n",
       "      <td>NaN</td>\n",
       "      <td>NaN</td>\n",
       "      <td>4376264</td>\n",
       "      <td>Sedan</td>\n",
       "      <td>NaN</td>\n",
       "      <td>NaN</td>\n",
       "      <td>NaN</td>\n",
       "      <td>NaN</td>\n",
       "      <td>2020-12-15 11:00:00</td>\n",
       "    </tr>\n",
       "    <tr>\n",
       "      <th>224</th>\n",
       "      <td>12/14/2020</td>\n",
       "      <td>17:11</td>\n",
       "      <td>BRONX</td>\n",
       "      <td>10459.0</td>\n",
       "      <td>40.820990</td>\n",
       "      <td>-73.895890</td>\n",
       "      <td>(40.82099, -73.89589)</td>\n",
       "      <td>KELLY STREET</td>\n",
       "      <td>EAST 163 STREET</td>\n",
       "      <td>NaN</td>\n",
       "      <td>...</td>\n",
       "      <td>NaN</td>\n",
       "      <td>NaN</td>\n",
       "      <td>NaN</td>\n",
       "      <td>4376147</td>\n",
       "      <td>Sedan</td>\n",
       "      <td>NaN</td>\n",
       "      <td>NaN</td>\n",
       "      <td>NaN</td>\n",
       "      <td>NaN</td>\n",
       "      <td>2020-12-14 17:11:00</td>\n",
       "    </tr>\n",
       "    <tr>\n",
       "      <th>236</th>\n",
       "      <td>12/08/2020</td>\n",
       "      <td>19:52</td>\n",
       "      <td>BROOKLYN</td>\n",
       "      <td>11229.0</td>\n",
       "      <td>40.599728</td>\n",
       "      <td>-73.937920</td>\n",
       "      <td>(40.599728, -73.93792)</td>\n",
       "      <td>NaN</td>\n",
       "      <td>NaN</td>\n",
       "      <td>2152      FORD STREET</td>\n",
       "      <td>...</td>\n",
       "      <td>NaN</td>\n",
       "      <td>NaN</td>\n",
       "      <td>NaN</td>\n",
       "      <td>4374372</td>\n",
       "      <td>Sedan</td>\n",
       "      <td>NaN</td>\n",
       "      <td>NaN</td>\n",
       "      <td>NaN</td>\n",
       "      <td>NaN</td>\n",
       "      <td>2020-12-08 19:52:00</td>\n",
       "    </tr>\n",
       "  </tbody>\n",
       "</table>\n",
       "<p>5 rows × 30 columns</p>\n",
       "</div>"
      ],
      "text/plain": [
       "     CRASH DATE CRASH TIME    BOROUGH  ZIP CODE   LATITUDE  LONGITUDE  \\\n",
       "199  12/28/2020      17:28      BRONX   10456.0  40.824066 -73.908714   \n",
       "218  12/17/2020      14:43     QUEENS   11368.0  40.747650 -73.863010   \n",
       "221  12/15/2020      11:00  MANHATTAN   10002.0  40.713920 -73.991714   \n",
       "224  12/14/2020      17:11      BRONX   10459.0  40.820990 -73.895890   \n",
       "236  12/08/2020      19:52   BROOKLYN   11229.0  40.599728 -73.937920   \n",
       "\n",
       "                    LOCATION                    ON STREET NAME  \\\n",
       "199  (40.824066, -73.908714)  3 AVENUE                           \n",
       "218    (40.74765, -73.86301)                               NaN   \n",
       "221   (40.71392, -73.991714)                               NaN   \n",
       "224    (40.82099, -73.89589)  KELLY STREET                       \n",
       "236   (40.599728, -73.93792)                               NaN   \n",
       "\n",
       "    CROSS STREET NAME                           OFF STREET NAME  ...  \\\n",
       "199   EAST 163 STREET                                       NaN  ...   \n",
       "218               NaN  102-02    42 AVENUE                       ...   \n",
       "221               NaN  129       EAST BROADWAY                   ...   \n",
       "224   EAST 163 STREET                                       NaN  ...   \n",
       "236               NaN  2152      FORD STREET                     ...   \n",
       "\n",
       "     CONTRIBUTING FACTOR VEHICLE 3  CONTRIBUTING FACTOR VEHICLE 4  \\\n",
       "199                            NaN                            NaN   \n",
       "218                            NaN                            NaN   \n",
       "221                            NaN                            NaN   \n",
       "224                            NaN                            NaN   \n",
       "236                            NaN                            NaN   \n",
       "\n",
       "     CONTRIBUTING FACTOR VEHICLE 5  COLLISION_ID     VEHICLE TYPE CODE 1  \\\n",
       "199                            NaN       4379833                   Sedan   \n",
       "218                            NaN       4376945  Tractor Truck Gasoline   \n",
       "221                            NaN       4376264                   Sedan   \n",
       "224                            NaN       4376147                   Sedan   \n",
       "236                            NaN       4374372                   Sedan   \n",
       "\n",
       "     VEHICLE TYPE CODE 2  VEHICLE TYPE CODE 3  VEHICLE TYPE CODE 4  \\\n",
       "199                Sedan                  NaN                  NaN   \n",
       "218                  NaN                  NaN                  NaN   \n",
       "221                  NaN                  NaN                  NaN   \n",
       "224                  NaN                  NaN                  NaN   \n",
       "236                  NaN                  NaN                  NaN   \n",
       "\n",
       "    VEHICLE TYPE CODE 5                TIME  \n",
       "199                 NaN 2020-12-28 17:28:00  \n",
       "218                 NaN 2020-12-17 14:43:00  \n",
       "221                 NaN 2020-12-15 11:00:00  \n",
       "224                 NaN 2020-12-14 17:11:00  \n",
       "236                 NaN 2020-12-08 19:52:00  \n",
       "\n",
       "[5 rows x 30 columns]"
      ]
     },
     "execution_count": 36,
     "metadata": {},
     "output_type": "execute_result"
    }
   ],
   "source": [
    "data_complete.head()"
   ]
  },
  {
   "cell_type": "code",
   "execution_count": 17,
   "metadata": {},
   "outputs": [],
   "source": [
    "from sklearn.neighbors import KNeighborsClassifier\n",
    "from sklearn.preprocessing import LabelEncoder\n",
    "\n",
    "le = LabelEncoder()\n",
    "\n",
    "Xtrain = data_complete[['LATITUDE', 'LONGITUDE']].values\n",
    "ytrain = le.fit_transform(data_complete['ZIP CODE'].to_numpy())\n",
    "\n",
    "clf = KNeighborsClassifier(n_neighbors = 3)\n",
    "clf.fit(Xtrain,ytrain)\n",
    "\n",
    "Ximpute = data_missing[['LATITUDE', 'LONGITUDE']].values\n",
    "yimpute = le.inverse_transform(clf.predict(Ximpute))"
   ]
  },
  {
   "cell_type": "code",
   "execution_count": 38,
   "metadata": {},
   "outputs": [
    {
     "data": {
      "text/html": [
       "<div>\n",
       "<style scoped>\n",
       "    .dataframe tbody tr th:only-of-type {\n",
       "        vertical-align: middle;\n",
       "    }\n",
       "\n",
       "    .dataframe tbody tr th {\n",
       "        vertical-align: top;\n",
       "    }\n",
       "\n",
       "    .dataframe thead th {\n",
       "        text-align: right;\n",
       "    }\n",
       "</style>\n",
       "<table border=\"1\" class=\"dataframe\">\n",
       "  <thead>\n",
       "    <tr style=\"text-align: right;\">\n",
       "      <th></th>\n",
       "      <th>CRASH DATE</th>\n",
       "      <th>CRASH TIME</th>\n",
       "      <th>BOROUGH</th>\n",
       "      <th>ZIP CODE</th>\n",
       "      <th>LATITUDE</th>\n",
       "      <th>LONGITUDE</th>\n",
       "      <th>LOCATION</th>\n",
       "      <th>ON STREET NAME</th>\n",
       "      <th>CROSS STREET NAME</th>\n",
       "      <th>OFF STREET NAME</th>\n",
       "      <th>...</th>\n",
       "      <th>CONTRIBUTING FACTOR VEHICLE 3</th>\n",
       "      <th>CONTRIBUTING FACTOR VEHICLE 4</th>\n",
       "      <th>CONTRIBUTING FACTOR VEHICLE 5</th>\n",
       "      <th>COLLISION_ID</th>\n",
       "      <th>VEHICLE TYPE CODE 1</th>\n",
       "      <th>VEHICLE TYPE CODE 2</th>\n",
       "      <th>VEHICLE TYPE CODE 3</th>\n",
       "      <th>VEHICLE TYPE CODE 4</th>\n",
       "      <th>VEHICLE TYPE CODE 5</th>\n",
       "      <th>TIME</th>\n",
       "    </tr>\n",
       "  </thead>\n",
       "  <tbody>\n",
       "    <tr>\n",
       "      <th>217</th>\n",
       "      <td>12/18/2020</td>\n",
       "      <td>21:55</td>\n",
       "      <td>NaN</td>\n",
       "      <td>NaN</td>\n",
       "      <td>40.695970</td>\n",
       "      <td>-73.913370</td>\n",
       "      <td>(40.69597, -73.91337)</td>\n",
       "      <td>KNICKERBOCKER AVENUE</td>\n",
       "      <td>NaN</td>\n",
       "      <td>NaN</td>\n",
       "      <td>...</td>\n",
       "      <td>NaN</td>\n",
       "      <td>NaN</td>\n",
       "      <td>NaN</td>\n",
       "      <td>4377213</td>\n",
       "      <td>Sedan</td>\n",
       "      <td>NaN</td>\n",
       "      <td>NaN</td>\n",
       "      <td>NaN</td>\n",
       "      <td>NaN</td>\n",
       "      <td>2020-12-18 21:55:00</td>\n",
       "    </tr>\n",
       "    <tr>\n",
       "      <th>232</th>\n",
       "      <td>12/11/2020</td>\n",
       "      <td>14:43</td>\n",
       "      <td>NaN</td>\n",
       "      <td>NaN</td>\n",
       "      <td>40.843246</td>\n",
       "      <td>-73.945050</td>\n",
       "      <td>(40.843246, -73.94505)</td>\n",
       "      <td>HENRY HUDSON PARKWAY</td>\n",
       "      <td>NaN</td>\n",
       "      <td>NaN</td>\n",
       "      <td>...</td>\n",
       "      <td>NaN</td>\n",
       "      <td>NaN</td>\n",
       "      <td>NaN</td>\n",
       "      <td>4375744</td>\n",
       "      <td>Sedan</td>\n",
       "      <td>NaN</td>\n",
       "      <td>NaN</td>\n",
       "      <td>NaN</td>\n",
       "      <td>NaN</td>\n",
       "      <td>2020-12-11 14:43:00</td>\n",
       "    </tr>\n",
       "    <tr>\n",
       "      <th>237</th>\n",
       "      <td>12/08/2020</td>\n",
       "      <td>2:00</td>\n",
       "      <td>NaN</td>\n",
       "      <td>NaN</td>\n",
       "      <td>40.865100</td>\n",
       "      <td>-73.921890</td>\n",
       "      <td>(40.8651, -73.92189)</td>\n",
       "      <td>SHERMAN AVENUE</td>\n",
       "      <td>NaN</td>\n",
       "      <td>NaN</td>\n",
       "      <td>...</td>\n",
       "      <td>NaN</td>\n",
       "      <td>NaN</td>\n",
       "      <td>NaN</td>\n",
       "      <td>4374133</td>\n",
       "      <td>Sedan</td>\n",
       "      <td>Sedan</td>\n",
       "      <td>NaN</td>\n",
       "      <td>NaN</td>\n",
       "      <td>NaN</td>\n",
       "      <td>2020-12-08 02:00:00</td>\n",
       "    </tr>\n",
       "    <tr>\n",
       "      <th>238</th>\n",
       "      <td>12/07/2020</td>\n",
       "      <td>10:00</td>\n",
       "      <td>NaN</td>\n",
       "      <td>NaN</td>\n",
       "      <td>40.820827</td>\n",
       "      <td>-73.950836</td>\n",
       "      <td>(40.820827, -73.950836)</td>\n",
       "      <td>WEST 138 STREET</td>\n",
       "      <td>NaN</td>\n",
       "      <td>NaN</td>\n",
       "      <td>...</td>\n",
       "      <td>NaN</td>\n",
       "      <td>NaN</td>\n",
       "      <td>NaN</td>\n",
       "      <td>4374340</td>\n",
       "      <td>Sedan</td>\n",
       "      <td>NaN</td>\n",
       "      <td>NaN</td>\n",
       "      <td>NaN</td>\n",
       "      <td>NaN</td>\n",
       "      <td>2020-12-07 10:00:00</td>\n",
       "    </tr>\n",
       "    <tr>\n",
       "      <th>243</th>\n",
       "      <td>12/05/2020</td>\n",
       "      <td>13:45</td>\n",
       "      <td>NaN</td>\n",
       "      <td>NaN</td>\n",
       "      <td>40.651863</td>\n",
       "      <td>-73.865360</td>\n",
       "      <td>(40.651863, -73.86536)</td>\n",
       "      <td>BELT PARKWAY</td>\n",
       "      <td>NaN</td>\n",
       "      <td>NaN</td>\n",
       "      <td>...</td>\n",
       "      <td>Unspecified</td>\n",
       "      <td>NaN</td>\n",
       "      <td>NaN</td>\n",
       "      <td>4373337</td>\n",
       "      <td>Sedan</td>\n",
       "      <td>Station Wagon/Sport Utility Vehicle</td>\n",
       "      <td>Sedan</td>\n",
       "      <td>NaN</td>\n",
       "      <td>NaN</td>\n",
       "      <td>2020-12-05 13:45:00</td>\n",
       "    </tr>\n",
       "  </tbody>\n",
       "</table>\n",
       "<p>5 rows × 30 columns</p>\n",
       "</div>"
      ],
      "text/plain": [
       "     CRASH DATE CRASH TIME BOROUGH  ZIP CODE   LATITUDE  LONGITUDE  \\\n",
       "217  12/18/2020      21:55     NaN       NaN  40.695970 -73.913370   \n",
       "232  12/11/2020      14:43     NaN       NaN  40.843246 -73.945050   \n",
       "237  12/08/2020       2:00     NaN       NaN  40.865100 -73.921890   \n",
       "238  12/07/2020      10:00     NaN       NaN  40.820827 -73.950836   \n",
       "243  12/05/2020      13:45     NaN       NaN  40.651863 -73.865360   \n",
       "\n",
       "                    LOCATION                    ON STREET NAME  \\\n",
       "217    (40.69597, -73.91337)  KNICKERBOCKER AVENUE               \n",
       "232   (40.843246, -73.94505)  HENRY HUDSON PARKWAY               \n",
       "237     (40.8651, -73.92189)  SHERMAN AVENUE                     \n",
       "238  (40.820827, -73.950836)  WEST 138 STREET                    \n",
       "243   (40.651863, -73.86536)  BELT PARKWAY                       \n",
       "\n",
       "    CROSS STREET NAME OFF STREET NAME  ...  CONTRIBUTING FACTOR VEHICLE 3  \\\n",
       "217               NaN             NaN  ...                            NaN   \n",
       "232               NaN             NaN  ...                            NaN   \n",
       "237               NaN             NaN  ...                            NaN   \n",
       "238               NaN             NaN  ...                            NaN   \n",
       "243               NaN             NaN  ...                    Unspecified   \n",
       "\n",
       "     CONTRIBUTING FACTOR VEHICLE 4  CONTRIBUTING FACTOR VEHICLE 5  \\\n",
       "217                            NaN                            NaN   \n",
       "232                            NaN                            NaN   \n",
       "237                            NaN                            NaN   \n",
       "238                            NaN                            NaN   \n",
       "243                            NaN                            NaN   \n",
       "\n",
       "     COLLISION_ID  VEHICLE TYPE CODE 1                  VEHICLE TYPE CODE 2  \\\n",
       "217       4377213                Sedan                                  NaN   \n",
       "232       4375744                Sedan                                  NaN   \n",
       "237       4374133                Sedan                                Sedan   \n",
       "238       4374340                Sedan                                  NaN   \n",
       "243       4373337                Sedan  Station Wagon/Sport Utility Vehicle   \n",
       "\n",
       "     VEHICLE TYPE CODE 3  VEHICLE TYPE CODE 4 VEHICLE TYPE CODE 5  \\\n",
       "217                  NaN                  NaN                 NaN   \n",
       "232                  NaN                  NaN                 NaN   \n",
       "237                  NaN                  NaN                 NaN   \n",
       "238                  NaN                  NaN                 NaN   \n",
       "243                Sedan                  NaN                 NaN   \n",
       "\n",
       "                   TIME  \n",
       "217 2020-12-18 21:55:00  \n",
       "232 2020-12-11 14:43:00  \n",
       "237 2020-12-08 02:00:00  \n",
       "238 2020-12-07 10:00:00  \n",
       "243 2020-12-05 13:45:00  \n",
       "\n",
       "[5 rows x 30 columns]"
      ]
     },
     "execution_count": 38,
     "metadata": {},
     "output_type": "execute_result"
    }
   ],
   "source": [
    "data_missing.head()"
   ]
  },
  {
   "cell_type": "code",
   "execution_count": 18,
   "metadata": {},
   "outputs": [],
   "source": [
    "data_missing['ZIP CODE'] = yimpute\n",
    "data_missing['BOROUGH']  = data_missing['ZIP CODE'].replace(zip_to_borough)"
   ]
  },
  {
   "cell_type": "code",
   "execution_count": 40,
   "metadata": {},
   "outputs": [
    {
     "data": {
      "text/html": [
       "<div>\n",
       "<style scoped>\n",
       "    .dataframe tbody tr th:only-of-type {\n",
       "        vertical-align: middle;\n",
       "    }\n",
       "\n",
       "    .dataframe tbody tr th {\n",
       "        vertical-align: top;\n",
       "    }\n",
       "\n",
       "    .dataframe thead th {\n",
       "        text-align: right;\n",
       "    }\n",
       "</style>\n",
       "<table border=\"1\" class=\"dataframe\">\n",
       "  <thead>\n",
       "    <tr style=\"text-align: right;\">\n",
       "      <th></th>\n",
       "      <th>CRASH DATE</th>\n",
       "      <th>CRASH TIME</th>\n",
       "      <th>BOROUGH</th>\n",
       "      <th>ZIP CODE</th>\n",
       "      <th>LATITUDE</th>\n",
       "      <th>LONGITUDE</th>\n",
       "      <th>LOCATION</th>\n",
       "      <th>ON STREET NAME</th>\n",
       "      <th>CROSS STREET NAME</th>\n",
       "      <th>OFF STREET NAME</th>\n",
       "      <th>...</th>\n",
       "      <th>CONTRIBUTING FACTOR VEHICLE 3</th>\n",
       "      <th>CONTRIBUTING FACTOR VEHICLE 4</th>\n",
       "      <th>CONTRIBUTING FACTOR VEHICLE 5</th>\n",
       "      <th>COLLISION_ID</th>\n",
       "      <th>VEHICLE TYPE CODE 1</th>\n",
       "      <th>VEHICLE TYPE CODE 2</th>\n",
       "      <th>VEHICLE TYPE CODE 3</th>\n",
       "      <th>VEHICLE TYPE CODE 4</th>\n",
       "      <th>VEHICLE TYPE CODE 5</th>\n",
       "      <th>TIME</th>\n",
       "    </tr>\n",
       "  </thead>\n",
       "  <tbody>\n",
       "    <tr>\n",
       "      <th>217</th>\n",
       "      <td>12/18/2020</td>\n",
       "      <td>21:55</td>\n",
       "      <td>BROOKLYN</td>\n",
       "      <td>11221.0</td>\n",
       "      <td>40.695970</td>\n",
       "      <td>-73.913370</td>\n",
       "      <td>(40.69597, -73.91337)</td>\n",
       "      <td>KNICKERBOCKER AVENUE</td>\n",
       "      <td>NaN</td>\n",
       "      <td>NaN</td>\n",
       "      <td>...</td>\n",
       "      <td>NaN</td>\n",
       "      <td>NaN</td>\n",
       "      <td>NaN</td>\n",
       "      <td>4377213</td>\n",
       "      <td>Sedan</td>\n",
       "      <td>NaN</td>\n",
       "      <td>NaN</td>\n",
       "      <td>NaN</td>\n",
       "      <td>NaN</td>\n",
       "      <td>2020-12-18 21:55:00</td>\n",
       "    </tr>\n",
       "    <tr>\n",
       "      <th>232</th>\n",
       "      <td>12/11/2020</td>\n",
       "      <td>14:43</td>\n",
       "      <td>MANHATTAN</td>\n",
       "      <td>10032.0</td>\n",
       "      <td>40.843246</td>\n",
       "      <td>-73.945050</td>\n",
       "      <td>(40.843246, -73.94505)</td>\n",
       "      <td>HENRY HUDSON PARKWAY</td>\n",
       "      <td>NaN</td>\n",
       "      <td>NaN</td>\n",
       "      <td>...</td>\n",
       "      <td>NaN</td>\n",
       "      <td>NaN</td>\n",
       "      <td>NaN</td>\n",
       "      <td>4375744</td>\n",
       "      <td>Sedan</td>\n",
       "      <td>NaN</td>\n",
       "      <td>NaN</td>\n",
       "      <td>NaN</td>\n",
       "      <td>NaN</td>\n",
       "      <td>2020-12-11 14:43:00</td>\n",
       "    </tr>\n",
       "    <tr>\n",
       "      <th>237</th>\n",
       "      <td>12/08/2020</td>\n",
       "      <td>2:00</td>\n",
       "      <td>MANHATTAN</td>\n",
       "      <td>10034.0</td>\n",
       "      <td>40.865100</td>\n",
       "      <td>-73.921890</td>\n",
       "      <td>(40.8651, -73.92189)</td>\n",
       "      <td>SHERMAN AVENUE</td>\n",
       "      <td>NaN</td>\n",
       "      <td>NaN</td>\n",
       "      <td>...</td>\n",
       "      <td>NaN</td>\n",
       "      <td>NaN</td>\n",
       "      <td>NaN</td>\n",
       "      <td>4374133</td>\n",
       "      <td>Sedan</td>\n",
       "      <td>Sedan</td>\n",
       "      <td>NaN</td>\n",
       "      <td>NaN</td>\n",
       "      <td>NaN</td>\n",
       "      <td>2020-12-08 02:00:00</td>\n",
       "    </tr>\n",
       "    <tr>\n",
       "      <th>238</th>\n",
       "      <td>12/07/2020</td>\n",
       "      <td>10:00</td>\n",
       "      <td>MANHATTAN</td>\n",
       "      <td>10031.0</td>\n",
       "      <td>40.820827</td>\n",
       "      <td>-73.950836</td>\n",
       "      <td>(40.820827, -73.950836)</td>\n",
       "      <td>WEST 138 STREET</td>\n",
       "      <td>NaN</td>\n",
       "      <td>NaN</td>\n",
       "      <td>...</td>\n",
       "      <td>NaN</td>\n",
       "      <td>NaN</td>\n",
       "      <td>NaN</td>\n",
       "      <td>4374340</td>\n",
       "      <td>Sedan</td>\n",
       "      <td>NaN</td>\n",
       "      <td>NaN</td>\n",
       "      <td>NaN</td>\n",
       "      <td>NaN</td>\n",
       "      <td>2020-12-07 10:00:00</td>\n",
       "    </tr>\n",
       "    <tr>\n",
       "      <th>243</th>\n",
       "      <td>12/05/2020</td>\n",
       "      <td>13:45</td>\n",
       "      <td>BROOKLYN</td>\n",
       "      <td>11234.0</td>\n",
       "      <td>40.651863</td>\n",
       "      <td>-73.865360</td>\n",
       "      <td>(40.651863, -73.86536)</td>\n",
       "      <td>BELT PARKWAY</td>\n",
       "      <td>NaN</td>\n",
       "      <td>NaN</td>\n",
       "      <td>...</td>\n",
       "      <td>Unspecified</td>\n",
       "      <td>NaN</td>\n",
       "      <td>NaN</td>\n",
       "      <td>4373337</td>\n",
       "      <td>Sedan</td>\n",
       "      <td>Station Wagon/Sport Utility Vehicle</td>\n",
       "      <td>Sedan</td>\n",
       "      <td>NaN</td>\n",
       "      <td>NaN</td>\n",
       "      <td>2020-12-05 13:45:00</td>\n",
       "    </tr>\n",
       "  </tbody>\n",
       "</table>\n",
       "<p>5 rows × 30 columns</p>\n",
       "</div>"
      ],
      "text/plain": [
       "     CRASH DATE CRASH TIME    BOROUGH  ZIP CODE   LATITUDE  LONGITUDE  \\\n",
       "217  12/18/2020      21:55   BROOKLYN   11221.0  40.695970 -73.913370   \n",
       "232  12/11/2020      14:43  MANHATTAN   10032.0  40.843246 -73.945050   \n",
       "237  12/08/2020       2:00  MANHATTAN   10034.0  40.865100 -73.921890   \n",
       "238  12/07/2020      10:00  MANHATTAN   10031.0  40.820827 -73.950836   \n",
       "243  12/05/2020      13:45   BROOKLYN   11234.0  40.651863 -73.865360   \n",
       "\n",
       "                    LOCATION                    ON STREET NAME  \\\n",
       "217    (40.69597, -73.91337)  KNICKERBOCKER AVENUE               \n",
       "232   (40.843246, -73.94505)  HENRY HUDSON PARKWAY               \n",
       "237     (40.8651, -73.92189)  SHERMAN AVENUE                     \n",
       "238  (40.820827, -73.950836)  WEST 138 STREET                    \n",
       "243   (40.651863, -73.86536)  BELT PARKWAY                       \n",
       "\n",
       "    CROSS STREET NAME OFF STREET NAME  ...  CONTRIBUTING FACTOR VEHICLE 3  \\\n",
       "217               NaN             NaN  ...                            NaN   \n",
       "232               NaN             NaN  ...                            NaN   \n",
       "237               NaN             NaN  ...                            NaN   \n",
       "238               NaN             NaN  ...                            NaN   \n",
       "243               NaN             NaN  ...                    Unspecified   \n",
       "\n",
       "     CONTRIBUTING FACTOR VEHICLE 4  CONTRIBUTING FACTOR VEHICLE 5  \\\n",
       "217                            NaN                            NaN   \n",
       "232                            NaN                            NaN   \n",
       "237                            NaN                            NaN   \n",
       "238                            NaN                            NaN   \n",
       "243                            NaN                            NaN   \n",
       "\n",
       "     COLLISION_ID  VEHICLE TYPE CODE 1                  VEHICLE TYPE CODE 2  \\\n",
       "217       4377213                Sedan                                  NaN   \n",
       "232       4375744                Sedan                                  NaN   \n",
       "237       4374133                Sedan                                Sedan   \n",
       "238       4374340                Sedan                                  NaN   \n",
       "243       4373337                Sedan  Station Wagon/Sport Utility Vehicle   \n",
       "\n",
       "     VEHICLE TYPE CODE 3  VEHICLE TYPE CODE 4 VEHICLE TYPE CODE 5  \\\n",
       "217                  NaN                  NaN                 NaN   \n",
       "232                  NaN                  NaN                 NaN   \n",
       "237                  NaN                  NaN                 NaN   \n",
       "238                  NaN                  NaN                 NaN   \n",
       "243                Sedan                  NaN                 NaN   \n",
       "\n",
       "                   TIME  \n",
       "217 2020-12-18 21:55:00  \n",
       "232 2020-12-11 14:43:00  \n",
       "237 2020-12-08 02:00:00  \n",
       "238 2020-12-07 10:00:00  \n",
       "243 2020-12-05 13:45:00  \n",
       "\n",
       "[5 rows x 30 columns]"
      ]
     },
     "execution_count": 40,
     "metadata": {},
     "output_type": "execute_result"
    }
   ],
   "source": [
    "data_missing.head()"
   ]
  },
  {
   "cell_type": "code",
   "execution_count": 89,
   "metadata": {},
   "outputs": [
    {
     "data": {
      "text/plain": [
       "(334840, 30)"
      ]
     },
     "execution_count": 89,
     "metadata": {},
     "output_type": "execute_result"
    }
   ],
   "source": [
    "data_missing.shape"
   ]
  },
  {
   "cell_type": "code",
   "execution_count": 27,
   "metadata": {},
   "outputs": [
    {
     "data": {
      "application/vnd.plotly.v1+json": {
       "config": {
        "plotlyServerURL": "https://plot.ly"
       },
       "data": [
        {
         "hovertemplate": "BOROUGH=BROOKLYN<br>LATITUDE=%{lat}<br>LONGITUDE=%{lon}<extra></extra>",
         "lat": [
          40.69597,
          40.651863,
          40.691227000000005,
          40.688572,
          40.608128,
          40.690453000000005,
          40.674786,
          40.702614000000004,
          40.693573,
          40.64266,
          40.638897,
          40.694305,
          40.6026,
          40.642254,
          40.584976,
          40.584324,
          40.676693,
          40.69299,
          40.683659999999996,
          40.577995,
          40.694687,
          40.681446,
          40.639977,
          40.630577,
          40.679276,
          40.651863,
          40.634945,
          40.643776,
          40.715472999999996,
          40.607243,
          40.677525,
          40.71976,
          40.666294,
          40.69321,
          40.678234,
          40.695004,
          40.583534,
          40.696674,
          40.694126000000004,
          40.639294,
          40.70042,
          40.651325,
          40.58562,
          40.607655,
          40.582874,
          40.675323,
          40.644040000000004,
          40.58493,
          40.63948,
          40.634506,
          40.676807000000004,
          40.66077,
          40.66235,
          40.689102,
          40.701409999999996,
          40.693573,
          40.677338,
          40.700103999999996,
          40.694687,
          40.598392,
          40.68871,
          40.65477,
          40.67341,
          40.598312,
          40.664375,
          40.583057000000004,
          40.687782,
          40.688904,
          40.703724,
          40.585037,
          40.602646,
          40.69312,
          40.60307,
          40.663727,
          40.654635999999996,
          40.676838000000004,
          40.699715000000005,
          40.686226,
          40.678394,
          40.661743,
          40.695004,
          40.697604999999996,
          40.675734999999996,
          40.672447,
          40.586124,
          40.656944,
          40.687138,
          40.64213,
          40.69149,
          40.5832,
          40.657314,
          40.700577,
          40.67989,
          40.582874,
          40.669456,
          40.693405,
          40.669823,
          40.69822,
          40.669476,
          40.636086,
          40.72227,
          40.641746999999995,
          40.68138,
          40.651140000000005,
          40.68039,
          40.68777,
          40.679634,
          40.70324,
          40.662846,
          40.696663,
          40.709441999999996,
          40.665203000000005,
          40.584070000000004,
          40.69168,
          40.696197999999995,
          40.593990000000005,
          40.58552,
          40.62368,
          40.692593,
          40.680035,
          40.65039,
          40.695114000000004,
          40.671318,
          40.646687,
          40.603584000000005,
          40.649155,
          40.69578,
          40.673107,
          40.700726,
          40.692146,
          40.673559999999995,
          40.69168,
          40.66807,
          40.613895,
          40.660470000000004,
          40.674004,
          40.666878000000004,
          40.680640000000004,
          40.699954999999996,
          40.683544,
          40.696003000000005,
          40.58872,
          40.649390000000004,
          40.70324,
          40.6958,
          40.669403,
          40.686577,
          40.702614000000004,
          40.672062,
          40.697247,
          40.678234,
          40.62707,
          40.69993,
          40.584773999999996,
          40.627309999999994,
          40.676884,
          40.66813,
          40.61821,
          40.699978,
          40.715176,
          40.645073,
          40.714104,
          40.67308,
          40.592422,
          40.692974,
          40.65994,
          40.714059999999996,
          40.682186,
          40.651863,
          40.678394,
          40.641506,
          40.697186,
          40.702312,
          40.677624,
          40.687977000000004,
          40.60817,
          40.584557000000004,
          40.69174,
          40.630577,
          40.69168,
          40.667770000000004,
          40.635684999999995,
          40.703545,
          40.656063,
          40.670006,
          40.69299,
          40.67693,
          40.713974,
          40.626907,
          40.63932,
          40.669703999999996,
          40.6527,
          40.696003000000005,
          40.582687,
          40.67765,
          40.68473,
          40.636208,
          40.58466,
          40.695995,
          40.609653,
          40.583664,
          40.665245,
          40.683240000000005,
          40.66322,
          40.672333,
          40.637446999999995,
          40.692440000000005,
          40.65605,
          40.648716,
          40.675385,
          40.581345,
          40.668797,
          40.672558,
          40.66703,
          40.584282,
          40.678543,
          40.67873,
          40.722576000000004,
          40.680240000000005,
          40.61739,
          40.693638,
          40.60567,
          40.678709999999995,
          40.65605,
          40.59925,
          40.59779,
          40.700546,
          40.681564,
          40.666595,
          40.584773999999996,
          40.585136,
          40.665092,
          40.630234,
          40.63082,
          40.645255999999996,
          40.735157,
          40.583626,
          40.654358,
          40.63043,
          40.678257,
          40.61626,
          40.648182,
          40.646152,
          40.62368,
          40.586117,
          40.60455,
          40.678096999999994,
          40.586117,
          40.680313,
          40.687782,
          40.698265,
          40.670190000000005,
          40.700835999999995,
          40.68039,
          40.63645,
          40.697254,
          40.65534,
          40.70711,
          40.68716,
          40.585056,
          40.682846000000005,
          40.625546,
          40.69412,
          40.690647,
          40.695995,
          40.67505,
          40.699715000000005,
          40.66077,
          40.58794,
          40.672886,
          40.63667,
          40.5832,
          40.687126,
          40.688765999999994,
          40.6743,
          40.579826000000004,
          40.643875,
          40.6742,
          40.641342,
          40.66733,
          40.671585,
          40.69831,
          40.584522,
          40.644546999999996,
          40.606148,
          40.705605,
          40.650944,
          40.6929,
          40.64666,
          40.689598,
          40.66733,
          40.680214,
          40.645309999999995,
          40.670466999999995,
          40.64477,
          40.674735999999996,
          40.700356,
          40.700424,
          40.691807,
          40.696228000000005,
          40.675632,
          40.69365,
          40.669563000000004,
          40.66172,
          40.656259999999996,
          40.65344,
          40.648182,
          40.702618,
          40.62106,
          40.702618,
          40.704716,
          40.698409999999996,
          40.66767,
          40.598729999999996,
          40.64712,
          40.690594,
          40.677483,
          40.636146999999994,
          40.70145,
          40.60481,
          40.683037,
          40.657092999999996,
          40.691536,
          40.698772,
          40.695965,
          40.708965,
          40.627983,
          40.6089,
          40.68708,
          40.703243,
          40.60373,
          40.6772,
          40.654213,
          40.696213,
          40.599716,
          40.644141999999995,
          40.58425,
          40.658120000000004,
          40.691536,
          40.667015,
          40.701958000000005,
          40.622414,
          40.68342,
          40.60307,
          40.680640000000004,
          40.61718,
          40.575336,
          40.69986,
          40.6867,
          40.68738,
          40.676871999999996,
          40.669403,
          40.614788,
          40.606346,
          40.663555,
          40.69168,
          40.671772,
          40.70409,
          40.668964,
          40.594615999999995,
          40.583057000000004,
          40.69325,
          40.652390000000004,
          40.709183,
          40.713974,
          40.608078000000006,
          40.677174,
          40.663555,
          40.667683000000004,
          40.610077000000004,
          40.644432,
          40.706573,
          40.596542,
          40.687077,
          40.68796,
          40.65563,
          40.630577,
          40.6414,
          40.680504,
          40.607243,
          40.676120000000004,
          40.70775,
          40.620020000000004,
          40.68039,
          40.633152,
          40.602028000000004,
          40.69015,
          40.64144,
          40.697309999999995,
          40.702953,
          40.643184999999995,
          40.586117,
          40.598392,
          40.6967,
          40.63665,
          40.68727,
          40.718987,
          40.64332,
          40.650504999999995,
          40.68175,
          40.720245,
          40.681340000000006,
          40.67004,
          40.649277000000005,
          40.698544,
          40.666866,
          40.6862,
          40.680664,
          40.699627,
          40.72738,
          40.655421999999994,
          40.671787,
          40.691097,
          40.63552,
          40.72165,
          40.67279,
          40.666579999999996,
          40.67628,
          40.70791,
          40.58425,
          40.59455,
          40.689859999999996,
          40.696166999999996,
          40.651973999999996,
          40.642540000000004,
          40.672607,
          40.60317,
          40.693203000000004,
          40.675323,
          40.669734999999996,
          40.652145000000004,
          40.670124,
          40.651512,
          40.68789,
          40.64165,
          40.70476,
          40.699024,
          40.645070000000004,
          40.58493,
          40.63552,
          40.669228000000004,
          40.696354,
          40.686996,
          40.648308,
          40.714104,
          40.591045,
          40.67637,
          40.689228,
          40.669636,
          40.679787,
          40.66169,
          40.655575,
          40.660297,
          40.67582,
          40.71976,
          40.678394,
          40.66796,
          40.623886,
          40.705482,
          40.669548,
          40.659405,
          40.666595,
          40.660072,
          40.67973,
          40.688614,
          40.605072,
          40.628116999999996,
          40.687668,
          40.67385,
          40.71445,
          40.659584,
          40.680473,
          40.696785,
          40.664227000000004,
          40.71976,
          40.651973999999996,
          40.695114000000004,
          40.65743,
          40.643786999999996,
          40.64311,
          40.64647,
          40.699158000000004,
          40.695927000000005,
          40.70239,
          40.645109999999995,
          40.669403,
          40.58464,
          40.6606,
          40.609512,
          40.69657,
          40.631836,
          40.645109999999995,
          40.646328000000004,
          40.678596,
          40.693905,
          40.585037,
          40.630790000000005,
          40.60307,
          40.682102,
          40.702614000000004,
          40.692935999999996,
          40.61913,
          40.690544,
          40.63459,
          40.664642,
          40.66345,
          40.639256,
          40.67944,
          40.637997,
          40.706703000000005,
          40.70091,
          40.653088000000004,
          40.68892,
          40.67342,
          40.69168,
          40.642384,
          40.639637,
          40.658577,
          40.57343,
          40.680504,
          40.68949,
          40.675323,
          40.699818,
          40.585056,
          40.681126,
          40.658253,
          40.671585,
          40.681805,
          40.69891,
          40.63082,
          40.64983,
          40.695133,
          40.653503,
          40.646152,
          40.64953,
          40.649440000000006,
          40.682507,
          40.718678000000004,
          40.690758,
          40.679367,
          40.630577,
          40.677834000000004,
          40.678574,
          40.651973999999996,
          40.59987,
          40.703045,
          40.703934000000004,
          40.63082,
          40.696556,
          40.670887,
          40.573013,
          40.67624,
          40.646152,
          40.668797,
          40.677772999999995,
          40.704209999999996,
          40.69336,
          40.651973999999996,
          40.671925,
          40.674255,
          40.618958,
          40.64632,
          40.651973999999996,
          40.6642,
          40.651352,
          40.60301,
          40.654984000000006,
          40.691159999999996,
          40.596123,
          40.634724,
          40.67798,
          40.673782,
          40.677917,
          40.648243,
          40.584625,
          40.67689,
          40.650528,
          40.652367,
          40.681090000000005,
          40.69701,
          40.67624,
          40.670429999999996,
          40.685028,
          40.728016,
          40.678722,
          40.67866,
          40.6266,
          40.688904,
          40.69015,
          40.700835999999995,
          40.606246999999996,
          40.68708,
          40.664229999999996,
          40.694557,
          40.66748,
          40.696674,
          40.692935999999996,
          40.600204,
          40.662085999999995,
          40.586529999999996,
          40.584755,
          40.697582000000004,
          40.640034,
          40.69015,
          40.688765999999994,
          40.668293,
          40.696144,
          40.64606,
          40.663605,
          40.696296999999994,
          40.700356,
          40.5743,
          40.691,
          40.72651,
          40.675734999999996,
          40.63043,
          40.668495,
          40.68719,
          40.673565,
          40.617,
          40.677624,
          40.680504,
          40.664229999999996,
          40.676190000000005,
          40.642540000000004,
          40.700053999999994,
          40.645109999999995,
          40.703934000000004,
          40.711864,
          40.703934000000004,
          40.68578,
          40.693573,
          40.661995000000005,
          40.664229999999996,
          40.58464,
          40.700108,
          40.66495,
          40.6972,
          40.58343,
          40.707027000000004,
          40.698640000000005,
          40.700775,
          40.693573,
          40.651546,
          40.6323,
          40.617090000000005,
          40.651973999999996,
          40.725998,
          40.6802,
          40.65487,
          40.699295,
          40.67765,
          40.679485,
          40.672604,
          40.693287,
          40.695995,
          40.674,
          40.680640000000004,
          40.674409999999995,
          40.636990000000004,
          40.677048,
          40.642174,
          40.67315,
          40.659335999999996,
          40.705677,
          40.654976,
          40.62707,
          40.66235,
          40.636547,
          40.58665,
          40.69299,
          40.693523,
          40.703934000000004,
          40.695927000000005,
          40.675236,
          40.6427,
          40.696556,
          40.669403,
          40.69608,
          40.642540000000004,
          40.60567,
          40.667683000000004,
          40.67181,
          40.677155,
          40.651863,
          40.622085999999996,
          40.677025,
          40.675663,
          40.69655,
          40.667164,
          40.69608,
          40.711643,
          40.682507,
          40.657092999999996,
          40.66434,
          40.608906,
          40.695004,
          40.696087,
          40.700726,
          40.63043,
          40.663727,
          40.646515,
          40.696117,
          40.656259999999996,
          40.689674,
          40.70165,
          40.647526,
          40.679787,
          40.624813,
          40.66953,
          40.65207,
          40.600838,
          40.677025,
          40.611404,
          40.69168,
          40.68945,
          40.652640000000005,
          40.663555,
          40.679955,
          40.60548,
          40.67582,
          40.666695000000004,
          40.59981,
          40.689133,
          40.63682,
          40.686264,
          40.682037,
          40.683647,
          40.669273,
          40.701527,
          40.674572,
          40.67004
         ],
         "legendgroup": "BROOKLYN",
         "lon": [
          -73.91337,
          -73.86536,
          -73.98214,
          -73.991104,
          -73.98738,
          -73.91176,
          -73.8762,
          -73.96058000000001,
          -73.92275,
          -74.00929000000001,
          -73.96982,
          -73.91852,
          -74.01491,
          -73.92742,
          -73.9434,
          -73.91604,
          -74.0021,
          -73.95583,
          -73.90788,
          -73.95964000000001,
          -73.95521,
          -73.94644,
          -73.9262,
          -73.88591,
          -73.92905999999999,
          -73.86536,
          -73.9325,
          -74.008125,
          -73.95185,
          -73.98725999999999,
          -73.96371500000001,
          -73.94476,
          -73.89445,
          -73.91256,
          -73.89753,
          -73.9525,
          -73.984184,
          -73.957535,
          -73.87687,
          -74.01279,
          -73.93451999999999,
          -73.93906,
          -73.95486,
          -74.01703,
          -73.98053,
          -73.86332,
          -73.877525,
          -73.95269,
          -74.01617399999999,
          -73.949455,
          -73.95576,
          -73.91975,
          -73.95082,
          -73.94507,
          -73.98864,
          -73.92275,
          -73.927536,
          -73.94726,
          -73.91112,
          -73.90629,
          -73.95499000000001,
          -74.00708,
          -73.93348,
          -73.96119,
          -73.92376,
          -73.973114,
          -73.91906999999999,
          -73.98093399999999,
          -73.95979,
          -73.95645,
          -74.00746,
          -73.96882,
          -74.01666999999999,
          -73.95385999999999,
          -73.97856,
          -73.91830999999999,
          -73.96181999999999,
          -73.9124,
          -73.94691999999999,
          -73.94784,
          -73.9525,
          -73.92962,
          -73.89686,
          -73.89213000000001,
          -73.99071500000001,
          -73.88082,
          -73.987434,
          -73.92936,
          -73.92557,
          -73.97304,
          -73.88864000000001,
          -73.98483,
          -73.94034,
          -73.98053,
          -73.86284,
          -73.90886,
          -73.90981,
          -73.943954,
          -73.919975,
          -73.95091,
          -73.9411,
          -74.013824,
          -73.95352,
          -73.89,
          -73.94955999999999,
          -73.98701,
          -73.94959,
          -73.92615,
          -73.94284,
          -73.98085,
          -73.9607,
          -73.90184,
          -73.92344,
          -73.99965,
          -73.98869,
          -73.9962,
          -73.941925,
          -73.99772,
          -73.91551,
          -73.9055,
          -74.00851,
          -73.93194,
          -73.890884,
          -73.95413,
          -74.01841999999999,
          -74.01293000000001,
          -73.917076,
          -73.99959,
          -73.94194,
          -73.919464,
          -73.93627,
          -73.999344,
          -73.950676,
          -73.99219000000001,
          -73.998024,
          -73.94455,
          -73.94521999999999,
          -73.89672,
          -73.98682,
          -74.00176,
          -73.9299,
          -73.99234,
          -73.975296,
          -73.92615,
          -73.99824,
          -73.94221,
          -73.947464,
          -73.96058000000001,
          -73.925255,
          -73.932846,
          -73.89753,
          -74.01865,
          -73.96188000000001,
          -73.96011,
          -74.00373,
          -73.91923,
          -73.93675,
          -73.89728000000001,
          -73.98779,
          -73.951965,
          -73.97438000000001,
          -73.95322,
          -73.91124,
          -73.99508,
          -73.90811,
          -73.95347,
          -73.95291999999999,
          -73.86981999999999,
          -73.86536,
          -73.94691999999999,
          -74.02111,
          -73.92884000000001,
          -73.94465,
          -73.93308,
          -73.95483399999999,
          -73.98735,
          -73.950874,
          -73.91401,
          -73.88591,
          -73.99965,
          -73.94514000000001,
          -74.012955,
          -73.93174,
          -73.93956999999999,
          -73.95328,
          -73.95583,
          -74.00211,
          -73.953094,
          -73.89165,
          -74.02356,
          -73.94774,
          -73.956055,
          -73.9299,
          -73.97671,
          -73.949776,
          -74.00102,
          -73.94899000000001,
          -73.95085999999999,
          -73.96741999999999,
          -73.91145,
          -73.98656,
          -73.87513,
          -73.9439,
          -73.893654,
          -73.901764,
          -74.01997,
          -73.94863000000001,
          -73.92361,
          -73.92139,
          -73.95336999999999,
          -73.96283000000001,
          -73.93113000000001,
          -73.99883,
          -73.94799,
          -73.917854,
          -73.94968399999999,
          -73.932976,
          -73.94049,
          -73.946754,
          -73.99194,
          -73.913315,
          -74.03094499999999,
          -73.86701,
          -73.92361,
          -73.952614,
          -73.946236,
          -73.917076,
          -73.89432,
          -73.87176,
          -73.96011,
          -73.945564,
          -73.87063,
          -74.01685,
          -73.88636,
          -73.874954,
          -73.95508000000001,
          -73.98406999999999,
          -73.91915999999999,
          -73.88593,
          -74.002235,
          -73.99309000000001,
          -73.93001,
          -73.879875,
          -73.99772,
          -73.93604,
          -73.94752,
          -74.00235,
          -73.93604,
          -73.94332,
          -73.91906999999999,
          -73.93399000000001,
          -73.93935,
          -73.99495,
          -73.94955999999999,
          -74.01575,
          -73.91563000000001,
          -73.96070999999999,
          -73.95671999999999,
          -73.93588000000001,
          -73.928894,
          -73.95382,
          -73.93998,
          -73.96016999999999,
          -73.90805,
          -73.96741999999999,
          -73.95639,
          -73.96181999999999,
          -73.89551,
          -73.97429,
          -73.99922,
          -74.02566999999999,
          -73.97304,
          -73.99361400000001,
          -73.99906999999999,
          -73.93339,
          -73.97622,
          -74.01886999999999,
          -73.999985,
          -74.02955,
          -73.95353,
          -73.99843,
          -73.9498,
          -73.949,
          -74.01091,
          -73.97737,
          -73.94627,
          -73.905975,
          -73.928055,
          -73.954865,
          -73.91025,
          -73.95353,
          -73.94628,
          -73.94608000000001,
          -73.8659,
          -73.954735,
          -73.925,
          -73.912575,
          -73.9444,
          -73.918625,
          -73.97348000000001,
          -73.89878,
          -73.98333000000001,
          -73.88319,
          -74.00010999999999,
          -73.950165,
          -73.97748,
          -74.02147,
          -73.9291,
          -73.95447,
          -73.9291,
          -73.92875,
          -73.913315,
          -73.92845,
          -73.95734,
          -74.01528,
          -73.95161999999999,
          -73.93033,
          -73.99096999999999,
          -73.98962399999999,
          -74.023964,
          -73.9261,
          -73.95026,
          -73.99911999999999,
          -73.92233,
          -73.96642,
          -73.95673000000001,
          -73.92493,
          -74.03465,
          -73.913895,
          -73.99068,
          -73.9968,
          -73.94147,
          -73.91776,
          -73.97528,
          -74.00213000000001,
          -73.957924,
          -73.9638,
          -73.93400600000001,
          -73.99911999999999,
          -73.9313,
          -73.9239,
          -73.896484,
          -73.982,
          -74.01666999999999,
          -73.89672,
          -74.03877,
          -73.996445,
          -73.98458000000001,
          -73.9982,
          -73.92089,
          -73.94985,
          -73.94221,
          -73.94658000000001,
          -73.95273,
          -73.93162,
          -73.99965,
          -73.93641,
          -73.92765,
          -73.87666,
          -73.99743000000001,
          -73.973114,
          -73.972916,
          -73.92655,
          -73.956825,
          -73.953094,
          -73.97970600000001,
          -73.924774,
          -73.93162,
          -73.99608,
          -74.00731999999999,
          -73.9296,
          -73.922874,
          -74.00247,
          -73.92355,
          -73.94194,
          -73.92596,
          -73.88591,
          -74.02125,
          -73.8829,
          -73.98725999999999,
          -73.93600500000001,
          -73.932304,
          -73.941734,
          -73.94955999999999,
          -74.01639,
          -73.99857,
          -73.99864000000001,
          -74.02960999999999,
          -73.93227399999999,
          -73.91705999999999,
          -73.94974,
          -73.93604,
          -73.90629,
          -73.91031,
          -73.96805,
          -73.9102,
          -73.94635,
          -74.01945,
          -74.01172,
          -73.96748000000001,
          -73.9444,
          -73.96549,
          -73.93658,
          -73.94360999999999,
          -73.96236,
          -73.92853000000001,
          -73.950745,
          -73.902626,
          -73.923836,
          -73.94575,
          -73.95007,
          -73.95311,
          -73.927704,
          -74.0167,
          -73.94196,
          -73.922226,
          -73.89253000000001,
          -73.892166,
          -73.945015,
          -73.9638,
          -73.997574,
          -73.95147,
          -73.97721,
          -73.86542,
          -73.87652,
          -73.89992,
          -73.960075,
          -73.95399499999999,
          -73.86332,
          -73.93104,
          -73.95916,
          -73.95528,
          -74.00734,
          -73.90724,
          -73.879196,
          -73.91996,
          -73.91623,
          -73.95803000000001,
          -73.91434,
          -74.0167,
          -73.9556,
          -73.94071,
          -73.95685,
          -74.01411999999999,
          -73.95322,
          -73.99207,
          -73.88323000000001,
          -73.957,
          -73.96195,
          -73.93844,
          -73.88757,
          -73.926895,
          -73.94768499999999,
          -73.93046600000001,
          -73.94476,
          -73.94691999999999,
          -73.87009,
          -73.89559,
          -73.92826,
          -73.911674,
          -73.9505,
          -73.87176,
          -73.93974,
          -73.9374,
          -73.99943499999999,
          -74.004944,
          -73.956856,
          -73.951035,
          -73.90024,
          -73.9306,
          -74.00247,
          -73.9614,
          -73.95659,
          -73.94547,
          -73.94476,
          -73.86542,
          -73.93194,
          -73.9451,
          -74.018845,
          -74.016075,
          -74.01258,
          -73.92705500000001,
          -73.96776,
          -73.924644,
          -73.874886,
          -73.94221,
          -73.96016999999999,
          -73.92092,
          -73.98957,
          -73.95844,
          -73.94463,
          -73.874886,
          -73.91275999999999,
          -73.882416,
          -73.94892,
          -73.95645,
          -73.94552,
          -74.01666999999999,
          -73.94077,
          -73.96058000000001,
          -73.87777,
          -73.99019,
          -73.95859,
          -73.93825,
          -73.93708000000001,
          -73.94554000000001,
          -73.968796,
          -73.89714000000001,
          -74.02136,
          -73.935715,
          -73.92609399999999,
          -73.88551,
          -73.99915,
          -73.95017,
          -73.999344,
          -73.92539000000001,
          -73.91533000000001,
          -73.89063,
          -73.99175,
          -73.92857,
          -73.92206999999999,
          -73.86332,
          -73.920135,
          -73.928894,
          -73.96446,
          -73.98465,
          -73.99843,
          -73.94986999999999,
          -73.93078,
          -73.88636,
          -74.00909,
          -73.875916,
          -73.935425,
          -73.879875,
          -73.91633,
          -73.96308,
          -73.94375,
          -73.9405,
          -73.99624,
          -73.931335,
          -73.88591,
          -73.88509,
          -74.00358,
          -73.86542,
          -74.00839,
          -73.92985,
          -73.959854,
          -73.88636,
          -73.98091,
          -73.93649,
          -73.993835,
          -73.866104,
          -73.879875,
          -73.93113000000001,
          -73.93587,
          -73.96121,
          -73.97585,
          -73.86542,
          -73.93918599999999,
          -73.87989,
          -74.02404,
          -73.92981,
          -73.86542,
          -73.92941,
          -73.89275,
          -74.01688399999999,
          -74.00711,
          -73.93369,
          -74.00068,
          -74.01642,
          -73.872116,
          -73.87405,
          -73.93861,
          -74.014114,
          -73.94713,
          -73.90005500000001,
          -73.95583,
          -73.88229,
          -73.90338,
          -73.99136999999999,
          -73.866104,
          -73.928185,
          -73.94135,
          -73.83175,
          -73.952995,
          -73.907234,
          -73.98271,
          -73.98093399999999,
          -73.99864000000001,
          -73.98594,
          -73.97645,
          -73.913895,
          -73.919106,
          -73.94325,
          -73.92188,
          -73.957535,
          -73.87777,
          -74.00284,
          -73.88248,
          -73.911224,
          -73.94712,
          -73.94965,
          -73.877945,
          -73.99864000000001,
          -73.99906999999999,
          -73.93952,
          -73.97834,
          -74.01648,
          -73.934395,
          -73.97716,
          -73.912575,
          -73.98867,
          -73.989334,
          -73.93055,
          -73.89686,
          -73.88593,
          -73.925606,
          -73.974625,
          -73.90788,
          -73.947,
          -73.93308,
          -73.8829,
          -73.919106,
          -73.9081,
          -73.87652,
          -73.92459000000001,
          -73.874886,
          -73.959854,
          -73.955536,
          -73.959854,
          -73.9544,
          -73.92275,
          -73.91959,
          -73.919106,
          -73.96016999999999,
          -73.95383000000001,
          -73.99335500000001,
          -73.952934,
          -73.97309,
          -73.9236,
          -73.93819,
          -73.91334,
          -73.92275,
          -73.95257,
          -73.93701999999999,
          -73.91895,
          -73.86542,
          -73.950035,
          -73.953285,
          -73.96191,
          -73.9543,
          -73.87058,
          -73.897026,
          -73.993385,
          -73.97386,
          -73.96741999999999,
          -74.000275,
          -73.95338000000001,
          -73.991875,
          -73.92013,
          -73.9387,
          -74.02064,
          -73.896194,
          -73.92726,
          -73.92609399999999,
          -73.936554,
          -74.01865,
          -73.95082,
          -73.92584000000001,
          -73.93445600000001,
          -73.95583,
          -73.9522,
          -73.959854,
          -73.96776,
          -73.97106,
          -73.87661,
          -73.98091,
          -73.912605,
          -73.9694,
          -73.87652,
          -74.03094499999999,
          -73.99608,
          -73.998795,
          -73.86887,
          -73.86536,
          -74.02865,
          -73.95268,
          -73.9277,
          -73.90576999999999,
          -73.93406999999999,
          -73.9694,
          -73.94391999999999,
          -73.94375,
          -73.95026,
          -73.93155,
          -74.03452,
          -73.9525,
          -73.97533,
          -73.94194,
          -73.88593,
          -73.95385999999999,
          -73.958115,
          -73.97043599999999,
          -73.950165,
          -73.96614,
          -73.99149,
          -73.89469,
          -73.93844,
          -73.89446,
          -73.90295400000001,
          -74.00676,
          -73.98125,
          -73.95268,
          -74.00952,
          -73.999344,
          -73.96809,
          -73.949776,
          -73.93162,
          -73.97491,
          -73.93921999999999,
          -73.93046600000001,
          -73.961624,
          -74.00856999999999,
          -73.951324,
          -73.90218,
          -73.9567,
          -73.87788,
          -73.94688000000001,
          -73.922554,
          -73.98957,
          -73.96314,
          -73.93658
         ],
         "marker": {
          "color": "#440154"
         },
         "mode": "markers",
         "name": "BROOKLYN",
         "showlegend": true,
         "subplot": "mapbox",
         "type": "scattermapbox"
        },
        {
         "hovertemplate": "BOROUGH=MANHATTAN<br>LATITUDE=%{lat}<br>LONGITUDE=%{lon}<extra></extra>",
         "lat": [
          40.843246,
          40.8651,
          40.820827,
          40.768875,
          40.811203000000006,
          40.831978,
          40.78832,
          40.79525,
          40.86758,
          40.835159999999995,
          40.821262,
          40.818016,
          40.806343,
          40.866333000000004,
          40.722324,
          40.835159999999995,
          40.797447,
          40.869076,
          40.78515,
          40.72225,
          40.791405,
          40.779922,
          40.79826,
          40.788795,
          40.82451,
          40.821068,
          40.72551,
          40.783333,
          40.788906,
          40.725674,
          40.79676,
          40.81394,
          40.85519,
          40.78503,
          40.710716,
          40.809692,
          40.78363,
          40.772865,
          40.821636,
          40.826427,
          40.808859999999996,
          40.82653,
          40.71741,
          40.796738,
          40.86357,
          40.716194,
          40.7861,
          40.720936,
          40.736965000000005,
          40.782959999999996,
          40.783333,
          40.819140000000004,
          40.851093,
          40.805737,
          40.712902,
          40.81751,
          40.788959999999996,
          40.841029999999996,
          40.810062,
          40.790905,
          40.773006,
          40.737922999999995,
          40.761234,
          40.761234,
          40.82413,
          40.795383,
          40.771285999999996,
          40.830220000000004,
          40.75991,
          40.758327,
          40.758309999999994,
          40.806847,
          40.830845000000004,
          40.793324,
          40.761272,
          40.855427,
          40.814632,
          40.789734,
          40.76812,
          40.772156,
          40.760490000000004,
          40.862922999999995,
          40.822163,
          40.795464,
          40.783245,
          40.789623,
          40.735347999999995,
          40.79976,
          40.701786,
          40.8047,
          40.81183,
          40.83449,
          40.799717,
          40.763897,
          40.759163,
          40.788795,
          40.805706,
          40.85882,
          40.769844,
          40.830265000000004,
          40.781025,
          40.736546000000004,
          40.82101,
          40.775642,
          40.84989,
          40.709152,
          40.811367,
          40.796642,
          40.73602,
          40.715553,
          40.793377,
          40.84364,
          40.810173,
          40.810062,
          40.788055,
          40.80206,
          40.732254,
          40.765125,
          40.77373,
          40.791909999999994,
          40.81728,
          40.784534,
          40.759617,
          40.766166999999996,
          40.81423,
          40.796738,
          40.863609999999994,
          40.822834,
          40.85537,
          40.743156,
          40.85685,
          40.794132,
          40.800663,
          40.73883,
          40.768646000000004,
          40.750294,
          40.797306,
          40.74649,
          40.763546000000005,
          40.803875,
          40.72766,
          40.842194,
          40.8317,
          40.74137,
          40.84863,
          40.83863,
          40.814774,
          40.801125,
          40.756367,
          40.819096,
          40.810764,
          40.8047,
          40.82403,
          40.787684999999996,
          40.804066,
          40.85238,
          40.801914000000004,
          40.797916,
          40.796738,
          40.80174,
          40.835484,
          40.79486,
          40.747295,
          40.79347,
          40.789204,
          40.79252,
          40.7252,
          40.763897,
          40.86155,
          40.84852,
          40.818016,
          40.850165999999994,
          40.709496,
          40.814632,
          40.75645,
          40.762409999999996,
          40.820434999999996,
          40.748825,
          40.814774,
          40.772655,
          40.767612,
          40.823257,
          40.830154,
          40.759624,
          40.864807,
          40.783245,
          40.758022,
          40.802757,
          40.831623,
          40.706764,
          40.788906,
          40.726463,
          40.830154,
          40.84944,
          40.78722,
          40.746403,
          40.760456,
          40.874496,
          40.80417,
          40.81666,
          40.762226,
          40.835808,
          40.77202,
          40.74002,
          40.756565,
          40.770527,
          40.725643,
          40.823624,
          40.741935999999995,
          40.821754,
          40.7968,
          40.80761,
          40.865364,
          40.820568,
          40.789204,
          40.860640000000004,
          40.808445,
          40.71918,
          40.83335,
          40.79335,
          40.820568,
          40.761486,
          40.754875,
          40.761093,
          40.757698,
          40.755516,
          40.764286,
          40.814170000000004,
          40.872078,
          40.806309999999996,
          40.767612,
          40.754314,
          40.754690000000004,
          40.863690000000005,
          40.81666,
          40.731064,
          40.799984,
          40.743156,
          40.759205,
          40.853874,
          40.81821,
          40.796074,
          40.809692,
          40.80322,
          40.815540000000006,
          40.712006,
          40.76635,
          40.716194,
          40.792545000000004,
          40.817543,
          40.748863,
          40.787064,
          40.774322999999995,
          40.801109999999994,
          40.83027,
          40.86676,
          40.82523,
          40.788692,
          40.78175,
          40.79337,
          40.764053000000004,
          40.796074,
          40.848118,
          40.80907,
          40.74715,
          40.790240000000004,
          40.779495000000004,
          40.84932,
          40.86857,
          40.701954,
          40.81423,
          40.763664,
          40.814102,
          40.8047,
          40.74463,
          40.79672,
          40.814144,
          40.725173999999996,
          40.81183,
          40.749171999999994,
          40.765358,
          40.79826,
          40.798504,
          40.77039,
          40.8188,
          40.7968,
          40.85537,
          40.836290000000005,
          40.798252000000005,
          40.777317,
          40.737865,
          40.830890000000004,
          40.73572,
          40.801190000000005,
          40.771285999999996,
          40.75326,
          40.801753999999995,
          40.864525,
          40.830154,
          40.86241,
          40.805209999999995,
          40.850809999999996,
          40.753242,
          40.866446999999994,
          40.82413,
          40.844597,
          40.804012,
          40.808857,
          40.785804999999996,
          40.786545000000004,
          40.814170000000004,
          40.815740000000005,
          40.741547,
          40.813373999999996,
          40.817844,
          40.864113,
          40.70983,
          40.81967,
          40.80897,
          40.79465,
          40.801125,
          40.825756,
          40.741474,
          40.8165,
          40.708763,
          40.813774,
          40.800964,
          40.774807,
          40.761856,
          40.819379999999995,
          40.780559999999994,
          40.799698,
          40.8115,
          40.810764,
          40.772372999999995,
          40.800686,
          40.825817,
          40.811440000000005,
          40.85431,
          40.809574,
          40.824184,
          40.755516,
          40.835808,
          40.730057,
          40.755516,
          40.79465,
          40.827057,
          40.76912,
          40.79554,
          40.721592,
          40.8047,
          40.849915,
          40.755795,
          40.81094,
          40.818424,
          40.77364,
          40.83169,
          40.8197,
          40.798615000000005,
          40.85901,
          40.788795,
          40.806343,
          40.708763,
          40.774370000000005,
          40.75228,
          40.814186,
          40.848118,
          40.828309999999995,
          40.772156,
          40.78422,
          40.803024,
          40.78503,
          40.848938000000004,
          40.823257,
          40.78503,
          40.843246,
          40.742836,
          40.851433,
          40.81423,
          40.820095,
          40.78318,
          40.780464,
          40.807109999999994,
          40.855579999999996,
          40.79094,
          40.815684999999995,
          40.80322,
          40.7606,
          40.848735999999995,
          40.852608000000004,
          40.819378,
          40.790314,
          40.75186,
          40.787064,
          40.854915999999996,
          40.755115999999994,
          40.745922,
          40.82326,
          40.79356,
          40.830242,
          40.7968,
          40.778484000000006,
          40.84603,
          40.801753999999995,
          40.74026,
          40.81423,
          40.752934,
          40.79465,
          40.79085,
          40.802444,
          40.762676,
          40.782959999999996,
          40.763897,
          40.790417,
          40.762676,
          40.823257,
          40.72948,
          40.73596,
          40.7491,
          40.792812,
          40.744667,
          40.79672,
          40.758007,
          40.735306,
          40.801968,
          40.7509,
          40.853683000000004,
          40.790253,
          40.775,
          40.72656,
          40.77592,
          40.821636,
          40.816359999999996,
          40.767612,
          40.796986,
          40.848625,
          40.812313,
          40.8047,
          40.828922,
          40.830154,
          40.865795,
          40.794827000000005,
          40.791909999999994,
          40.790253,
          40.74967,
          40.826640000000005,
          40.763733,
          40.767532,
          40.80297,
          40.80704,
          40.779804,
          40.86955,
          40.848038,
          40.865547,
          40.814186,
          40.844955,
          40.87229,
          40.73771,
          40.86676,
          40.80761,
          40.722324,
          40.785866,
          40.79672,
          40.725937,
          40.8327,
          40.818335999999995,
          40.812744,
          40.868473,
          40.85738,
          40.86155,
          40.730644,
          40.780464,
          40.811478,
          40.835808,
          40.79525,
          40.740185,
          40.864113,
          40.83441,
          40.780693,
          40.763897,
          40.795403,
          40.74915,
          40.81977,
          40.792126,
          40.74284
         ],
         "legendgroup": "MANHATTAN",
         "lon": [
          -73.94505,
          -73.92189,
          -73.950836,
          -73.94898,
          -73.96158,
          -73.93515,
          -73.941025,
          -73.97321,
          -73.91842,
          -73.94561,
          -73.94608000000001,
          -73.96043,
          -73.93318000000001,
          -73.92501,
          -74.01178,
          -73.94561,
          -73.94671,
          -73.93061999999999,
          -73.94063,
          -74.00591999999999,
          -73.93569000000001,
          -73.98068,
          -73.92955,
          -73.93755,
          -73.95186,
          -73.934525,
          -74.004036,
          -73.94368,
          -73.93765,
          -74.00578,
          -73.9451,
          -73.948425,
          -73.93977,
          -73.94058000000001,
          -73.981544,
          -73.94409,
          -73.94353000000001,
          -73.98955,
          -73.93909000000001,
          -73.950455,
          -73.95213000000001,
          -73.94667,
          -73.984,
          -73.92925,
          -73.92602,
          -73.996086,
          -73.93966999999999,
          -73.99380500000001,
          -74.009796,
          -73.94403,
          -73.94368,
          -73.93719,
          -73.93244,
          -73.94065,
          -73.98694,
          -73.96069,
          -73.97596,
          -73.94463,
          -73.95496999999999,
          -73.93914000000001,
          -73.96033,
          -73.984985,
          -73.96389,
          -73.96389,
          -73.94098000000001,
          -73.92994,
          -73.9467,
          -73.94769000000001,
          -73.95881999999999,
          -73.96894,
          -73.96294,
          -73.969734,
          -73.94723499999999,
          -73.974625,
          -73.95571,
          -73.930885,
          -73.9442,
          -73.9661,
          -73.95886999999999,
          -73.94541,
          -73.95141,
          -73.92777,
          -73.94242,
          -73.96381,
          -73.94473,
          -73.94006999999999,
          -73.98992,
          -73.96621999999999,
          -74.01066,
          -73.91243,
          -73.96112,
          -73.94005600000001,
          -73.92990999999999,
          -73.95323,
          -73.988396,
          -73.93755,
          -73.95633000000001,
          -73.9368,
          -73.96686,
          -73.95130999999999,
          -73.981316,
          -73.98905,
          -73.93436,
          -73.960526,
          -73.93332,
          -74.01055,
          -73.95402,
          -73.96848,
          -73.98228,
          -73.98976,
          -73.97086,
          -73.930534,
          -73.95116999999999,
          -73.95496999999999,
          -73.94433000000001,
          -73.97352,
          -73.99636,
          -73.952126,
          -73.96401999999999,
          -73.94151,
          -73.93854499999999,
          -73.9736,
          -73.961975,
          -73.954254,
          -73.93444000000001,
          -73.92925,
          -73.92821500000001,
          -73.941925,
          -73.9378,
          -73.97213,
          -73.93148000000001,
          -73.94281,
          -73.94436,
          -73.983154,
          -73.96983,
          -73.99485,
          -73.93446,
          -74.001335,
          -73.96934499999999,
          -73.94614,
          -74.001396,
          -73.94541,
          -73.93539399999999,
          -73.97251999999999,
          -73.92761999999999,
          -73.93348,
          -73.94038,
          -73.92988000000001,
          -73.96011999999999,
          -73.94093000000001,
          -73.9526,
          -73.91243,
          -73.94476,
          -73.97502,
          -73.93117,
          -73.9315,
          -73.95348,
          -73.96385,
          -73.92925,
          -73.96477,
          -73.9494,
          -73.94649,
          -73.97405,
          -73.93726,
          -73.95483,
          -73.934364,
          -73.98706,
          -73.95323,
          -73.92472,
          -73.935936,
          -73.96043,
          -73.93576,
          -74.0139,
          -73.9442,
          -73.97032,
          -73.95443,
          -73.93624,
          -73.96984,
          -73.94038,
          -73.95555999999999,
          -73.950005,
          -73.94293,
          -73.93964,
          -73.99548,
          -73.91937,
          -73.94473,
          -73.981804,
          -73.93026,
          -73.95071999999999,
          -74.01250999999999,
          -73.93765,
          -73.9771,
          -73.93964,
          -73.941055,
          -73.96793000000001,
          -73.97973,
          -73.98374,
          -73.92761999999999,
          -73.966705,
          -73.93899499999999,
          -73.96819,
          -73.949455,
          -73.956024,
          -74.00529499999999,
          -73.99028,
          -73.98012,
          -73.99207,
          -73.94591,
          -73.97263000000001,
          -73.94724000000001,
          -73.929375,
          -73.95305,
          -73.92439,
          -73.959305,
          -73.95483,
          -73.93078,
          -73.945,
          -73.99029,
          -73.93524000000001,
          -73.97275,
          -73.959305,
          -73.96061999999999,
          -73.96853,
          -73.98326999999999,
          -73.9694,
          -73.961105,
          -73.95562,
          -73.93431,
          -73.9296,
          -73.93296,
          -73.950005,
          -73.98687,
          -73.99535999999999,
          -73.91707,
          -73.93899499999999,
          -74.00142,
          -73.944855,
          -73.97213,
          -73.98464,
          -73.94049,
          -73.96144,
          -73.94349,
          -73.94409,
          -73.95253000000001,
          -73.93415999999999,
          -74.005775,
          -73.95103,
          -73.996086,
          -73.94104,
          -73.95694,
          -73.97584,
          -73.94194,
          -73.96149,
          -73.965225,
          -73.94393000000001,
          -73.92061600000001,
          -73.94761,
          -73.93786999999999,
          -73.98106999999999,
          -73.93274,
          -73.96476,
          -73.94349,
          -73.93089,
          -73.94455,
          -73.985504,
          -73.97315,
          -73.9535,
          -73.945145,
          -73.93093,
          -74.0097,
          -73.93444000000001,
          -73.95609,
          -73.940865,
          -73.91243,
          -73.99898,
          -73.97618,
          -73.95571,
          -73.97274,
          -73.96112,
          -73.967026,
          -73.96590400000001,
          -73.92955,
          -73.967125,
          -73.954124,
          -73.95603,
          -73.929375,
          -73.9378,
          -73.94924,
          -73.95249,
          -73.96441,
          -74.00019,
          -73.94348000000001,
          -74.006805,
          -73.93003,
          -73.9467,
          -74.00383000000001,
          -73.93121,
          -73.92663,
          -73.93964,
          -73.9225,
          -73.94736,
          -73.94868000000001,
          -73.96661999999999,
          -73.9305,
          -73.94098000000001,
          -73.94247,
          -73.93097,
          -73.96585999999999,
          -73.97268000000001,
          -73.95255999999999,
          -73.93431,
          -73.95456,
          -73.98958,
          -73.956276,
          -73.94185,
          -73.92126,
          -74.01468,
          -73.94424000000001,
          -73.94833,
          -73.97179399999999,
          -73.92988000000001,
          -73.95094,
          -74.00872,
          -73.946556,
          -73.99811600000001,
          -73.95969000000001,
          -73.971016,
          -73.98442,
          -73.96343,
          -73.95934,
          -73.98021999999999,
          -73.92929000000001,
          -73.93481,
          -73.9526,
          -73.96079,
          -73.952515,
          -73.95302,
          -73.93468,
          -73.93009,
          -73.96805,
          -73.937225,
          -73.961105,
          -73.949455,
          -73.999374,
          -73.961105,
          -73.97179399999999,
          -73.95201999999999,
          -73.95505,
          -73.9481,
          -73.97476999999999,
          -73.91243,
          -73.92964,
          -73.96101999999999,
          -73.94318,
          -73.94515,
          -73.95985999999999,
          -73.949265,
          -73.93449,
          -73.94375,
          -73.927635,
          -73.93755,
          -73.93318000000001,
          -73.99811600000001,
          -73.963554,
          -73.9897,
          -73.95087,
          -73.93089,
          -73.94315,
          -73.94541,
          -73.98499,
          -73.93632,
          -73.94058000000001,
          -73.93708000000001,
          -73.94293,
          -73.94058000000001,
          -73.94505,
          -73.97214,
          -73.93509,
          -73.93444000000001,
          -73.955086,
          -73.94362,
          -73.94404,
          -73.93364,
          -73.93427,
          -73.94723499999999,
          -73.9583,
          -73.95253000000001,
          -73.96434,
          -73.93234,
          -73.936554,
          -73.96035,
          -73.93956999999999,
          -73.965195,
          -73.94194,
          -73.93604,
          -74.00248,
          -73.97010999999999,
          -73.95277,
          -73.96701999999999,
          -73.9497,
          -73.929375,
          -73.94526,
          -73.93034,
          -73.93121,
          -73.990524,
          -73.93444000000001,
          -73.9855,
          -73.97179399999999,
          -73.98151999999999,
          -73.938835,
          -73.954346,
          -73.94403,
          -73.95323,
          -73.95184,
          -73.954346,
          -73.94293,
          -73.9721,
          -74.005135,
          -73.984085,
          -73.937744,
          -73.97114599999999,
          -73.97618,
          -73.96625,
          -74.00036999999999,
          -73.94552,
          -73.99812,
          -73.93054000000001,
          -73.94564,
          -73.9631,
          -73.97204599999999,
          -73.95317,
          -73.93909000000001,
          -73.954094,
          -73.950005,
          -73.93175,
          -73.92753,
          -73.95223,
          -73.91243,
          -73.9504,
          -73.93964,
          -73.920006,
          -73.97624,
          -73.94151,
          -73.94564,
          -73.99531,
          -73.94306,
          -73.962074,
          -73.953255,
          -73.96387,
          -73.9698,
          -73.98448,
          -73.91519,
          -73.93285,
          -73.92728000000001,
          -73.95087,
          -73.93008,
          -73.91269,
          -73.974266,
          -73.92061600000001,
          -73.95305,
          -74.01178,
          -73.950935,
          -73.96289,
          -74.01103,
          -73.950226,
          -73.934265,
          -73.93764499999999,
          -73.92404,
          -73.92973,
          -73.92472,
          -73.97329,
          -73.94404,
          -73.950226,
          -73.949455,
          -73.97321,
          -73.986374,
          -73.92126,
          -73.94986,
          -73.9466,
          -73.95323,
          -73.94188,
          -73.98828,
          -73.93673000000001,
          -73.97178000000001,
          -74.00028
         ],
         "marker": {
          "color": "#3e4a89"
         },
         "mode": "markers",
         "name": "MANHATTAN",
         "showlegend": true,
         "subplot": "mapbox",
         "type": "scattermapbox"
        },
        {
         "hovertemplate": "BOROUGH=QUEENS<br>LATITUDE=%{lat}<br>LONGITUDE=%{lon}<extra></extra>",
         "lat": [
          40.689198,
          40.75206,
          40.789528000000004,
          40.722496,
          40.702236,
          40.719177,
          40.769333,
          40.768615999999994,
          40.729305,
          40.74478,
          40.764725,
          40.765297,
          40.72245,
          40.687709999999996,
          40.730366,
          40.74045,
          40.76874,
          40.74198,
          40.66762,
          40.59626,
          40.709346999999994,
          40.716114000000005,
          40.743767,
          40.7179,
          40.676132,
          40.759346,
          40.72245,
          40.666233,
          40.762978000000004,
          40.724270000000004,
          40.738842,
          40.704494,
          40.669290000000004,
          40.674609999999994,
          40.759724,
          40.744892,
          40.58699,
          40.596,
          40.694744,
          40.667194,
          40.66015,
          40.717014,
          40.72784,
          40.679863,
          40.69231,
          40.707153000000005,
          40.717014,
          40.74197,
          40.76663,
          40.689617,
          40.757183000000005,
          40.759686,
          40.73448,
          40.728928,
          40.681488,
          40.76943,
          40.756676,
          40.68717,
          40.674934,
          40.72266,
          40.66559,
          40.76518,
          40.753634999999996,
          40.7859,
          40.73992,
          40.6568,
          40.787197,
          40.784702,
          40.724804,
          40.680454,
          40.72634,
          40.750717,
          40.703334999999996,
          40.75829,
          40.69345,
          40.725132,
          40.78781,
          40.73834,
          40.75326,
          40.693798,
          40.610256,
          40.674953,
          40.752975,
          40.734978000000005,
          40.77613,
          40.72773,
          40.708504,
          40.742492999999996,
          40.670586,
          40.74848,
          40.736571999999995,
          40.698257,
          40.740017,
          40.77365,
          40.72773,
          40.72956,
          40.693783,
          40.666573,
          40.70313,
          40.66496,
          40.735794,
          40.758526,
          40.786118,
          40.76903,
          40.73715,
          40.748065999999994,
          40.569355,
          40.666348,
          40.741394,
          40.78781,
          40.730137,
          40.667076,
          40.69215,
          40.767596999999995,
          40.707153000000005,
          40.746536,
          40.694775,
          40.764454,
          40.749283,
          40.771145000000004,
          40.70288,
          40.66559,
          40.738068,
          40.732937,
          40.76095,
          40.687084000000006,
          40.722343,
          40.674934,
          40.66559,
          40.66669,
          40.73715,
          40.788956,
          40.712672999999995,
          40.769890000000004,
          40.77458,
          40.789467,
          40.716824,
          40.738597999999996,
          40.719124,
          40.601437,
          40.753265,
          40.737784999999995,
          40.73632,
          40.775234000000005,
          40.709644,
          40.74215,
          40.71713,
          40.750225,
          40.727055,
          40.68878,
          40.752403,
          40.66496,
          40.734486,
          40.752403,
          40.71699,
          40.593624,
          40.75829,
          40.738415,
          40.74709,
          40.736534000000006,
          40.74709,
          40.664840000000005,
          40.731983,
          40.737784999999995,
          40.69942,
          40.66709,
          40.713287,
          40.72033,
          40.72123,
          40.666435,
          40.777634,
          40.669212,
          40.696296999999994,
          40.69245,
          40.745490000000004,
          40.731770000000004,
          40.700493,
          40.692463000000004,
          40.776627000000005,
          40.707928,
          40.7497,
          40.764267,
          40.7432,
          40.68739,
          40.66796,
          40.709995,
          40.726543,
          40.66653,
          40.768159999999995,
          40.741455,
          40.683094,
          40.717014,
          40.726814000000005,
          40.768684,
          40.752179999999996,
          40.688359999999996,
          40.666233,
          40.72773,
          40.716034,
          40.778884999999995,
          40.766155,
          40.755978000000006,
          40.674694,
          40.700829999999996,
          40.744923,
          40.748955,
          40.762170000000005,
          40.716652,
          40.77039,
          40.77487,
          40.679737,
          40.739082,
          40.687805,
          40.729923,
          40.726814000000005,
          40.710434,
          40.75379,
          40.771576,
          40.680687,
          40.741279999999996,
          40.79184,
          40.736496,
          40.666588,
          40.776740000000004,
          40.742329999999995,
          40.753307,
          40.7568,
          40.793296999999995,
          40.767487,
          40.72175,
          40.67819,
          40.751453000000005,
          40.794144,
          40.73448,
          40.710440000000006,
          40.776627000000005,
          40.7432,
          40.691914000000004,
          40.768982,
          40.729996,
          40.76615,
          40.73632,
          40.764355,
          40.703163,
          40.666348,
          40.725365000000004,
          40.7712,
          40.666008000000005,
          40.712505,
          40.698153999999995,
          40.738403000000005,
          40.6796,
          40.672109999999996,
          40.75355,
          40.69231,
          40.764773999999996,
          40.762737,
          40.679737,
          40.738842,
          40.754658,
          40.75708,
          40.7749,
          40.732887,
          40.757797,
          40.666348,
          40.742523,
          40.692463000000004,
          40.697933,
          40.78076,
          40.71444,
          40.706866999999995,
          40.685947,
          40.77162,
          40.666385999999996,
          40.75829,
          40.72773,
          40.793217,
          40.713135,
          40.65999,
          40.702892,
          40.769318,
          40.665490000000005,
          40.793296999999995,
          40.676132,
          40.706173,
          40.74303,
          40.662178000000004,
          40.70753,
          40.66644,
          40.68527,
          40.754509999999996,
          40.726357,
          40.783268,
          40.702293,
          40.748847999999995,
          40.720287,
          40.697815000000006,
          40.72773,
          40.662178000000004,
          40.765976,
          40.71405,
          40.771576,
          40.706345,
          40.664143,
          40.737682,
          40.755234,
          40.739162,
          40.78628,
          40.741234000000006,
          40.734978000000005,
          40.66062,
          40.666306,
          40.728229999999996,
          40.71713,
          40.687709999999996,
          40.727318,
          40.728992,
          40.673393,
          40.701275,
          40.691140000000004,
          40.74738,
          40.75412,
          40.768887,
          40.72123,
          40.740078000000004,
          40.775444,
          40.664840000000005,
          40.704853,
          40.770325,
          40.717014,
          40.658417,
          40.673767,
          40.748756,
          40.732937,
          40.733779999999996,
          40.665813,
          40.679893,
          40.656593,
          40.728947,
          40.751296999999994,
          40.734978000000005,
          40.700993,
          40.744644,
          40.766684999999995,
          40.664143,
          40.74947,
          40.748306,
          40.68509,
          40.745284999999996,
          40.666405,
          40.704494,
          40.748924,
          40.681995,
          40.693787,
          40.735752000000005,
          40.713184000000005,
          40.681362,
          40.707947,
          40.667235999999995,
          40.667429999999996,
          40.737784999999995,
          40.68881,
          40.707153000000005,
          40.722572,
          40.783634,
          40.696384,
          40.764236,
          40.75488,
          40.756840000000004,
          40.745148,
          40.755234,
          40.691452000000005,
          40.741917,
          40.77039,
          40.74091,
          40.700108,
          40.738575,
          40.74217,
          40.731303999999994,
          40.77061,
          40.79271,
          40.730915,
          40.787290000000006,
          40.666348,
          40.752228,
          40.76132,
          40.768875,
          40.74738,
          40.741814,
          40.748596,
          40.752179999999996,
          40.65965,
          40.702484000000005,
          40.719367999999996,
          40.74091,
          40.74738,
          40.699505,
          40.76242,
          40.780155,
          40.782444,
          40.685097,
          40.73085,
          40.71031,
          40.75495,
          40.749687,
          40.767509999999994,
          40.772853999999995,
          40.705284000000006,
          40.728854999999996,
          40.708324,
          40.746773,
          40.78405,
          40.6674,
          40.775368,
          40.737784999999995,
          40.704494,
          40.749184,
          40.734543,
          40.71582,
          40.749977,
          40.73261,
          40.749607,
          40.714859999999994,
          40.704184999999995,
          40.770255999999996,
          40.687103,
          40.687084000000006,
          40.72033,
          40.70313,
          40.74089,
          40.704494,
          40.77677,
          40.76663,
          40.6957,
          40.71582,
          40.742676,
          40.73834,
          40.670326,
          40.739273,
          40.711459999999995,
          40.734314000000005,
          40.75091,
          40.666187,
          40.694065,
          40.709747,
          40.688359999999996,
          40.741234000000006,
          40.581604,
          40.69773,
          40.76943,
          40.704494,
          40.709827000000004,
          40.73448,
          40.71443,
          40.669290000000004,
          40.74286,
          40.713318,
          40.707893,
          40.722095,
          40.694805,
          40.74132,
          40.755565999999995,
          40.665268,
          40.707928,
          40.745384,
          40.67536,
          40.75327,
          40.719734,
          40.74668,
          40.737194,
          40.748329999999996,
          40.74886,
          40.743122,
          40.78928,
          40.698402,
          40.726444,
          40.666348,
          40.676487,
          40.667235999999995,
          40.773964,
          40.778366,
          40.68517,
          40.777958,
          40.728146,
          40.704033,
          40.66615,
          40.75904,
          40.760253999999996,
          40.68775,
          40.706226,
          40.666637,
          40.745903000000006,
          40.668507,
          40.66961,
          40.744526,
          40.77613,
          40.674953,
          40.704494,
          40.770554,
          40.705875,
          40.700855,
          40.70722,
          40.73447,
          40.69146,
          40.76399,
          40.705833,
          40.719543,
          40.762093,
          40.779324,
          40.743427000000004,
          40.752216,
          40.744892,
          40.768753000000004,
          40.762146,
          40.742657,
          40.761379999999996,
          40.692543,
          40.755646,
          40.73594,
          40.728854999999996,
          40.734768,
          40.710953,
          40.597534,
          40.738495,
          40.768166,
          40.759174,
          40.789528000000004,
          40.714622,
          40.719124,
          40.674953,
          40.666306,
          40.710342,
          40.774612,
          40.666546000000004,
          40.666225,
          40.703014,
          40.688774,
          40.716957,
          40.682873,
          40.756264,
          40.769646,
          40.692496999999996,
          40.77417,
          40.748965999999996,
          40.739162,
          40.711834,
          40.761795,
          40.77393,
          40.748721999999994,
          40.666393,
          40.739788,
          40.771305,
          40.592087,
          40.759335,
          40.666405,
          40.789528000000004,
          40.66669,
          40.720005,
          40.71713,
          40.713497,
          40.745090000000005,
          40.741493,
          40.76417,
          40.71702,
          40.71123,
          40.750820000000004,
          40.74111,
          40.722343,
          40.713333,
          40.752106,
          40.687046,
          40.732033,
          40.700195,
          40.74613,
          40.75703,
          40.70975,
          40.728390000000005,
          40.783559999999994,
          40.73425,
          40.732033,
          40.70921,
          40.66496,
          40.70924,
          40.598774,
          40.708324,
          40.782140000000005,
          40.711459999999995,
          40.70313,
          40.67819,
          40.738194,
          40.768726,
          40.752003,
          40.728229999999996,
          40.71125,
          40.728832000000004,
          40.73226,
          40.66535,
          40.761906,
          40.682567999999996,
          40.74357,
          40.77219,
          40.767765000000004,
          40.592846,
          40.736046,
          40.770255999999996,
          40.741234000000006,
          40.73319,
          40.709747,
          40.747833,
          40.739193,
          40.729572,
          40.76294,
          40.687546000000005,
          40.72586,
          40.796555,
          40.66632,
          40.70786,
          40.662178000000004,
          40.754276000000004,
          40.705826,
          40.76485,
          40.705459999999995,
          40.691612,
          40.744892,
          40.769318,
          40.72956,
          40.748596
         ],
         "legendgroup": "QUEENS",
         "lon": [
          -73.852325,
          -73.854256,
          -73.820435,
          -73.83582,
          -73.75769,
          -73.79223,
          -73.841736,
          -73.92508000000001,
          -73.91038499999999,
          -73.93262,
          -73.92426,
          -73.83967,
          -73.84626,
          -73.845345,
          -73.91388,
          -73.844376,
          -73.90881,
          -73.82475,
          -73.8051,
          -73.76773,
          -73.8297,
          -73.824905,
          -73.83748,
          -73.83202,
          -73.81924000000001,
          -73.91981,
          -73.84626,
          -73.76100000000001,
          -73.83198,
          -73.901825,
          -73.81404,
          -73.81743,
          -73.842445,
          -73.80428,
          -73.92061,
          -73.77022,
          -73.8098,
          -73.77067,
          -73.785675,
          -73.77909,
          -73.85333,
          -73.7994,
          -73.79573,
          -73.83884,
          -73.88147,
          -73.8189,
          -73.7994,
          -73.84116,
          -73.88903,
          -73.8905,
          -73.83396,
          -73.77183000000001,
          -73.92243,
          -73.9195,
          -73.77233000000001,
          -73.91025,
          -73.920876,
          -73.89231,
          -73.80185999999999,
          -73.82744,
          -73.83131999999999,
          -73.88807,
          -73.91893,
          -73.848656,
          -73.81513000000001,
          -73.85758,
          -73.78,
          -73.82461500000001,
          -73.82983,
          -73.84366,
          -73.76508000000001,
          -73.85876999999999,
          -73.810585,
          -73.83431,
          -73.80630500000001,
          -73.84751999999999,
          -73.82341,
          -73.80485,
          -73.864456,
          -73.81156,
          -73.767494,
          -73.80205,
          -73.91024,
          -73.8614,
          -73.910706,
          -73.90674,
          -73.81954,
          -73.87337,
          -73.76509,
          -73.861,
          -73.907715,
          -73.82632,
          -73.84565,
          -73.81532,
          -73.90674,
          -73.87145,
          -73.7623,
          -73.811775,
          -73.816795,
          -73.82226,
          -73.85807,
          -73.80141,
          -73.804085,
          -73.88203,
          -73.930824,
          -73.93977,
          -73.86411,
          -73.76093,
          -73.82303,
          -73.82341,
          -73.86236600000001,
          -73.78265999999999,
          -73.86216,
          -73.88539,
          -73.8189,
          -73.83119,
          -73.84774,
          -73.83178000000001,
          -73.75664499999999,
          -73.89882,
          -73.85795999999999,
          -73.83131999999999,
          -73.93111,
          -73.920395,
          -73.832756,
          -73.8361,
          -73.77717,
          -73.80185999999999,
          -73.83131999999999,
          -73.81173000000001,
          -73.930824,
          -73.823555,
          -73.80139,
          -73.880455,
          -73.78435999999999,
          -73.784225,
          -73.82019,
          -73.79523,
          -73.79140500000001,
          -73.768196,
          -73.94668,
          -73.93496,
          -73.85631,
          -73.829025,
          -73.834816,
          -73.80917,
          -73.7986,
          -73.85515,
          -73.83229,
          -73.77538,
          -73.92442,
          -73.82226,
          -73.891754,
          -73.92442,
          -73.82401999999999,
          -73.77632,
          -73.83431,
          -73.84899,
          -73.76325,
          -73.85611,
          -73.76325,
          -73.82229,
          -73.91911999999999,
          -73.93496,
          -73.86878,
          -73.76375999999999,
          -73.87163000000001,
          -73.76115,
          -73.83483000000001,
          -73.83478000000001,
          -73.82157,
          -73.76629,
          -73.874756,
          -73.81100500000001,
          -73.95318,
          -73.866714,
          -73.90142,
          -73.81081999999999,
          -73.83906,
          -73.78429399999999,
          -73.902565,
          -73.9158,
          -73.89589000000001,
          -73.84647,
          -73.77155,
          -73.79263,
          -73.87402,
          -73.806274,
          -73.90544,
          -73.84258,
          -73.80575999999999,
          -73.7994,
          -73.83846,
          -73.90562,
          -73.85200999999999,
          -73.8915,
          -73.76100000000001,
          -73.90674,
          -73.80416,
          -73.81454000000001,
          -73.89226,
          -73.939095,
          -73.78435,
          -73.82635,
          -73.83709,
          -73.87136,
          -73.7568,
          -73.8259,
          -73.91771,
          -73.921776,
          -73.76162,
          -73.79345,
          -73.83356500000001,
          -73.91208,
          -73.83846,
          -73.838066,
          -73.91548,
          -73.87616,
          -73.84459,
          -73.90257,
          -73.823524,
          -73.909225,
          -73.80809,
          -73.82433,
          -73.83764000000001,
          -73.82738499999999,
          -73.873665,
          -73.807106,
          -73.9017,
          -73.87546,
          -73.80144,
          -73.83228000000001,
          -73.7996,
          -73.92243,
          -73.833046,
          -73.83906,
          -73.89589000000001,
          -73.88363000000001,
          -73.91064,
          -73.91187,
          -73.919785,
          -73.85631,
          -73.91131,
          -73.81662,
          -73.76093,
          -73.89454,
          -73.83345,
          -73.789536,
          -73.89591,
          -73.86969,
          -73.80272,
          -73.80349,
          -73.80109399999999,
          -73.85268,
          -73.88147,
          -73.888,
          -73.83951,
          -73.76162,
          -73.81404,
          -73.833115,
          -73.90648,
          -73.803894,
          -73.920586,
          -73.94582,
          -73.76093,
          -73.94924,
          -73.81081999999999,
          -73.89200600000001,
          -73.825424,
          -73.83126999999999,
          -73.7908,
          -73.80224,
          -73.87477,
          -73.80178000000001,
          -73.83431,
          -73.90674,
          -73.824005,
          -73.87528,
          -73.765656,
          -73.83785,
          -73.8666,
          -73.81953399999999,
          -73.807106,
          -73.81924000000001,
          -73.85186,
          -73.83216,
          -73.85025,
          -73.75721999999999,
          -73.823166,
          -73.84248000000001,
          -73.827156,
          -73.76388,
          -73.82485,
          -73.79117,
          -73.872375,
          -73.782524,
          -73.7602,
          -73.90674,
          -73.85025,
          -73.86284,
          -73.77801,
          -73.87616,
          -73.85159,
          -73.78992,
          -73.85206,
          -73.94124599999999,
          -73.78556,
          -73.80598,
          -73.84573,
          -73.8614,
          -73.85389,
          -73.79171,
          -73.83313000000001,
          -73.7986,
          -73.845345,
          -73.88795999999999,
          -73.89686,
          -73.79048,
          -73.88887,
          -73.80488000000001,
          -73.76171,
          -73.92955,
          -73.90691,
          -73.83483000000001,
          -73.89969,
          -73.828445,
          -73.82229,
          -73.791664,
          -73.83497,
          -73.82970999999999,
          -73.76768,
          -73.76380999999999,
          -73.82133,
          -73.920395,
          -73.8358,
          -73.833115,
          -73.85065999999999,
          -73.857635,
          -73.92793,
          -73.889336,
          -73.8614,
          -73.77083,
          -73.77041,
          -73.892136,
          -73.78992,
          -73.7564,
          -73.87104000000001,
          -73.80518000000001,
          -73.94830999999999,
          -73.802635,
          -73.81743,
          -73.937386,
          -73.82308,
          -73.81173000000001,
          -73.88051999999999,
          -73.82393,
          -73.79728,
          -73.78331,
          -73.770004,
          -73.76675999999999,
          -73.93496,
          -73.80288,
          -73.8189,
          -73.851364,
          -73.816666,
          -73.802826,
          -73.93701,
          -73.89929000000001,
          -73.810135,
          -73.93348,
          -73.94124599999999,
          -73.88517,
          -73.823425,
          -73.91771,
          -73.83726999999999,
          -73.83267,
          -73.845345,
          -73.804436,
          -73.92596400000001,
          -73.8919,
          -73.84654,
          -73.83453,
          -73.81345,
          -73.76093,
          -73.93911,
          -73.9171,
          -73.90852,
          -73.76171,
          -73.770325,
          -73.89532,
          -73.85200999999999,
          -73.773834,
          -73.85981,
          -73.83600600000001,
          -73.83726999999999,
          -73.83509000000001,
          -73.77167,
          -73.82751999999999,
          -73.8406,
          -73.776535,
          -73.760735,
          -73.91566,
          -73.77174000000001,
          -73.89915500000001,
          -73.94763,
          -73.81543,
          -73.90607,
          -73.90635999999999,
          -73.92782,
          -73.84314,
          -73.79241999999999,
          -73.91244,
          -73.773636,
          -73.90961999999999,
          -73.93496,
          -73.81743,
          -73.75819399999999,
          -73.93744000000001,
          -73.81759,
          -73.91164,
          -73.8686,
          -73.89686999999999,
          -73.75922,
          -73.78599,
          -73.91586,
          -73.89251,
          -73.8361,
          -73.76115,
          -73.816795,
          -73.92201,
          -73.81743,
          -73.93453000000001,
          -73.89605,
          -73.7933,
          -73.81759,
          -73.839516,
          -73.80485,
          -73.79244,
          -73.933716,
          -73.79647,
          -73.93803,
          -73.78742,
          -73.79176,
          -73.85106,
          -73.82056999999999,
          -73.8915,
          -73.84573,
          -73.83077,
          -73.81409000000001,
          -73.91025,
          -73.81743,
          -73.83983,
          -73.92243,
          -73.83315,
          -73.842445,
          -73.846535,
          -73.76402,
          -73.84889,
          -73.77772,
          -73.8982,
          -73.78478,
          -73.79172,
          -73.82770500000001,
          -73.78429399999999,
          -73.76879,
          -73.8126,
          -73.92803,
          -73.78652,
          -73.90071999999999,
          -73.90619000000001,
          -73.89609499999999,
          -73.93755,
          -73.897545,
          -73.84095,
          -73.75794,
          -73.76579,
          -73.76093,
          -73.82133,
          -73.770004,
          -73.9228,
          -73.80794499999999,
          -73.86231,
          -73.90847,
          -73.83925,
          -73.81711,
          -73.80575,
          -73.80794499999999,
          -73.76935,
          -73.79039,
          -73.78917,
          -73.7646,
          -73.76703,
          -73.779625,
          -73.77613000000001,
          -73.77161,
          -73.910706,
          -73.80205,
          -73.81743,
          -73.83551,
          -73.81794000000001,
          -73.86837,
          -73.78957,
          -73.86316,
          -73.88547,
          -73.93288000000001,
          -73.81812,
          -73.85914,
          -73.75690999999999,
          -73.775604,
          -73.775475,
          -73.948814,
          -73.77022,
          -73.768936,
          -73.83465,
          -73.846214,
          -73.86574,
          -73.77553,
          -73.94205500000001,
          -73.85887,
          -73.92782,
          -73.861595,
          -73.82154,
          -73.75676999999999,
          -73.90274000000001,
          -73.83749,
          -73.93918599999999,
          -73.820435,
          -73.829704,
          -73.79140500000001,
          -73.80205,
          -73.79171,
          -73.79160999999999,
          -73.92399,
          -73.78808000000001,
          -73.80086,
          -73.858025,
          -73.817635,
          -73.82655,
          -73.76143,
          -73.823524,
          -73.91425,
          -73.87954,
          -73.82934,
          -73.75816999999999,
          -73.78556,
          -73.90799,
          -73.7679,
          -73.80975,
          -73.89881,
          -73.813576,
          -73.845375,
          -73.87664000000001,
          -73.78625500000001,
          -73.90314000000001,
          -73.802635,
          -73.820435,
          -73.81173000000001,
          -73.78463,
          -73.7986,
          -73.75714,
          -73.83674,
          -73.81477,
          -73.83967,
          -73.830505,
          -73.85575,
          -73.81265,
          -73.89842,
          -73.77717,
          -73.91305,
          -73.94424000000001,
          -73.792114,
          -73.91893,
          -73.78586,
          -73.83605,
          -73.938126,
          -73.79562,
          -73.83301999999999,
          -73.82449,
          -73.86336,
          -73.91893,
          -73.87017,
          -73.82226,
          -73.756935,
          -73.801285,
          -73.84314,
          -73.824844,
          -73.79647,
          -73.816795,
          -73.80144,
          -73.8492,
          -73.760414,
          -73.83600600000001,
          -73.83313000000001,
          -73.77709,
          -73.88051999999999,
          -73.83521999999999,
          -73.81695,
          -73.83924,
          -73.78201999999999,
          -73.83771999999999,
          -73.763855,
          -73.86499,
          -73.79616,
          -73.92673,
          -73.91586,
          -73.84573,
          -73.866875,
          -73.82056999999999,
          -73.83301,
          -73.90128,
          -73.83383,
          -73.777695,
          -73.8208,
          -73.90016999999999,
          -73.82186999999999,
          -73.83481,
          -73.84846,
          -73.85025,
          -73.90902,
          -73.79397,
          -73.88611999999999,
          -73.7949,
          -73.83667,
          -73.77022,
          -73.8666,
          -73.87145,
          -73.89532
         ],
         "marker": {
          "color": "#26828e"
         },
         "mode": "markers",
         "name": "QUEENS",
         "showlegend": true,
         "subplot": "mapbox",
         "type": "scattermapbox"
        },
        {
         "hovertemplate": "BOROUGH=BRONX<br>LATITUDE=%{lat}<br>LONGITUDE=%{lon}<extra></extra>",
         "lat": [
          40.87656,
          40.88333,
          40.846954,
          40.87892,
          40.824837,
          40.85004,
          40.817820000000005,
          40.8511,
          40.806835,
          40.833282000000004,
          40.865685,
          40.847896999999996,
          40.820515,
          40.89675,
          40.86159,
          40.838196,
          40.877068,
          40.868015,
          40.830837,
          40.834114,
          40.848328,
          40.836895,
          40.906883,
          40.828316,
          40.858162,
          40.843956,
          40.836090000000006,
          40.807518,
          40.868546,
          40.857418,
          40.89393,
          40.84707,
          40.840090000000004,
          40.842335,
          40.866673,
          40.84211,
          40.830143,
          40.87931,
          40.846443,
          40.829,
          40.824932000000004,
          40.836296000000004,
          40.845005,
          40.857018,
          40.8059,
          40.83543,
          40.826397,
          40.816063,
          40.844883,
          40.831016999999996,
          40.825503999999995,
          40.8541,
          40.854874,
          40.832221999999994,
          40.81323,
          40.839832,
          40.830143,
          40.8059,
          40.866066,
          40.887478,
          40.836502,
          40.84571,
          40.844177,
          40.841496,
          40.872345,
          40.852515999999994,
          40.830738000000004,
          40.806156,
          40.838359999999994,
          40.813255,
          40.84106,
          40.885952,
          40.845104,
          40.845657,
          40.895195,
          40.86804,
          40.833813,
          40.86268,
          40.813255,
          40.823956,
          40.825573,
          40.830303,
          40.83829,
          40.83852,
          40.86957,
          40.840835999999996,
          40.811638,
          40.843821999999996,
          40.838757,
          40.806553,
          40.815525,
          40.836555,
          40.825165000000005,
          40.82497,
          40.856407,
          40.86159,
          40.82802,
          40.840153,
          40.828114,
          40.836555,
          40.841084,
          40.855785,
          40.825424,
          40.849407,
          40.866046999999995,
          40.835873,
          40.823135,
          40.8281,
          40.828114,
          40.84525,
          40.845108,
          40.868458000000004,
          40.823135,
          40.825424,
          40.826275,
          40.828114,
          40.83214,
          40.83543,
          40.834114,
          40.878643,
          40.826607,
          40.84497,
          40.840835999999996,
          40.844173,
          40.82111,
          40.864246,
          40.831776,
          40.848537,
          40.809284000000005,
          40.82243,
          40.882507000000004,
          40.803844,
          40.860535,
          40.829945,
          40.835598,
          40.828,
          40.827824,
          40.840927,
          40.819829999999996,
          40.82609,
          40.84518,
          40.84519,
          40.836090000000006,
          40.852140000000006,
          40.837864,
          40.828075,
          40.873737,
          40.83283,
          40.845104,
          40.81277,
          40.829945,
          40.86507,
          40.823772,
          40.881958000000004,
          40.84353,
          40.826153000000005,
          40.879307,
          40.875122,
          40.875122,
          40.809563,
          40.84942,
          40.83874,
          40.84487,
          40.86502,
          40.838745,
          40.892956,
          40.855920000000005,
          40.844883,
          40.853813,
          40.857116999999995,
          40.865142999999996,
          40.86235,
          40.845104,
          40.82371,
          40.89759,
          40.837864,
          40.809048,
          40.86159,
          40.836502,
          40.824432,
          40.89675,
          40.877033000000004,
          40.855971999999994,
          40.856625,
          40.840286,
          40.852059999999994,
          40.83328,
          40.844448,
          40.86804,
          40.832535,
          40.83932,
          40.836090000000006,
          40.824574,
          40.823772,
          40.82821,
          40.86804,
          40.835217,
          40.8223,
          40.858986,
          40.844916999999995,
          40.893642,
          40.836155,
          40.858162,
          40.8479,
          40.84036,
          40.828114,
          40.830985999999996,
          40.87787,
          40.89463,
          40.82164,
          40.819843,
          40.842464,
          40.831493,
          40.856743,
          40.83611,
          40.837740000000004,
          40.830345,
          40.844916999999995,
          40.845657,
          40.855971999999994,
          40.8913,
          40.843204,
          40.852059999999994,
          40.8746,
          40.843994,
          40.829945,
          40.841045,
          40.856388,
          40.850609999999996,
          40.835409999999996,
          40.853462,
          40.86502,
          40.840286,
          40.818974,
          40.8344,
          40.826275,
          40.875122,
          40.843906,
          40.844916999999995,
          40.838757,
          40.868015,
          40.844833,
          40.88078,
          40.809290000000004,
          40.838997,
          40.813255,
          40.8451,
          40.88709,
          40.826855,
          40.840835999999996,
          40.82164,
          40.848114,
          40.844105,
          40.821415,
          40.825935,
          40.821945,
          40.852104,
          40.83302,
          40.845024,
          40.86235,
          40.841087,
          40.842220000000005,
          40.902233,
          40.85638,
          40.895195,
          40.884144,
          40.827976,
          40.853905,
          40.847640000000006,
          40.872143,
          40.844177,
          40.80534,
          40.888596,
          40.836617,
          40.887671999999995,
          40.862755,
          40.853706,
          40.840153,
          40.873059999999995,
          40.843994,
          40.821068,
          40.876259999999995,
          40.829184999999995,
          40.842464,
          40.842422,
          40.830436999999996,
          40.810345,
          40.840286,
          40.8452,
          40.845104,
          40.846874,
          40.841274,
          40.827329999999996,
          40.863914,
          40.852306,
          40.870224,
          40.875122,
          40.874973,
          40.89997,
          40.839596,
          40.833813,
          40.84525,
          40.833588,
          40.820305,
          40.844485999999996,
          40.805820000000004,
          40.839478,
          40.86804,
          40.82325,
          40.867034999999994,
          40.84664,
          40.822433000000004,
          40.845104,
          40.822033000000005,
          40.84506,
          40.8541,
          40.827713,
          40.850097999999996,
          40.847965,
          40.823456,
          40.823170000000005,
          40.83801,
          40.830906,
          40.844604,
          40.85885,
          40.865612,
          40.832359999999994,
          40.846443,
          40.852306,
          40.86808,
          40.83968,
          40.829407,
          40.829570000000004,
          40.805077000000004,
          40.844982,
          40.830436999999996,
          40.884240000000005,
          40.803585,
          40.85477,
          40.837894,
          40.826298,
          40.89463,
          40.85406,
          40.845104,
          40.8254,
          40.842335,
          40.804707,
          40.827595,
          40.8283,
          40.81536,
          40.85638,
          40.881958000000004,
          40.844875,
          40.826523,
          40.876583000000004,
          40.805077000000004,
          40.835518,
          40.82451,
          40.826275,
          40.8262,
          40.88671,
          40.882709999999996,
          40.807434,
          40.84211,
          40.8307,
          40.829570000000004,
          40.84599,
          40.835087,
          40.838707,
          40.89711,
          40.907505,
          40.878643,
          40.803585,
          40.90348,
          40.83829,
          40.809048,
          40.86177,
          40.86804,
          40.84036,
          40.873657,
          40.803844,
          40.838203,
          40.834114,
          40.828114,
          40.836018,
          40.82325,
          40.861744,
          40.876995,
          40.810047,
          40.845024,
          40.830975,
          40.82764,
          40.906859999999995,
          40.809734000000006,
          40.876503,
          40.87932,
          40.834995,
          40.836555,
          40.8077,
          40.841187,
          40.82383,
          40.862534000000004,
          40.843204,
          40.88742,
          40.87327,
          40.82942,
          40.819542,
          40.858090000000004,
          40.827273999999996,
          40.85706,
          40.862755,
          40.84047,
          40.833206,
          40.820137,
          40.87121,
          40.871395,
          40.809290000000004,
          40.8451,
          40.828114,
          40.829105,
          40.82802,
          40.823833,
          40.838757,
          40.824432,
          40.817875,
          40.855385,
          40.844105,
          40.843821999999996,
          40.840090000000004,
          40.822559999999996,
          40.90378,
          40.84487,
          40.842853999999996,
          40.868694,
          40.833286,
          40.840775,
          40.87356,
          40.85638,
          40.854588,
          40.84519,
          40.835026,
          40.82802,
          40.845837,
          40.828920000000004,
          40.84506,
          40.856537,
          40.87945,
          40.895195,
          40.82395,
          40.8504,
          40.871117,
          40.826088,
          40.898594,
          40.882923,
          40.851936,
          40.837894,
          40.853706,
          40.846893,
          40.852515999999994,
          40.8451,
          40.828509999999994,
          40.83801,
          40.882767,
          40.901061999999996,
          40.8606,
          40.818954,
          40.8059,
          40.840286,
          40.816615999999996,
          40.865612,
          40.871254,
          40.844524,
          40.843678000000004,
          40.881958000000004,
          40.83142,
          40.86268,
          40.825912,
          40.80405
         ],
         "legendgroup": "BRONX",
         "lon": [
          -73.90436,
          -73.836784,
          -73.91863000000001,
          -73.85862,
          -73.87053,
          -73.91606,
          -73.89264,
          -73.90468,
          -73.924355,
          -73.82836,
          -73.823425,
          -73.92499000000001,
          -73.930695,
          -73.85988,
          -73.91295,
          -73.91226999999999,
          -73.90610500000001,
          -73.89997,
          -73.9166,
          -73.86327,
          -73.91842,
          -73.8736,
          -73.84968,
          -73.93118,
          -73.91699,
          -73.8978,
          -73.87039,
          -73.92611,
          -73.88832,
          -73.899956,
          -73.8498,
          -73.902054,
          -73.88036,
          -73.91619,
          -73.90896,
          -73.82557,
          -73.92858000000001,
          -73.90314000000001,
          -73.826004,
          -73.83641999999999,
          -73.82431,
          -73.87369,
          -73.90741,
          -73.90361999999999,
          -73.92523,
          -73.92341,
          -73.92116,
          -73.931046,
          -73.90729499999999,
          -73.85226,
          -73.88608599999999,
          -73.919106,
          -73.916794,
          -73.8574,
          -73.9313,
          -73.92392,
          -73.92858000000001,
          -73.92523,
          -73.89438,
          -73.903824,
          -73.825165,
          -73.88941,
          -73.90292,
          -73.92486,
          -73.9064,
          -73.90001,
          -73.9105,
          -73.9226,
          -73.92493,
          -73.93028000000001,
          -73.92851,
          -73.8279,
          -73.91494,
          -73.925446,
          -73.88011999999999,
          -73.87910500000001,
          -73.86275,
          -73.90905,
          -73.93028000000001,
          -73.877144,
          -73.918465,
          -73.86314399999999,
          -73.93001600000001,
          -73.92619,
          -73.82023000000001,
          -73.87258,
          -73.9316,
          -73.9275,
          -73.88290400000001,
          -73.92475,
          -73.89503,
          -73.87135,
          -73.86699,
          -73.92228,
          -73.90509,
          -73.91295,
          -73.93122,
          -73.88571999999999,
          -73.93106999999999,
          -73.87135,
          -73.93184000000001,
          -73.90558,
          -73.923485,
          -73.900894,
          -73.87207,
          -73.8699,
          -73.88225,
          -73.92021,
          -73.93106999999999,
          -73.91499,
          -73.913025,
          -73.8214,
          -73.88225,
          -73.923485,
          -73.85970999999999,
          -73.93106999999999,
          -73.92729,
          -73.92341,
          -73.86327,
          -73.871605,
          -73.926636,
          -73.90247,
          -73.87258,
          -73.91745999999999,
          -73.92749,
          -73.904,
          -73.82096999999999,
          -73.90678,
          -73.92926999999999,
          -73.87295,
          -73.890434,
          -73.91444,
          -73.914345,
          -73.93005,
          -73.9138,
          -73.84701,
          -73.91934,
          -73.912704,
          -73.841934,
          -73.92307,
          -73.91417,
          -73.9112,
          -73.87039,
          -73.92071,
          -73.9114,
          -73.88543,
          -73.90593,
          -73.91129000000001,
          -73.91494,
          -73.88221,
          -73.93005,
          -73.87185,
          -73.87245,
          -73.81660500000001,
          -73.89401,
          -73.920265,
          -73.90295,
          -73.905174,
          -73.905174,
          -73.92923,
          -73.91113,
          -73.913765,
          -73.92068,
          -73.89277,
          -73.82591,
          -73.86381999999999,
          -73.9172,
          -73.90729499999999,
          -73.90850999999999,
          -73.89907,
          -73.87204,
          -73.89406600000001,
          -73.91494,
          -73.87899999999999,
          -73.8672,
          -73.9114,
          -73.92856,
          -73.91295,
          -73.825165,
          -73.873604,
          -73.85988,
          -73.846375,
          -73.869896,
          -73.8319,
          -73.92147,
          -73.82664,
          -73.86097,
          -73.82845999999999,
          -73.87910500000001,
          -73.85797,
          -73.91503,
          -73.87039,
          -73.87255,
          -73.87245,
          -73.92714000000001,
          -73.87910500000001,
          -73.8255,
          -73.873,
          -73.89381999999999,
          -73.926384,
          -73.85065,
          -73.87179,
          -73.91699,
          -73.919685,
          -73.91807,
          -73.93106999999999,
          -73.91139,
          -73.8701,
          -73.88229,
          -73.81668,
          -73.835976,
          -73.92414000000001,
          -73.85444,
          -73.917625,
          -73.92238,
          -73.91739,
          -73.92328,
          -73.926384,
          -73.925446,
          -73.869896,
          -73.8507,
          -73.91196,
          -73.82664,
          -73.9097,
          -73.89752,
          -73.93005,
          -73.8531,
          -73.90177,
          -73.913826,
          -73.9154,
          -73.88939,
          -73.89277,
          -73.92147,
          -73.89145,
          -73.87276,
          -73.85970999999999,
          -73.905174,
          -73.88046999999999,
          -73.926384,
          -73.88290400000001,
          -73.89997,
          -73.909386,
          -73.88346999999999,
          -73.90313,
          -73.91073,
          -73.93028000000001,
          -73.91878,
          -73.87803000000001,
          -73.922676,
          -73.87258,
          -73.81668,
          -73.901474,
          -73.898,
          -73.88933,
          -73.83637,
          -73.84241,
          -73.88998000000001,
          -73.862724,
          -73.92631999999999,
          -73.89997,
          -73.86447,
          -73.82579,
          -73.843666,
          -73.82630999999999,
          -73.88011999999999,
          -73.91502,
          -73.87281999999999,
          -73.89864,
          -73.90100000000001,
          -73.81869499999999,
          -73.90292,
          -73.92095,
          -73.89068,
          -73.87377,
          -73.84705,
          -73.901085,
          -73.871864,
          -73.88571999999999,
          -73.87864,
          -73.89752,
          -73.89894,
          -73.90395,
          -73.928764,
          -73.92414000000001,
          -73.928185,
          -73.83748,
          -73.93066999999999,
          -73.92147,
          -73.916885,
          -73.91494,
          -73.90876999999999,
          -73.91762,
          -73.8498,
          -73.91046999999999,
          -73.89811,
          -73.88717,
          -73.905174,
          -73.87946,
          -73.87898,
          -73.86957,
          -73.86275,
          -73.91499,
          -73.8615,
          -73.89083000000001,
          -73.846245,
          -73.90926,
          -73.883896,
          -73.87910500000001,
          -73.88277,
          -73.89632399999999,
          -73.92568,
          -73.85514,
          -73.91494,
          -73.91181999999999,
          -73.916855,
          -73.919106,
          -73.92223,
          -73.84498,
          -73.87145,
          -73.92444,
          -73.9275,
          -73.87329,
          -73.8736,
          -73.90348,
          -73.88595600000001,
          -73.80109399999999,
          -73.93196999999999,
          -73.826004,
          -73.89811,
          -73.90858,
          -73.929276,
          -73.88546,
          -73.84849,
          -73.91091999999999,
          -73.92067,
          -73.83748,
          -73.84928000000001,
          -73.91552,
          -73.90299,
          -73.88138000000001,
          -73.85741999999999,
          -73.88229,
          -73.91936,
          -73.91494,
          -73.86507399999999,
          -73.91619,
          -73.91914,
          -73.85004,
          -73.92447,
          -73.8867,
          -73.82630999999999,
          -73.81660500000001,
          -73.8678,
          -73.93115999999999,
          -73.90266,
          -73.91091999999999,
          -73.86112,
          -73.89786,
          -73.85970999999999,
          -73.85724,
          -73.81529,
          -73.88125600000001,
          -73.92619,
          -73.82557,
          -73.88519000000001,
          -73.84849,
          -73.84789,
          -73.82538000000001,
          -73.90989,
          -73.88008,
          -73.89655,
          -73.871605,
          -73.91552,
          -73.85035,
          -73.93001600000001,
          -73.92856,
          -73.89868,
          -73.87910500000001,
          -73.91807,
          -73.87142,
          -73.91444,
          -73.9302,
          -73.86327,
          -73.93106999999999,
          -73.9243,
          -73.88277,
          -73.911804,
          -73.88184,
          -73.92515,
          -73.92631999999999,
          -73.93209,
          -73.84791,
          -73.904106,
          -73.88333,
          -73.90456400000001,
          -73.869804,
          -73.825,
          -73.87135,
          -73.92955,
          -73.88597,
          -73.87624,
          -73.89708,
          -73.91196,
          -73.89449,
          -73.88,
          -73.91226,
          -73.91353000000001,
          -73.901924,
          -73.904915,
          -73.90469,
          -73.901085,
          -73.886116,
          -73.82797,
          -73.89029000000001,
          -73.854576,
          -73.89308,
          -73.90313,
          -73.91878,
          -73.93106999999999,
          -73.91863000000001,
          -73.93122,
          -73.87807,
          -73.88290400000001,
          -73.873604,
          -73.89333,
          -73.9181,
          -73.898,
          -73.9275,
          -73.88036,
          -73.88755,
          -73.8554,
          -73.92068,
          -73.85,
          -73.90236999999999,
          -73.914085,
          -73.87246,
          -73.81853000000001,
          -73.82630999999999,
          -73.90187,
          -73.9112,
          -73.858086,
          -73.93122,
          -73.8255,
          -73.83717,
          -73.91309,
          -73.87257,
          -73.8844,
          -73.88011999999999,
          -73.82171,
          -73.90697,
          -73.87683,
          -73.86121,
          -73.897095,
          -73.88710999999999,
          -73.91078,
          -73.88138000000001,
          -73.871864,
          -73.92055,
          -73.90001,
          -73.91878,
          -73.88011999999999,
          -73.87329,
          -73.88864000000001,
          -73.86157,
          -73.91102,
          -73.91404,
          -73.92523,
          -73.92147,
          -73.89414000000001,
          -73.80109399999999,
          -73.84355,
          -73.902725,
          -73.87195600000001,
          -73.81660500000001,
          -73.92644,
          -73.90905,
          -73.83646999999999,
          -73.91736999999999
         ],
         "marker": {
          "color": "#35b779"
         },
         "mode": "markers",
         "name": "BRONX",
         "showlegend": true,
         "subplot": "mapbox",
         "type": "scattermapbox"
        },
        {
         "hovertemplate": "BOROUGH=STATEN ISLAND<br>LATITUDE=%{lat}<br>LONGITUDE=%{lon}<extra></extra>",
         "lat": [
          40.60607,
          40.614025,
          40.610676,
          40.63609,
          40.586006,
          40.5953,
          40.61861,
          40.60559,
          40.633790000000005,
          40.551120000000004,
          40.63697,
          40.615307,
          40.63343,
          40.613213,
          40.61132,
          40.58695,
          40.588924,
          40.631954,
          40.63519,
          40.625916,
          40.5385,
          40.608562,
          40.553356,
          40.60812,
          40.588924,
          40.54326,
          40.523125,
          40.607185,
          40.611121999999995,
          40.60855,
          40.525745,
          40.579246999999995,
          40.60595,
          40.615,
          40.622054999999996,
          40.626940000000005,
          40.601246,
          40.53783,
          40.56015,
          40.553486,
          40.607628000000005,
          40.607696999999995,
          40.57925,
          40.637436,
          40.580734,
          40.524612,
          40.60666,
          40.605736,
          40.615395,
          40.62464,
          40.580505,
          40.57323,
          40.57383,
          40.63047,
          40.554085,
          40.518516999999996,
          40.60393,
          40.6367,
          40.61668,
          40.592083,
          40.608852,
          40.608776,
          40.608433000000005,
          40.631157,
          40.582755999999996,
          40.603382,
          40.640021999999995,
          40.514713,
          40.617615,
          40.62577,
          40.628914,
          40.583374,
          40.509679999999996,
          40.518196,
          40.633415,
          40.624912,
          40.61023,
          40.631336,
          40.6229,
          40.630173,
          40.607555,
          40.582947,
          40.624485,
          40.624958,
          40.614853000000004,
          40.593044,
          40.620438,
          40.554534999999994,
          40.624990000000004,
          40.62545,
          40.61054,
          40.560474,
          40.638077,
          40.556618,
          40.62985,
          40.585464,
          40.636837,
          40.624603,
          40.61652,
          40.60235,
          40.63511,
          40.640358,
          40.575645,
          40.606495,
          40.547836,
          40.60092,
          40.636692,
          40.64043,
          40.582287,
          40.61074,
          40.640254999999996,
          40.587223,
          40.621559999999995,
          40.625009999999996,
          40.60862,
          40.578196999999996,
          40.606102,
          40.59981,
          40.598595,
          40.614246,
          40.588924,
          40.607185,
          40.637978000000004,
          40.602920000000005,
          40.57894,
          40.622433,
          40.533157,
          40.618732,
          40.608852,
          40.580616,
          40.588093,
          40.575645,
          40.62851,
          40.588924,
          40.617336,
          40.587826,
          40.540962,
          40.58077,
          40.61242,
          40.604565,
          40.613525,
          40.64499,
          40.595627,
          40.57257,
          40.5953,
          40.562496,
          40.606182000000004,
          40.554672,
          40.62055,
          40.607203999999996,
          40.610541999999995,
          40.60266,
          40.608162,
          40.608852,
          40.628788,
          40.608852,
          40.611313,
          40.77077,
          40.62435,
          40.603962,
          40.625713,
          40.589745,
          40.587585,
          40.607174,
          40.63114,
          40.621258000000005,
          40.537290000000006,
          40.622153999999995,
          40.58502,
          40.618828,
          40.610092,
          40.62631,
          40.550148,
          40.586765,
          40.608222999999995,
          40.597317,
          40.585266,
          40.60576
         ],
         "legendgroup": "STATEN ISLAND",
         "lon": [
          -74.07791999999999,
          -74.08479,
          -74.11101500000001,
          -74.136826,
          -74.16839,
          -74.1619,
          -74.09108,
          -74.13178,
          -74.14278399999999,
          -74.2135,
          -74.14511,
          -74.15799,
          -74.14622,
          -74.14277,
          -74.114716,
          -74.16416,
          -74.167625,
          -74.15340400000001,
          -74.16623,
          -74.13452,
          -74.19778000000001,
          -74.1472,
          -74.13584,
          -74.12111999999999,
          -74.167625,
          -74.19731,
          -74.18848,
          -74.16239,
          -74.11283,
          -74.13216,
          -74.22751,
          -74.16917,
          -74.07601,
          -74.1619,
          -74.15836999999999,
          -74.16427,
          -74.137695,
          -74.19476999999999,
          -74.19968,
          -74.13179000000001,
          -74.15947,
          -74.13305,
          -74.07781,
          -74.17123000000001,
          -74.09776,
          -74.230446,
          -74.13208,
          -74.13000500000001,
          -74.15519,
          -74.14166999999999,
          -74.16933399999999,
          -74.14702,
          -74.12363,
          -74.137856,
          -74.19275999999999,
          -74.19968399999999,
          -74.140564,
          -74.169876,
          -74.15867,
          -74.067955,
          -74.15334,
          -74.09113,
          -74.15544,
          -74.14692,
          -74.13041,
          -74.17315,
          -74.13667,
          -74.24575,
          -74.13574,
          -74.13473499999999,
          -74.13362,
          -74.15767,
          -74.23964000000001,
          -74.2238,
          -74.161674,
          -74.14670600000001,
          -74.10529,
          -74.1478,
          -74.14943000000001,
          -74.13332,
          -74.08711,
          -74.15687,
          -74.07998,
          -74.145775,
          -74.107956,
          -74.15611,
          -74.1672,
          -74.17641400000001,
          -74.14403,
          -74.13627,
          -74.10345500000001,
          -74.16689000000001,
          -74.16230999999999,
          -74.20399499999999,
          -74.16535999999999,
          -74.16152,
          -74.156944,
          -74.079605,
          -74.141624,
          -74.18960600000001,
          -74.14068,
          -74.17237,
          -74.169815,
          -74.16684000000001,
          -74.22036999999999,
          -74.1368,
          -74.085884,
          -74.168144,
          -74.16906999999999,
          -74.09583,
          -74.16603,
          -74.16819,
          -74.16849,
          -74.16144,
          -74.14824,
          -74.11703,
          -74.07983,
          -74.178246,
          -74.12921999999999,
          -74.15379,
          -74.167625,
          -74.16239,
          -74.13799,
          -74.16292,
          -74.15897,
          -74.15001,
          -74.15504,
          -74.17605999999999,
          -74.15334,
          -74.152534,
          -74.19243,
          -74.169815,
          -74.14576,
          -74.167625,
          -74.145065,
          -74.16487,
          -74.18565,
          -74.1094,
          -74.13245,
          -74.13165,
          -74.11685,
          -74.07936,
          -74.184166,
          -74.169876,
          -74.1619,
          -74.15742,
          -74.07613,
          -74.21301,
          -74.16919,
          -74.144356,
          -74.14502,
          -74.18408000000001,
          -74.124985,
          -74.15334,
          -74.15796999999999,
          -74.15334,
          -74.09844,
          -73.91727,
          -74.13927,
          -74.12974,
          -74.14033,
          -74.15016999999999,
          -74.08871500000001,
          -74.0855,
          -74.15796999999999,
          -74.16309,
          -74.22330500000001,
          -74.158325,
          -74.14763,
          -74.1354,
          -74.162285,
          -74.15845999999999,
          -74.18758000000001,
          -74.14617,
          -74.1294,
          -74.18175500000001,
          -74.15045,
          -74.1639
         ],
         "marker": {
          "color": "#b4de2c"
         },
         "mode": "markers",
         "name": "STATEN ISLAND",
         "showlegend": true,
         "subplot": "mapbox",
         "type": "scattermapbox"
        }
       ],
       "layout": {
        "height": 800,
        "legend": {
         "title": {
          "text": "BOROUGH"
         },
         "tracegroupgap": 0
        },
        "mapbox": {
         "bearing": 0,
         "center": {
          "lat": 40.734978260441295,
          "lon": -73.94458260000914
         },
         "domain": {
          "x": [
           0,
           1
          ],
          "y": [
           0,
           1
          ]
         },
         "pitch": 0,
         "style": "carto-positron",
         "zoom": 8.924288782058108
        },
        "template": {
         "data": {
          "bar": [
           {
            "error_x": {
             "color": "#2a3f5f"
            },
            "error_y": {
             "color": "#2a3f5f"
            },
            "marker": {
             "line": {
              "color": "#E5ECF6",
              "width": 0.5
             }
            },
            "type": "bar"
           }
          ],
          "barpolar": [
           {
            "marker": {
             "line": {
              "color": "#E5ECF6",
              "width": 0.5
             }
            },
            "type": "barpolar"
           }
          ],
          "carpet": [
           {
            "aaxis": {
             "endlinecolor": "#2a3f5f",
             "gridcolor": "white",
             "linecolor": "white",
             "minorgridcolor": "white",
             "startlinecolor": "#2a3f5f"
            },
            "baxis": {
             "endlinecolor": "#2a3f5f",
             "gridcolor": "white",
             "linecolor": "white",
             "minorgridcolor": "white",
             "startlinecolor": "#2a3f5f"
            },
            "type": "carpet"
           }
          ],
          "choropleth": [
           {
            "colorbar": {
             "outlinewidth": 0,
             "ticks": ""
            },
            "type": "choropleth"
           }
          ],
          "contour": [
           {
            "colorbar": {
             "outlinewidth": 0,
             "ticks": ""
            },
            "colorscale": [
             [
              0,
              "#0d0887"
             ],
             [
              0.1111111111111111,
              "#46039f"
             ],
             [
              0.2222222222222222,
              "#7201a8"
             ],
             [
              0.3333333333333333,
              "#9c179e"
             ],
             [
              0.4444444444444444,
              "#bd3786"
             ],
             [
              0.5555555555555556,
              "#d8576b"
             ],
             [
              0.6666666666666666,
              "#ed7953"
             ],
             [
              0.7777777777777778,
              "#fb9f3a"
             ],
             [
              0.8888888888888888,
              "#fdca26"
             ],
             [
              1,
              "#f0f921"
             ]
            ],
            "type": "contour"
           }
          ],
          "contourcarpet": [
           {
            "colorbar": {
             "outlinewidth": 0,
             "ticks": ""
            },
            "type": "contourcarpet"
           }
          ],
          "heatmap": [
           {
            "colorbar": {
             "outlinewidth": 0,
             "ticks": ""
            },
            "colorscale": [
             [
              0,
              "#0d0887"
             ],
             [
              0.1111111111111111,
              "#46039f"
             ],
             [
              0.2222222222222222,
              "#7201a8"
             ],
             [
              0.3333333333333333,
              "#9c179e"
             ],
             [
              0.4444444444444444,
              "#bd3786"
             ],
             [
              0.5555555555555556,
              "#d8576b"
             ],
             [
              0.6666666666666666,
              "#ed7953"
             ],
             [
              0.7777777777777778,
              "#fb9f3a"
             ],
             [
              0.8888888888888888,
              "#fdca26"
             ],
             [
              1,
              "#f0f921"
             ]
            ],
            "type": "heatmap"
           }
          ],
          "heatmapgl": [
           {
            "colorbar": {
             "outlinewidth": 0,
             "ticks": ""
            },
            "colorscale": [
             [
              0,
              "#0d0887"
             ],
             [
              0.1111111111111111,
              "#46039f"
             ],
             [
              0.2222222222222222,
              "#7201a8"
             ],
             [
              0.3333333333333333,
              "#9c179e"
             ],
             [
              0.4444444444444444,
              "#bd3786"
             ],
             [
              0.5555555555555556,
              "#d8576b"
             ],
             [
              0.6666666666666666,
              "#ed7953"
             ],
             [
              0.7777777777777778,
              "#fb9f3a"
             ],
             [
              0.8888888888888888,
              "#fdca26"
             ],
             [
              1,
              "#f0f921"
             ]
            ],
            "type": "heatmapgl"
           }
          ],
          "histogram": [
           {
            "marker": {
             "colorbar": {
              "outlinewidth": 0,
              "ticks": ""
             }
            },
            "type": "histogram"
           }
          ],
          "histogram2d": [
           {
            "colorbar": {
             "outlinewidth": 0,
             "ticks": ""
            },
            "colorscale": [
             [
              0,
              "#0d0887"
             ],
             [
              0.1111111111111111,
              "#46039f"
             ],
             [
              0.2222222222222222,
              "#7201a8"
             ],
             [
              0.3333333333333333,
              "#9c179e"
             ],
             [
              0.4444444444444444,
              "#bd3786"
             ],
             [
              0.5555555555555556,
              "#d8576b"
             ],
             [
              0.6666666666666666,
              "#ed7953"
             ],
             [
              0.7777777777777778,
              "#fb9f3a"
             ],
             [
              0.8888888888888888,
              "#fdca26"
             ],
             [
              1,
              "#f0f921"
             ]
            ],
            "type": "histogram2d"
           }
          ],
          "histogram2dcontour": [
           {
            "colorbar": {
             "outlinewidth": 0,
             "ticks": ""
            },
            "colorscale": [
             [
              0,
              "#0d0887"
             ],
             [
              0.1111111111111111,
              "#46039f"
             ],
             [
              0.2222222222222222,
              "#7201a8"
             ],
             [
              0.3333333333333333,
              "#9c179e"
             ],
             [
              0.4444444444444444,
              "#bd3786"
             ],
             [
              0.5555555555555556,
              "#d8576b"
             ],
             [
              0.6666666666666666,
              "#ed7953"
             ],
             [
              0.7777777777777778,
              "#fb9f3a"
             ],
             [
              0.8888888888888888,
              "#fdca26"
             ],
             [
              1,
              "#f0f921"
             ]
            ],
            "type": "histogram2dcontour"
           }
          ],
          "mesh3d": [
           {
            "colorbar": {
             "outlinewidth": 0,
             "ticks": ""
            },
            "type": "mesh3d"
           }
          ],
          "parcoords": [
           {
            "line": {
             "colorbar": {
              "outlinewidth": 0,
              "ticks": ""
             }
            },
            "type": "parcoords"
           }
          ],
          "pie": [
           {
            "automargin": true,
            "type": "pie"
           }
          ],
          "scatter": [
           {
            "marker": {
             "colorbar": {
              "outlinewidth": 0,
              "ticks": ""
             }
            },
            "type": "scatter"
           }
          ],
          "scatter3d": [
           {
            "line": {
             "colorbar": {
              "outlinewidth": 0,
              "ticks": ""
             }
            },
            "marker": {
             "colorbar": {
              "outlinewidth": 0,
              "ticks": ""
             }
            },
            "type": "scatter3d"
           }
          ],
          "scattercarpet": [
           {
            "marker": {
             "colorbar": {
              "outlinewidth": 0,
              "ticks": ""
             }
            },
            "type": "scattercarpet"
           }
          ],
          "scattergeo": [
           {
            "marker": {
             "colorbar": {
              "outlinewidth": 0,
              "ticks": ""
             }
            },
            "type": "scattergeo"
           }
          ],
          "scattergl": [
           {
            "marker": {
             "colorbar": {
              "outlinewidth": 0,
              "ticks": ""
             }
            },
            "type": "scattergl"
           }
          ],
          "scattermapbox": [
           {
            "marker": {
             "colorbar": {
              "outlinewidth": 0,
              "ticks": ""
             }
            },
            "type": "scattermapbox"
           }
          ],
          "scatterpolar": [
           {
            "marker": {
             "colorbar": {
              "outlinewidth": 0,
              "ticks": ""
             }
            },
            "type": "scatterpolar"
           }
          ],
          "scatterpolargl": [
           {
            "marker": {
             "colorbar": {
              "outlinewidth": 0,
              "ticks": ""
             }
            },
            "type": "scatterpolargl"
           }
          ],
          "scatterternary": [
           {
            "marker": {
             "colorbar": {
              "outlinewidth": 0,
              "ticks": ""
             }
            },
            "type": "scatterternary"
           }
          ],
          "surface": [
           {
            "colorbar": {
             "outlinewidth": 0,
             "ticks": ""
            },
            "colorscale": [
             [
              0,
              "#0d0887"
             ],
             [
              0.1111111111111111,
              "#46039f"
             ],
             [
              0.2222222222222222,
              "#7201a8"
             ],
             [
              0.3333333333333333,
              "#9c179e"
             ],
             [
              0.4444444444444444,
              "#bd3786"
             ],
             [
              0.5555555555555556,
              "#d8576b"
             ],
             [
              0.6666666666666666,
              "#ed7953"
             ],
             [
              0.7777777777777778,
              "#fb9f3a"
             ],
             [
              0.8888888888888888,
              "#fdca26"
             ],
             [
              1,
              "#f0f921"
             ]
            ],
            "type": "surface"
           }
          ],
          "table": [
           {
            "cells": {
             "fill": {
              "color": "#EBF0F8"
             },
             "line": {
              "color": "white"
             }
            },
            "header": {
             "fill": {
              "color": "#C8D4E3"
             },
             "line": {
              "color": "white"
             }
            },
            "type": "table"
           }
          ]
         },
         "layout": {
          "annotationdefaults": {
           "arrowcolor": "#2a3f5f",
           "arrowhead": 0,
           "arrowwidth": 1
          },
          "autotypenumbers": "strict",
          "coloraxis": {
           "colorbar": {
            "outlinewidth": 0,
            "ticks": ""
           }
          },
          "colorscale": {
           "diverging": [
            [
             0,
             "#8e0152"
            ],
            [
             0.1,
             "#c51b7d"
            ],
            [
             0.2,
             "#de77ae"
            ],
            [
             0.3,
             "#f1b6da"
            ],
            [
             0.4,
             "#fde0ef"
            ],
            [
             0.5,
             "#f7f7f7"
            ],
            [
             0.6,
             "#e6f5d0"
            ],
            [
             0.7,
             "#b8e186"
            ],
            [
             0.8,
             "#7fbc41"
            ],
            [
             0.9,
             "#4d9221"
            ],
            [
             1,
             "#276419"
            ]
           ],
           "sequential": [
            [
             0,
             "#0d0887"
            ],
            [
             0.1111111111111111,
             "#46039f"
            ],
            [
             0.2222222222222222,
             "#7201a8"
            ],
            [
             0.3333333333333333,
             "#9c179e"
            ],
            [
             0.4444444444444444,
             "#bd3786"
            ],
            [
             0.5555555555555556,
             "#d8576b"
            ],
            [
             0.6666666666666666,
             "#ed7953"
            ],
            [
             0.7777777777777778,
             "#fb9f3a"
            ],
            [
             0.8888888888888888,
             "#fdca26"
            ],
            [
             1,
             "#f0f921"
            ]
           ],
           "sequentialminus": [
            [
             0,
             "#0d0887"
            ],
            [
             0.1111111111111111,
             "#46039f"
            ],
            [
             0.2222222222222222,
             "#7201a8"
            ],
            [
             0.3333333333333333,
             "#9c179e"
            ],
            [
             0.4444444444444444,
             "#bd3786"
            ],
            [
             0.5555555555555556,
             "#d8576b"
            ],
            [
             0.6666666666666666,
             "#ed7953"
            ],
            [
             0.7777777777777778,
             "#fb9f3a"
            ],
            [
             0.8888888888888888,
             "#fdca26"
            ],
            [
             1,
             "#f0f921"
            ]
           ]
          },
          "colorway": [
           "#636efa",
           "#EF553B",
           "#00cc96",
           "#ab63fa",
           "#FFA15A",
           "#19d3f3",
           "#FF6692",
           "#B6E880",
           "#FF97FF",
           "#FECB52"
          ],
          "font": {
           "color": "#2a3f5f"
          },
          "geo": {
           "bgcolor": "white",
           "lakecolor": "white",
           "landcolor": "#E5ECF6",
           "showlakes": true,
           "showland": true,
           "subunitcolor": "white"
          },
          "hoverlabel": {
           "align": "left"
          },
          "hovermode": "closest",
          "mapbox": {
           "style": "light"
          },
          "paper_bgcolor": "white",
          "plot_bgcolor": "#E5ECF6",
          "polar": {
           "angularaxis": {
            "gridcolor": "white",
            "linecolor": "white",
            "ticks": ""
           },
           "bgcolor": "#E5ECF6",
           "radialaxis": {
            "gridcolor": "white",
            "linecolor": "white",
            "ticks": ""
           }
          },
          "scene": {
           "xaxis": {
            "backgroundcolor": "#E5ECF6",
            "gridcolor": "white",
            "gridwidth": 2,
            "linecolor": "white",
            "showbackground": true,
            "ticks": "",
            "zerolinecolor": "white"
           },
           "yaxis": {
            "backgroundcolor": "#E5ECF6",
            "gridcolor": "white",
            "gridwidth": 2,
            "linecolor": "white",
            "showbackground": true,
            "ticks": "",
            "zerolinecolor": "white"
           },
           "zaxis": {
            "backgroundcolor": "#E5ECF6",
            "gridcolor": "white",
            "gridwidth": 2,
            "linecolor": "white",
            "showbackground": true,
            "ticks": "",
            "zerolinecolor": "white"
           }
          },
          "shapedefaults": {
           "line": {
            "color": "#2a3f5f"
           }
          },
          "ternary": {
           "aaxis": {
            "gridcolor": "white",
            "linecolor": "white",
            "ticks": ""
           },
           "baxis": {
            "gridcolor": "white",
            "linecolor": "white",
            "ticks": ""
           },
           "bgcolor": "#E5ECF6",
           "caxis": {
            "gridcolor": "white",
            "linecolor": "white",
            "ticks": ""
           }
          },
          "title": {
           "x": 0.05
          },
          "xaxis": {
           "automargin": true,
           "gridcolor": "white",
           "linecolor": "white",
           "ticks": "",
           "title": {
            "standoff": 15
           },
           "zerolinecolor": "white",
           "zerolinewidth": 2
          },
          "yaxis": {
           "automargin": true,
           "gridcolor": "white",
           "linecolor": "white",
           "ticks": "",
           "title": {
            "standoff": 15
           },
           "zerolinecolor": "white",
           "zerolinewidth": 2
          }
         }
        },
        "title": {
         "text": "Imputed Boroughs (2500 points plotted)"
        },
        "width": 800
       }
      },
      "image/png": "[encoded data removed]",
      "text/html": [
       "<div>                            <div id=\"eeabce07-4d76-4d64-817b-79a010b1394c\" class=\"plotly-graph-div\" style=\"height:800px; width:800px;\"></div>            <script type=\"text/javascript\">                require([\"plotly\"], function(Plotly) {                    window.PLOTLYENV=window.PLOTLYENV || {};                                    if (document.getElementById(\"eeabce07-4d76-4d64-817b-79a010b1394c\")) {                    Plotly.newPlot(                        \"eeabce07-4d76-4d64-817b-79a010b1394c\",                        [{\"hovertemplate\": \"BOROUGH=BROOKLYN<br>LATITUDE=%{lat}<br>LONGITUDE=%{lon}<extra></extra>\", \"lat\": [40.69597, 40.651863, 40.691227000000005, 40.688572, 40.608128, 40.690453000000005, 40.674786, 40.702614000000004, 40.693573, 40.64266, 40.638897, 40.694305, 40.6026, 40.642254, 40.584976, 40.584324, 40.676693, 40.69299, 40.683659999999996, 40.577995, 40.694687, 40.681446, 40.639977, 40.630577, 40.679276, 40.651863, 40.634945, 40.643776, 40.715472999999996, 40.607243, 40.677525, 40.71976, 40.666294, 40.69321, 40.678234, 40.695004, 40.583534, 40.696674, 40.694126000000004, 40.639294, 40.70042, 40.651325, 40.58562, 40.607655, 40.582874, 40.675323, 40.644040000000004, 40.58493, 40.63948, 40.634506, 40.676807000000004, 40.66077, 40.66235, 40.689102, 40.701409999999996, 40.693573, 40.677338, 40.700103999999996, 40.694687, 40.598392, 40.68871, 40.65477, 40.67341, 40.598312, 40.664375, 40.583057000000004, 40.687782, 40.688904, 40.703724, 40.585037, 40.602646, 40.69312, 40.60307, 40.663727, 40.654635999999996, 40.676838000000004, 40.699715000000005, 40.686226, 40.678394, 40.661743, 40.695004, 40.697604999999996, 40.675734999999996, 40.672447, 40.586124, 40.656944, 40.687138, 40.64213, 40.69149, 40.5832, 40.657314, 40.700577, 40.67989, 40.582874, 40.669456, 40.693405, 40.669823, 40.69822, 40.669476, 40.636086, 40.72227, 40.641746999999995, 40.68138, 40.651140000000005, 40.68039, 40.68777, 40.679634, 40.70324, 40.662846, 40.696663, 40.709441999999996, 40.665203000000005, 40.584070000000004, 40.69168, 40.696197999999995, 40.593990000000005, 40.58552, 40.62368, 40.692593, 40.680035, 40.65039, 40.695114000000004, 40.671318, 40.646687, 40.603584000000005, 40.649155, 40.69578, 40.673107, 40.700726, 40.692146, 40.673559999999995, 40.69168, 40.66807, 40.613895, 40.660470000000004, 40.674004, 40.666878000000004, 40.680640000000004, 40.699954999999996, 40.683544, 40.696003000000005, 40.58872, 40.649390000000004, 40.70324, 40.6958, 40.669403, 40.686577, 40.702614000000004, 40.672062, 40.697247, 40.678234, 40.62707, 40.69993, 40.584773999999996, 40.627309999999994, 40.676884, 40.66813, 40.61821, 40.699978, 40.715176, 40.645073, 40.714104, 40.67308, 40.592422, 40.692974, 40.65994, 40.714059999999996, 40.682186, 40.651863, 40.678394, 40.641506, 40.697186, 40.702312, 40.677624, 40.687977000000004, 40.60817, 40.584557000000004, 40.69174, 40.630577, 40.69168, 40.667770000000004, 40.635684999999995, 40.703545, 40.656063, 40.670006, 40.69299, 40.67693, 40.713974, 40.626907, 40.63932, 40.669703999999996, 40.6527, 40.696003000000005, 40.582687, 40.67765, 40.68473, 40.636208, 40.58466, 40.695995, 40.609653, 40.583664, 40.665245, 40.683240000000005, 40.66322, 40.672333, 40.637446999999995, 40.692440000000005, 40.65605, 40.648716, 40.675385, 40.581345, 40.668797, 40.672558, 40.66703, 40.584282, 40.678543, 40.67873, 40.722576000000004, 40.680240000000005, 40.61739, 40.693638, 40.60567, 40.678709999999995, 40.65605, 40.59925, 40.59779, 40.700546, 40.681564, 40.666595, 40.584773999999996, 40.585136, 40.665092, 40.630234, 40.63082, 40.645255999999996, 40.735157, 40.583626, 40.654358, 40.63043, 40.678257, 40.61626, 40.648182, 40.646152, 40.62368, 40.586117, 40.60455, 40.678096999999994, 40.586117, 40.680313, 40.687782, 40.698265, 40.670190000000005, 40.700835999999995, 40.68039, 40.63645, 40.697254, 40.65534, 40.70711, 40.68716, 40.585056, 40.682846000000005, 40.625546, 40.69412, 40.690647, 40.695995, 40.67505, 40.699715000000005, 40.66077, 40.58794, 40.672886, 40.63667, 40.5832, 40.687126, 40.688765999999994, 40.6743, 40.579826000000004, 40.643875, 40.6742, 40.641342, 40.66733, 40.671585, 40.69831, 40.584522, 40.644546999999996, 40.606148, 40.705605, 40.650944, 40.6929, 40.64666, 40.689598, 40.66733, 40.680214, 40.645309999999995, 40.670466999999995, 40.64477, 40.674735999999996, 40.700356, 40.700424, 40.691807, 40.696228000000005, 40.675632, 40.69365, 40.669563000000004, 40.66172, 40.656259999999996, 40.65344, 40.648182, 40.702618, 40.62106, 40.702618, 40.704716, 40.698409999999996, 40.66767, 40.598729999999996, 40.64712, 40.690594, 40.677483, 40.636146999999994, 40.70145, 40.60481, 40.683037, 40.657092999999996, 40.691536, 40.698772, 40.695965, 40.708965, 40.627983, 40.6089, 40.68708, 40.703243, 40.60373, 40.6772, 40.654213, 40.696213, 40.599716, 40.644141999999995, 40.58425, 40.658120000000004, 40.691536, 40.667015, 40.701958000000005, 40.622414, 40.68342, 40.60307, 40.680640000000004, 40.61718, 40.575336, 40.69986, 40.6867, 40.68738, 40.676871999999996, 40.669403, 40.614788, 40.606346, 40.663555, 40.69168, 40.671772, 40.70409, 40.668964, 40.594615999999995, 40.583057000000004, 40.69325, 40.652390000000004, 40.709183, 40.713974, 40.608078000000006, 40.677174, 40.663555, 40.667683000000004, 40.610077000000004, 40.644432, 40.706573, 40.596542, 40.687077, 40.68796, 40.65563, 40.630577, 40.6414, 40.680504, 40.607243, 40.676120000000004, 40.70775, 40.620020000000004, 40.68039, 40.633152, 40.602028000000004, 40.69015, 40.64144, 40.697309999999995, 40.702953, 40.643184999999995, 40.586117, 40.598392, 40.6967, 40.63665, 40.68727, 40.718987, 40.64332, 40.650504999999995, 40.68175, 40.720245, 40.681340000000006, 40.67004, 40.649277000000005, 40.698544, 40.666866, 40.6862, 40.680664, 40.699627, 40.72738, 40.655421999999994, 40.671787, 40.691097, 40.63552, 40.72165, 40.67279, 40.666579999999996, 40.67628, 40.70791, 40.58425, 40.59455, 40.689859999999996, 40.696166999999996, 40.651973999999996, 40.642540000000004, 40.672607, 40.60317, 40.693203000000004, 40.675323, 40.669734999999996, 40.652145000000004, 40.670124, 40.651512, 40.68789, 40.64165, 40.70476, 40.699024, 40.645070000000004, 40.58493, 40.63552, 40.669228000000004, 40.696354, 40.686996, 40.648308, 40.714104, 40.591045, 40.67637, 40.689228, 40.669636, 40.679787, 40.66169, 40.655575, 40.660297, 40.67582, 40.71976, 40.678394, 40.66796, 40.623886, 40.705482, 40.669548, 40.659405, 40.666595, 40.660072, 40.67973, 40.688614, 40.605072, 40.628116999999996, 40.687668, 40.67385, 40.71445, 40.659584, 40.680473, 40.696785, 40.664227000000004, 40.71976, 40.651973999999996, 40.695114000000004, 40.65743, 40.643786999999996, 40.64311, 40.64647, 40.699158000000004, 40.695927000000005, 40.70239, 40.645109999999995, 40.669403, 40.58464, 40.6606, 40.609512, 40.69657, 40.631836, 40.645109999999995, 40.646328000000004, 40.678596, 40.693905, 40.585037, 40.630790000000005, 40.60307, 40.682102, 40.702614000000004, 40.692935999999996, 40.61913, 40.690544, 40.63459, 40.664642, 40.66345, 40.639256, 40.67944, 40.637997, 40.706703000000005, 40.70091, 40.653088000000004, 40.68892, 40.67342, 40.69168, 40.642384, 40.639637, 40.658577, 40.57343, 40.680504, 40.68949, 40.675323, 40.699818, 40.585056, 40.681126, 40.658253, 40.671585, 40.681805, 40.69891, 40.63082, 40.64983, 40.695133, 40.653503, 40.646152, 40.64953, 40.649440000000006, 40.682507, 40.718678000000004, 40.690758, 40.679367, 40.630577, 40.677834000000004, 40.678574, 40.651973999999996, 40.59987, 40.703045, 40.703934000000004, 40.63082, 40.696556, 40.670887, 40.573013, 40.67624, 40.646152, 40.668797, 40.677772999999995, 40.704209999999996, 40.69336, 40.651973999999996, 40.671925, 40.674255, 40.618958, 40.64632, 40.651973999999996, 40.6642, 40.651352, 40.60301, 40.654984000000006, 40.691159999999996, 40.596123, 40.634724, 40.67798, 40.673782, 40.677917, 40.648243, 40.584625, 40.67689, 40.650528, 40.652367, 40.681090000000005, 40.69701, 40.67624, 40.670429999999996, 40.685028, 40.728016, 40.678722, 40.67866, 40.6266, 40.688904, 40.69015, 40.700835999999995, 40.606246999999996, 40.68708, 40.664229999999996, 40.694557, 40.66748, 40.696674, 40.692935999999996, 40.600204, 40.662085999999995, 40.586529999999996, 40.584755, 40.697582000000004, 40.640034, 40.69015, 40.688765999999994, 40.668293, 40.696144, 40.64606, 40.663605, 40.696296999999994, 40.700356, 40.5743, 40.691, 40.72651, 40.675734999999996, 40.63043, 40.668495, 40.68719, 40.673565, 40.617, 40.677624, 40.680504, 40.664229999999996, 40.676190000000005, 40.642540000000004, 40.700053999999994, 40.645109999999995, 40.703934000000004, 40.711864, 40.703934000000004, 40.68578, 40.693573, 40.661995000000005, 40.664229999999996, 40.58464, 40.700108, 40.66495, 40.6972, 40.58343, 40.707027000000004, 40.698640000000005, 40.700775, 40.693573, 40.651546, 40.6323, 40.617090000000005, 40.651973999999996, 40.725998, 40.6802, 40.65487, 40.699295, 40.67765, 40.679485, 40.672604, 40.693287, 40.695995, 40.674, 40.680640000000004, 40.674409999999995, 40.636990000000004, 40.677048, 40.642174, 40.67315, 40.659335999999996, 40.705677, 40.654976, 40.62707, 40.66235, 40.636547, 40.58665, 40.69299, 40.693523, 40.703934000000004, 40.695927000000005, 40.675236, 40.6427, 40.696556, 40.669403, 40.69608, 40.642540000000004, 40.60567, 40.667683000000004, 40.67181, 40.677155, 40.651863, 40.622085999999996, 40.677025, 40.675663, 40.69655, 40.667164, 40.69608, 40.711643, 40.682507, 40.657092999999996, 40.66434, 40.608906, 40.695004, 40.696087, 40.700726, 40.63043, 40.663727, 40.646515, 40.696117, 40.656259999999996, 40.689674, 40.70165, 40.647526, 40.679787, 40.624813, 40.66953, 40.65207, 40.600838, 40.677025, 40.611404, 40.69168, 40.68945, 40.652640000000005, 40.663555, 40.679955, 40.60548, 40.67582, 40.666695000000004, 40.59981, 40.689133, 40.63682, 40.686264, 40.682037, 40.683647, 40.669273, 40.701527, 40.674572, 40.67004], \"legendgroup\": \"BROOKLYN\", \"lon\": [-73.91337, -73.86536, -73.98214, -73.991104, -73.98738, -73.91176, -73.8762, -73.96058000000001, -73.92275, -74.00929000000001, -73.96982, -73.91852, -74.01491, -73.92742, -73.9434, -73.91604, -74.0021, -73.95583, -73.90788, -73.95964000000001, -73.95521, -73.94644, -73.9262, -73.88591, -73.92905999999999, -73.86536, -73.9325, -74.008125, -73.95185, -73.98725999999999, -73.96371500000001, -73.94476, -73.89445, -73.91256, -73.89753, -73.9525, -73.984184, -73.957535, -73.87687, -74.01279, -73.93451999999999, -73.93906, -73.95486, -74.01703, -73.98053, -73.86332, -73.877525, -73.95269, -74.01617399999999, -73.949455, -73.95576, -73.91975, -73.95082, -73.94507, -73.98864, -73.92275, -73.927536, -73.94726, -73.91112, -73.90629, -73.95499000000001, -74.00708, -73.93348, -73.96119, -73.92376, -73.973114, -73.91906999999999, -73.98093399999999, -73.95979, -73.95645, -74.00746, -73.96882, -74.01666999999999, -73.95385999999999, -73.97856, -73.91830999999999, -73.96181999999999, -73.9124, -73.94691999999999, -73.94784, -73.9525, -73.92962, -73.89686, -73.89213000000001, -73.99071500000001, -73.88082, -73.987434, -73.92936, -73.92557, -73.97304, -73.88864000000001, -73.98483, -73.94034, -73.98053, -73.86284, -73.90886, -73.90981, -73.943954, -73.919975, -73.95091, -73.9411, -74.013824, -73.95352, -73.89, -73.94955999999999, -73.98701, -73.94959, -73.92615, -73.94284, -73.98085, -73.9607, -73.90184, -73.92344, -73.99965, -73.98869, -73.9962, -73.941925, -73.99772, -73.91551, -73.9055, -74.00851, -73.93194, -73.890884, -73.95413, -74.01841999999999, -74.01293000000001, -73.917076, -73.99959, -73.94194, -73.919464, -73.93627, -73.999344, -73.950676, -73.99219000000001, -73.998024, -73.94455, -73.94521999999999, -73.89672, -73.98682, -74.00176, -73.9299, -73.99234, -73.975296, -73.92615, -73.99824, -73.94221, -73.947464, -73.96058000000001, -73.925255, -73.932846, -73.89753, -74.01865, -73.96188000000001, -73.96011, -74.00373, -73.91923, -73.93675, -73.89728000000001, -73.98779, -73.951965, -73.97438000000001, -73.95322, -73.91124, -73.99508, -73.90811, -73.95347, -73.95291999999999, -73.86981999999999, -73.86536, -73.94691999999999, -74.02111, -73.92884000000001, -73.94465, -73.93308, -73.95483399999999, -73.98735, -73.950874, -73.91401, -73.88591, -73.99965, -73.94514000000001, -74.012955, -73.93174, -73.93956999999999, -73.95328, -73.95583, -74.00211, -73.953094, -73.89165, -74.02356, -73.94774, -73.956055, -73.9299, -73.97671, -73.949776, -74.00102, -73.94899000000001, -73.95085999999999, -73.96741999999999, -73.91145, -73.98656, -73.87513, -73.9439, -73.893654, -73.901764, -74.01997, -73.94863000000001, -73.92361, -73.92139, -73.95336999999999, -73.96283000000001, -73.93113000000001, -73.99883, -73.94799, -73.917854, -73.94968399999999, -73.932976, -73.94049, -73.946754, -73.99194, -73.913315, -74.03094499999999, -73.86701, -73.92361, -73.952614, -73.946236, -73.917076, -73.89432, -73.87176, -73.96011, -73.945564, -73.87063, -74.01685, -73.88636, -73.874954, -73.95508000000001, -73.98406999999999, -73.91915999999999, -73.88593, -74.002235, -73.99309000000001, -73.93001, -73.879875, -73.99772, -73.93604, -73.94752, -74.00235, -73.93604, -73.94332, -73.91906999999999, -73.93399000000001, -73.93935, -73.99495, -73.94955999999999, -74.01575, -73.91563000000001, -73.96070999999999, -73.95671999999999, -73.93588000000001, -73.928894, -73.95382, -73.93998, -73.96016999999999, -73.90805, -73.96741999999999, -73.95639, -73.96181999999999, -73.89551, -73.97429, -73.99922, -74.02566999999999, -73.97304, -73.99361400000001, -73.99906999999999, -73.93339, -73.97622, -74.01886999999999, -73.999985, -74.02955, -73.95353, -73.99843, -73.9498, -73.949, -74.01091, -73.97737, -73.94627, -73.905975, -73.928055, -73.954865, -73.91025, -73.95353, -73.94628, -73.94608000000001, -73.8659, -73.954735, -73.925, -73.912575, -73.9444, -73.918625, -73.97348000000001, -73.89878, -73.98333000000001, -73.88319, -74.00010999999999, -73.950165, -73.97748, -74.02147, -73.9291, -73.95447, -73.9291, -73.92875, -73.913315, -73.92845, -73.95734, -74.01528, -73.95161999999999, -73.93033, -73.99096999999999, -73.98962399999999, -74.023964, -73.9261, -73.95026, -73.99911999999999, -73.92233, -73.96642, -73.95673000000001, -73.92493, -74.03465, -73.913895, -73.99068, -73.9968, -73.94147, -73.91776, -73.97528, -74.00213000000001, -73.957924, -73.9638, -73.93400600000001, -73.99911999999999, -73.9313, -73.9239, -73.896484, -73.982, -74.01666999999999, -73.89672, -74.03877, -73.996445, -73.98458000000001, -73.9982, -73.92089, -73.94985, -73.94221, -73.94658000000001, -73.95273, -73.93162, -73.99965, -73.93641, -73.92765, -73.87666, -73.99743000000001, -73.973114, -73.972916, -73.92655, -73.956825, -73.953094, -73.97970600000001, -73.924774, -73.93162, -73.99608, -74.00731999999999, -73.9296, -73.922874, -74.00247, -73.92355, -73.94194, -73.92596, -73.88591, -74.02125, -73.8829, -73.98725999999999, -73.93600500000001, -73.932304, -73.941734, -73.94955999999999, -74.01639, -73.99857, -73.99864000000001, -74.02960999999999, -73.93227399999999, -73.91705999999999, -73.94974, -73.93604, -73.90629, -73.91031, -73.96805, -73.9102, -73.94635, -74.01945, -74.01172, -73.96748000000001, -73.9444, -73.96549, -73.93658, -73.94360999999999, -73.96236, -73.92853000000001, -73.950745, -73.902626, -73.923836, -73.94575, -73.95007, -73.95311, -73.927704, -74.0167, -73.94196, -73.922226, -73.89253000000001, -73.892166, -73.945015, -73.9638, -73.997574, -73.95147, -73.97721, -73.86542, -73.87652, -73.89992, -73.960075, -73.95399499999999, -73.86332, -73.93104, -73.95916, -73.95528, -74.00734, -73.90724, -73.879196, -73.91996, -73.91623, -73.95803000000001, -73.91434, -74.0167, -73.9556, -73.94071, -73.95685, -74.01411999999999, -73.95322, -73.99207, -73.88323000000001, -73.957, -73.96195, -73.93844, -73.88757, -73.926895, -73.94768499999999, -73.93046600000001, -73.94476, -73.94691999999999, -73.87009, -73.89559, -73.92826, -73.911674, -73.9505, -73.87176, -73.93974, -73.9374, -73.99943499999999, -74.004944, -73.956856, -73.951035, -73.90024, -73.9306, -74.00247, -73.9614, -73.95659, -73.94547, -73.94476, -73.86542, -73.93194, -73.9451, -74.018845, -74.016075, -74.01258, -73.92705500000001, -73.96776, -73.924644, -73.874886, -73.94221, -73.96016999999999, -73.92092, -73.98957, -73.95844, -73.94463, -73.874886, -73.91275999999999, -73.882416, -73.94892, -73.95645, -73.94552, -74.01666999999999, -73.94077, -73.96058000000001, -73.87777, -73.99019, -73.95859, -73.93825, -73.93708000000001, -73.94554000000001, -73.968796, -73.89714000000001, -74.02136, -73.935715, -73.92609399999999, -73.88551, -73.99915, -73.95017, -73.999344, -73.92539000000001, -73.91533000000001, -73.89063, -73.99175, -73.92857, -73.92206999999999, -73.86332, -73.920135, -73.928894, -73.96446, -73.98465, -73.99843, -73.94986999999999, -73.93078, -73.88636, -74.00909, -73.875916, -73.935425, -73.879875, -73.91633, -73.96308, -73.94375, -73.9405, -73.99624, -73.931335, -73.88591, -73.88509, -74.00358, -73.86542, -74.00839, -73.92985, -73.959854, -73.88636, -73.98091, -73.93649, -73.993835, -73.866104, -73.879875, -73.93113000000001, -73.93587, -73.96121, -73.97585, -73.86542, -73.93918599999999, -73.87989, -74.02404, -73.92981, -73.86542, -73.92941, -73.89275, -74.01688399999999, -74.00711, -73.93369, -74.00068, -74.01642, -73.872116, -73.87405, -73.93861, -74.014114, -73.94713, -73.90005500000001, -73.95583, -73.88229, -73.90338, -73.99136999999999, -73.866104, -73.928185, -73.94135, -73.83175, -73.952995, -73.907234, -73.98271, -73.98093399999999, -73.99864000000001, -73.98594, -73.97645, -73.913895, -73.919106, -73.94325, -73.92188, -73.957535, -73.87777, -74.00284, -73.88248, -73.911224, -73.94712, -73.94965, -73.877945, -73.99864000000001, -73.99906999999999, -73.93952, -73.97834, -74.01648, -73.934395, -73.97716, -73.912575, -73.98867, -73.989334, -73.93055, -73.89686, -73.88593, -73.925606, -73.974625, -73.90788, -73.947, -73.93308, -73.8829, -73.919106, -73.9081, -73.87652, -73.92459000000001, -73.874886, -73.959854, -73.955536, -73.959854, -73.9544, -73.92275, -73.91959, -73.919106, -73.96016999999999, -73.95383000000001, -73.99335500000001, -73.952934, -73.97309, -73.9236, -73.93819, -73.91334, -73.92275, -73.95257, -73.93701999999999, -73.91895, -73.86542, -73.950035, -73.953285, -73.96191, -73.9543, -73.87058, -73.897026, -73.993385, -73.97386, -73.96741999999999, -74.000275, -73.95338000000001, -73.991875, -73.92013, -73.9387, -74.02064, -73.896194, -73.92726, -73.92609399999999, -73.936554, -74.01865, -73.95082, -73.92584000000001, -73.93445600000001, -73.95583, -73.9522, -73.959854, -73.96776, -73.97106, -73.87661, -73.98091, -73.912605, -73.9694, -73.87652, -74.03094499999999, -73.99608, -73.998795, -73.86887, -73.86536, -74.02865, -73.95268, -73.9277, -73.90576999999999, -73.93406999999999, -73.9694, -73.94391999999999, -73.94375, -73.95026, -73.93155, -74.03452, -73.9525, -73.97533, -73.94194, -73.88593, -73.95385999999999, -73.958115, -73.97043599999999, -73.950165, -73.96614, -73.99149, -73.89469, -73.93844, -73.89446, -73.90295400000001, -74.00676, -73.98125, -73.95268, -74.00952, -73.999344, -73.96809, -73.949776, -73.93162, -73.97491, -73.93921999999999, -73.93046600000001, -73.961624, -74.00856999999999, -73.951324, -73.90218, -73.9567, -73.87788, -73.94688000000001, -73.922554, -73.98957, -73.96314, -73.93658], \"marker\": {\"color\": \"#440154\"}, \"mode\": \"markers\", \"name\": \"BROOKLYN\", \"showlegend\": true, \"subplot\": \"mapbox\", \"type\": \"scattermapbox\"}, {\"hovertemplate\": \"BOROUGH=MANHATTAN<br>LATITUDE=%{lat}<br>LONGITUDE=%{lon}<extra></extra>\", \"lat\": [40.843246, 40.8651, 40.820827, 40.768875, 40.811203000000006, 40.831978, 40.78832, 40.79525, 40.86758, 40.835159999999995, 40.821262, 40.818016, 40.806343, 40.866333000000004, 40.722324, 40.835159999999995, 40.797447, 40.869076, 40.78515, 40.72225, 40.791405, 40.779922, 40.79826, 40.788795, 40.82451, 40.821068, 40.72551, 40.783333, 40.788906, 40.725674, 40.79676, 40.81394, 40.85519, 40.78503, 40.710716, 40.809692, 40.78363, 40.772865, 40.821636, 40.826427, 40.808859999999996, 40.82653, 40.71741, 40.796738, 40.86357, 40.716194, 40.7861, 40.720936, 40.736965000000005, 40.782959999999996, 40.783333, 40.819140000000004, 40.851093, 40.805737, 40.712902, 40.81751, 40.788959999999996, 40.841029999999996, 40.810062, 40.790905, 40.773006, 40.737922999999995, 40.761234, 40.761234, 40.82413, 40.795383, 40.771285999999996, 40.830220000000004, 40.75991, 40.758327, 40.758309999999994, 40.806847, 40.830845000000004, 40.793324, 40.761272, 40.855427, 40.814632, 40.789734, 40.76812, 40.772156, 40.760490000000004, 40.862922999999995, 40.822163, 40.795464, 40.783245, 40.789623, 40.735347999999995, 40.79976, 40.701786, 40.8047, 40.81183, 40.83449, 40.799717, 40.763897, 40.759163, 40.788795, 40.805706, 40.85882, 40.769844, 40.830265000000004, 40.781025, 40.736546000000004, 40.82101, 40.775642, 40.84989, 40.709152, 40.811367, 40.796642, 40.73602, 40.715553, 40.793377, 40.84364, 40.810173, 40.810062, 40.788055, 40.80206, 40.732254, 40.765125, 40.77373, 40.791909999999994, 40.81728, 40.784534, 40.759617, 40.766166999999996, 40.81423, 40.796738, 40.863609999999994, 40.822834, 40.85537, 40.743156, 40.85685, 40.794132, 40.800663, 40.73883, 40.768646000000004, 40.750294, 40.797306, 40.74649, 40.763546000000005, 40.803875, 40.72766, 40.842194, 40.8317, 40.74137, 40.84863, 40.83863, 40.814774, 40.801125, 40.756367, 40.819096, 40.810764, 40.8047, 40.82403, 40.787684999999996, 40.804066, 40.85238, 40.801914000000004, 40.797916, 40.796738, 40.80174, 40.835484, 40.79486, 40.747295, 40.79347, 40.789204, 40.79252, 40.7252, 40.763897, 40.86155, 40.84852, 40.818016, 40.850165999999994, 40.709496, 40.814632, 40.75645, 40.762409999999996, 40.820434999999996, 40.748825, 40.814774, 40.772655, 40.767612, 40.823257, 40.830154, 40.759624, 40.864807, 40.783245, 40.758022, 40.802757, 40.831623, 40.706764, 40.788906, 40.726463, 40.830154, 40.84944, 40.78722, 40.746403, 40.760456, 40.874496, 40.80417, 40.81666, 40.762226, 40.835808, 40.77202, 40.74002, 40.756565, 40.770527, 40.725643, 40.823624, 40.741935999999995, 40.821754, 40.7968, 40.80761, 40.865364, 40.820568, 40.789204, 40.860640000000004, 40.808445, 40.71918, 40.83335, 40.79335, 40.820568, 40.761486, 40.754875, 40.761093, 40.757698, 40.755516, 40.764286, 40.814170000000004, 40.872078, 40.806309999999996, 40.767612, 40.754314, 40.754690000000004, 40.863690000000005, 40.81666, 40.731064, 40.799984, 40.743156, 40.759205, 40.853874, 40.81821, 40.796074, 40.809692, 40.80322, 40.815540000000006, 40.712006, 40.76635, 40.716194, 40.792545000000004, 40.817543, 40.748863, 40.787064, 40.774322999999995, 40.801109999999994, 40.83027, 40.86676, 40.82523, 40.788692, 40.78175, 40.79337, 40.764053000000004, 40.796074, 40.848118, 40.80907, 40.74715, 40.790240000000004, 40.779495000000004, 40.84932, 40.86857, 40.701954, 40.81423, 40.763664, 40.814102, 40.8047, 40.74463, 40.79672, 40.814144, 40.725173999999996, 40.81183, 40.749171999999994, 40.765358, 40.79826, 40.798504, 40.77039, 40.8188, 40.7968, 40.85537, 40.836290000000005, 40.798252000000005, 40.777317, 40.737865, 40.830890000000004, 40.73572, 40.801190000000005, 40.771285999999996, 40.75326, 40.801753999999995, 40.864525, 40.830154, 40.86241, 40.805209999999995, 40.850809999999996, 40.753242, 40.866446999999994, 40.82413, 40.844597, 40.804012, 40.808857, 40.785804999999996, 40.786545000000004, 40.814170000000004, 40.815740000000005, 40.741547, 40.813373999999996, 40.817844, 40.864113, 40.70983, 40.81967, 40.80897, 40.79465, 40.801125, 40.825756, 40.741474, 40.8165, 40.708763, 40.813774, 40.800964, 40.774807, 40.761856, 40.819379999999995, 40.780559999999994, 40.799698, 40.8115, 40.810764, 40.772372999999995, 40.800686, 40.825817, 40.811440000000005, 40.85431, 40.809574, 40.824184, 40.755516, 40.835808, 40.730057, 40.755516, 40.79465, 40.827057, 40.76912, 40.79554, 40.721592, 40.8047, 40.849915, 40.755795, 40.81094, 40.818424, 40.77364, 40.83169, 40.8197, 40.798615000000005, 40.85901, 40.788795, 40.806343, 40.708763, 40.774370000000005, 40.75228, 40.814186, 40.848118, 40.828309999999995, 40.772156, 40.78422, 40.803024, 40.78503, 40.848938000000004, 40.823257, 40.78503, 40.843246, 40.742836, 40.851433, 40.81423, 40.820095, 40.78318, 40.780464, 40.807109999999994, 40.855579999999996, 40.79094, 40.815684999999995, 40.80322, 40.7606, 40.848735999999995, 40.852608000000004, 40.819378, 40.790314, 40.75186, 40.787064, 40.854915999999996, 40.755115999999994, 40.745922, 40.82326, 40.79356, 40.830242, 40.7968, 40.778484000000006, 40.84603, 40.801753999999995, 40.74026, 40.81423, 40.752934, 40.79465, 40.79085, 40.802444, 40.762676, 40.782959999999996, 40.763897, 40.790417, 40.762676, 40.823257, 40.72948, 40.73596, 40.7491, 40.792812, 40.744667, 40.79672, 40.758007, 40.735306, 40.801968, 40.7509, 40.853683000000004, 40.790253, 40.775, 40.72656, 40.77592, 40.821636, 40.816359999999996, 40.767612, 40.796986, 40.848625, 40.812313, 40.8047, 40.828922, 40.830154, 40.865795, 40.794827000000005, 40.791909999999994, 40.790253, 40.74967, 40.826640000000005, 40.763733, 40.767532, 40.80297, 40.80704, 40.779804, 40.86955, 40.848038, 40.865547, 40.814186, 40.844955, 40.87229, 40.73771, 40.86676, 40.80761, 40.722324, 40.785866, 40.79672, 40.725937, 40.8327, 40.818335999999995, 40.812744, 40.868473, 40.85738, 40.86155, 40.730644, 40.780464, 40.811478, 40.835808, 40.79525, 40.740185, 40.864113, 40.83441, 40.780693, 40.763897, 40.795403, 40.74915, 40.81977, 40.792126, 40.74284], \"legendgroup\": \"MANHATTAN\", \"lon\": [-73.94505, -73.92189, -73.950836, -73.94898, -73.96158, -73.93515, -73.941025, -73.97321, -73.91842, -73.94561, -73.94608000000001, -73.96043, -73.93318000000001, -73.92501, -74.01178, -73.94561, -73.94671, -73.93061999999999, -73.94063, -74.00591999999999, -73.93569000000001, -73.98068, -73.92955, -73.93755, -73.95186, -73.934525, -74.004036, -73.94368, -73.93765, -74.00578, -73.9451, -73.948425, -73.93977, -73.94058000000001, -73.981544, -73.94409, -73.94353000000001, -73.98955, -73.93909000000001, -73.950455, -73.95213000000001, -73.94667, -73.984, -73.92925, -73.92602, -73.996086, -73.93966999999999, -73.99380500000001, -74.009796, -73.94403, -73.94368, -73.93719, -73.93244, -73.94065, -73.98694, -73.96069, -73.97596, -73.94463, -73.95496999999999, -73.93914000000001, -73.96033, -73.984985, -73.96389, -73.96389, -73.94098000000001, -73.92994, -73.9467, -73.94769000000001, -73.95881999999999, -73.96894, -73.96294, -73.969734, -73.94723499999999, -73.974625, -73.95571, -73.930885, -73.9442, -73.9661, -73.95886999999999, -73.94541, -73.95141, -73.92777, -73.94242, -73.96381, -73.94473, -73.94006999999999, -73.98992, -73.96621999999999, -74.01066, -73.91243, -73.96112, -73.94005600000001, -73.92990999999999, -73.95323, -73.988396, -73.93755, -73.95633000000001, -73.9368, -73.96686, -73.95130999999999, -73.981316, -73.98905, -73.93436, -73.960526, -73.93332, -74.01055, -73.95402, -73.96848, -73.98228, -73.98976, -73.97086, -73.930534, -73.95116999999999, -73.95496999999999, -73.94433000000001, -73.97352, -73.99636, -73.952126, -73.96401999999999, -73.94151, -73.93854499999999, -73.9736, -73.961975, -73.954254, -73.93444000000001, -73.92925, -73.92821500000001, -73.941925, -73.9378, -73.97213, -73.93148000000001, -73.94281, -73.94436, -73.983154, -73.96983, -73.99485, -73.93446, -74.001335, -73.96934499999999, -73.94614, -74.001396, -73.94541, -73.93539399999999, -73.97251999999999, -73.92761999999999, -73.93348, -73.94038, -73.92988000000001, -73.96011999999999, -73.94093000000001, -73.9526, -73.91243, -73.94476, -73.97502, -73.93117, -73.9315, -73.95348, -73.96385, -73.92925, -73.96477, -73.9494, -73.94649, -73.97405, -73.93726, -73.95483, -73.934364, -73.98706, -73.95323, -73.92472, -73.935936, -73.96043, -73.93576, -74.0139, -73.9442, -73.97032, -73.95443, -73.93624, -73.96984, -73.94038, -73.95555999999999, -73.950005, -73.94293, -73.93964, -73.99548, -73.91937, -73.94473, -73.981804, -73.93026, -73.95071999999999, -74.01250999999999, -73.93765, -73.9771, -73.93964, -73.941055, -73.96793000000001, -73.97973, -73.98374, -73.92761999999999, -73.966705, -73.93899499999999, -73.96819, -73.949455, -73.956024, -74.00529499999999, -73.99028, -73.98012, -73.99207, -73.94591, -73.97263000000001, -73.94724000000001, -73.929375, -73.95305, -73.92439, -73.959305, -73.95483, -73.93078, -73.945, -73.99029, -73.93524000000001, -73.97275, -73.959305, -73.96061999999999, -73.96853, -73.98326999999999, -73.9694, -73.961105, -73.95562, -73.93431, -73.9296, -73.93296, -73.950005, -73.98687, -73.99535999999999, -73.91707, -73.93899499999999, -74.00142, -73.944855, -73.97213, -73.98464, -73.94049, -73.96144, -73.94349, -73.94409, -73.95253000000001, -73.93415999999999, -74.005775, -73.95103, -73.996086, -73.94104, -73.95694, -73.97584, -73.94194, -73.96149, -73.965225, -73.94393000000001, -73.92061600000001, -73.94761, -73.93786999999999, -73.98106999999999, -73.93274, -73.96476, -73.94349, -73.93089, -73.94455, -73.985504, -73.97315, -73.9535, -73.945145, -73.93093, -74.0097, -73.93444000000001, -73.95609, -73.940865, -73.91243, -73.99898, -73.97618, -73.95571, -73.97274, -73.96112, -73.967026, -73.96590400000001, -73.92955, -73.967125, -73.954124, -73.95603, -73.929375, -73.9378, -73.94924, -73.95249, -73.96441, -74.00019, -73.94348000000001, -74.006805, -73.93003, -73.9467, -74.00383000000001, -73.93121, -73.92663, -73.93964, -73.9225, -73.94736, -73.94868000000001, -73.96661999999999, -73.9305, -73.94098000000001, -73.94247, -73.93097, -73.96585999999999, -73.97268000000001, -73.95255999999999, -73.93431, -73.95456, -73.98958, -73.956276, -73.94185, -73.92126, -74.01468, -73.94424000000001, -73.94833, -73.97179399999999, -73.92988000000001, -73.95094, -74.00872, -73.946556, -73.99811600000001, -73.95969000000001, -73.971016, -73.98442, -73.96343, -73.95934, -73.98021999999999, -73.92929000000001, -73.93481, -73.9526, -73.96079, -73.952515, -73.95302, -73.93468, -73.93009, -73.96805, -73.937225, -73.961105, -73.949455, -73.999374, -73.961105, -73.97179399999999, -73.95201999999999, -73.95505, -73.9481, -73.97476999999999, -73.91243, -73.92964, -73.96101999999999, -73.94318, -73.94515, -73.95985999999999, -73.949265, -73.93449, -73.94375, -73.927635, -73.93755, -73.93318000000001, -73.99811600000001, -73.963554, -73.9897, -73.95087, -73.93089, -73.94315, -73.94541, -73.98499, -73.93632, -73.94058000000001, -73.93708000000001, -73.94293, -73.94058000000001, -73.94505, -73.97214, -73.93509, -73.93444000000001, -73.955086, -73.94362, -73.94404, -73.93364, -73.93427, -73.94723499999999, -73.9583, -73.95253000000001, -73.96434, -73.93234, -73.936554, -73.96035, -73.93956999999999, -73.965195, -73.94194, -73.93604, -74.00248, -73.97010999999999, -73.95277, -73.96701999999999, -73.9497, -73.929375, -73.94526, -73.93034, -73.93121, -73.990524, -73.93444000000001, -73.9855, -73.97179399999999, -73.98151999999999, -73.938835, -73.954346, -73.94403, -73.95323, -73.95184, -73.954346, -73.94293, -73.9721, -74.005135, -73.984085, -73.937744, -73.97114599999999, -73.97618, -73.96625, -74.00036999999999, -73.94552, -73.99812, -73.93054000000001, -73.94564, -73.9631, -73.97204599999999, -73.95317, -73.93909000000001, -73.954094, -73.950005, -73.93175, -73.92753, -73.95223, -73.91243, -73.9504, -73.93964, -73.920006, -73.97624, -73.94151, -73.94564, -73.99531, -73.94306, -73.962074, -73.953255, -73.96387, -73.9698, -73.98448, -73.91519, -73.93285, -73.92728000000001, -73.95087, -73.93008, -73.91269, -73.974266, -73.92061600000001, -73.95305, -74.01178, -73.950935, -73.96289, -74.01103, -73.950226, -73.934265, -73.93764499999999, -73.92404, -73.92973, -73.92472, -73.97329, -73.94404, -73.950226, -73.949455, -73.97321, -73.986374, -73.92126, -73.94986, -73.9466, -73.95323, -73.94188, -73.98828, -73.93673000000001, -73.97178000000001, -74.00028], \"marker\": {\"color\": \"#3e4a89\"}, \"mode\": \"markers\", \"name\": \"MANHATTAN\", \"showlegend\": true, \"subplot\": \"mapbox\", \"type\": \"scattermapbox\"}, {\"hovertemplate\": \"BOROUGH=QUEENS<br>LATITUDE=%{lat}<br>LONGITUDE=%{lon}<extra></extra>\", \"lat\": [40.689198, 40.75206, 40.789528000000004, 40.722496, 40.702236, 40.719177, 40.769333, 40.768615999999994, 40.729305, 40.74478, 40.764725, 40.765297, 40.72245, 40.687709999999996, 40.730366, 40.74045, 40.76874, 40.74198, 40.66762, 40.59626, 40.709346999999994, 40.716114000000005, 40.743767, 40.7179, 40.676132, 40.759346, 40.72245, 40.666233, 40.762978000000004, 40.724270000000004, 40.738842, 40.704494, 40.669290000000004, 40.674609999999994, 40.759724, 40.744892, 40.58699, 40.596, 40.694744, 40.667194, 40.66015, 40.717014, 40.72784, 40.679863, 40.69231, 40.707153000000005, 40.717014, 40.74197, 40.76663, 40.689617, 40.757183000000005, 40.759686, 40.73448, 40.728928, 40.681488, 40.76943, 40.756676, 40.68717, 40.674934, 40.72266, 40.66559, 40.76518, 40.753634999999996, 40.7859, 40.73992, 40.6568, 40.787197, 40.784702, 40.724804, 40.680454, 40.72634, 40.750717, 40.703334999999996, 40.75829, 40.69345, 40.725132, 40.78781, 40.73834, 40.75326, 40.693798, 40.610256, 40.674953, 40.752975, 40.734978000000005, 40.77613, 40.72773, 40.708504, 40.742492999999996, 40.670586, 40.74848, 40.736571999999995, 40.698257, 40.740017, 40.77365, 40.72773, 40.72956, 40.693783, 40.666573, 40.70313, 40.66496, 40.735794, 40.758526, 40.786118, 40.76903, 40.73715, 40.748065999999994, 40.569355, 40.666348, 40.741394, 40.78781, 40.730137, 40.667076, 40.69215, 40.767596999999995, 40.707153000000005, 40.746536, 40.694775, 40.764454, 40.749283, 40.771145000000004, 40.70288, 40.66559, 40.738068, 40.732937, 40.76095, 40.687084000000006, 40.722343, 40.674934, 40.66559, 40.66669, 40.73715, 40.788956, 40.712672999999995, 40.769890000000004, 40.77458, 40.789467, 40.716824, 40.738597999999996, 40.719124, 40.601437, 40.753265, 40.737784999999995, 40.73632, 40.775234000000005, 40.709644, 40.74215, 40.71713, 40.750225, 40.727055, 40.68878, 40.752403, 40.66496, 40.734486, 40.752403, 40.71699, 40.593624, 40.75829, 40.738415, 40.74709, 40.736534000000006, 40.74709, 40.664840000000005, 40.731983, 40.737784999999995, 40.69942, 40.66709, 40.713287, 40.72033, 40.72123, 40.666435, 40.777634, 40.669212, 40.696296999999994, 40.69245, 40.745490000000004, 40.731770000000004, 40.700493, 40.692463000000004, 40.776627000000005, 40.707928, 40.7497, 40.764267, 40.7432, 40.68739, 40.66796, 40.709995, 40.726543, 40.66653, 40.768159999999995, 40.741455, 40.683094, 40.717014, 40.726814000000005, 40.768684, 40.752179999999996, 40.688359999999996, 40.666233, 40.72773, 40.716034, 40.778884999999995, 40.766155, 40.755978000000006, 40.674694, 40.700829999999996, 40.744923, 40.748955, 40.762170000000005, 40.716652, 40.77039, 40.77487, 40.679737, 40.739082, 40.687805, 40.729923, 40.726814000000005, 40.710434, 40.75379, 40.771576, 40.680687, 40.741279999999996, 40.79184, 40.736496, 40.666588, 40.776740000000004, 40.742329999999995, 40.753307, 40.7568, 40.793296999999995, 40.767487, 40.72175, 40.67819, 40.751453000000005, 40.794144, 40.73448, 40.710440000000006, 40.776627000000005, 40.7432, 40.691914000000004, 40.768982, 40.729996, 40.76615, 40.73632, 40.764355, 40.703163, 40.666348, 40.725365000000004, 40.7712, 40.666008000000005, 40.712505, 40.698153999999995, 40.738403000000005, 40.6796, 40.672109999999996, 40.75355, 40.69231, 40.764773999999996, 40.762737, 40.679737, 40.738842, 40.754658, 40.75708, 40.7749, 40.732887, 40.757797, 40.666348, 40.742523, 40.692463000000004, 40.697933, 40.78076, 40.71444, 40.706866999999995, 40.685947, 40.77162, 40.666385999999996, 40.75829, 40.72773, 40.793217, 40.713135, 40.65999, 40.702892, 40.769318, 40.665490000000005, 40.793296999999995, 40.676132, 40.706173, 40.74303, 40.662178000000004, 40.70753, 40.66644, 40.68527, 40.754509999999996, 40.726357, 40.783268, 40.702293, 40.748847999999995, 40.720287, 40.697815000000006, 40.72773, 40.662178000000004, 40.765976, 40.71405, 40.771576, 40.706345, 40.664143, 40.737682, 40.755234, 40.739162, 40.78628, 40.741234000000006, 40.734978000000005, 40.66062, 40.666306, 40.728229999999996, 40.71713, 40.687709999999996, 40.727318, 40.728992, 40.673393, 40.701275, 40.691140000000004, 40.74738, 40.75412, 40.768887, 40.72123, 40.740078000000004, 40.775444, 40.664840000000005, 40.704853, 40.770325, 40.717014, 40.658417, 40.673767, 40.748756, 40.732937, 40.733779999999996, 40.665813, 40.679893, 40.656593, 40.728947, 40.751296999999994, 40.734978000000005, 40.700993, 40.744644, 40.766684999999995, 40.664143, 40.74947, 40.748306, 40.68509, 40.745284999999996, 40.666405, 40.704494, 40.748924, 40.681995, 40.693787, 40.735752000000005, 40.713184000000005, 40.681362, 40.707947, 40.667235999999995, 40.667429999999996, 40.737784999999995, 40.68881, 40.707153000000005, 40.722572, 40.783634, 40.696384, 40.764236, 40.75488, 40.756840000000004, 40.745148, 40.755234, 40.691452000000005, 40.741917, 40.77039, 40.74091, 40.700108, 40.738575, 40.74217, 40.731303999999994, 40.77061, 40.79271, 40.730915, 40.787290000000006, 40.666348, 40.752228, 40.76132, 40.768875, 40.74738, 40.741814, 40.748596, 40.752179999999996, 40.65965, 40.702484000000005, 40.719367999999996, 40.74091, 40.74738, 40.699505, 40.76242, 40.780155, 40.782444, 40.685097, 40.73085, 40.71031, 40.75495, 40.749687, 40.767509999999994, 40.772853999999995, 40.705284000000006, 40.728854999999996, 40.708324, 40.746773, 40.78405, 40.6674, 40.775368, 40.737784999999995, 40.704494, 40.749184, 40.734543, 40.71582, 40.749977, 40.73261, 40.749607, 40.714859999999994, 40.704184999999995, 40.770255999999996, 40.687103, 40.687084000000006, 40.72033, 40.70313, 40.74089, 40.704494, 40.77677, 40.76663, 40.6957, 40.71582, 40.742676, 40.73834, 40.670326, 40.739273, 40.711459999999995, 40.734314000000005, 40.75091, 40.666187, 40.694065, 40.709747, 40.688359999999996, 40.741234000000006, 40.581604, 40.69773, 40.76943, 40.704494, 40.709827000000004, 40.73448, 40.71443, 40.669290000000004, 40.74286, 40.713318, 40.707893, 40.722095, 40.694805, 40.74132, 40.755565999999995, 40.665268, 40.707928, 40.745384, 40.67536, 40.75327, 40.719734, 40.74668, 40.737194, 40.748329999999996, 40.74886, 40.743122, 40.78928, 40.698402, 40.726444, 40.666348, 40.676487, 40.667235999999995, 40.773964, 40.778366, 40.68517, 40.777958, 40.728146, 40.704033, 40.66615, 40.75904, 40.760253999999996, 40.68775, 40.706226, 40.666637, 40.745903000000006, 40.668507, 40.66961, 40.744526, 40.77613, 40.674953, 40.704494, 40.770554, 40.705875, 40.700855, 40.70722, 40.73447, 40.69146, 40.76399, 40.705833, 40.719543, 40.762093, 40.779324, 40.743427000000004, 40.752216, 40.744892, 40.768753000000004, 40.762146, 40.742657, 40.761379999999996, 40.692543, 40.755646, 40.73594, 40.728854999999996, 40.734768, 40.710953, 40.597534, 40.738495, 40.768166, 40.759174, 40.789528000000004, 40.714622, 40.719124, 40.674953, 40.666306, 40.710342, 40.774612, 40.666546000000004, 40.666225, 40.703014, 40.688774, 40.716957, 40.682873, 40.756264, 40.769646, 40.692496999999996, 40.77417, 40.748965999999996, 40.739162, 40.711834, 40.761795, 40.77393, 40.748721999999994, 40.666393, 40.739788, 40.771305, 40.592087, 40.759335, 40.666405, 40.789528000000004, 40.66669, 40.720005, 40.71713, 40.713497, 40.745090000000005, 40.741493, 40.76417, 40.71702, 40.71123, 40.750820000000004, 40.74111, 40.722343, 40.713333, 40.752106, 40.687046, 40.732033, 40.700195, 40.74613, 40.75703, 40.70975, 40.728390000000005, 40.783559999999994, 40.73425, 40.732033, 40.70921, 40.66496, 40.70924, 40.598774, 40.708324, 40.782140000000005, 40.711459999999995, 40.70313, 40.67819, 40.738194, 40.768726, 40.752003, 40.728229999999996, 40.71125, 40.728832000000004, 40.73226, 40.66535, 40.761906, 40.682567999999996, 40.74357, 40.77219, 40.767765000000004, 40.592846, 40.736046, 40.770255999999996, 40.741234000000006, 40.73319, 40.709747, 40.747833, 40.739193, 40.729572, 40.76294, 40.687546000000005, 40.72586, 40.796555, 40.66632, 40.70786, 40.662178000000004, 40.754276000000004, 40.705826, 40.76485, 40.705459999999995, 40.691612, 40.744892, 40.769318, 40.72956, 40.748596], \"legendgroup\": \"QUEENS\", \"lon\": [-73.852325, -73.854256, -73.820435, -73.83582, -73.75769, -73.79223, -73.841736, -73.92508000000001, -73.91038499999999, -73.93262, -73.92426, -73.83967, -73.84626, -73.845345, -73.91388, -73.844376, -73.90881, -73.82475, -73.8051, -73.76773, -73.8297, -73.824905, -73.83748, -73.83202, -73.81924000000001, -73.91981, -73.84626, -73.76100000000001, -73.83198, -73.901825, -73.81404, -73.81743, -73.842445, -73.80428, -73.92061, -73.77022, -73.8098, -73.77067, -73.785675, -73.77909, -73.85333, -73.7994, -73.79573, -73.83884, -73.88147, -73.8189, -73.7994, -73.84116, -73.88903, -73.8905, -73.83396, -73.77183000000001, -73.92243, -73.9195, -73.77233000000001, -73.91025, -73.920876, -73.89231, -73.80185999999999, -73.82744, -73.83131999999999, -73.88807, -73.91893, -73.848656, -73.81513000000001, -73.85758, -73.78, -73.82461500000001, -73.82983, -73.84366, -73.76508000000001, -73.85876999999999, -73.810585, -73.83431, -73.80630500000001, -73.84751999999999, -73.82341, -73.80485, -73.864456, -73.81156, -73.767494, -73.80205, -73.91024, -73.8614, -73.910706, -73.90674, -73.81954, -73.87337, -73.76509, -73.861, -73.907715, -73.82632, -73.84565, -73.81532, -73.90674, -73.87145, -73.7623, -73.811775, -73.816795, -73.82226, -73.85807, -73.80141, -73.804085, -73.88203, -73.930824, -73.93977, -73.86411, -73.76093, -73.82303, -73.82341, -73.86236600000001, -73.78265999999999, -73.86216, -73.88539, -73.8189, -73.83119, -73.84774, -73.83178000000001, -73.75664499999999, -73.89882, -73.85795999999999, -73.83131999999999, -73.93111, -73.920395, -73.832756, -73.8361, -73.77717, -73.80185999999999, -73.83131999999999, -73.81173000000001, -73.930824, -73.823555, -73.80139, -73.880455, -73.78435999999999, -73.784225, -73.82019, -73.79523, -73.79140500000001, -73.768196, -73.94668, -73.93496, -73.85631, -73.829025, -73.834816, -73.80917, -73.7986, -73.85515, -73.83229, -73.77538, -73.92442, -73.82226, -73.891754, -73.92442, -73.82401999999999, -73.77632, -73.83431, -73.84899, -73.76325, -73.85611, -73.76325, -73.82229, -73.91911999999999, -73.93496, -73.86878, -73.76375999999999, -73.87163000000001, -73.76115, -73.83483000000001, -73.83478000000001, -73.82157, -73.76629, -73.874756, -73.81100500000001, -73.95318, -73.866714, -73.90142, -73.81081999999999, -73.83906, -73.78429399999999, -73.902565, -73.9158, -73.89589000000001, -73.84647, -73.77155, -73.79263, -73.87402, -73.806274, -73.90544, -73.84258, -73.80575999999999, -73.7994, -73.83846, -73.90562, -73.85200999999999, -73.8915, -73.76100000000001, -73.90674, -73.80416, -73.81454000000001, -73.89226, -73.939095, -73.78435, -73.82635, -73.83709, -73.87136, -73.7568, -73.8259, -73.91771, -73.921776, -73.76162, -73.79345, -73.83356500000001, -73.91208, -73.83846, -73.838066, -73.91548, -73.87616, -73.84459, -73.90257, -73.823524, -73.909225, -73.80809, -73.82433, -73.83764000000001, -73.82738499999999, -73.873665, -73.807106, -73.9017, -73.87546, -73.80144, -73.83228000000001, -73.7996, -73.92243, -73.833046, -73.83906, -73.89589000000001, -73.88363000000001, -73.91064, -73.91187, -73.919785, -73.85631, -73.91131, -73.81662, -73.76093, -73.89454, -73.83345, -73.789536, -73.89591, -73.86969, -73.80272, -73.80349, -73.80109399999999, -73.85268, -73.88147, -73.888, -73.83951, -73.76162, -73.81404, -73.833115, -73.90648, -73.803894, -73.920586, -73.94582, -73.76093, -73.94924, -73.81081999999999, -73.89200600000001, -73.825424, -73.83126999999999, -73.7908, -73.80224, -73.87477, -73.80178000000001, -73.83431, -73.90674, -73.824005, -73.87528, -73.765656, -73.83785, -73.8666, -73.81953399999999, -73.807106, -73.81924000000001, -73.85186, -73.83216, -73.85025, -73.75721999999999, -73.823166, -73.84248000000001, -73.827156, -73.76388, -73.82485, -73.79117, -73.872375, -73.782524, -73.7602, -73.90674, -73.85025, -73.86284, -73.77801, -73.87616, -73.85159, -73.78992, -73.85206, -73.94124599999999, -73.78556, -73.80598, -73.84573, -73.8614, -73.85389, -73.79171, -73.83313000000001, -73.7986, -73.845345, -73.88795999999999, -73.89686, -73.79048, -73.88887, -73.80488000000001, -73.76171, -73.92955, -73.90691, -73.83483000000001, -73.89969, -73.828445, -73.82229, -73.791664, -73.83497, -73.82970999999999, -73.76768, -73.76380999999999, -73.82133, -73.920395, -73.8358, -73.833115, -73.85065999999999, -73.857635, -73.92793, -73.889336, -73.8614, -73.77083, -73.77041, -73.892136, -73.78992, -73.7564, -73.87104000000001, -73.80518000000001, -73.94830999999999, -73.802635, -73.81743, -73.937386, -73.82308, -73.81173000000001, -73.88051999999999, -73.82393, -73.79728, -73.78331, -73.770004, -73.76675999999999, -73.93496, -73.80288, -73.8189, -73.851364, -73.816666, -73.802826, -73.93701, -73.89929000000001, -73.810135, -73.93348, -73.94124599999999, -73.88517, -73.823425, -73.91771, -73.83726999999999, -73.83267, -73.845345, -73.804436, -73.92596400000001, -73.8919, -73.84654, -73.83453, -73.81345, -73.76093, -73.93911, -73.9171, -73.90852, -73.76171, -73.770325, -73.89532, -73.85200999999999, -73.773834, -73.85981, -73.83600600000001, -73.83726999999999, -73.83509000000001, -73.77167, -73.82751999999999, -73.8406, -73.776535, -73.760735, -73.91566, -73.77174000000001, -73.89915500000001, -73.94763, -73.81543, -73.90607, -73.90635999999999, -73.92782, -73.84314, -73.79241999999999, -73.91244, -73.773636, -73.90961999999999, -73.93496, -73.81743, -73.75819399999999, -73.93744000000001, -73.81759, -73.91164, -73.8686, -73.89686999999999, -73.75922, -73.78599, -73.91586, -73.89251, -73.8361, -73.76115, -73.816795, -73.92201, -73.81743, -73.93453000000001, -73.89605, -73.7933, -73.81759, -73.839516, -73.80485, -73.79244, -73.933716, -73.79647, -73.93803, -73.78742, -73.79176, -73.85106, -73.82056999999999, -73.8915, -73.84573, -73.83077, -73.81409000000001, -73.91025, -73.81743, -73.83983, -73.92243, -73.83315, -73.842445, -73.846535, -73.76402, -73.84889, -73.77772, -73.8982, -73.78478, -73.79172, -73.82770500000001, -73.78429399999999, -73.76879, -73.8126, -73.92803, -73.78652, -73.90071999999999, -73.90619000000001, -73.89609499999999, -73.93755, -73.897545, -73.84095, -73.75794, -73.76579, -73.76093, -73.82133, -73.770004, -73.9228, -73.80794499999999, -73.86231, -73.90847, -73.83925, -73.81711, -73.80575, -73.80794499999999, -73.76935, -73.79039, -73.78917, -73.7646, -73.76703, -73.779625, -73.77613000000001, -73.77161, -73.910706, -73.80205, -73.81743, -73.83551, -73.81794000000001, -73.86837, -73.78957, -73.86316, -73.88547, -73.93288000000001, -73.81812, -73.85914, -73.75690999999999, -73.775604, -73.775475, -73.948814, -73.77022, -73.768936, -73.83465, -73.846214, -73.86574, -73.77553, -73.94205500000001, -73.85887, -73.92782, -73.861595, -73.82154, -73.75676999999999, -73.90274000000001, -73.83749, -73.93918599999999, -73.820435, -73.829704, -73.79140500000001, -73.80205, -73.79171, -73.79160999999999, -73.92399, -73.78808000000001, -73.80086, -73.858025, -73.817635, -73.82655, -73.76143, -73.823524, -73.91425, -73.87954, -73.82934, -73.75816999999999, -73.78556, -73.90799, -73.7679, -73.80975, -73.89881, -73.813576, -73.845375, -73.87664000000001, -73.78625500000001, -73.90314000000001, -73.802635, -73.820435, -73.81173000000001, -73.78463, -73.7986, -73.75714, -73.83674, -73.81477, -73.83967, -73.830505, -73.85575, -73.81265, -73.89842, -73.77717, -73.91305, -73.94424000000001, -73.792114, -73.91893, -73.78586, -73.83605, -73.938126, -73.79562, -73.83301999999999, -73.82449, -73.86336, -73.91893, -73.87017, -73.82226, -73.756935, -73.801285, -73.84314, -73.824844, -73.79647, -73.816795, -73.80144, -73.8492, -73.760414, -73.83600600000001, -73.83313000000001, -73.77709, -73.88051999999999, -73.83521999999999, -73.81695, -73.83924, -73.78201999999999, -73.83771999999999, -73.763855, -73.86499, -73.79616, -73.92673, -73.91586, -73.84573, -73.866875, -73.82056999999999, -73.83301, -73.90128, -73.83383, -73.777695, -73.8208, -73.90016999999999, -73.82186999999999, -73.83481, -73.84846, -73.85025, -73.90902, -73.79397, -73.88611999999999, -73.7949, -73.83667, -73.77022, -73.8666, -73.87145, -73.89532], \"marker\": {\"color\": \"#26828e\"}, \"mode\": \"markers\", \"name\": \"QUEENS\", \"showlegend\": true, \"subplot\": \"mapbox\", \"type\": \"scattermapbox\"}, {\"hovertemplate\": \"BOROUGH=BRONX<br>LATITUDE=%{lat}<br>LONGITUDE=%{lon}<extra></extra>\", \"lat\": [40.87656, 40.88333, 40.846954, 40.87892, 40.824837, 40.85004, 40.817820000000005, 40.8511, 40.806835, 40.833282000000004, 40.865685, 40.847896999999996, 40.820515, 40.89675, 40.86159, 40.838196, 40.877068, 40.868015, 40.830837, 40.834114, 40.848328, 40.836895, 40.906883, 40.828316, 40.858162, 40.843956, 40.836090000000006, 40.807518, 40.868546, 40.857418, 40.89393, 40.84707, 40.840090000000004, 40.842335, 40.866673, 40.84211, 40.830143, 40.87931, 40.846443, 40.829, 40.824932000000004, 40.836296000000004, 40.845005, 40.857018, 40.8059, 40.83543, 40.826397, 40.816063, 40.844883, 40.831016999999996, 40.825503999999995, 40.8541, 40.854874, 40.832221999999994, 40.81323, 40.839832, 40.830143, 40.8059, 40.866066, 40.887478, 40.836502, 40.84571, 40.844177, 40.841496, 40.872345, 40.852515999999994, 40.830738000000004, 40.806156, 40.838359999999994, 40.813255, 40.84106, 40.885952, 40.845104, 40.845657, 40.895195, 40.86804, 40.833813, 40.86268, 40.813255, 40.823956, 40.825573, 40.830303, 40.83829, 40.83852, 40.86957, 40.840835999999996, 40.811638, 40.843821999999996, 40.838757, 40.806553, 40.815525, 40.836555, 40.825165000000005, 40.82497, 40.856407, 40.86159, 40.82802, 40.840153, 40.828114, 40.836555, 40.841084, 40.855785, 40.825424, 40.849407, 40.866046999999995, 40.835873, 40.823135, 40.8281, 40.828114, 40.84525, 40.845108, 40.868458000000004, 40.823135, 40.825424, 40.826275, 40.828114, 40.83214, 40.83543, 40.834114, 40.878643, 40.826607, 40.84497, 40.840835999999996, 40.844173, 40.82111, 40.864246, 40.831776, 40.848537, 40.809284000000005, 40.82243, 40.882507000000004, 40.803844, 40.860535, 40.829945, 40.835598, 40.828, 40.827824, 40.840927, 40.819829999999996, 40.82609, 40.84518, 40.84519, 40.836090000000006, 40.852140000000006, 40.837864, 40.828075, 40.873737, 40.83283, 40.845104, 40.81277, 40.829945, 40.86507, 40.823772, 40.881958000000004, 40.84353, 40.826153000000005, 40.879307, 40.875122, 40.875122, 40.809563, 40.84942, 40.83874, 40.84487, 40.86502, 40.838745, 40.892956, 40.855920000000005, 40.844883, 40.853813, 40.857116999999995, 40.865142999999996, 40.86235, 40.845104, 40.82371, 40.89759, 40.837864, 40.809048, 40.86159, 40.836502, 40.824432, 40.89675, 40.877033000000004, 40.855971999999994, 40.856625, 40.840286, 40.852059999999994, 40.83328, 40.844448, 40.86804, 40.832535, 40.83932, 40.836090000000006, 40.824574, 40.823772, 40.82821, 40.86804, 40.835217, 40.8223, 40.858986, 40.844916999999995, 40.893642, 40.836155, 40.858162, 40.8479, 40.84036, 40.828114, 40.830985999999996, 40.87787, 40.89463, 40.82164, 40.819843, 40.842464, 40.831493, 40.856743, 40.83611, 40.837740000000004, 40.830345, 40.844916999999995, 40.845657, 40.855971999999994, 40.8913, 40.843204, 40.852059999999994, 40.8746, 40.843994, 40.829945, 40.841045, 40.856388, 40.850609999999996, 40.835409999999996, 40.853462, 40.86502, 40.840286, 40.818974, 40.8344, 40.826275, 40.875122, 40.843906, 40.844916999999995, 40.838757, 40.868015, 40.844833, 40.88078, 40.809290000000004, 40.838997, 40.813255, 40.8451, 40.88709, 40.826855, 40.840835999999996, 40.82164, 40.848114, 40.844105, 40.821415, 40.825935, 40.821945, 40.852104, 40.83302, 40.845024, 40.86235, 40.841087, 40.842220000000005, 40.902233, 40.85638, 40.895195, 40.884144, 40.827976, 40.853905, 40.847640000000006, 40.872143, 40.844177, 40.80534, 40.888596, 40.836617, 40.887671999999995, 40.862755, 40.853706, 40.840153, 40.873059999999995, 40.843994, 40.821068, 40.876259999999995, 40.829184999999995, 40.842464, 40.842422, 40.830436999999996, 40.810345, 40.840286, 40.8452, 40.845104, 40.846874, 40.841274, 40.827329999999996, 40.863914, 40.852306, 40.870224, 40.875122, 40.874973, 40.89997, 40.839596, 40.833813, 40.84525, 40.833588, 40.820305, 40.844485999999996, 40.805820000000004, 40.839478, 40.86804, 40.82325, 40.867034999999994, 40.84664, 40.822433000000004, 40.845104, 40.822033000000005, 40.84506, 40.8541, 40.827713, 40.850097999999996, 40.847965, 40.823456, 40.823170000000005, 40.83801, 40.830906, 40.844604, 40.85885, 40.865612, 40.832359999999994, 40.846443, 40.852306, 40.86808, 40.83968, 40.829407, 40.829570000000004, 40.805077000000004, 40.844982, 40.830436999999996, 40.884240000000005, 40.803585, 40.85477, 40.837894, 40.826298, 40.89463, 40.85406, 40.845104, 40.8254, 40.842335, 40.804707, 40.827595, 40.8283, 40.81536, 40.85638, 40.881958000000004, 40.844875, 40.826523, 40.876583000000004, 40.805077000000004, 40.835518, 40.82451, 40.826275, 40.8262, 40.88671, 40.882709999999996, 40.807434, 40.84211, 40.8307, 40.829570000000004, 40.84599, 40.835087, 40.838707, 40.89711, 40.907505, 40.878643, 40.803585, 40.90348, 40.83829, 40.809048, 40.86177, 40.86804, 40.84036, 40.873657, 40.803844, 40.838203, 40.834114, 40.828114, 40.836018, 40.82325, 40.861744, 40.876995, 40.810047, 40.845024, 40.830975, 40.82764, 40.906859999999995, 40.809734000000006, 40.876503, 40.87932, 40.834995, 40.836555, 40.8077, 40.841187, 40.82383, 40.862534000000004, 40.843204, 40.88742, 40.87327, 40.82942, 40.819542, 40.858090000000004, 40.827273999999996, 40.85706, 40.862755, 40.84047, 40.833206, 40.820137, 40.87121, 40.871395, 40.809290000000004, 40.8451, 40.828114, 40.829105, 40.82802, 40.823833, 40.838757, 40.824432, 40.817875, 40.855385, 40.844105, 40.843821999999996, 40.840090000000004, 40.822559999999996, 40.90378, 40.84487, 40.842853999999996, 40.868694, 40.833286, 40.840775, 40.87356, 40.85638, 40.854588, 40.84519, 40.835026, 40.82802, 40.845837, 40.828920000000004, 40.84506, 40.856537, 40.87945, 40.895195, 40.82395, 40.8504, 40.871117, 40.826088, 40.898594, 40.882923, 40.851936, 40.837894, 40.853706, 40.846893, 40.852515999999994, 40.8451, 40.828509999999994, 40.83801, 40.882767, 40.901061999999996, 40.8606, 40.818954, 40.8059, 40.840286, 40.816615999999996, 40.865612, 40.871254, 40.844524, 40.843678000000004, 40.881958000000004, 40.83142, 40.86268, 40.825912, 40.80405], \"legendgroup\": \"BRONX\", \"lon\": [-73.90436, -73.836784, -73.91863000000001, -73.85862, -73.87053, -73.91606, -73.89264, -73.90468, -73.924355, -73.82836, -73.823425, -73.92499000000001, -73.930695, -73.85988, -73.91295, -73.91226999999999, -73.90610500000001, -73.89997, -73.9166, -73.86327, -73.91842, -73.8736, -73.84968, -73.93118, -73.91699, -73.8978, -73.87039, -73.92611, -73.88832, -73.899956, -73.8498, -73.902054, -73.88036, -73.91619, -73.90896, -73.82557, -73.92858000000001, -73.90314000000001, -73.826004, -73.83641999999999, -73.82431, -73.87369, -73.90741, -73.90361999999999, -73.92523, -73.92341, -73.92116, -73.931046, -73.90729499999999, -73.85226, -73.88608599999999, -73.919106, -73.916794, -73.8574, -73.9313, -73.92392, -73.92858000000001, -73.92523, -73.89438, -73.903824, -73.825165, -73.88941, -73.90292, -73.92486, -73.9064, -73.90001, -73.9105, -73.9226, -73.92493, -73.93028000000001, -73.92851, -73.8279, -73.91494, -73.925446, -73.88011999999999, -73.87910500000001, -73.86275, -73.90905, -73.93028000000001, -73.877144, -73.918465, -73.86314399999999, -73.93001600000001, -73.92619, -73.82023000000001, -73.87258, -73.9316, -73.9275, -73.88290400000001, -73.92475, -73.89503, -73.87135, -73.86699, -73.92228, -73.90509, -73.91295, -73.93122, -73.88571999999999, -73.93106999999999, -73.87135, -73.93184000000001, -73.90558, -73.923485, -73.900894, -73.87207, -73.8699, -73.88225, -73.92021, -73.93106999999999, -73.91499, -73.913025, -73.8214, -73.88225, -73.923485, -73.85970999999999, -73.93106999999999, -73.92729, -73.92341, -73.86327, -73.871605, -73.926636, -73.90247, -73.87258, -73.91745999999999, -73.92749, -73.904, -73.82096999999999, -73.90678, -73.92926999999999, -73.87295, -73.890434, -73.91444, -73.914345, -73.93005, -73.9138, -73.84701, -73.91934, -73.912704, -73.841934, -73.92307, -73.91417, -73.9112, -73.87039, -73.92071, -73.9114, -73.88543, -73.90593, -73.91129000000001, -73.91494, -73.88221, -73.93005, -73.87185, -73.87245, -73.81660500000001, -73.89401, -73.920265, -73.90295, -73.905174, -73.905174, -73.92923, -73.91113, -73.913765, -73.92068, -73.89277, -73.82591, -73.86381999999999, -73.9172, -73.90729499999999, -73.90850999999999, -73.89907, -73.87204, -73.89406600000001, -73.91494, -73.87899999999999, -73.8672, -73.9114, -73.92856, -73.91295, -73.825165, -73.873604, -73.85988, -73.846375, -73.869896, -73.8319, -73.92147, -73.82664, -73.86097, -73.82845999999999, -73.87910500000001, -73.85797, -73.91503, -73.87039, -73.87255, -73.87245, -73.92714000000001, -73.87910500000001, -73.8255, -73.873, -73.89381999999999, -73.926384, -73.85065, -73.87179, -73.91699, -73.919685, -73.91807, -73.93106999999999, -73.91139, -73.8701, -73.88229, -73.81668, -73.835976, -73.92414000000001, -73.85444, -73.917625, -73.92238, -73.91739, -73.92328, -73.926384, -73.925446, -73.869896, -73.8507, -73.91196, -73.82664, -73.9097, -73.89752, -73.93005, -73.8531, -73.90177, -73.913826, -73.9154, -73.88939, -73.89277, -73.92147, -73.89145, -73.87276, -73.85970999999999, -73.905174, -73.88046999999999, -73.926384, -73.88290400000001, -73.89997, -73.909386, -73.88346999999999, -73.90313, -73.91073, -73.93028000000001, -73.91878, -73.87803000000001, -73.922676, -73.87258, -73.81668, -73.901474, -73.898, -73.88933, -73.83637, -73.84241, -73.88998000000001, -73.862724, -73.92631999999999, -73.89997, -73.86447, -73.82579, -73.843666, -73.82630999999999, -73.88011999999999, -73.91502, -73.87281999999999, -73.89864, -73.90100000000001, -73.81869499999999, -73.90292, -73.92095, -73.89068, -73.87377, -73.84705, -73.901085, -73.871864, -73.88571999999999, -73.87864, -73.89752, -73.89894, -73.90395, -73.928764, -73.92414000000001, -73.928185, -73.83748, -73.93066999999999, -73.92147, -73.916885, -73.91494, -73.90876999999999, -73.91762, -73.8498, -73.91046999999999, -73.89811, -73.88717, -73.905174, -73.87946, -73.87898, -73.86957, -73.86275, -73.91499, -73.8615, -73.89083000000001, -73.846245, -73.90926, -73.883896, -73.87910500000001, -73.88277, -73.89632399999999, -73.92568, -73.85514, -73.91494, -73.91181999999999, -73.916855, -73.919106, -73.92223, -73.84498, -73.87145, -73.92444, -73.9275, -73.87329, -73.8736, -73.90348, -73.88595600000001, -73.80109399999999, -73.93196999999999, -73.826004, -73.89811, -73.90858, -73.929276, -73.88546, -73.84849, -73.91091999999999, -73.92067, -73.83748, -73.84928000000001, -73.91552, -73.90299, -73.88138000000001, -73.85741999999999, -73.88229, -73.91936, -73.91494, -73.86507399999999, -73.91619, -73.91914, -73.85004, -73.92447, -73.8867, -73.82630999999999, -73.81660500000001, -73.8678, -73.93115999999999, -73.90266, -73.91091999999999, -73.86112, -73.89786, -73.85970999999999, -73.85724, -73.81529, -73.88125600000001, -73.92619, -73.82557, -73.88519000000001, -73.84849, -73.84789, -73.82538000000001, -73.90989, -73.88008, -73.89655, -73.871605, -73.91552, -73.85035, -73.93001600000001, -73.92856, -73.89868, -73.87910500000001, -73.91807, -73.87142, -73.91444, -73.9302, -73.86327, -73.93106999999999, -73.9243, -73.88277, -73.911804, -73.88184, -73.92515, -73.92631999999999, -73.93209, -73.84791, -73.904106, -73.88333, -73.90456400000001, -73.869804, -73.825, -73.87135, -73.92955, -73.88597, -73.87624, -73.89708, -73.91196, -73.89449, -73.88, -73.91226, -73.91353000000001, -73.901924, -73.904915, -73.90469, -73.901085, -73.886116, -73.82797, -73.89029000000001, -73.854576, -73.89308, -73.90313, -73.91878, -73.93106999999999, -73.91863000000001, -73.93122, -73.87807, -73.88290400000001, -73.873604, -73.89333, -73.9181, -73.898, -73.9275, -73.88036, -73.88755, -73.8554, -73.92068, -73.85, -73.90236999999999, -73.914085, -73.87246, -73.81853000000001, -73.82630999999999, -73.90187, -73.9112, -73.858086, -73.93122, -73.8255, -73.83717, -73.91309, -73.87257, -73.8844, -73.88011999999999, -73.82171, -73.90697, -73.87683, -73.86121, -73.897095, -73.88710999999999, -73.91078, -73.88138000000001, -73.871864, -73.92055, -73.90001, -73.91878, -73.88011999999999, -73.87329, -73.88864000000001, -73.86157, -73.91102, -73.91404, -73.92523, -73.92147, -73.89414000000001, -73.80109399999999, -73.84355, -73.902725, -73.87195600000001, -73.81660500000001, -73.92644, -73.90905, -73.83646999999999, -73.91736999999999], \"marker\": {\"color\": \"#35b779\"}, \"mode\": \"markers\", \"name\": \"BRONX\", \"showlegend\": true, \"subplot\": \"mapbox\", \"type\": \"scattermapbox\"}, {\"hovertemplate\": \"BOROUGH=STATEN ISLAND<br>LATITUDE=%{lat}<br>LONGITUDE=%{lon}<extra></extra>\", \"lat\": [40.60607, 40.614025, 40.610676, 40.63609, 40.586006, 40.5953, 40.61861, 40.60559, 40.633790000000005, 40.551120000000004, 40.63697, 40.615307, 40.63343, 40.613213, 40.61132, 40.58695, 40.588924, 40.631954, 40.63519, 40.625916, 40.5385, 40.608562, 40.553356, 40.60812, 40.588924, 40.54326, 40.523125, 40.607185, 40.611121999999995, 40.60855, 40.525745, 40.579246999999995, 40.60595, 40.615, 40.622054999999996, 40.626940000000005, 40.601246, 40.53783, 40.56015, 40.553486, 40.607628000000005, 40.607696999999995, 40.57925, 40.637436, 40.580734, 40.524612, 40.60666, 40.605736, 40.615395, 40.62464, 40.580505, 40.57323, 40.57383, 40.63047, 40.554085, 40.518516999999996, 40.60393, 40.6367, 40.61668, 40.592083, 40.608852, 40.608776, 40.608433000000005, 40.631157, 40.582755999999996, 40.603382, 40.640021999999995, 40.514713, 40.617615, 40.62577, 40.628914, 40.583374, 40.509679999999996, 40.518196, 40.633415, 40.624912, 40.61023, 40.631336, 40.6229, 40.630173, 40.607555, 40.582947, 40.624485, 40.624958, 40.614853000000004, 40.593044, 40.620438, 40.554534999999994, 40.624990000000004, 40.62545, 40.61054, 40.560474, 40.638077, 40.556618, 40.62985, 40.585464, 40.636837, 40.624603, 40.61652, 40.60235, 40.63511, 40.640358, 40.575645, 40.606495, 40.547836, 40.60092, 40.636692, 40.64043, 40.582287, 40.61074, 40.640254999999996, 40.587223, 40.621559999999995, 40.625009999999996, 40.60862, 40.578196999999996, 40.606102, 40.59981, 40.598595, 40.614246, 40.588924, 40.607185, 40.637978000000004, 40.602920000000005, 40.57894, 40.622433, 40.533157, 40.618732, 40.608852, 40.580616, 40.588093, 40.575645, 40.62851, 40.588924, 40.617336, 40.587826, 40.540962, 40.58077, 40.61242, 40.604565, 40.613525, 40.64499, 40.595627, 40.57257, 40.5953, 40.562496, 40.606182000000004, 40.554672, 40.62055, 40.607203999999996, 40.610541999999995, 40.60266, 40.608162, 40.608852, 40.628788, 40.608852, 40.611313, 40.77077, 40.62435, 40.603962, 40.625713, 40.589745, 40.587585, 40.607174, 40.63114, 40.621258000000005, 40.537290000000006, 40.622153999999995, 40.58502, 40.618828, 40.610092, 40.62631, 40.550148, 40.586765, 40.608222999999995, 40.597317, 40.585266, 40.60576], \"legendgroup\": \"STATEN ISLAND\", \"lon\": [-74.07791999999999, -74.08479, -74.11101500000001, -74.136826, -74.16839, -74.1619, -74.09108, -74.13178, -74.14278399999999, -74.2135, -74.14511, -74.15799, -74.14622, -74.14277, -74.114716, -74.16416, -74.167625, -74.15340400000001, -74.16623, -74.13452, -74.19778000000001, -74.1472, -74.13584, -74.12111999999999, -74.167625, -74.19731, -74.18848, -74.16239, -74.11283, -74.13216, -74.22751, -74.16917, -74.07601, -74.1619, -74.15836999999999, -74.16427, -74.137695, -74.19476999999999, -74.19968, -74.13179000000001, -74.15947, -74.13305, -74.07781, -74.17123000000001, -74.09776, -74.230446, -74.13208, -74.13000500000001, -74.15519, -74.14166999999999, -74.16933399999999, -74.14702, -74.12363, -74.137856, -74.19275999999999, -74.19968399999999, -74.140564, -74.169876, -74.15867, -74.067955, -74.15334, -74.09113, -74.15544, -74.14692, -74.13041, -74.17315, -74.13667, -74.24575, -74.13574, -74.13473499999999, -74.13362, -74.15767, -74.23964000000001, -74.2238, -74.161674, -74.14670600000001, -74.10529, -74.1478, -74.14943000000001, -74.13332, -74.08711, -74.15687, -74.07998, -74.145775, -74.107956, -74.15611, -74.1672, -74.17641400000001, -74.14403, -74.13627, -74.10345500000001, -74.16689000000001, -74.16230999999999, -74.20399499999999, -74.16535999999999, -74.16152, -74.156944, -74.079605, -74.141624, -74.18960600000001, -74.14068, -74.17237, -74.169815, -74.16684000000001, -74.22036999999999, -74.1368, -74.085884, -74.168144, -74.16906999999999, -74.09583, -74.16603, -74.16819, -74.16849, -74.16144, -74.14824, -74.11703, -74.07983, -74.178246, -74.12921999999999, -74.15379, -74.167625, -74.16239, -74.13799, -74.16292, -74.15897, -74.15001, -74.15504, -74.17605999999999, -74.15334, -74.152534, -74.19243, -74.169815, -74.14576, -74.167625, -74.145065, -74.16487, -74.18565, -74.1094, -74.13245, -74.13165, -74.11685, -74.07936, -74.184166, -74.169876, -74.1619, -74.15742, -74.07613, -74.21301, -74.16919, -74.144356, -74.14502, -74.18408000000001, -74.124985, -74.15334, -74.15796999999999, -74.15334, -74.09844, -73.91727, -74.13927, -74.12974, -74.14033, -74.15016999999999, -74.08871500000001, -74.0855, -74.15796999999999, -74.16309, -74.22330500000001, -74.158325, -74.14763, -74.1354, -74.162285, -74.15845999999999, -74.18758000000001, -74.14617, -74.1294, -74.18175500000001, -74.15045, -74.1639], \"marker\": {\"color\": \"#b4de2c\"}, \"mode\": \"markers\", \"name\": \"STATEN ISLAND\", \"showlegend\": true, \"subplot\": \"mapbox\", \"type\": \"scattermapbox\"}],                        {\"height\": 800, \"legend\": {\"title\": {\"text\": \"BOROUGH\"}, \"tracegroupgap\": 0}, \"mapbox\": {\"center\": {\"lat\": 40.73061, \"lon\": -73.935242}, \"domain\": {\"x\": [0.0, 1.0], \"y\": [0.0, 1.0]}, \"style\": \"carto-positron\", \"zoom\": 9}, \"template\": {\"data\": {\"bar\": [{\"error_x\": {\"color\": \"#2a3f5f\"}, \"error_y\": {\"color\": \"#2a3f5f\"}, \"marker\": {\"line\": {\"color\": \"#E5ECF6\", \"width\": 0.5}}, \"type\": \"bar\"}], \"barpolar\": [{\"marker\": {\"line\": {\"color\": \"#E5ECF6\", \"width\": 0.5}}, \"type\": \"barpolar\"}], \"carpet\": [{\"aaxis\": {\"endlinecolor\": \"#2a3f5f\", \"gridcolor\": \"white\", \"linecolor\": \"white\", \"minorgridcolor\": \"white\", \"startlinecolor\": \"#2a3f5f\"}, \"baxis\": {\"endlinecolor\": \"#2a3f5f\", \"gridcolor\": \"white\", \"linecolor\": \"white\", \"minorgridcolor\": \"white\", \"startlinecolor\": \"#2a3f5f\"}, \"type\": \"carpet\"}], \"choropleth\": [{\"colorbar\": {\"outlinewidth\": 0, \"ticks\": \"\"}, \"type\": \"choropleth\"}], \"contour\": [{\"colorbar\": {\"outlinewidth\": 0, \"ticks\": \"\"}, \"colorscale\": [[0.0, \"#0d0887\"], [0.1111111111111111, \"#46039f\"], [0.2222222222222222, \"#7201a8\"], [0.3333333333333333, \"#9c179e\"], [0.4444444444444444, \"#bd3786\"], [0.5555555555555556, \"#d8576b\"], [0.6666666666666666, \"#ed7953\"], [0.7777777777777778, \"#fb9f3a\"], [0.8888888888888888, \"#fdca26\"], [1.0, \"#f0f921\"]], \"type\": \"contour\"}], \"contourcarpet\": [{\"colorbar\": {\"outlinewidth\": 0, \"ticks\": \"\"}, \"type\": \"contourcarpet\"}], \"heatmap\": [{\"colorbar\": {\"outlinewidth\": 0, \"ticks\": \"\"}, \"colorscale\": [[0.0, \"#0d0887\"], [0.1111111111111111, \"#46039f\"], [0.2222222222222222, \"#7201a8\"], [0.3333333333333333, \"#9c179e\"], [0.4444444444444444, \"#bd3786\"], [0.5555555555555556, \"#d8576b\"], [0.6666666666666666, \"#ed7953\"], [0.7777777777777778, \"#fb9f3a\"], [0.8888888888888888, \"#fdca26\"], [1.0, \"#f0f921\"]], \"type\": \"heatmap\"}], \"heatmapgl\": [{\"colorbar\": {\"outlinewidth\": 0, \"ticks\": \"\"}, \"colorscale\": [[0.0, \"#0d0887\"], [0.1111111111111111, \"#46039f\"], [0.2222222222222222, \"#7201a8\"], [0.3333333333333333, \"#9c179e\"], [0.4444444444444444, \"#bd3786\"], [0.5555555555555556, \"#d8576b\"], [0.6666666666666666, \"#ed7953\"], [0.7777777777777778, \"#fb9f3a\"], [0.8888888888888888, \"#fdca26\"], [1.0, \"#f0f921\"]], \"type\": \"heatmapgl\"}], \"histogram\": [{\"marker\": {\"colorbar\": {\"outlinewidth\": 0, \"ticks\": \"\"}}, \"type\": \"histogram\"}], \"histogram2d\": [{\"colorbar\": {\"outlinewidth\": 0, \"ticks\": \"\"}, \"colorscale\": [[0.0, \"#0d0887\"], [0.1111111111111111, \"#46039f\"], [0.2222222222222222, \"#7201a8\"], [0.3333333333333333, \"#9c179e\"], [0.4444444444444444, \"#bd3786\"], [0.5555555555555556, \"#d8576b\"], [0.6666666666666666, \"#ed7953\"], [0.7777777777777778, \"#fb9f3a\"], [0.8888888888888888, \"#fdca26\"], [1.0, \"#f0f921\"]], \"type\": \"histogram2d\"}], \"histogram2dcontour\": [{\"colorbar\": {\"outlinewidth\": 0, \"ticks\": \"\"}, \"colorscale\": [[0.0, \"#0d0887\"], [0.1111111111111111, \"#46039f\"], [0.2222222222222222, \"#7201a8\"], [0.3333333333333333, \"#9c179e\"], [0.4444444444444444, \"#bd3786\"], [0.5555555555555556, \"#d8576b\"], [0.6666666666666666, \"#ed7953\"], [0.7777777777777778, \"#fb9f3a\"], [0.8888888888888888, \"#fdca26\"], [1.0, \"#f0f921\"]], \"type\": \"histogram2dcontour\"}], \"mesh3d\": [{\"colorbar\": {\"outlinewidth\": 0, \"ticks\": \"\"}, \"type\": \"mesh3d\"}], \"parcoords\": [{\"line\": {\"colorbar\": {\"outlinewidth\": 0, \"ticks\": \"\"}}, \"type\": \"parcoords\"}], \"pie\": [{\"automargin\": true, \"type\": \"pie\"}], \"scatter\": [{\"marker\": {\"colorbar\": {\"outlinewidth\": 0, \"ticks\": \"\"}}, \"type\": \"scatter\"}], \"scatter3d\": [{\"line\": {\"colorbar\": {\"outlinewidth\": 0, \"ticks\": \"\"}}, \"marker\": {\"colorbar\": {\"outlinewidth\": 0, \"ticks\": \"\"}}, \"type\": \"scatter3d\"}], \"scattercarpet\": [{\"marker\": {\"colorbar\": {\"outlinewidth\": 0, \"ticks\": \"\"}}, \"type\": \"scattercarpet\"}], \"scattergeo\": [{\"marker\": {\"colorbar\": {\"outlinewidth\": 0, \"ticks\": \"\"}}, \"type\": \"scattergeo\"}], \"scattergl\": [{\"marker\": {\"colorbar\": {\"outlinewidth\": 0, \"ticks\": \"\"}}, \"type\": \"scattergl\"}], \"scattermapbox\": [{\"marker\": {\"colorbar\": {\"outlinewidth\": 0, \"ticks\": \"\"}}, \"type\": \"scattermapbox\"}], \"scatterpolar\": [{\"marker\": {\"colorbar\": {\"outlinewidth\": 0, \"ticks\": \"\"}}, \"type\": \"scatterpolar\"}], \"scatterpolargl\": [{\"marker\": {\"colorbar\": {\"outlinewidth\": 0, \"ticks\": \"\"}}, \"type\": \"scatterpolargl\"}], \"scatterternary\": [{\"marker\": {\"colorbar\": {\"outlinewidth\": 0, \"ticks\": \"\"}}, \"type\": \"scatterternary\"}], \"surface\": [{\"colorbar\": {\"outlinewidth\": 0, \"ticks\": \"\"}, \"colorscale\": [[0.0, \"#0d0887\"], [0.1111111111111111, \"#46039f\"], [0.2222222222222222, \"#7201a8\"], [0.3333333333333333, \"#9c179e\"], [0.4444444444444444, \"#bd3786\"], [0.5555555555555556, \"#d8576b\"], [0.6666666666666666, \"#ed7953\"], [0.7777777777777778, \"#fb9f3a\"], [0.8888888888888888, \"#fdca26\"], [1.0, \"#f0f921\"]], \"type\": \"surface\"}], \"table\": [{\"cells\": {\"fill\": {\"color\": \"#EBF0F8\"}, \"line\": {\"color\": \"white\"}}, \"header\": {\"fill\": {\"color\": \"#C8D4E3\"}, \"line\": {\"color\": \"white\"}}, \"type\": \"table\"}]}, \"layout\": {\"annotationdefaults\": {\"arrowcolor\": \"#2a3f5f\", \"arrowhead\": 0, \"arrowwidth\": 1}, \"autotypenumbers\": \"strict\", \"coloraxis\": {\"colorbar\": {\"outlinewidth\": 0, \"ticks\": \"\"}}, \"colorscale\": {\"diverging\": [[0, \"#8e0152\"], [0.1, \"#c51b7d\"], [0.2, \"#de77ae\"], [0.3, \"#f1b6da\"], [0.4, \"#fde0ef\"], [0.5, \"#f7f7f7\"], [0.6, \"#e6f5d0\"], [0.7, \"#b8e186\"], [0.8, \"#7fbc41\"], [0.9, \"#4d9221\"], [1, \"#276419\"]], \"sequential\": [[0.0, \"#0d0887\"], [0.1111111111111111, \"#46039f\"], [0.2222222222222222, \"#7201a8\"], [0.3333333333333333, \"#9c179e\"], [0.4444444444444444, \"#bd3786\"], [0.5555555555555556, \"#d8576b\"], [0.6666666666666666, \"#ed7953\"], [0.7777777777777778, \"#fb9f3a\"], [0.8888888888888888, \"#fdca26\"], [1.0, \"#f0f921\"]], \"sequentialminus\": [[0.0, \"#0d0887\"], [0.1111111111111111, \"#46039f\"], [0.2222222222222222, \"#7201a8\"], [0.3333333333333333, \"#9c179e\"], [0.4444444444444444, \"#bd3786\"], [0.5555555555555556, \"#d8576b\"], [0.6666666666666666, \"#ed7953\"], [0.7777777777777778, \"#fb9f3a\"], [0.8888888888888888, \"#fdca26\"], [1.0, \"#f0f921\"]]}, \"colorway\": [\"#636efa\", \"#EF553B\", \"#00cc96\", \"#ab63fa\", \"#FFA15A\", \"#19d3f3\", \"#FF6692\", \"#B6E880\", \"#FF97FF\", \"#FECB52\"], \"font\": {\"color\": \"#2a3f5f\"}, \"geo\": {\"bgcolor\": \"white\", \"lakecolor\": \"white\", \"landcolor\": \"#E5ECF6\", \"showlakes\": true, \"showland\": true, \"subunitcolor\": \"white\"}, \"hoverlabel\": {\"align\": \"left\"}, \"hovermode\": \"closest\", \"mapbox\": {\"style\": \"light\"}, \"paper_bgcolor\": \"white\", \"plot_bgcolor\": \"#E5ECF6\", \"polar\": {\"angularaxis\": {\"gridcolor\": \"white\", \"linecolor\": \"white\", \"ticks\": \"\"}, \"bgcolor\": \"#E5ECF6\", \"radialaxis\": {\"gridcolor\": \"white\", \"linecolor\": \"white\", \"ticks\": \"\"}}, \"scene\": {\"xaxis\": {\"backgroundcolor\": \"#E5ECF6\", \"gridcolor\": \"white\", \"gridwidth\": 2, \"linecolor\": \"white\", \"showbackground\": true, \"ticks\": \"\", \"zerolinecolor\": \"white\"}, \"yaxis\": {\"backgroundcolor\": \"#E5ECF6\", \"gridcolor\": \"white\", \"gridwidth\": 2, \"linecolor\": \"white\", \"showbackground\": true, \"ticks\": \"\", \"zerolinecolor\": \"white\"}, \"zaxis\": {\"backgroundcolor\": \"#E5ECF6\", \"gridcolor\": \"white\", \"gridwidth\": 2, \"linecolor\": \"white\", \"showbackground\": true, \"ticks\": \"\", \"zerolinecolor\": \"white\"}}, \"shapedefaults\": {\"line\": {\"color\": \"#2a3f5f\"}}, \"ternary\": {\"aaxis\": {\"gridcolor\": \"white\", \"linecolor\": \"white\", \"ticks\": \"\"}, \"baxis\": {\"gridcolor\": \"white\", \"linecolor\": \"white\", \"ticks\": \"\"}, \"bgcolor\": \"#E5ECF6\", \"caxis\": {\"gridcolor\": \"white\", \"linecolor\": \"white\", \"ticks\": \"\"}}, \"title\": {\"x\": 0.05}, \"xaxis\": {\"automargin\": true, \"gridcolor\": \"white\", \"linecolor\": \"white\", \"ticks\": \"\", \"title\": {\"standoff\": 15}, \"zerolinecolor\": \"white\", \"zerolinewidth\": 2}, \"yaxis\": {\"automargin\": true, \"gridcolor\": \"white\", \"linecolor\": \"white\", \"ticks\": \"\", \"title\": {\"standoff\": 15}, \"zerolinecolor\": \"white\", \"zerolinewidth\": 2}}}, \"title\": {\"text\": \"Imputed Boroughs (2500 points plotted)\"}, \"width\": 800},                        {\"responsive\": true}                    ).then(function(){\n",
       "                            \n",
       "var gd = document.getElementById('eeabce07-4d76-4d64-817b-79a010b1394c');\n",
       "var x = new MutationObserver(function (mutations, observer) {{\n",
       "        var display = window.getComputedStyle(gd).display;\n",
       "        if (!display || display === 'none') {{\n",
       "            console.log([gd, 'removed!']);\n",
       "            Plotly.purge(gd);\n",
       "            observer.disconnect();\n",
       "        }}\n",
       "}});\n",
       "\n",
       "// Listen for the removal of the full notebook cells\n",
       "var notebookContainer = gd.closest('#notebook-container');\n",
       "if (notebookContainer) {{\n",
       "    x.observe(notebookContainer, {childList: true});\n",
       "}}\n",
       "\n",
       "// Listen for the clearing of the current output cell\n",
       "var outputEl = gd.closest('.output');\n",
       "if (outputEl) {{\n",
       "    x.observe(outputEl, {childList: true});\n",
       "}}\n",
       "\n",
       "                        })                };                });            </script>        </div>"
      ]
     },
     "metadata": {},
     "output_type": "display_data"
    }
   ],
   "source": [
    "import plotly.express as px\n",
    "#fig = px.scatter_mapbox(data_missing[:2500], lat='LATITUDE', lon='LONGITUDE', color='BOROUGH',\n",
    "fig = px.scatter_mapbox(data_missing[:2500], lat='LATITUDE', lon='LONGITUDE', color='BOROUGH',\n",
    "                        center=dict(lat=40.730610, lon=-73.935242), zoom=9,\n",
    "                        mapbox_style=\"carto-positron\",\n",
    "                       width = 800, height = 800, title='Imputed Boroughs (2500 points plotted)',\n",
    "                       color_discrete_sequence=['#440154', '#3e4a89','#26828e','#35b779','#b4de2c'])\n",
    "\n",
    "\n",
    "\n",
    "fig.show()\n",
    "fig.write_html(\"./plotly_html/KNN_imputer.html\")"
   ]
  },
  {
   "cell_type": "code",
   "execution_count": 211,
   "metadata": {},
   "outputs": [],
   "source": [
    "df = data_complete.append(data_missing)"
   ]
  },
  {
   "cell_type": "markdown",
   "metadata": {},
   "source": [
    "If contributing factor vehicle 1 is nan, then fill it with unspecified."
   ]
  },
  {
   "cell_type": "code",
   "execution_count": 235,
   "metadata": {},
   "outputs": [],
   "source": [
    "df['CONTRIBUTING FACTOR VEHICLE 1'] = df['CONTRIBUTING FACTOR VEHICLE 1'].fillna('Unspecified')"
   ]
  },
  {
   "cell_type": "markdown",
   "metadata": {},
   "source": [
    "# Preprocess Contributing Factors\n"
   ]
  },
  {
   "cell_type": "code",
   "execution_count": 237,
   "metadata": {},
   "outputs": [],
   "source": [
    "unique_factors = np.unique(df[[f'CONTRIBUTING FACTOR VEHICLE {i}' for i in range(1,6)]].values.reshape(-1,).astype(str))"
   ]
  },
  {
   "cell_type": "code",
   "execution_count": 252,
   "metadata": {},
   "outputs": [
    {
     "name": "stdout",
     "output_type": "stream",
     "text": [
      "#1/62: 1 done\n",
      "#2/62: 80 done\n",
      "#3/62: Accelerator Defective done\n",
      "#4/62: Aggressive Driving/Road Rage done\n",
      "#5/62: Alcohol Involvement done\n",
      "#6/62: Animals Action done\n",
      "#7/62: Backing Unsafely done\n",
      "#8/62: Brakes Defective done\n",
      "#9/62: Cell Phone (hand-Held) done\n",
      "#10/62: Cell Phone (hand-held) done\n",
      "#11/62: Cell Phone (hands-free) done\n",
      "#12/62: Driver Inattention/Distraction done\n",
      "#13/62: Driver Inexperience done\n",
      "#14/62: Driverless/Runaway Vehicle done\n",
      "#15/62: Drugs (Illegal) done\n",
      "#16/62: Drugs (illegal) done\n",
      "#17/62: Eating or Drinking done\n",
      "#18/62: Failure to Keep Right done\n",
      "#19/62: Failure to Yield Right-of-Way done\n",
      "#20/62: Fatigued/Drowsy done\n",
      "#21/62: Fell Asleep done\n",
      "#22/62: Following Too Closely done\n",
      "#23/62: Glare done\n",
      "#24/62: Headlights Defective done\n",
      "#25/62: Illnes done\n",
      "#26/62: Illness done\n",
      "#27/62: Lane Marking Improper/Inadequate done\n",
      "#28/62: Listening/Using Headphones done\n",
      "#29/62: Lost Consciousness done\n",
      "#30/62: Obstruction/Debris done\n",
      "#31/62: Other Electronic Device done\n",
      "#32/62: Other Lighting Defects done\n",
      "#33/62: Other Vehicular done\n",
      "#34/62: Outside Car Distraction done\n",
      "#35/62: Oversized Vehicle done\n",
      "#36/62: Passenger Distraction done\n",
      "#37/62: Passing Too Closely done\n",
      "#38/62: Passing or Lane Usage Improper done\n",
      "#39/62: Pavement Defective done\n",
      "#40/62: Pavement Slippery done\n",
      "#41/62: Pedestrian/Bicyclist/Other Pedestrian Error/Confusion done\n",
      "#42/62: Physical Disability done\n",
      "#43/62: Prescription Medication done\n",
      "#44/62: Reaction to Other Uninvolved Vehicle done\n",
      "#45/62: Reaction to Uninvolved Vehicle done\n",
      "#46/62: Shoulders Defective/Improper done\n",
      "#47/62: Steering Failure done\n",
      "#48/62: Texting done\n",
      "#49/62: Tinted Windows done\n",
      "#50/62: Tire Failure/Inadequate done\n",
      "#51/62: Tow Hitch Defective done\n",
      "#52/62: Traffic Control Device Improper/Non-Working done\n",
      "#53/62: Traffic Control Disregarded done\n",
      "#54/62: Turning Improperly done\n",
      "#55/62: Unsafe Lane Changing done\n",
      "#56/62: Unsafe Speed done\n",
      "#57/62: Unspecified done\n",
      "#58/62: Using On Board Navigation Device done\n",
      "#59/62: Vehicle Vandalism done\n",
      "#60/62: View Obstructed/Limited done\n",
      "#61/62: Windshield Inadequate done\n",
      "#62/62: nan done\n"
     ]
    }
   ],
   "source": [
    "for i, factor in enumerate(unique_factors):\n",
    "    df[f'CF_{factor}'] = df[[f'CONTRIBUTING FACTOR VEHICLE {i}' for i in range(1,6)]].astype(str).apply(lambda x : factor in list(x), axis=1).astype(int)\n",
    "    print(f'#{i+1}/{len(unique_factors)}: {factor} done')\n",
    "    \n",
    "\n",
    "df = df.loc[df['NUMBER OF PERSONS KILLED'].fillna(0) == df[[x for x in df.columns if x.endswith('KILLED') and x.find('PERSONS')==-1]].sum(axis=1)]\n",
    "df = df.loc[df['NUMBER OF PERSONS INJURED'].fillna(0) == df[[x for x in df.columns if x.endswith('INJURED') and x.find('PERSONS')==-1]].sum(axis=1)]\n",
    "\n",
    "df.to_csv('preprocessed_collisions.csv', index=False)"
   ]
  },
  {
   "cell_type": "code",
   "execution_count": 166,
   "metadata": {},
   "outputs": [],
   "source": [
    "df = pd.read_csv('preprocessed_collisions.csv')"
   ]
  },
  {
   "cell_type": "code",
   "execution_count": 5,
   "metadata": {},
   "outputs": [
    {
     "data": {
      "application/vnd.plotly.v1+json": {
       "config": {
        "plotlyServerURL": "https://plot.ly"
       },
       "data": [
        {
         "alignmentgroup": "True",
         "hovertemplate": "Percentage missing=%{x}<br>Column=%{y}<extra></extra>",
         "legendgroup": "",
         "marker": {
          "color": "rgb(43,174,128)"
         },
         "name": "",
         "offsetgroup": "",
         "orientation": "h",
         "showlegend": false,
         "textposition": "auto",
         "type": "bar",
         "x": [
          1.0756196465513842e-05,
          1.9361153637924916e-05,
          0.003037549881861109,
          0.005634812788400518,
          0.1458274921210861,
          0.1723458188871639,
          0.1974959574628284,
          0.23998149934207932,
          0.24010698830084365,
          0.35920748344442094,
          0.838168721697758,
          0.9347471756020781,
          0.9366517394562384,
          0.9857688349963608,
          0.9861976486954527,
          0.9961887210523863,
          0.9962962830170414
         ],
         "xaxis": "x",
         "y": [
          "NUMBER OF PERSONS INJURED",
          "NUMBER OF PERSONS KILLED",
          "CONTRIBUTING FACTOR VEHICLE 1",
          "VEHICLE TYPE CODE 1",
          "CONTRIBUTING FACTOR VEHICLE 2",
          "VEHICLE TYPE CODE 2",
          "ON STREET NAME",
          "BOROUGH",
          "ZIP CODE",
          "CROSS STREET NAME",
          "OFF STREET NAME",
          "CONTRIBUTING FACTOR VEHICLE 3",
          "VEHICLE TYPE CODE 3",
          "CONTRIBUTING FACTOR VEHICLE 4",
          "VEHICLE TYPE CODE 4",
          "CONTRIBUTING FACTOR VEHICLE 5",
          "VEHICLE TYPE CODE 5"
         ],
         "yaxis": "y"
        }
       ],
       "layout": {
        "barmode": "relative",
        "height": 800,
        "hoverlabel": {
         "font": {
          "color": "White"
         }
        },
        "legend": {
         "tracegroupgap": 0
        },
        "template": {
         "data": {
          "bar": [
           {
            "error_x": {
             "color": "#2a3f5f"
            },
            "error_y": {
             "color": "#2a3f5f"
            },
            "marker": {
             "line": {
              "color": "#E5ECF6",
              "width": 0.5
             }
            },
            "type": "bar"
           }
          ],
          "barpolar": [
           {
            "marker": {
             "line": {
              "color": "#E5ECF6",
              "width": 0.5
             }
            },
            "type": "barpolar"
           }
          ],
          "carpet": [
           {
            "aaxis": {
             "endlinecolor": "#2a3f5f",
             "gridcolor": "white",
             "linecolor": "white",
             "minorgridcolor": "white",
             "startlinecolor": "#2a3f5f"
            },
            "baxis": {
             "endlinecolor": "#2a3f5f",
             "gridcolor": "white",
             "linecolor": "white",
             "minorgridcolor": "white",
             "startlinecolor": "#2a3f5f"
            },
            "type": "carpet"
           }
          ],
          "choropleth": [
           {
            "colorbar": {
             "outlinewidth": 0,
             "ticks": ""
            },
            "type": "choropleth"
           }
          ],
          "contour": [
           {
            "colorbar": {
             "outlinewidth": 0,
             "ticks": ""
            },
            "colorscale": [
             [
              0,
              "#0d0887"
             ],
             [
              0.1111111111111111,
              "#46039f"
             ],
             [
              0.2222222222222222,
              "#7201a8"
             ],
             [
              0.3333333333333333,
              "#9c179e"
             ],
             [
              0.4444444444444444,
              "#bd3786"
             ],
             [
              0.5555555555555556,
              "#d8576b"
             ],
             [
              0.6666666666666666,
              "#ed7953"
             ],
             [
              0.7777777777777778,
              "#fb9f3a"
             ],
             [
              0.8888888888888888,
              "#fdca26"
             ],
             [
              1,
              "#f0f921"
             ]
            ],
            "type": "contour"
           }
          ],
          "contourcarpet": [
           {
            "colorbar": {
             "outlinewidth": 0,
             "ticks": ""
            },
            "type": "contourcarpet"
           }
          ],
          "heatmap": [
           {
            "colorbar": {
             "outlinewidth": 0,
             "ticks": ""
            },
            "colorscale": [
             [
              0,
              "#0d0887"
             ],
             [
              0.1111111111111111,
              "#46039f"
             ],
             [
              0.2222222222222222,
              "#7201a8"
             ],
             [
              0.3333333333333333,
              "#9c179e"
             ],
             [
              0.4444444444444444,
              "#bd3786"
             ],
             [
              0.5555555555555556,
              "#d8576b"
             ],
             [
              0.6666666666666666,
              "#ed7953"
             ],
             [
              0.7777777777777778,
              "#fb9f3a"
             ],
             [
              0.8888888888888888,
              "#fdca26"
             ],
             [
              1,
              "#f0f921"
             ]
            ],
            "type": "heatmap"
           }
          ],
          "heatmapgl": [
           {
            "colorbar": {
             "outlinewidth": 0,
             "ticks": ""
            },
            "colorscale": [
             [
              0,
              "#0d0887"
             ],
             [
              0.1111111111111111,
              "#46039f"
             ],
             [
              0.2222222222222222,
              "#7201a8"
             ],
             [
              0.3333333333333333,
              "#9c179e"
             ],
             [
              0.4444444444444444,
              "#bd3786"
             ],
             [
              0.5555555555555556,
              "#d8576b"
             ],
             [
              0.6666666666666666,
              "#ed7953"
             ],
             [
              0.7777777777777778,
              "#fb9f3a"
             ],
             [
              0.8888888888888888,
              "#fdca26"
             ],
             [
              1,
              "#f0f921"
             ]
            ],
            "type": "heatmapgl"
           }
          ],
          "histogram": [
           {
            "marker": {
             "colorbar": {
              "outlinewidth": 0,
              "ticks": ""
             }
            },
            "type": "histogram"
           }
          ],
          "histogram2d": [
           {
            "colorbar": {
             "outlinewidth": 0,
             "ticks": ""
            },
            "colorscale": [
             [
              0,
              "#0d0887"
             ],
             [
              0.1111111111111111,
              "#46039f"
             ],
             [
              0.2222222222222222,
              "#7201a8"
             ],
             [
              0.3333333333333333,
              "#9c179e"
             ],
             [
              0.4444444444444444,
              "#bd3786"
             ],
             [
              0.5555555555555556,
              "#d8576b"
             ],
             [
              0.6666666666666666,
              "#ed7953"
             ],
             [
              0.7777777777777778,
              "#fb9f3a"
             ],
             [
              0.8888888888888888,
              "#fdca26"
             ],
             [
              1,
              "#f0f921"
             ]
            ],
            "type": "histogram2d"
           }
          ],
          "histogram2dcontour": [
           {
            "colorbar": {
             "outlinewidth": 0,
             "ticks": ""
            },
            "colorscale": [
             [
              0,
              "#0d0887"
             ],
             [
              0.1111111111111111,
              "#46039f"
             ],
             [
              0.2222222222222222,
              "#7201a8"
             ],
             [
              0.3333333333333333,
              "#9c179e"
             ],
             [
              0.4444444444444444,
              "#bd3786"
             ],
             [
              0.5555555555555556,
              "#d8576b"
             ],
             [
              0.6666666666666666,
              "#ed7953"
             ],
             [
              0.7777777777777778,
              "#fb9f3a"
             ],
             [
              0.8888888888888888,
              "#fdca26"
             ],
             [
              1,
              "#f0f921"
             ]
            ],
            "type": "histogram2dcontour"
           }
          ],
          "mesh3d": [
           {
            "colorbar": {
             "outlinewidth": 0,
             "ticks": ""
            },
            "type": "mesh3d"
           }
          ],
          "parcoords": [
           {
            "line": {
             "colorbar": {
              "outlinewidth": 0,
              "ticks": ""
             }
            },
            "type": "parcoords"
           }
          ],
          "pie": [
           {
            "automargin": true,
            "type": "pie"
           }
          ],
          "scatter": [
           {
            "marker": {
             "colorbar": {
              "outlinewidth": 0,
              "ticks": ""
             }
            },
            "type": "scatter"
           }
          ],
          "scatter3d": [
           {
            "line": {
             "colorbar": {
              "outlinewidth": 0,
              "ticks": ""
             }
            },
            "marker": {
             "colorbar": {
              "outlinewidth": 0,
              "ticks": ""
             }
            },
            "type": "scatter3d"
           }
          ],
          "scattercarpet": [
           {
            "marker": {
             "colorbar": {
              "outlinewidth": 0,
              "ticks": ""
             }
            },
            "type": "scattercarpet"
           }
          ],
          "scattergeo": [
           {
            "marker": {
             "colorbar": {
              "outlinewidth": 0,
              "ticks": ""
             }
            },
            "type": "scattergeo"
           }
          ],
          "scattergl": [
           {
            "marker": {
             "colorbar": {
              "outlinewidth": 0,
              "ticks": ""
             }
            },
            "type": "scattergl"
           }
          ],
          "scattermapbox": [
           {
            "marker": {
             "colorbar": {
              "outlinewidth": 0,
              "ticks": ""
             }
            },
            "type": "scattermapbox"
           }
          ],
          "scatterpolar": [
           {
            "marker": {
             "colorbar": {
              "outlinewidth": 0,
              "ticks": ""
             }
            },
            "type": "scatterpolar"
           }
          ],
          "scatterpolargl": [
           {
            "marker": {
             "colorbar": {
              "outlinewidth": 0,
              "ticks": ""
             }
            },
            "type": "scatterpolargl"
           }
          ],
          "scatterternary": [
           {
            "marker": {
             "colorbar": {
              "outlinewidth": 0,
              "ticks": ""
             }
            },
            "type": "scatterternary"
           }
          ],
          "surface": [
           {
            "colorbar": {
             "outlinewidth": 0,
             "ticks": ""
            },
            "colorscale": [
             [
              0,
              "#0d0887"
             ],
             [
              0.1111111111111111,
              "#46039f"
             ],
             [
              0.2222222222222222,
              "#7201a8"
             ],
             [
              0.3333333333333333,
              "#9c179e"
             ],
             [
              0.4444444444444444,
              "#bd3786"
             ],
             [
              0.5555555555555556,
              "#d8576b"
             ],
             [
              0.6666666666666666,
              "#ed7953"
             ],
             [
              0.7777777777777778,
              "#fb9f3a"
             ],
             [
              0.8888888888888888,
              "#fdca26"
             ],
             [
              1,
              "#f0f921"
             ]
            ],
            "type": "surface"
           }
          ],
          "table": [
           {
            "cells": {
             "fill": {
              "color": "#EBF0F8"
             },
             "line": {
              "color": "white"
             }
            },
            "header": {
             "fill": {
              "color": "#C8D4E3"
             },
             "line": {
              "color": "white"
             }
            },
            "type": "table"
           }
          ]
         },
         "layout": {
          "annotationdefaults": {
           "arrowcolor": "#2a3f5f",
           "arrowhead": 0,
           "arrowwidth": 1
          },
          "autotypenumbers": "strict",
          "coloraxis": {
           "colorbar": {
            "outlinewidth": 0,
            "ticks": ""
           }
          },
          "colorscale": {
           "diverging": [
            [
             0,
             "#8e0152"
            ],
            [
             0.1,
             "#c51b7d"
            ],
            [
             0.2,
             "#de77ae"
            ],
            [
             0.3,
             "#f1b6da"
            ],
            [
             0.4,
             "#fde0ef"
            ],
            [
             0.5,
             "#f7f7f7"
            ],
            [
             0.6,
             "#e6f5d0"
            ],
            [
             0.7,
             "#b8e186"
            ],
            [
             0.8,
             "#7fbc41"
            ],
            [
             0.9,
             "#4d9221"
            ],
            [
             1,
             "#276419"
            ]
           ],
           "sequential": [
            [
             0,
             "#0d0887"
            ],
            [
             0.1111111111111111,
             "#46039f"
            ],
            [
             0.2222222222222222,
             "#7201a8"
            ],
            [
             0.3333333333333333,
             "#9c179e"
            ],
            [
             0.4444444444444444,
             "#bd3786"
            ],
            [
             0.5555555555555556,
             "#d8576b"
            ],
            [
             0.6666666666666666,
             "#ed7953"
            ],
            [
             0.7777777777777778,
             "#fb9f3a"
            ],
            [
             0.8888888888888888,
             "#fdca26"
            ],
            [
             1,
             "#f0f921"
            ]
           ],
           "sequentialminus": [
            [
             0,
             "#0d0887"
            ],
            [
             0.1111111111111111,
             "#46039f"
            ],
            [
             0.2222222222222222,
             "#7201a8"
            ],
            [
             0.3333333333333333,
             "#9c179e"
            ],
            [
             0.4444444444444444,
             "#bd3786"
            ],
            [
             0.5555555555555556,
             "#d8576b"
            ],
            [
             0.6666666666666666,
             "#ed7953"
            ],
            [
             0.7777777777777778,
             "#fb9f3a"
            ],
            [
             0.8888888888888888,
             "#fdca26"
            ],
            [
             1,
             "#f0f921"
            ]
           ]
          },
          "colorway": [
           "#636efa",
           "#EF553B",
           "#00cc96",
           "#ab63fa",
           "#FFA15A",
           "#19d3f3",
           "#FF6692",
           "#B6E880",
           "#FF97FF",
           "#FECB52"
          ],
          "font": {
           "color": "#2a3f5f"
          },
          "geo": {
           "bgcolor": "white",
           "lakecolor": "white",
           "landcolor": "#E5ECF6",
           "showlakes": true,
           "showland": true,
           "subunitcolor": "white"
          },
          "hoverlabel": {
           "align": "left"
          },
          "hovermode": "closest",
          "mapbox": {
           "style": "light"
          },
          "paper_bgcolor": "white",
          "plot_bgcolor": "#E5ECF6",
          "polar": {
           "angularaxis": {
            "gridcolor": "white",
            "linecolor": "white",
            "ticks": ""
           },
           "bgcolor": "#E5ECF6",
           "radialaxis": {
            "gridcolor": "white",
            "linecolor": "white",
            "ticks": ""
           }
          },
          "scene": {
           "xaxis": {
            "backgroundcolor": "#E5ECF6",
            "gridcolor": "white",
            "gridwidth": 2,
            "linecolor": "white",
            "showbackground": true,
            "ticks": "",
            "zerolinecolor": "white"
           },
           "yaxis": {
            "backgroundcolor": "#E5ECF6",
            "gridcolor": "white",
            "gridwidth": 2,
            "linecolor": "white",
            "showbackground": true,
            "ticks": "",
            "zerolinecolor": "white"
           },
           "zaxis": {
            "backgroundcolor": "#E5ECF6",
            "gridcolor": "white",
            "gridwidth": 2,
            "linecolor": "white",
            "showbackground": true,
            "ticks": "",
            "zerolinecolor": "white"
           }
          },
          "shapedefaults": {
           "line": {
            "color": "#2a3f5f"
           }
          },
          "ternary": {
           "aaxis": {
            "gridcolor": "white",
            "linecolor": "white",
            "ticks": ""
           },
           "baxis": {
            "gridcolor": "white",
            "linecolor": "white",
            "ticks": ""
           },
           "bgcolor": "#E5ECF6",
           "caxis": {
            "gridcolor": "white",
            "linecolor": "white",
            "ticks": ""
           }
          },
          "title": {
           "x": 0.05
          },
          "xaxis": {
           "automargin": true,
           "gridcolor": "white",
           "linecolor": "white",
           "ticks": "",
           "title": {
            "standoff": 15
           },
           "zerolinecolor": "white",
           "zerolinewidth": 2
          },
          "yaxis": {
           "automargin": true,
           "gridcolor": "white",
           "linecolor": "white",
           "ticks": "",
           "title": {
            "standoff": 15
           },
           "zerolinecolor": "white",
           "zerolinewidth": 2
          }
         }
        },
        "title": {
         "text": "Percentage of data missing for each column"
        },
        "width": 1000,
        "xaxis": {
         "anchor": "y",
         "domain": [
          0,
          1
         ],
         "range": [
          0,
          1
         ],
         "tickmode": "array",
         "ticktext": [
          "0.00",
          "0.05",
          "0.10",
          "0.15",
          "0.20",
          "0.25",
          "0.30",
          "0.35",
          "0.40",
          "0.45",
          "0.50",
          "0.55",
          "0.60",
          "0.65",
          "0.70",
          "0.75",
          "0.80",
          "0.85",
          "0.90",
          "0.95",
          "1.00"
         ],
         "tickvals": [
          0,
          0.05,
          0.1,
          0.15000000000000002,
          0.2,
          0.25,
          0.30000000000000004,
          0.35000000000000003,
          0.4,
          0.45,
          0.5,
          0.55,
          0.6000000000000001,
          0.65,
          0.7000000000000001,
          0.75,
          0.8,
          0.8500000000000001,
          0.9,
          0.9500000000000001,
          1
         ],
         "title": {
          "text": "% missing"
         },
         "type": "linear"
        },
        "yaxis": {
         "anchor": "x",
         "autorange": true,
         "domain": [
          0,
          1
         ],
         "range": [
          -0.5,
          16.5
         ],
         "title": {
          "text": "Column"
         },
         "type": "category"
        }
       }
      },
      "image/png": "[encoded data removed]",
      "text/html": [
       "<div>                            <div id=\"7916756c-281a-4d20-ade1-53d6f155cfff\" class=\"plotly-graph-div\" style=\"height:800px; width:1000px;\"></div>            <script type=\"text/javascript\">                require([\"plotly\"], function(Plotly) {                    window.PLOTLYENV=window.PLOTLYENV || {};                                    if (document.getElementById(\"7916756c-281a-4d20-ade1-53d6f155cfff\")) {                    Plotly.newPlot(                        \"7916756c-281a-4d20-ade1-53d6f155cfff\",                        [{\"alignmentgroup\": \"True\", \"hovertemplate\": \"Percentage missing=%{x}<br>Column=%{y}<extra></extra>\", \"legendgroup\": \"\", \"marker\": {\"color\": \"rgb(43,174,128)\"}, \"name\": \"\", \"offsetgroup\": \"\", \"orientation\": \"h\", \"showlegend\": false, \"textposition\": \"auto\", \"type\": \"bar\", \"x\": [1.0756196465513842e-05, 1.9361153637924916e-05, 0.003037549881861109, 0.005634812788400518, 0.1458274921210861, 0.1723458188871639, 0.1974959574628284, 0.23998149934207932, 0.24010698830084365, 0.35920748344442094, 0.838168721697758, 0.9347471756020781, 0.9366517394562384, 0.9857688349963608, 0.9861976486954527, 0.9961887210523863, 0.9962962830170414], \"xaxis\": \"x\", \"y\": [\"NUMBER OF PERSONS INJURED\", \"NUMBER OF PERSONS KILLED\", \"CONTRIBUTING FACTOR VEHICLE 1\", \"VEHICLE TYPE CODE 1\", \"CONTRIBUTING FACTOR VEHICLE 2\", \"VEHICLE TYPE CODE 2\", \"ON STREET NAME\", \"BOROUGH\", \"ZIP CODE\", \"CROSS STREET NAME\", \"OFF STREET NAME\", \"CONTRIBUTING FACTOR VEHICLE 3\", \"VEHICLE TYPE CODE 3\", \"CONTRIBUTING FACTOR VEHICLE 4\", \"VEHICLE TYPE CODE 4\", \"CONTRIBUTING FACTOR VEHICLE 5\", \"VEHICLE TYPE CODE 5\"], \"yaxis\": \"y\"}],                        {\"barmode\": \"relative\", \"height\": 800, \"hoverlabel\": {\"font\": {\"color\": \"White\"}}, \"legend\": {\"tracegroupgap\": 0}, \"template\": {\"data\": {\"bar\": [{\"error_x\": {\"color\": \"#2a3f5f\"}, \"error_y\": {\"color\": \"#2a3f5f\"}, \"marker\": {\"line\": {\"color\": \"#E5ECF6\", \"width\": 0.5}}, \"type\": \"bar\"}], \"barpolar\": [{\"marker\": {\"line\": {\"color\": \"#E5ECF6\", \"width\": 0.5}}, \"type\": \"barpolar\"}], \"carpet\": [{\"aaxis\": {\"endlinecolor\": \"#2a3f5f\", \"gridcolor\": \"white\", \"linecolor\": \"white\", \"minorgridcolor\": \"white\", \"startlinecolor\": \"#2a3f5f\"}, \"baxis\": {\"endlinecolor\": \"#2a3f5f\", \"gridcolor\": \"white\", \"linecolor\": \"white\", \"minorgridcolor\": \"white\", \"startlinecolor\": \"#2a3f5f\"}, \"type\": \"carpet\"}], \"choropleth\": [{\"colorbar\": {\"outlinewidth\": 0, \"ticks\": \"\"}, \"type\": \"choropleth\"}], \"contour\": [{\"colorbar\": {\"outlinewidth\": 0, \"ticks\": \"\"}, \"colorscale\": [[0.0, \"#0d0887\"], [0.1111111111111111, \"#46039f\"], [0.2222222222222222, \"#7201a8\"], [0.3333333333333333, \"#9c179e\"], [0.4444444444444444, \"#bd3786\"], [0.5555555555555556, \"#d8576b\"], [0.6666666666666666, \"#ed7953\"], [0.7777777777777778, \"#fb9f3a\"], [0.8888888888888888, \"#fdca26\"], [1.0, \"#f0f921\"]], \"type\": \"contour\"}], \"contourcarpet\": [{\"colorbar\": {\"outlinewidth\": 0, \"ticks\": \"\"}, \"type\": \"contourcarpet\"}], \"heatmap\": [{\"colorbar\": {\"outlinewidth\": 0, \"ticks\": \"\"}, \"colorscale\": [[0.0, \"#0d0887\"], [0.1111111111111111, \"#46039f\"], [0.2222222222222222, \"#7201a8\"], [0.3333333333333333, \"#9c179e\"], [0.4444444444444444, \"#bd3786\"], [0.5555555555555556, \"#d8576b\"], [0.6666666666666666, \"#ed7953\"], [0.7777777777777778, \"#fb9f3a\"], [0.8888888888888888, \"#fdca26\"], [1.0, \"#f0f921\"]], \"type\": \"heatmap\"}], \"heatmapgl\": [{\"colorbar\": {\"outlinewidth\": 0, \"ticks\": \"\"}, \"colorscale\": [[0.0, \"#0d0887\"], [0.1111111111111111, \"#46039f\"], [0.2222222222222222, \"#7201a8\"], [0.3333333333333333, \"#9c179e\"], [0.4444444444444444, \"#bd3786\"], [0.5555555555555556, \"#d8576b\"], [0.6666666666666666, \"#ed7953\"], [0.7777777777777778, \"#fb9f3a\"], [0.8888888888888888, \"#fdca26\"], [1.0, \"#f0f921\"]], \"type\": \"heatmapgl\"}], \"histogram\": [{\"marker\": {\"colorbar\": {\"outlinewidth\": 0, \"ticks\": \"\"}}, \"type\": \"histogram\"}], \"histogram2d\": [{\"colorbar\": {\"outlinewidth\": 0, \"ticks\": \"\"}, \"colorscale\": [[0.0, \"#0d0887\"], [0.1111111111111111, \"#46039f\"], [0.2222222222222222, \"#7201a8\"], [0.3333333333333333, \"#9c179e\"], [0.4444444444444444, \"#bd3786\"], [0.5555555555555556, \"#d8576b\"], [0.6666666666666666, \"#ed7953\"], [0.7777777777777778, \"#fb9f3a\"], [0.8888888888888888, \"#fdca26\"], [1.0, \"#f0f921\"]], \"type\": \"histogram2d\"}], \"histogram2dcontour\": [{\"colorbar\": {\"outlinewidth\": 0, \"ticks\": \"\"}, \"colorscale\": [[0.0, \"#0d0887\"], [0.1111111111111111, \"#46039f\"], [0.2222222222222222, \"#7201a8\"], [0.3333333333333333, \"#9c179e\"], [0.4444444444444444, \"#bd3786\"], [0.5555555555555556, \"#d8576b\"], [0.6666666666666666, \"#ed7953\"], [0.7777777777777778, \"#fb9f3a\"], [0.8888888888888888, \"#fdca26\"], [1.0, \"#f0f921\"]], \"type\": \"histogram2dcontour\"}], \"mesh3d\": [{\"colorbar\": {\"outlinewidth\": 0, \"ticks\": \"\"}, \"type\": \"mesh3d\"}], \"parcoords\": [{\"line\": {\"colorbar\": {\"outlinewidth\": 0, \"ticks\": \"\"}}, \"type\": \"parcoords\"}], \"pie\": [{\"automargin\": true, \"type\": \"pie\"}], \"scatter\": [{\"marker\": {\"colorbar\": {\"outlinewidth\": 0, \"ticks\": \"\"}}, \"type\": \"scatter\"}], \"scatter3d\": [{\"line\": {\"colorbar\": {\"outlinewidth\": 0, \"ticks\": \"\"}}, \"marker\": {\"colorbar\": {\"outlinewidth\": 0, \"ticks\": \"\"}}, \"type\": \"scatter3d\"}], \"scattercarpet\": [{\"marker\": {\"colorbar\": {\"outlinewidth\": 0, \"ticks\": \"\"}}, \"type\": \"scattercarpet\"}], \"scattergeo\": [{\"marker\": {\"colorbar\": {\"outlinewidth\": 0, \"ticks\": \"\"}}, \"type\": \"scattergeo\"}], \"scattergl\": [{\"marker\": {\"colorbar\": {\"outlinewidth\": 0, \"ticks\": \"\"}}, \"type\": \"scattergl\"}], \"scattermapbox\": [{\"marker\": {\"colorbar\": {\"outlinewidth\": 0, \"ticks\": \"\"}}, \"type\": \"scattermapbox\"}], \"scatterpolar\": [{\"marker\": {\"colorbar\": {\"outlinewidth\": 0, \"ticks\": \"\"}}, \"type\": \"scatterpolar\"}], \"scatterpolargl\": [{\"marker\": {\"colorbar\": {\"outlinewidth\": 0, \"ticks\": \"\"}}, \"type\": \"scatterpolargl\"}], \"scatterternary\": [{\"marker\": {\"colorbar\": {\"outlinewidth\": 0, \"ticks\": \"\"}}, \"type\": \"scatterternary\"}], \"surface\": [{\"colorbar\": {\"outlinewidth\": 0, \"ticks\": \"\"}, \"colorscale\": [[0.0, \"#0d0887\"], [0.1111111111111111, \"#46039f\"], [0.2222222222222222, \"#7201a8\"], [0.3333333333333333, \"#9c179e\"], [0.4444444444444444, \"#bd3786\"], [0.5555555555555556, \"#d8576b\"], [0.6666666666666666, \"#ed7953\"], [0.7777777777777778, \"#fb9f3a\"], [0.8888888888888888, \"#fdca26\"], [1.0, \"#f0f921\"]], \"type\": \"surface\"}], \"table\": [{\"cells\": {\"fill\": {\"color\": \"#EBF0F8\"}, \"line\": {\"color\": \"white\"}}, \"header\": {\"fill\": {\"color\": \"#C8D4E3\"}, \"line\": {\"color\": \"white\"}}, \"type\": \"table\"}]}, \"layout\": {\"annotationdefaults\": {\"arrowcolor\": \"#2a3f5f\", \"arrowhead\": 0, \"arrowwidth\": 1}, \"autotypenumbers\": \"strict\", \"coloraxis\": {\"colorbar\": {\"outlinewidth\": 0, \"ticks\": \"\"}}, \"colorscale\": {\"diverging\": [[0, \"#8e0152\"], [0.1, \"#c51b7d\"], [0.2, \"#de77ae\"], [0.3, \"#f1b6da\"], [0.4, \"#fde0ef\"], [0.5, \"#f7f7f7\"], [0.6, \"#e6f5d0\"], [0.7, \"#b8e186\"], [0.8, \"#7fbc41\"], [0.9, \"#4d9221\"], [1, \"#276419\"]], \"sequential\": [[0.0, \"#0d0887\"], [0.1111111111111111, \"#46039f\"], [0.2222222222222222, \"#7201a8\"], [0.3333333333333333, \"#9c179e\"], [0.4444444444444444, \"#bd3786\"], [0.5555555555555556, \"#d8576b\"], [0.6666666666666666, \"#ed7953\"], [0.7777777777777778, \"#fb9f3a\"], [0.8888888888888888, \"#fdca26\"], [1.0, \"#f0f921\"]], \"sequentialminus\": [[0.0, \"#0d0887\"], [0.1111111111111111, \"#46039f\"], [0.2222222222222222, \"#7201a8\"], [0.3333333333333333, \"#9c179e\"], [0.4444444444444444, \"#bd3786\"], [0.5555555555555556, \"#d8576b\"], [0.6666666666666666, \"#ed7953\"], [0.7777777777777778, \"#fb9f3a\"], [0.8888888888888888, \"#fdca26\"], [1.0, \"#f0f921\"]]}, \"colorway\": [\"#636efa\", \"#EF553B\", \"#00cc96\", \"#ab63fa\", \"#FFA15A\", \"#19d3f3\", \"#FF6692\", \"#B6E880\", \"#FF97FF\", \"#FECB52\"], \"font\": {\"color\": \"#2a3f5f\"}, \"geo\": {\"bgcolor\": \"white\", \"lakecolor\": \"white\", \"landcolor\": \"#E5ECF6\", \"showlakes\": true, \"showland\": true, \"subunitcolor\": \"white\"}, \"hoverlabel\": {\"align\": \"left\"}, \"hovermode\": \"closest\", \"mapbox\": {\"style\": \"light\"}, \"paper_bgcolor\": \"white\", \"plot_bgcolor\": \"#E5ECF6\", \"polar\": {\"angularaxis\": {\"gridcolor\": \"white\", \"linecolor\": \"white\", \"ticks\": \"\"}, \"bgcolor\": \"#E5ECF6\", \"radialaxis\": {\"gridcolor\": \"white\", \"linecolor\": \"white\", \"ticks\": \"\"}}, \"scene\": {\"xaxis\": {\"backgroundcolor\": \"#E5ECF6\", \"gridcolor\": \"white\", \"gridwidth\": 2, \"linecolor\": \"white\", \"showbackground\": true, \"ticks\": \"\", \"zerolinecolor\": \"white\"}, \"yaxis\": {\"backgroundcolor\": \"#E5ECF6\", \"gridcolor\": \"white\", \"gridwidth\": 2, \"linecolor\": \"white\", \"showbackground\": true, \"ticks\": \"\", \"zerolinecolor\": \"white\"}, \"zaxis\": {\"backgroundcolor\": \"#E5ECF6\", \"gridcolor\": \"white\", \"gridwidth\": 2, \"linecolor\": \"white\", \"showbackground\": true, \"ticks\": \"\", \"zerolinecolor\": \"white\"}}, \"shapedefaults\": {\"line\": {\"color\": \"#2a3f5f\"}}, \"ternary\": {\"aaxis\": {\"gridcolor\": \"white\", \"linecolor\": \"white\", \"ticks\": \"\"}, \"baxis\": {\"gridcolor\": \"white\", \"linecolor\": \"white\", \"ticks\": \"\"}, \"bgcolor\": \"#E5ECF6\", \"caxis\": {\"gridcolor\": \"white\", \"linecolor\": \"white\", \"ticks\": \"\"}}, \"title\": {\"x\": 0.05}, \"xaxis\": {\"automargin\": true, \"gridcolor\": \"white\", \"linecolor\": \"white\", \"ticks\": \"\", \"title\": {\"standoff\": 15}, \"zerolinecolor\": \"white\", \"zerolinewidth\": 2}, \"yaxis\": {\"automargin\": true, \"gridcolor\": \"white\", \"linecolor\": \"white\", \"ticks\": \"\", \"title\": {\"standoff\": 15}, \"zerolinecolor\": \"white\", \"zerolinewidth\": 2}}}, \"title\": {\"text\": \"Percentage of data missing for each column\"}, \"width\": 1000, \"xaxis\": {\"anchor\": \"y\", \"domain\": [0.0, 1.0], \"range\": [0, 1], \"tickmode\": \"array\", \"ticktext\": [\"0.00\", \"0.05\", \"0.10\", \"0.15\", \"0.20\", \"0.25\", \"0.30\", \"0.35\", \"0.40\", \"0.45\", \"0.50\", \"0.55\", \"0.60\", \"0.65\", \"0.70\", \"0.75\", \"0.80\", \"0.85\", \"0.90\", \"0.95\", \"1.00\"], \"tickvals\": [0.0, 0.05, 0.1, 0.15000000000000002, 0.2, 0.25, 0.30000000000000004, 0.35000000000000003, 0.4, 0.45, 0.5, 0.55, 0.6000000000000001, 0.65, 0.7000000000000001, 0.75, 0.8, 0.8500000000000001, 0.9, 0.9500000000000001, 1.0], \"title\": {\"text\": \"% missing\"}}, \"yaxis\": {\"anchor\": \"x\", \"domain\": [0.0, 1.0], \"title\": {\"text\": \"Column\"}}},                        {\"responsive\": true}                    ).then(function(){\n",
       "                            \n",
       "var gd = document.getElementById('7916756c-281a-4d20-ade1-53d6f155cfff');\n",
       "var x = new MutationObserver(function (mutations, observer) {{\n",
       "        var display = window.getComputedStyle(gd).display;\n",
       "        if (!display || display === 'none') {{\n",
       "            console.log([gd, 'removed!']);\n",
       "            Plotly.purge(gd);\n",
       "            observer.disconnect();\n",
       "        }}\n",
       "}});\n",
       "\n",
       "// Listen for the removal of the full notebook cells\n",
       "var notebookContainer = gd.closest('#notebook-container');\n",
       "if (notebookContainer) {{\n",
       "    x.observe(notebookContainer, {childList: true});\n",
       "}}\n",
       "\n",
       "// Listen for the clearing of the current output cell\n",
       "var outputEl = gd.closest('.output');\n",
       "if (outputEl) {{\n",
       "    x.observe(outputEl, {childList: true});\n",
       "}}\n",
       "\n",
       "                        })                };                });            </script>        </div>"
      ]
     },
     "metadata": {},
     "output_type": "display_data"
    }
   ],
   "source": [
    "missing_pct_df = pd.DataFrame((df.isnull().sum(axis=0)/len(df)).sort_values(ascending=True)).reset_index(); missing_pct_df.columns = ['Column', 'Percentage missing']\n",
    "missing_pct_df = missing_pct_df.loc[missing_pct_df['Percentage missing'] > 0]\n",
    "import plotly.express as px\n",
    "fig = px.bar(missing_pct_df, x=\"Percentage missing\", y=\"Column\", orientation='h', width = 1000, height=800, title='Percentage of data missing for each column')\n",
    "fig.update_layout(\n",
    "    xaxis_title=\"% missing\",\n",
    "    xaxis = dict(\n",
    "        tickmode = 'array',\n",
    "        tickvals = np.arange(0,1.05,0.05),\n",
    "        ticktext = ['{0:.2f}'.format(x) for x in np.arange(0, 1.05, 0.05)]\n",
    "    ),\n",
    "    hoverlabel_font_color='White')\n",
    "fig.update_xaxes(range=[0, 1], row=1, col=1)\n",
    "\n",
    "fig.update_traces(\n",
    "    marker_color='rgb(43,174,128)'\n",
    ")\n",
    "\n",
    "fig.show()\n",
    "fig.write_html(\"./plotly_html/pct_missing_after.html\")"
   ]
  },
  {
   "cell_type": "code",
   "execution_count": 169,
   "metadata": {},
   "outputs": [],
   "source": [
    "df = df.loc[df['NUMBER OF PERSONS KILLED'].fillna(0) == df[[x for x in df.columns if x.endswith('KILLED') and x.find('PERSONS')==-1]].sum(axis=1)]\n",
    "df = df.loc[df['NUMBER OF PERSONS INJURED'].fillna(0) == df[[x for x in df.columns if x.endswith('INJURED') and x.find('PERSONS')==-1]].sum(axis=1)]"
   ]
  },
  {
   "cell_type": "code",
   "execution_count": 171,
   "metadata": {},
   "outputs": [],
   "source": [
    "df['NUMBER OF PERSONS KILLED'] = df['NUMBER OF PERSONS KILLED'].fillna(0)\n",
    "df['NUMBER OF PERSONS INJURED'] = df['NUMBER OF PERSONS INJURED'].fillna(0)"
   ]
  },
  {
   "cell_type": "code",
   "execution_count": 172,
   "metadata": {},
   "outputs": [],
   "source": [
    "df.to_csv('preprocessed_collisions.csv', index=False)"
   ]
  },
  {
   "cell_type": "code",
   "execution_count": 180,
   "metadata": {},
   "outputs": [],
   "source": [
    "injured = pd.DataFrame(df.loc[df[['NUMBER OF PERSONS INJURED']].sum(axis=1) > 0].groupby('BOROUGH').size().reset_index().values, columns=['BOROUGH', 'INJURED_N'])\n",
    "lethal  = pd.DataFrame(df.loc[df[['NUMBER OF PERSONS KILLED']].sum(axis=1) > 0].groupby('BOROUGH').size().reset_index().values, columns=['BOROUGH', 'KILLED_N'])\n",
    "total   = pd.DataFrame(df.groupby('BOROUGH').size().reset_index().values, columns=['BOROUGH', 'TOTAL_N'])"
   ]
  },
  {
   "cell_type": "code",
   "execution_count": 190,
   "metadata": {},
   "outputs": [],
   "source": [
    "df_serious = pd.merge(pd.merge(total, lethal, on='BOROUGH'), injured, on='BOROUGH')[['BOROUGH', 'KILLED_N', 'INJURED_N', 'TOTAL_N']]"
   ]
  },
  {
   "cell_type": "code",
   "execution_count": 191,
   "metadata": {},
   "outputs": [],
   "source": [
    "df_serious['PCT_LETHAL'] = df_serious['KILLED_N'] / df_serious['TOTAL_N']\n",
    "df_serious['PCT_INJURED'] = df_serious['INJURED_N'] / df_serious['TOTAL_N']\n"
   ]
  },
  {
   "cell_type": "code",
   "execution_count": 193,
   "metadata": {},
   "outputs": [
    {
     "data": {
      "text/html": [
       "<div>\n",
       "<style scoped>\n",
       "    .dataframe tbody tr th:only-of-type {\n",
       "        vertical-align: middle;\n",
       "    }\n",
       "\n",
       "    .dataframe tbody tr th {\n",
       "        vertical-align: top;\n",
       "    }\n",
       "\n",
       "    .dataframe thead th {\n",
       "        text-align: right;\n",
       "    }\n",
       "</style>\n",
       "<table border=\"1\" class=\"dataframe\">\n",
       "  <thead>\n",
       "    <tr style=\"text-align: right;\">\n",
       "      <th></th>\n",
       "      <th>BOROUGH</th>\n",
       "      <th>KILLED_N</th>\n",
       "      <th>INJURED_N</th>\n",
       "      <th>TOTAL_N</th>\n",
       "      <th>PCT_LETHAL</th>\n",
       "      <th>PCT_INJURED</th>\n",
       "    </tr>\n",
       "  </thead>\n",
       "  <tbody>\n",
       "    <tr>\n",
       "      <th>2</th>\n",
       "      <td>MANHATTAN</td>\n",
       "      <td>286</td>\n",
       "      <td>50320</td>\n",
       "      <td>318391</td>\n",
       "      <td>0.000898</td>\n",
       "      <td>0.158045</td>\n",
       "    </tr>\n",
       "    <tr>\n",
       "      <th>1</th>\n",
       "      <td>BROOKLYN</td>\n",
       "      <td>512</td>\n",
       "      <td>96798</td>\n",
       "      <td>434297</td>\n",
       "      <td>0.001179</td>\n",
       "      <td>0.222884</td>\n",
       "    </tr>\n",
       "    <tr>\n",
       "      <th>3</th>\n",
       "      <td>QUEENS</td>\n",
       "      <td>531</td>\n",
       "      <td>84327</td>\n",
       "      <td>415658</td>\n",
       "      <td>0.001277</td>\n",
       "      <td>0.202876</td>\n",
       "    </tr>\n",
       "    <tr>\n",
       "      <th>4</th>\n",
       "      <td>STATEN ISLAND</td>\n",
       "      <td>90</td>\n",
       "      <td>13309</td>\n",
       "      <td>69734</td>\n",
       "      <td>0.001291</td>\n",
       "      <td>0.190854</td>\n",
       "    </tr>\n",
       "    <tr>\n",
       "      <th>0</th>\n",
       "      <td>BRONX</td>\n",
       "      <td>274</td>\n",
       "      <td>46520</td>\n",
       "      <td>211933</td>\n",
       "      <td>0.001293</td>\n",
       "      <td>0.219503</td>\n",
       "    </tr>\n",
       "  </tbody>\n",
       "</table>\n",
       "</div>"
      ],
      "text/plain": [
       "         BOROUGH KILLED_N INJURED_N TOTAL_N PCT_LETHAL PCT_INJURED\n",
       "2      MANHATTAN      286     50320  318391   0.000898    0.158045\n",
       "1       BROOKLYN      512     96798  434297   0.001179    0.222884\n",
       "3         QUEENS      531     84327  415658   0.001277    0.202876\n",
       "4  STATEN ISLAND       90     13309   69734   0.001291    0.190854\n",
       "0          BRONX      274     46520  211933   0.001293    0.219503"
      ]
     },
     "execution_count": 193,
     "metadata": {},
     "output_type": "execute_result"
    }
   ],
   "source": [
    "df_serious.sort_values('PCT_LETHAL')"
   ]
  },
  {
   "cell_type": "code",
   "execution_count": null,
   "metadata": {},
   "outputs": [],
   "source": []
  }
 ],
 "metadata": {
  "kernelspec": {
   "display_name": "Python 3",
   "language": "python",
   "name": "python3"
  },
  "language_info": {
   "codemirror_mode": {
    "name": "ipython",
    "version": 3
   },
   "file_extension": ".py",
   "mimetype": "text/x-python",
   "name": "python",
   "nbconvert_exporter": "python",
   "pygments_lexer": "ipython3",
   "version": "3.7.4"
  }
 },
 "nbformat": 4,
 "nbformat_minor": 5
}
